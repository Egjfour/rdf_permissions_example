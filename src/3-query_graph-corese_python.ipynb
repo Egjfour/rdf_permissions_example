{
 "cells": [
  {
   "cell_type": "code",
   "execution_count": 1,
   "metadata": {},
   "outputs": [
    {
     "name": "stderr",
     "output_type": "stream",
     "text": [
      "2025-04-13 09:43:14,578 - INFO - Py4J: Loading CORESE...\n",
      "2025-04-13 09:43:15,203 - INFO - Py4J: CORESE is loaded\n"
     ]
    }
   ],
   "source": [
    "from pycorese.api import CoreseAPI\n",
    "\n",
    "python_to_java_bridge = 'py4j'\n",
    "corese = CoreseAPI(java_bridge=python_to_java_bridge)\n",
    "_ = corese.loadCorese()"
   ]
  },
  {
   "cell_type": "code",
   "execution_count": 2,
   "metadata": {},
   "outputs": [],
   "source": [
    "g = corese.loadRDF(\"../data/graph_data.rdf\")"
   ]
  },
  {
   "cell_type": "code",
   "execution_count": 3,
   "metadata": {},
   "outputs": [
    {
     "data": {
      "application/vnd.microsoft.datawrangler.viewer.v0+json": {
       "columns": [
        {
         "name": "index",
         "rawType": "int64",
         "type": "integer"
        },
        {
         "name": "s",
         "rawType": "string",
         "type": "string"
        },
        {
         "name": "p",
         "rawType": "string",
         "type": "string"
        },
        {
         "name": "o",
         "rawType": "string",
         "type": "string"
        }
       ],
       "conversionMethod": "pd.DataFrame",
       "ref": "af6f915d-4edb-4c7d-abf9-2d04607b0259",
       "rows": [
        [
         "0",
         "_:b0",
         "http://www.w3.org/1999/02/22-rdf-syntax-ns#first",
         "local://security.permissions.net/vocab#country"
        ],
        [
         "1",
         "_:b1",
         "http://www.w3.org/1999/02/22-rdf-syntax-ns#first",
         "local://security.permissions.net/vocab#managedBy"
        ],
        [
         "2",
         "_:b2",
         "http://www.w3.org/1999/02/22-rdf-syntax-ns#first",
         "local://security.permissions.net/vocab#managesDepartment"
        ],
        [
         "3",
         "_:b3",
         "http://www.w3.org/1999/02/22-rdf-syntax-ns#first",
         "local://security.permissions.net/vocab#item"
        ],
        [
         "4",
         "_:b4",
         "http://www.w3.org/1999/02/22-rdf-syntax-ns#first",
         "local://security.permissions.net/vocab#country"
        ]
       ],
       "shape": {
        "columns": 3,
        "rows": 5
       }
      },
      "text/html": [
       "<div>\n",
       "<style scoped>\n",
       "    .dataframe tbody tr th:only-of-type {\n",
       "        vertical-align: middle;\n",
       "    }\n",
       "\n",
       "    .dataframe tbody tr th {\n",
       "        vertical-align: top;\n",
       "    }\n",
       "\n",
       "    .dataframe thead th {\n",
       "        text-align: right;\n",
       "    }\n",
       "</style>\n",
       "<table border=\"1\" class=\"dataframe\">\n",
       "  <thead>\n",
       "    <tr style=\"text-align: right;\">\n",
       "      <th></th>\n",
       "      <th>s</th>\n",
       "      <th>p</th>\n",
       "      <th>o</th>\n",
       "    </tr>\n",
       "  </thead>\n",
       "  <tbody>\n",
       "    <tr>\n",
       "      <th>0</th>\n",
       "      <td>_:b0</td>\n",
       "      <td>http://www.w3.org/1999/02/22-rdf-syntax-ns#first</td>\n",
       "      <td>local://security.permissions.net/vocab#country</td>\n",
       "    </tr>\n",
       "    <tr>\n",
       "      <th>1</th>\n",
       "      <td>_:b1</td>\n",
       "      <td>http://www.w3.org/1999/02/22-rdf-syntax-ns#first</td>\n",
       "      <td>local://security.permissions.net/vocab#managedBy</td>\n",
       "    </tr>\n",
       "    <tr>\n",
       "      <th>2</th>\n",
       "      <td>_:b2</td>\n",
       "      <td>http://www.w3.org/1999/02/22-rdf-syntax-ns#first</td>\n",
       "      <td>local://security.permissions.net/vocab#manages...</td>\n",
       "    </tr>\n",
       "    <tr>\n",
       "      <th>3</th>\n",
       "      <td>_:b3</td>\n",
       "      <td>http://www.w3.org/1999/02/22-rdf-syntax-ns#first</td>\n",
       "      <td>local://security.permissions.net/vocab#item</td>\n",
       "    </tr>\n",
       "    <tr>\n",
       "      <th>4</th>\n",
       "      <td>_:b4</td>\n",
       "      <td>http://www.w3.org/1999/02/22-rdf-syntax-ns#first</td>\n",
       "      <td>local://security.permissions.net/vocab#country</td>\n",
       "    </tr>\n",
       "  </tbody>\n",
       "</table>\n",
       "</div>"
      ],
      "text/plain": [
       "      s                                                 p  \\\n",
       "0  _:b0  http://www.w3.org/1999/02/22-rdf-syntax-ns#first   \n",
       "1  _:b1  http://www.w3.org/1999/02/22-rdf-syntax-ns#first   \n",
       "2  _:b2  http://www.w3.org/1999/02/22-rdf-syntax-ns#first   \n",
       "3  _:b3  http://www.w3.org/1999/02/22-rdf-syntax-ns#first   \n",
       "4  _:b4  http://www.w3.org/1999/02/22-rdf-syntax-ns#first   \n",
       "\n",
       "                                                   o  \n",
       "0     local://security.permissions.net/vocab#country  \n",
       "1   local://security.permissions.net/vocab#managedBy  \n",
       "2  local://security.permissions.net/vocab#manages...  \n",
       "3        local://security.permissions.net/vocab#item  \n",
       "4     local://security.permissions.net/vocab#country  "
      ]
     },
     "execution_count": 3,
     "metadata": {},
     "output_type": "execute_result"
    }
   ],
   "source": [
    "# Simple first 5 triples from the whole graph\n",
    "res = corese.sparqlSelect(g, \"SELECT * WHERE { ?s ?p ?o } LIMIT 5\", return_dataframe=True)\n",
    "res"
   ]
  },
  {
   "cell_type": "code",
   "execution_count": 4,
   "metadata": {},
   "outputs": [
    {
     "data": {
      "application/vnd.microsoft.datawrangler.viewer.v0+json": {
       "columns": [
        {
         "name": "index",
         "rawType": "int64",
         "type": "integer"
        },
        {
         "name": "s",
         "rawType": "string",
         "type": "string"
        },
        {
         "name": "p",
         "rawType": "string",
         "type": "string"
        },
        {
         "name": "o",
         "rawType": "string",
         "type": "string"
        }
       ],
       "conversionMethod": "pd.DataFrame",
       "ref": "06eb011e-2a34-41cd-89bc-c144d2e37b7e",
       "rows": [
        [
         "0",
         "local://security.permissions.net/entities#Steve",
         "local://security.permissions.net/vocab#managesDepartment",
         "local://security.permissions.net/entities#KITCHEN"
        ],
        [
         "1",
         "local://security.permissions.net/entities#Mary",
         "local://security.permissions.net/vocab#managesDepartment",
         "local://security.permissions.net/entities#CHRISTMAS"
        ],
        [
         "2",
         "local://security.permissions.net/entities#Mary",
         "local://security.permissions.net/vocab#managesDepartment",
         "local://security.permissions.net/entities#BIRTHDAY"
        ],
        [
         "3",
         "local://security.permissions.net/entities#John",
         "local://security.permissions.net/vocab#managesDepartment",
         "local://security.permissions.net/entities#OFFICE"
        ],
        [
         "4",
         "local://security.permissions.net/entities#John",
         "local://security.permissions.net/vocab#managesDepartment",
         "local://security.permissions.net/entities#HOBBY"
        ],
        [
         "5",
         "local://security.permissions.net/entities#Samantha",
         "local://security.permissions.net/vocab#managesDepartment",
         "local://security.permissions.net/entities#HOME%20AND%20GARDEN"
        ],
        [
         "6",
         "local://security.permissions.net/entities#Jackson",
         "local://security.permissions.net/vocab#managesDepartment",
         "local://security.permissions.net/entities#APPAREL"
        ],
        [
         "7",
         "local://security.permissions.net/entities#Anya",
         "local://security.permissions.net/vocab#managesDepartment",
         "local://security.permissions.net/entities#STORAGE"
        ]
       ],
       "shape": {
        "columns": 3,
        "rows": 8
       }
      },
      "text/html": [
       "<div>\n",
       "<style scoped>\n",
       "    .dataframe tbody tr th:only-of-type {\n",
       "        vertical-align: middle;\n",
       "    }\n",
       "\n",
       "    .dataframe tbody tr th {\n",
       "        vertical-align: top;\n",
       "    }\n",
       "\n",
       "    .dataframe thead th {\n",
       "        text-align: right;\n",
       "    }\n",
       "</style>\n",
       "<table border=\"1\" class=\"dataframe\">\n",
       "  <thead>\n",
       "    <tr style=\"text-align: right;\">\n",
       "      <th></th>\n",
       "      <th>s</th>\n",
       "      <th>p</th>\n",
       "      <th>o</th>\n",
       "    </tr>\n",
       "  </thead>\n",
       "  <tbody>\n",
       "    <tr>\n",
       "      <th>0</th>\n",
       "      <td>local://security.permissions.net/entities#Steve</td>\n",
       "      <td>local://security.permissions.net/vocab#manages...</td>\n",
       "      <td>local://security.permissions.net/entities#KITCHEN</td>\n",
       "    </tr>\n",
       "    <tr>\n",
       "      <th>1</th>\n",
       "      <td>local://security.permissions.net/entities#Mary</td>\n",
       "      <td>local://security.permissions.net/vocab#manages...</td>\n",
       "      <td>local://security.permissions.net/entities#CHRI...</td>\n",
       "    </tr>\n",
       "    <tr>\n",
       "      <th>2</th>\n",
       "      <td>local://security.permissions.net/entities#Mary</td>\n",
       "      <td>local://security.permissions.net/vocab#manages...</td>\n",
       "      <td>local://security.permissions.net/entities#BIRT...</td>\n",
       "    </tr>\n",
       "    <tr>\n",
       "      <th>3</th>\n",
       "      <td>local://security.permissions.net/entities#John</td>\n",
       "      <td>local://security.permissions.net/vocab#manages...</td>\n",
       "      <td>local://security.permissions.net/entities#OFFICE</td>\n",
       "    </tr>\n",
       "    <tr>\n",
       "      <th>4</th>\n",
       "      <td>local://security.permissions.net/entities#John</td>\n",
       "      <td>local://security.permissions.net/vocab#manages...</td>\n",
       "      <td>local://security.permissions.net/entities#HOBBY</td>\n",
       "    </tr>\n",
       "    <tr>\n",
       "      <th>5</th>\n",
       "      <td>local://security.permissions.net/entities#Sama...</td>\n",
       "      <td>local://security.permissions.net/vocab#manages...</td>\n",
       "      <td>local://security.permissions.net/entities#HOME...</td>\n",
       "    </tr>\n",
       "    <tr>\n",
       "      <th>6</th>\n",
       "      <td>local://security.permissions.net/entities#Jackson</td>\n",
       "      <td>local://security.permissions.net/vocab#manages...</td>\n",
       "      <td>local://security.permissions.net/entities#APPAREL</td>\n",
       "    </tr>\n",
       "    <tr>\n",
       "      <th>7</th>\n",
       "      <td>local://security.permissions.net/entities#Anya</td>\n",
       "      <td>local://security.permissions.net/vocab#manages...</td>\n",
       "      <td>local://security.permissions.net/entities#STORAGE</td>\n",
       "    </tr>\n",
       "  </tbody>\n",
       "</table>\n",
       "</div>"
      ],
      "text/plain": [
       "                                                   s  \\\n",
       "0    local://security.permissions.net/entities#Steve   \n",
       "1     local://security.permissions.net/entities#Mary   \n",
       "2     local://security.permissions.net/entities#Mary   \n",
       "3     local://security.permissions.net/entities#John   \n",
       "4     local://security.permissions.net/entities#John   \n",
       "5  local://security.permissions.net/entities#Sama...   \n",
       "6  local://security.permissions.net/entities#Jackson   \n",
       "7     local://security.permissions.net/entities#Anya   \n",
       "\n",
       "                                                   p  \\\n",
       "0  local://security.permissions.net/vocab#manages...   \n",
       "1  local://security.permissions.net/vocab#manages...   \n",
       "2  local://security.permissions.net/vocab#manages...   \n",
       "3  local://security.permissions.net/vocab#manages...   \n",
       "4  local://security.permissions.net/vocab#manages...   \n",
       "5  local://security.permissions.net/vocab#manages...   \n",
       "6  local://security.permissions.net/vocab#manages...   \n",
       "7  local://security.permissions.net/vocab#manages...   \n",
       "\n",
       "                                                   o  \n",
       "0  local://security.permissions.net/entities#KITCHEN  \n",
       "1  local://security.permissions.net/entities#CHRI...  \n",
       "2  local://security.permissions.net/entities#BIRT...  \n",
       "3   local://security.permissions.net/entities#OFFICE  \n",
       "4    local://security.permissions.net/entities#HOBBY  \n",
       "5  local://security.permissions.net/entities#HOME...  \n",
       "6  local://security.permissions.net/entities#APPAREL  \n",
       "7  local://security.permissions.net/entities#STORAGE  "
      ]
     },
     "execution_count": 4,
     "metadata": {},
     "output_type": "execute_result"
    }
   ],
   "source": [
    "# Since we haven't run ontological reasoning yet, the \"manages\" relationships are not inferred\n",
    "query = \"\"\"\n",
    "PREFIX : <local://security.permissions.net/vocab#>\n",
    "\n",
    "SELECT ?s ?p ?o\n",
    "WHERE {\n",
    "  ?s ?p ?o .\n",
    "  FILTER(?p = :manages || ?p = :managesDepartment) .\n",
    "}\n",
    "\n",
    "\"\"\"\n",
    "\n",
    "# Execute the query\n",
    "res = corese.sparqlSelect(g, query, return_dataframe=True)\n",
    "res"
   ]
  },
  {
   "cell_type": "code",
   "execution_count": null,
   "metadata": {},
   "outputs": [],
   "source": [
    "# Run the rules engine\n",
    "corese.resetRuleEngine(g)\n",
    "corese.loadRuleEngine(g, profile='owlrl')\n",
    "corese.loadRuleEngine(g, profile='owlrl_lite')\n",
    "corese.loadRuleEngine(g, profile='owlrl_ext')\n",
    "corese.loadRuleEngine(g, profile='rdfs')"
   ]
  },
  {
   "cell_type": "code",
   "execution_count": 13,
   "metadata": {},
   "outputs": [
    {
     "data": {
      "application/vnd.microsoft.datawrangler.viewer.v0+json": {
       "columns": [
        {
         "name": "index",
         "rawType": "int64",
         "type": "integer"
        },
        {
         "name": "s",
         "rawType": "string",
         "type": "string"
        },
        {
         "name": "p",
         "rawType": "string",
         "type": "string"
        },
        {
         "name": "o",
         "rawType": "string",
         "type": "string"
        }
       ],
       "conversionMethod": "pd.DataFrame",
       "ref": "7e445042-d016-40ea-9269-77bf3f17c3ee",
       "rows": [
        [
         "0",
         "local://security.permissions.net/entities#Steve",
         "local://security.permissions.net/vocab#manages",
         "local://security.permissions.net/entities#KITCHEN"
        ],
        [
         "1",
         "local://security.permissions.net/entities#Steve",
         "local://security.permissions.net/vocab#manages",
         "local://security.permissions.net/entities#SalesRep_35"
        ],
        [
         "2",
         "local://security.permissions.net/entities#Steve",
         "local://security.permissions.net/vocab#manages",
         "local://security.permissions.net/entities#SalesRep_7"
        ],
        [
         "3",
         "local://security.permissions.net/entities#Steve",
         "local://security.permissions.net/vocab#manages",
         "local://security.permissions.net/entities#SalesRep_2"
        ],
        [
         "4",
         "local://security.permissions.net/entities#Steve",
         "local://security.permissions.net/vocab#manages",
         "local://security.permissions.net/entities#SalesRep_6"
        ],
        [
         "5",
         "local://security.permissions.net/entities#Steve",
         "local://security.permissions.net/vocab#manages",
         "local://security.permissions.net/entities#SalesRep_15"
        ],
        [
         "6",
         "local://security.permissions.net/entities#Steve",
         "local://security.permissions.net/vocab#manages",
         "local://security.permissions.net/entities#SalesRep_21"
        ],
        [
         "7",
         "local://security.permissions.net/entities#Steve",
         "local://security.permissions.net/vocab#manages",
         "local://security.permissions.net/entities#SalesRep_30"
        ],
        [
         "8",
         "local://security.permissions.net/entities#Mary",
         "local://security.permissions.net/vocab#manages",
         "local://security.permissions.net/entities#CHRISTMAS"
        ],
        [
         "9",
         "local://security.permissions.net/entities#Mary",
         "local://security.permissions.net/vocab#manages",
         "local://security.permissions.net/entities#SalesRep_4"
        ],
        [
         "10",
         "local://security.permissions.net/entities#Mary",
         "local://security.permissions.net/vocab#manages",
         "local://security.permissions.net/entities#BIRTHDAY"
        ],
        [
         "11",
         "local://security.permissions.net/entities#Mary",
         "local://security.permissions.net/vocab#manages",
         "local://security.permissions.net/entities#SalesRep_24"
        ],
        [
         "12",
         "local://security.permissions.net/entities#Mary",
         "local://security.permissions.net/vocab#manages",
         "local://security.permissions.net/entities#SalesRep_29"
        ],
        [
         "13",
         "local://security.permissions.net/entities#Mary",
         "local://security.permissions.net/vocab#manages",
         "local://security.permissions.net/entities#SalesRep_32"
        ],
        [
         "14",
         "local://security.permissions.net/entities#Mary",
         "local://security.permissions.net/vocab#manages",
         "local://security.permissions.net/entities#SalesRep_45"
        ],
        [
         "15",
         "local://security.permissions.net/entities#Mary",
         "local://security.permissions.net/vocab#manages",
         "local://security.permissions.net/entities#SalesRep_40"
        ],
        [
         "16",
         "local://security.permissions.net/entities#Mary",
         "local://security.permissions.net/vocab#manages",
         "local://security.permissions.net/entities#SalesRep_44"
        ],
        [
         "17",
         "local://security.permissions.net/entities#Mary",
         "local://security.permissions.net/vocab#manages",
         "local://security.permissions.net/entities#SalesRep_12"
        ],
        [
         "18",
         "local://security.permissions.net/entities#Mary",
         "local://security.permissions.net/vocab#manages",
         "local://security.permissions.net/entities#SalesRep_1"
        ],
        [
         "19",
         "local://security.permissions.net/entities#Mary",
         "local://security.permissions.net/vocab#manages",
         "local://security.permissions.net/entities#SalesRep_19"
        ],
        [
         "20",
         "local://security.permissions.net/entities#Mary",
         "local://security.permissions.net/vocab#manages",
         "local://security.permissions.net/entities#SalesRep_10"
        ],
        [
         "21",
         "local://security.permissions.net/entities#Mary",
         "local://security.permissions.net/vocab#manages",
         "local://security.permissions.net/entities#SalesRep_13"
        ],
        [
         "22",
         "local://security.permissions.net/entities#Mary",
         "local://security.permissions.net/vocab#manages",
         "local://security.permissions.net/entities#SalesRep_16"
        ],
        [
         "23",
         "local://security.permissions.net/entities#Mary",
         "local://security.permissions.net/vocab#manages",
         "local://security.permissions.net/entities#SalesRep_39"
        ],
        [
         "24",
         "local://security.permissions.net/entities#Mary",
         "local://security.permissions.net/vocab#manages",
         "local://security.permissions.net/entities#SalesRep_36"
        ],
        [
         "25",
         "local://security.permissions.net/entities#John",
         "local://security.permissions.net/vocab#manages",
         "local://security.permissions.net/entities#OFFICE"
        ],
        [
         "26",
         "local://security.permissions.net/entities#John",
         "local://security.permissions.net/vocab#manages",
         "local://security.permissions.net/entities#HOBBY"
        ],
        [
         "27",
         "local://security.permissions.net/entities#John",
         "local://security.permissions.net/vocab#manages",
         "local://security.permissions.net/entities#SalesRep_33"
        ],
        [
         "28",
         "local://security.permissions.net/entities#John",
         "local://security.permissions.net/vocab#manages",
         "local://security.permissions.net/entities#SalesRep_31"
        ],
        [
         "29",
         "local://security.permissions.net/entities#John",
         "local://security.permissions.net/vocab#manages",
         "local://security.permissions.net/entities#SalesRep_27"
        ],
        [
         "30",
         "local://security.permissions.net/entities#John",
         "local://security.permissions.net/vocab#manages",
         "local://security.permissions.net/entities#SalesRep_9"
        ],
        [
         "31",
         "local://security.permissions.net/entities#John",
         "local://security.permissions.net/vocab#manages",
         "local://security.permissions.net/entities#SalesRep_38"
        ],
        [
         "32",
         "local://security.permissions.net/entities#John",
         "local://security.permissions.net/vocab#manages",
         "local://security.permissions.net/entities#SalesRep_42"
        ],
        [
         "33",
         "local://security.permissions.net/entities#John",
         "local://security.permissions.net/vocab#manages",
         "local://security.permissions.net/entities#SalesRep_37"
        ],
        [
         "34",
         "local://security.permissions.net/entities#John",
         "local://security.permissions.net/vocab#manages",
         "local://security.permissions.net/entities#SalesRep_22"
        ],
        [
         "35",
         "local://security.permissions.net/entities#Samantha",
         "local://security.permissions.net/vocab#manages",
         "local://security.permissions.net/entities#HOME%20AND%20GARDEN"
        ],
        [
         "36",
         "local://security.permissions.net/entities#Samantha",
         "local://security.permissions.net/vocab#manages",
         "local://security.permissions.net/entities#SalesRep_0"
        ],
        [
         "37",
         "local://security.permissions.net/entities#Samantha",
         "local://security.permissions.net/vocab#manages",
         "local://security.permissions.net/entities#SalesRep_41"
        ],
        [
         "38",
         "local://security.permissions.net/entities#Samantha",
         "local://security.permissions.net/vocab#manages",
         "local://security.permissions.net/entities#SalesRep_11"
        ],
        [
         "39",
         "local://security.permissions.net/entities#Samantha",
         "local://security.permissions.net/vocab#manages",
         "local://security.permissions.net/entities#SalesRep_8"
        ],
        [
         "40",
         "local://security.permissions.net/entities#Samantha",
         "local://security.permissions.net/vocab#manages",
         "local://security.permissions.net/entities#SalesRep_3"
        ],
        [
         "41",
         "local://security.permissions.net/entities#Samantha",
         "local://security.permissions.net/vocab#manages",
         "local://security.permissions.net/entities#SalesRep_47"
        ],
        [
         "42",
         "local://security.permissions.net/entities#Jackson",
         "local://security.permissions.net/vocab#manages",
         "local://security.permissions.net/entities#APPAREL"
        ],
        [
         "43",
         "local://security.permissions.net/entities#Jackson",
         "local://security.permissions.net/vocab#manages",
         "local://security.permissions.net/entities#SalesRep_28"
        ],
        [
         "44",
         "local://security.permissions.net/entities#Jackson",
         "local://security.permissions.net/vocab#manages",
         "local://security.permissions.net/entities#SalesRep_43"
        ],
        [
         "45",
         "local://security.permissions.net/entities#Jackson",
         "local://security.permissions.net/vocab#manages",
         "local://security.permissions.net/entities#SalesRep_23"
        ],
        [
         "46",
         "local://security.permissions.net/entities#Jackson",
         "local://security.permissions.net/vocab#manages",
         "local://security.permissions.net/entities#SalesRep_14"
        ],
        [
         "47",
         "local://security.permissions.net/entities#Jackson",
         "local://security.permissions.net/vocab#manages",
         "local://security.permissions.net/entities#SalesRep_17"
        ],
        [
         "48",
         "local://security.permissions.net/entities#Jackson",
         "local://security.permissions.net/vocab#manages",
         "local://security.permissions.net/entities#SalesRep_5"
        ],
        [
         "49",
         "local://security.permissions.net/entities#Jackson",
         "local://security.permissions.net/vocab#manages",
         "local://security.permissions.net/entities#SalesRep_46"
        ]
       ],
       "shape": {
        "columns": 3,
        "rows": 66
       }
      },
      "text/html": [
       "<div>\n",
       "<style scoped>\n",
       "    .dataframe tbody tr th:only-of-type {\n",
       "        vertical-align: middle;\n",
       "    }\n",
       "\n",
       "    .dataframe tbody tr th {\n",
       "        vertical-align: top;\n",
       "    }\n",
       "\n",
       "    .dataframe thead th {\n",
       "        text-align: right;\n",
       "    }\n",
       "</style>\n",
       "<table border=\"1\" class=\"dataframe\">\n",
       "  <thead>\n",
       "    <tr style=\"text-align: right;\">\n",
       "      <th></th>\n",
       "      <th>s</th>\n",
       "      <th>p</th>\n",
       "      <th>o</th>\n",
       "    </tr>\n",
       "  </thead>\n",
       "  <tbody>\n",
       "    <tr>\n",
       "      <th>0</th>\n",
       "      <td>local://security.permissions.net/entities#Steve</td>\n",
       "      <td>local://security.permissions.net/vocab#manages</td>\n",
       "      <td>local://security.permissions.net/entities#KITCHEN</td>\n",
       "    </tr>\n",
       "    <tr>\n",
       "      <th>1</th>\n",
       "      <td>local://security.permissions.net/entities#Steve</td>\n",
       "      <td>local://security.permissions.net/vocab#manages</td>\n",
       "      <td>local://security.permissions.net/entities#Sale...</td>\n",
       "    </tr>\n",
       "    <tr>\n",
       "      <th>2</th>\n",
       "      <td>local://security.permissions.net/entities#Steve</td>\n",
       "      <td>local://security.permissions.net/vocab#manages</td>\n",
       "      <td>local://security.permissions.net/entities#Sale...</td>\n",
       "    </tr>\n",
       "    <tr>\n",
       "      <th>3</th>\n",
       "      <td>local://security.permissions.net/entities#Steve</td>\n",
       "      <td>local://security.permissions.net/vocab#manages</td>\n",
       "      <td>local://security.permissions.net/entities#Sale...</td>\n",
       "    </tr>\n",
       "    <tr>\n",
       "      <th>4</th>\n",
       "      <td>local://security.permissions.net/entities#Steve</td>\n",
       "      <td>local://security.permissions.net/vocab#manages</td>\n",
       "      <td>local://security.permissions.net/entities#Sale...</td>\n",
       "    </tr>\n",
       "    <tr>\n",
       "      <th>...</th>\n",
       "      <td>...</td>\n",
       "      <td>...</td>\n",
       "      <td>...</td>\n",
       "    </tr>\n",
       "    <tr>\n",
       "      <th>61</th>\n",
       "      <td>local://security.permissions.net/entities#John</td>\n",
       "      <td>local://security.permissions.net/vocab#manages...</td>\n",
       "      <td>local://security.permissions.net/entities#OFFICE</td>\n",
       "    </tr>\n",
       "    <tr>\n",
       "      <th>62</th>\n",
       "      <td>local://security.permissions.net/entities#John</td>\n",
       "      <td>local://security.permissions.net/vocab#manages...</td>\n",
       "      <td>local://security.permissions.net/entities#HOBBY</td>\n",
       "    </tr>\n",
       "    <tr>\n",
       "      <th>63</th>\n",
       "      <td>local://security.permissions.net/entities#Sama...</td>\n",
       "      <td>local://security.permissions.net/vocab#manages...</td>\n",
       "      <td>local://security.permissions.net/entities#HOME...</td>\n",
       "    </tr>\n",
       "    <tr>\n",
       "      <th>64</th>\n",
       "      <td>local://security.permissions.net/entities#Jackson</td>\n",
       "      <td>local://security.permissions.net/vocab#manages...</td>\n",
       "      <td>local://security.permissions.net/entities#APPAREL</td>\n",
       "    </tr>\n",
       "    <tr>\n",
       "      <th>65</th>\n",
       "      <td>local://security.permissions.net/entities#Anya</td>\n",
       "      <td>local://security.permissions.net/vocab#manages...</td>\n",
       "      <td>local://security.permissions.net/entities#STORAGE</td>\n",
       "    </tr>\n",
       "  </tbody>\n",
       "</table>\n",
       "<p>66 rows × 3 columns</p>\n",
       "</div>"
      ],
      "text/plain": [
       "                                                    s  \\\n",
       "0     local://security.permissions.net/entities#Steve   \n",
       "1     local://security.permissions.net/entities#Steve   \n",
       "2     local://security.permissions.net/entities#Steve   \n",
       "3     local://security.permissions.net/entities#Steve   \n",
       "4     local://security.permissions.net/entities#Steve   \n",
       "..                                                ...   \n",
       "61     local://security.permissions.net/entities#John   \n",
       "62     local://security.permissions.net/entities#John   \n",
       "63  local://security.permissions.net/entities#Sama...   \n",
       "64  local://security.permissions.net/entities#Jackson   \n",
       "65     local://security.permissions.net/entities#Anya   \n",
       "\n",
       "                                                    p  \\\n",
       "0      local://security.permissions.net/vocab#manages   \n",
       "1      local://security.permissions.net/vocab#manages   \n",
       "2      local://security.permissions.net/vocab#manages   \n",
       "3      local://security.permissions.net/vocab#manages   \n",
       "4      local://security.permissions.net/vocab#manages   \n",
       "..                                                ...   \n",
       "61  local://security.permissions.net/vocab#manages...   \n",
       "62  local://security.permissions.net/vocab#manages...   \n",
       "63  local://security.permissions.net/vocab#manages...   \n",
       "64  local://security.permissions.net/vocab#manages...   \n",
       "65  local://security.permissions.net/vocab#manages...   \n",
       "\n",
       "                                                    o  \n",
       "0   local://security.permissions.net/entities#KITCHEN  \n",
       "1   local://security.permissions.net/entities#Sale...  \n",
       "2   local://security.permissions.net/entities#Sale...  \n",
       "3   local://security.permissions.net/entities#Sale...  \n",
       "4   local://security.permissions.net/entities#Sale...  \n",
       "..                                                ...  \n",
       "61   local://security.permissions.net/entities#OFFICE  \n",
       "62    local://security.permissions.net/entities#HOBBY  \n",
       "63  local://security.permissions.net/entities#HOME...  \n",
       "64  local://security.permissions.net/entities#APPAREL  \n",
       "65  local://security.permissions.net/entities#STORAGE  \n",
       "\n",
       "[66 rows x 3 columns]"
      ]
     },
     "execution_count": 13,
     "metadata": {},
     "output_type": "execute_result"
    }
   ],
   "source": [
    "# Now that we have added our inferences, we can see the results of the manages relationships which have been inferred from both managesDepartment and mangedBy\n",
    "query = \"\"\"\n",
    "PREFIX : <local://security.permissions.net/vocab#>\n",
    "\n",
    "SELECT ?s ?p ?o\n",
    "WHERE {\n",
    "  ?s ?p ?o .\n",
    "  FILTER(?p = :manages || ?p = :managesDepartment) .\n",
    "}\n",
    "\n",
    "\"\"\"\n",
    "\n",
    "# Execute the query\n",
    "res = corese.sparqlSelect(g, query, return_dataframe=True)\n",
    "res"
   ]
  },
  {
   "cell_type": "code",
   "execution_count": 14,
   "metadata": {},
   "outputs": [
    {
     "data": {
      "application/vnd.microsoft.datawrangler.viewer.v0+json": {
       "columns": [
        {
         "name": "index",
         "rawType": "int64",
         "type": "integer"
        },
        {
         "name": "record",
         "rawType": "object",
         "type": "string"
        }
       ],
       "conversionMethod": "pd.DataFrame",
       "ref": "7cf401a3-72b0-43a8-8ef9-d2118226a842",
       "rows": [],
       "shape": {
        "columns": 1,
        "rows": 0
       }
      },
      "text/html": [
       "<div>\n",
       "<style scoped>\n",
       "    .dataframe tbody tr th:only-of-type {\n",
       "        vertical-align: middle;\n",
       "    }\n",
       "\n",
       "    .dataframe tbody tr th {\n",
       "        vertical-align: top;\n",
       "    }\n",
       "\n",
       "    .dataframe thead th {\n",
       "        text-align: right;\n",
       "    }\n",
       "</style>\n",
       "<table border=\"1\" class=\"dataframe\">\n",
       "  <thead>\n",
       "    <tr style=\"text-align: right;\">\n",
       "      <th></th>\n",
       "      <th>record</th>\n",
       "    </tr>\n",
       "  </thead>\n",
       "  <tbody>\n",
       "  </tbody>\n",
       "</table>\n",
       "</div>"
      ],
      "text/plain": [
       "Empty DataFrame\n",
       "Columns: [record]\n",
       "Index: []"
      ]
     },
     "execution_count": 14,
     "metadata": {},
     "output_type": "execute_result"
    }
   ],
   "source": [
    "# Find all the records that a specific user may have access to.\n",
    "\n",
    "USER = \"SalesRep_0\"\n",
    "\n",
    "query = f\"\"\"\n",
    "prefix data: <local://security.permissions.net/entities#>\n",
    "prefix : <local://security.permissions.net/vocab#>\n",
    "\n",
    "select ?record where {{\n",
    "?department a :Department .\n",
    "?department :hasItem ?item .\n",
    "{{\n",
    "data:{USER} :hasAccess ?country, ?department ; a :User .\n",
    "?country a :Country .\n",
    "?record a :Record; :country ?country; :item ?item.}}\n",
    "union {{\n",
    "data:{USER} a :Manager .\n",
    "data:{USER} :managesDepartment ?department .\n",
    "?record a :Record; :item ?item.\n",
    "}}\n",
    "}}\n",
    "\"\"\"\n",
    "\n",
    "# Execute the query\n",
    "res = corese.sparqlSelect(g, query, return_dataframe=True)\n",
    "res"
   ]
  },
  {
   "cell_type": "code",
   "execution_count": null,
   "metadata": {},
   "outputs": [
    {
     "data": {
      "application/vnd.microsoft.datawrangler.viewer.v0+json": {
       "columns": [
        {
         "name": "index",
         "rawType": "int64",
         "type": "integer"
        },
        {
         "name": "user",
         "rawType": "string",
         "type": "string"
        },
        {
         "name": "country",
         "rawType": "string",
         "type": "string"
        },
        {
         "name": "department",
         "rawType": "string",
         "type": "string"
        },
        {
         "name": "item",
         "rawType": "string",
         "type": "string"
        },
        {
         "name": "record",
         "rawType": "string",
         "type": "string"
        }
       ],
       "conversionMethod": "pd.DataFrame",
       "ref": "0549cf68-a8a0-4f7c-8280-3939a42e4ca7",
       "rows": [
        [
         "0",
         "local://security.permissions.net/entities#Steve",
         "local://security.permissions.net/entities#Israel",
         "local://security.permissions.net/entities#KITCHEN",
         "local://security.permissions.net/entities#486591",
         "local://security.permissions.net/entities#486591#Israel"
        ],
        [
         "1",
         "local://security.permissions.net/entities#Steve",
         "local://security.permissions.net/entities#Israel",
         "local://security.permissions.net/entities#KITCHEN",
         "local://security.permissions.net/entities#470757",
         "local://security.permissions.net/entities#470757#Israel"
        ],
        [
         "2",
         "local://security.permissions.net/entities#Steve",
         "local://security.permissions.net/entities#Israel",
         "local://security.permissions.net/entities#KITCHEN",
         "local://security.permissions.net/entities#477120",
         "local://security.permissions.net/entities#477120#Israel"
        ],
        [
         "3",
         "local://security.permissions.net/entities#Steve",
         "local://security.permissions.net/entities#Israel",
         "local://security.permissions.net/entities#KITCHEN",
         "local://security.permissions.net/entities#489195",
         "local://security.permissions.net/entities#489195#Israel"
        ],
        [
         "4",
         "local://security.permissions.net/entities#Steve",
         "local://security.permissions.net/entities#Israel",
         "local://security.permissions.net/entities#KITCHEN",
         "local://security.permissions.net/entities#464898",
         "local://security.permissions.net/entities#464898#Israel"
        ],
        [
         "5",
         "local://security.permissions.net/entities#Steve",
         "local://security.permissions.net/entities#Israel",
         "local://security.permissions.net/entities#KITCHEN",
         "local://security.permissions.net/entities#470883",
         "local://security.permissions.net/entities#470883#Israel"
        ],
        [
         "6",
         "local://security.permissions.net/entities#Steve",
         "local://security.permissions.net/entities#Israel",
         "local://security.permissions.net/entities#KITCHEN",
         "local://security.permissions.net/entities#476679",
         "local://security.permissions.net/entities#476679#Israel"
        ],
        [
         "7",
         "local://security.permissions.net/entities#Steve",
         "local://security.permissions.net/entities#Israel",
         "local://security.permissions.net/entities#KITCHEN",
         "local://security.permissions.net/entities#489426",
         "local://security.permissions.net/entities#489426#Israel"
        ],
        [
         "8",
         "local://security.permissions.net/entities#Steve",
         "local://security.permissions.net/entities#Israel",
         "local://security.permissions.net/entities#KITCHEN",
         "local://security.permissions.net/entities#486633",
         "local://security.permissions.net/entities#486633#Israel"
        ],
        [
         "9",
         "local://security.permissions.net/entities#Steve",
         "local://security.permissions.net/entities#Israel",
         "local://security.permissions.net/entities#KITCHEN",
         "local://security.permissions.net/entities#441735",
         "local://security.permissions.net/entities#441735#Israel"
        ]
       ],
       "shape": {
        "columns": 5,
        "rows": 10
       }
      },
      "text/html": [
       "<div>\n",
       "<style scoped>\n",
       "    .dataframe tbody tr th:only-of-type {\n",
       "        vertical-align: middle;\n",
       "    }\n",
       "\n",
       "    .dataframe tbody tr th {\n",
       "        vertical-align: top;\n",
       "    }\n",
       "\n",
       "    .dataframe thead th {\n",
       "        text-align: right;\n",
       "    }\n",
       "</style>\n",
       "<table border=\"1\" class=\"dataframe\">\n",
       "  <thead>\n",
       "    <tr style=\"text-align: right;\">\n",
       "      <th></th>\n",
       "      <th>user</th>\n",
       "      <th>country</th>\n",
       "      <th>department</th>\n",
       "      <th>item</th>\n",
       "      <th>record</th>\n",
       "    </tr>\n",
       "  </thead>\n",
       "  <tbody>\n",
       "    <tr>\n",
       "      <th>0</th>\n",
       "      <td>local://security.permissions.net/entities#Steve</td>\n",
       "      <td>local://security.permissions.net/entities#Israel</td>\n",
       "      <td>local://security.permissions.net/entities#KITCHEN</td>\n",
       "      <td>local://security.permissions.net/entities#486591</td>\n",
       "      <td>local://security.permissions.net/entities#4865...</td>\n",
       "    </tr>\n",
       "    <tr>\n",
       "      <th>1</th>\n",
       "      <td>local://security.permissions.net/entities#Steve</td>\n",
       "      <td>local://security.permissions.net/entities#Israel</td>\n",
       "      <td>local://security.permissions.net/entities#KITCHEN</td>\n",
       "      <td>local://security.permissions.net/entities#470757</td>\n",
       "      <td>local://security.permissions.net/entities#4707...</td>\n",
       "    </tr>\n",
       "    <tr>\n",
       "      <th>2</th>\n",
       "      <td>local://security.permissions.net/entities#Steve</td>\n",
       "      <td>local://security.permissions.net/entities#Israel</td>\n",
       "      <td>local://security.permissions.net/entities#KITCHEN</td>\n",
       "      <td>local://security.permissions.net/entities#477120</td>\n",
       "      <td>local://security.permissions.net/entities#4771...</td>\n",
       "    </tr>\n",
       "    <tr>\n",
       "      <th>3</th>\n",
       "      <td>local://security.permissions.net/entities#Steve</td>\n",
       "      <td>local://security.permissions.net/entities#Israel</td>\n",
       "      <td>local://security.permissions.net/entities#KITCHEN</td>\n",
       "      <td>local://security.permissions.net/entities#489195</td>\n",
       "      <td>local://security.permissions.net/entities#4891...</td>\n",
       "    </tr>\n",
       "    <tr>\n",
       "      <th>4</th>\n",
       "      <td>local://security.permissions.net/entities#Steve</td>\n",
       "      <td>local://security.permissions.net/entities#Israel</td>\n",
       "      <td>local://security.permissions.net/entities#KITCHEN</td>\n",
       "      <td>local://security.permissions.net/entities#464898</td>\n",
       "      <td>local://security.permissions.net/entities#4648...</td>\n",
       "    </tr>\n",
       "    <tr>\n",
       "      <th>5</th>\n",
       "      <td>local://security.permissions.net/entities#Steve</td>\n",
       "      <td>local://security.permissions.net/entities#Israel</td>\n",
       "      <td>local://security.permissions.net/entities#KITCHEN</td>\n",
       "      <td>local://security.permissions.net/entities#470883</td>\n",
       "      <td>local://security.permissions.net/entities#4708...</td>\n",
       "    </tr>\n",
       "    <tr>\n",
       "      <th>6</th>\n",
       "      <td>local://security.permissions.net/entities#Steve</td>\n",
       "      <td>local://security.permissions.net/entities#Israel</td>\n",
       "      <td>local://security.permissions.net/entities#KITCHEN</td>\n",
       "      <td>local://security.permissions.net/entities#476679</td>\n",
       "      <td>local://security.permissions.net/entities#4766...</td>\n",
       "    </tr>\n",
       "    <tr>\n",
       "      <th>7</th>\n",
       "      <td>local://security.permissions.net/entities#Steve</td>\n",
       "      <td>local://security.permissions.net/entities#Israel</td>\n",
       "      <td>local://security.permissions.net/entities#KITCHEN</td>\n",
       "      <td>local://security.permissions.net/entities#489426</td>\n",
       "      <td>local://security.permissions.net/entities#4894...</td>\n",
       "    </tr>\n",
       "    <tr>\n",
       "      <th>8</th>\n",
       "      <td>local://security.permissions.net/entities#Steve</td>\n",
       "      <td>local://security.permissions.net/entities#Israel</td>\n",
       "      <td>local://security.permissions.net/entities#KITCHEN</td>\n",
       "      <td>local://security.permissions.net/entities#486633</td>\n",
       "      <td>local://security.permissions.net/entities#4866...</td>\n",
       "    </tr>\n",
       "    <tr>\n",
       "      <th>9</th>\n",
       "      <td>local://security.permissions.net/entities#Steve</td>\n",
       "      <td>local://security.permissions.net/entities#Israel</td>\n",
       "      <td>local://security.permissions.net/entities#KITCHEN</td>\n",
       "      <td>local://security.permissions.net/entities#441735</td>\n",
       "      <td>local://security.permissions.net/entities#4417...</td>\n",
       "    </tr>\n",
       "  </tbody>\n",
       "</table>\n",
       "</div>"
      ],
      "text/plain": [
       "                                              user  \\\n",
       "0  local://security.permissions.net/entities#Steve   \n",
       "1  local://security.permissions.net/entities#Steve   \n",
       "2  local://security.permissions.net/entities#Steve   \n",
       "3  local://security.permissions.net/entities#Steve   \n",
       "4  local://security.permissions.net/entities#Steve   \n",
       "5  local://security.permissions.net/entities#Steve   \n",
       "6  local://security.permissions.net/entities#Steve   \n",
       "7  local://security.permissions.net/entities#Steve   \n",
       "8  local://security.permissions.net/entities#Steve   \n",
       "9  local://security.permissions.net/entities#Steve   \n",
       "\n",
       "                                            country  \\\n",
       "0  local://security.permissions.net/entities#Israel   \n",
       "1  local://security.permissions.net/entities#Israel   \n",
       "2  local://security.permissions.net/entities#Israel   \n",
       "3  local://security.permissions.net/entities#Israel   \n",
       "4  local://security.permissions.net/entities#Israel   \n",
       "5  local://security.permissions.net/entities#Israel   \n",
       "6  local://security.permissions.net/entities#Israel   \n",
       "7  local://security.permissions.net/entities#Israel   \n",
       "8  local://security.permissions.net/entities#Israel   \n",
       "9  local://security.permissions.net/entities#Israel   \n",
       "\n",
       "                                          department  \\\n",
       "0  local://security.permissions.net/entities#KITCHEN   \n",
       "1  local://security.permissions.net/entities#KITCHEN   \n",
       "2  local://security.permissions.net/entities#KITCHEN   \n",
       "3  local://security.permissions.net/entities#KITCHEN   \n",
       "4  local://security.permissions.net/entities#KITCHEN   \n",
       "5  local://security.permissions.net/entities#KITCHEN   \n",
       "6  local://security.permissions.net/entities#KITCHEN   \n",
       "7  local://security.permissions.net/entities#KITCHEN   \n",
       "8  local://security.permissions.net/entities#KITCHEN   \n",
       "9  local://security.permissions.net/entities#KITCHEN   \n",
       "\n",
       "                                               item  \\\n",
       "0  local://security.permissions.net/entities#486591   \n",
       "1  local://security.permissions.net/entities#470757   \n",
       "2  local://security.permissions.net/entities#477120   \n",
       "3  local://security.permissions.net/entities#489195   \n",
       "4  local://security.permissions.net/entities#464898   \n",
       "5  local://security.permissions.net/entities#470883   \n",
       "6  local://security.permissions.net/entities#476679   \n",
       "7  local://security.permissions.net/entities#489426   \n",
       "8  local://security.permissions.net/entities#486633   \n",
       "9  local://security.permissions.net/entities#441735   \n",
       "\n",
       "                                              record  \n",
       "0  local://security.permissions.net/entities#4865...  \n",
       "1  local://security.permissions.net/entities#4707...  \n",
       "2  local://security.permissions.net/entities#4771...  \n",
       "3  local://security.permissions.net/entities#4891...  \n",
       "4  local://security.permissions.net/entities#4648...  \n",
       "5  local://security.permissions.net/entities#4708...  \n",
       "6  local://security.permissions.net/entities#4766...  \n",
       "7  local://security.permissions.net/entities#4894...  \n",
       "8  local://security.permissions.net/entities#4866...  \n",
       "9  local://security.permissions.net/entities#4417...  "
      ]
     },
     "execution_count": 17,
     "metadata": {},
     "output_type": "execute_result"
    }
   ],
   "source": [
    "query = \"\"\"\n",
    "prefix data: <local://security.permissions.net/entities#>\n",
    "prefix : <local://security.permissions.net/vocab#>\n",
    "\n",
    "select * where {\n",
    "data:SalesRep_0 a :User ; :hasAccess ?country, ?department .\n",
    "?department a :Department .\n",
    "?country a :Country .\n",
    "?department :hasItem ?item .\n",
    "?record a :Record; :country ?country; :item ?item.\n",
    "}\n",
    "limit 10\n",
    "\"\"\"\n",
    "\n",
    "# Execute the query\n",
    "res = corese.sparqlSelect(g, query, return_dataframe=True)\n",
    "res"
   ]
  },
  {
   "cell_type": "code",
   "execution_count": null,
   "metadata": {},
   "outputs": [],
   "source": []
  }
 ],
 "metadata": {
  "kernelspec": {
   "display_name": ".venv",
   "language": "python",
   "name": "python3"
  },
  "language_info": {
   "codemirror_mode": {
    "name": "ipython",
    "version": 3
   },
   "file_extension": ".py",
   "mimetype": "text/x-python",
   "name": "python",
   "nbconvert_exporter": "python",
   "pygments_lexer": "ipython3",
   "version": "3.11.9"
  }
 },
 "nbformat": 4,
 "nbformat_minor": 2
}
