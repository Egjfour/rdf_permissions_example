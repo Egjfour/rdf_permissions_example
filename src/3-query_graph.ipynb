{
 "cells": [
  {
   "cell_type": "code",
   "execution_count": 2,
   "metadata": {},
   "outputs": [
    {
     "name": "stderr",
     "output_type": "stream",
     "text": [
      "2025-04-12 18:30:42,576 - INFO - Py4J: Loading CORESE...\n",
      "2025-04-12 18:30:43,343 - INFO - Py4J: CORESE is loaded\n"
     ]
    }
   ],
   "source": [
    "from pycorese.api import CoreseAPI\n",
    "\n",
    "python_to_java_bridge = 'py4j'\n",
    "corese = CoreseAPI(java_bridge=python_to_java_bridge)\n",
    "_ = corese.loadCorese()"
   ]
  },
  {
   "cell_type": "code",
   "execution_count": 3,
   "metadata": {},
   "outputs": [],
   "source": [
    "g = corese.loadRDF(\"../data/graph_data.rdf\")"
   ]
  },
  {
   "cell_type": "code",
   "execution_count": 4,
   "metadata": {},
   "outputs": [
    {
     "data": {
      "application/vnd.microsoft.datawrangler.viewer.v0+json": {
       "columns": [
        {
         "name": "index",
         "rawType": "int64",
         "type": "integer"
        },
        {
         "name": "s",
         "rawType": "string",
         "type": "string"
        },
        {
         "name": "p",
         "rawType": "string",
         "type": "string"
        },
        {
         "name": "o",
         "rawType": "string",
         "type": "string"
        }
       ],
       "conversionMethod": "pd.DataFrame",
       "ref": "886b8c83-9cfc-433f-9f2f-b2bbe94ca185",
       "rows": [
        [
         "0",
         "_:b0",
         "http://www.w3.org/1999/02/22-rdf-syntax-ns#first",
         "local://security.permissions.net/vocab#managedBy"
        ],
        [
         "1",
         "_:b1",
         "http://www.w3.org/1999/02/22-rdf-syntax-ns#first",
         "local://security.permissions.net/vocab#managesDepartment"
        ],
        [
         "2",
         "_:b2",
         "http://www.w3.org/1999/02/22-rdf-syntax-ns#first",
         "local://security.permissions.net/vocab#item"
        ],
        [
         "3",
         "_:b3",
         "http://www.w3.org/1999/02/22-rdf-syntax-ns#first",
         "local://security.permissions.net/vocab#country"
        ],
        [
         "4",
         "_:b4",
         "http://www.w3.org/1999/02/22-rdf-syntax-ns#first",
         "local://security.permissions.net/vocab#Country"
        ]
       ],
       "shape": {
        "columns": 3,
        "rows": 5
       }
      },
      "text/html": [
       "<div>\n",
       "<style scoped>\n",
       "    .dataframe tbody tr th:only-of-type {\n",
       "        vertical-align: middle;\n",
       "    }\n",
       "\n",
       "    .dataframe tbody tr th {\n",
       "        vertical-align: top;\n",
       "    }\n",
       "\n",
       "    .dataframe thead th {\n",
       "        text-align: right;\n",
       "    }\n",
       "</style>\n",
       "<table border=\"1\" class=\"dataframe\">\n",
       "  <thead>\n",
       "    <tr style=\"text-align: right;\">\n",
       "      <th></th>\n",
       "      <th>s</th>\n",
       "      <th>p</th>\n",
       "      <th>o</th>\n",
       "    </tr>\n",
       "  </thead>\n",
       "  <tbody>\n",
       "    <tr>\n",
       "      <th>0</th>\n",
       "      <td>_:b0</td>\n",
       "      <td>http://www.w3.org/1999/02/22-rdf-syntax-ns#first</td>\n",
       "      <td>local://security.permissions.net/vocab#managedBy</td>\n",
       "    </tr>\n",
       "    <tr>\n",
       "      <th>1</th>\n",
       "      <td>_:b1</td>\n",
       "      <td>http://www.w3.org/1999/02/22-rdf-syntax-ns#first</td>\n",
       "      <td>local://security.permissions.net/vocab#manages...</td>\n",
       "    </tr>\n",
       "    <tr>\n",
       "      <th>2</th>\n",
       "      <td>_:b2</td>\n",
       "      <td>http://www.w3.org/1999/02/22-rdf-syntax-ns#first</td>\n",
       "      <td>local://security.permissions.net/vocab#item</td>\n",
       "    </tr>\n",
       "    <tr>\n",
       "      <th>3</th>\n",
       "      <td>_:b3</td>\n",
       "      <td>http://www.w3.org/1999/02/22-rdf-syntax-ns#first</td>\n",
       "      <td>local://security.permissions.net/vocab#country</td>\n",
       "    </tr>\n",
       "    <tr>\n",
       "      <th>4</th>\n",
       "      <td>_:b4</td>\n",
       "      <td>http://www.w3.org/1999/02/22-rdf-syntax-ns#first</td>\n",
       "      <td>local://security.permissions.net/vocab#Country</td>\n",
       "    </tr>\n",
       "  </tbody>\n",
       "</table>\n",
       "</div>"
      ],
      "text/plain": [
       "      s                                                 p  \\\n",
       "0  _:b0  http://www.w3.org/1999/02/22-rdf-syntax-ns#first   \n",
       "1  _:b1  http://www.w3.org/1999/02/22-rdf-syntax-ns#first   \n",
       "2  _:b2  http://www.w3.org/1999/02/22-rdf-syntax-ns#first   \n",
       "3  _:b3  http://www.w3.org/1999/02/22-rdf-syntax-ns#first   \n",
       "4  _:b4  http://www.w3.org/1999/02/22-rdf-syntax-ns#first   \n",
       "\n",
       "                                                   o  \n",
       "0   local://security.permissions.net/vocab#managedBy  \n",
       "1  local://security.permissions.net/vocab#manages...  \n",
       "2        local://security.permissions.net/vocab#item  \n",
       "3     local://security.permissions.net/vocab#country  \n",
       "4     local://security.permissions.net/vocab#Country  "
      ]
     },
     "execution_count": 4,
     "metadata": {},
     "output_type": "execute_result"
    }
   ],
   "source": [
    "# Simple first 5 triples from the whole graph\n",
    "res = corese.sparqlSelect(g, \"SELECT * WHERE { ?s ?p ?o } LIMIT 5\", return_dataframe=True)\n",
    "res"
   ]
  },
  {
   "cell_type": "code",
   "execution_count": 5,
   "metadata": {},
   "outputs": [
    {
     "data": {
      "application/vnd.microsoft.datawrangler.viewer.v0+json": {
       "columns": [
        {
         "name": "index",
         "rawType": "int64",
         "type": "integer"
        },
        {
         "name": "s",
         "rawType": "string",
         "type": "string"
        },
        {
         "name": "p",
         "rawType": "string",
         "type": "string"
        },
        {
         "name": "o",
         "rawType": "string",
         "type": "string"
        }
       ],
       "conversionMethod": "pd.DataFrame",
       "ref": "1325f72b-a085-4fff-9f83-a6abfde8156a",
       "rows": [
        [
         "0",
         "local://security.permissions.net/entities#Mary",
         "local://security.permissions.net/vocab#managesDepartment",
         "local://security.permissions.net/entities#CHRISTMAS"
        ],
        [
         "1",
         "local://security.permissions.net/entities#Mary",
         "local://security.permissions.net/vocab#managesDepartment",
         "local://security.permissions.net/entities#BIRTHDAY"
        ],
        [
         "2",
         "local://security.permissions.net/entities#Jackson",
         "local://security.permissions.net/vocab#managesDepartment",
         "local://security.permissions.net/entities#APPAREL"
        ],
        [
         "3",
         "local://security.permissions.net/entities#Samantha",
         "local://security.permissions.net/vocab#managesDepartment",
         "local://security.permissions.net/entities#HOME%20AND%20GARDEN"
        ],
        [
         "4",
         "local://security.permissions.net/entities#John",
         "local://security.permissions.net/vocab#managesDepartment",
         "local://security.permissions.net/entities#HOBBY"
        ],
        [
         "5",
         "local://security.permissions.net/entities#John",
         "local://security.permissions.net/vocab#managesDepartment",
         "local://security.permissions.net/entities#OFFICE"
        ],
        [
         "6",
         "local://security.permissions.net/entities#Anya",
         "local://security.permissions.net/vocab#managesDepartment",
         "local://security.permissions.net/entities#STORAGE"
        ],
        [
         "7",
         "local://security.permissions.net/entities#Steve",
         "local://security.permissions.net/vocab#managesDepartment",
         "local://security.permissions.net/entities#KITCHEN"
        ]
       ],
       "shape": {
        "columns": 3,
        "rows": 8
       }
      },
      "text/html": [
       "<div>\n",
       "<style scoped>\n",
       "    .dataframe tbody tr th:only-of-type {\n",
       "        vertical-align: middle;\n",
       "    }\n",
       "\n",
       "    .dataframe tbody tr th {\n",
       "        vertical-align: top;\n",
       "    }\n",
       "\n",
       "    .dataframe thead th {\n",
       "        text-align: right;\n",
       "    }\n",
       "</style>\n",
       "<table border=\"1\" class=\"dataframe\">\n",
       "  <thead>\n",
       "    <tr style=\"text-align: right;\">\n",
       "      <th></th>\n",
       "      <th>s</th>\n",
       "      <th>p</th>\n",
       "      <th>o</th>\n",
       "    </tr>\n",
       "  </thead>\n",
       "  <tbody>\n",
       "    <tr>\n",
       "      <th>0</th>\n",
       "      <td>local://security.permissions.net/entities#Mary</td>\n",
       "      <td>local://security.permissions.net/vocab#manages...</td>\n",
       "      <td>local://security.permissions.net/entities#CHRI...</td>\n",
       "    </tr>\n",
       "    <tr>\n",
       "      <th>1</th>\n",
       "      <td>local://security.permissions.net/entities#Mary</td>\n",
       "      <td>local://security.permissions.net/vocab#manages...</td>\n",
       "      <td>local://security.permissions.net/entities#BIRT...</td>\n",
       "    </tr>\n",
       "    <tr>\n",
       "      <th>2</th>\n",
       "      <td>local://security.permissions.net/entities#Jackson</td>\n",
       "      <td>local://security.permissions.net/vocab#manages...</td>\n",
       "      <td>local://security.permissions.net/entities#APPAREL</td>\n",
       "    </tr>\n",
       "    <tr>\n",
       "      <th>3</th>\n",
       "      <td>local://security.permissions.net/entities#Sama...</td>\n",
       "      <td>local://security.permissions.net/vocab#manages...</td>\n",
       "      <td>local://security.permissions.net/entities#HOME...</td>\n",
       "    </tr>\n",
       "    <tr>\n",
       "      <th>4</th>\n",
       "      <td>local://security.permissions.net/entities#John</td>\n",
       "      <td>local://security.permissions.net/vocab#manages...</td>\n",
       "      <td>local://security.permissions.net/entities#HOBBY</td>\n",
       "    </tr>\n",
       "    <tr>\n",
       "      <th>5</th>\n",
       "      <td>local://security.permissions.net/entities#John</td>\n",
       "      <td>local://security.permissions.net/vocab#manages...</td>\n",
       "      <td>local://security.permissions.net/entities#OFFICE</td>\n",
       "    </tr>\n",
       "    <tr>\n",
       "      <th>6</th>\n",
       "      <td>local://security.permissions.net/entities#Anya</td>\n",
       "      <td>local://security.permissions.net/vocab#manages...</td>\n",
       "      <td>local://security.permissions.net/entities#STORAGE</td>\n",
       "    </tr>\n",
       "    <tr>\n",
       "      <th>7</th>\n",
       "      <td>local://security.permissions.net/entities#Steve</td>\n",
       "      <td>local://security.permissions.net/vocab#manages...</td>\n",
       "      <td>local://security.permissions.net/entities#KITCHEN</td>\n",
       "    </tr>\n",
       "  </tbody>\n",
       "</table>\n",
       "</div>"
      ],
      "text/plain": [
       "                                                   s  \\\n",
       "0     local://security.permissions.net/entities#Mary   \n",
       "1     local://security.permissions.net/entities#Mary   \n",
       "2  local://security.permissions.net/entities#Jackson   \n",
       "3  local://security.permissions.net/entities#Sama...   \n",
       "4     local://security.permissions.net/entities#John   \n",
       "5     local://security.permissions.net/entities#John   \n",
       "6     local://security.permissions.net/entities#Anya   \n",
       "7    local://security.permissions.net/entities#Steve   \n",
       "\n",
       "                                                   p  \\\n",
       "0  local://security.permissions.net/vocab#manages...   \n",
       "1  local://security.permissions.net/vocab#manages...   \n",
       "2  local://security.permissions.net/vocab#manages...   \n",
       "3  local://security.permissions.net/vocab#manages...   \n",
       "4  local://security.permissions.net/vocab#manages...   \n",
       "5  local://security.permissions.net/vocab#manages...   \n",
       "6  local://security.permissions.net/vocab#manages...   \n",
       "7  local://security.permissions.net/vocab#manages...   \n",
       "\n",
       "                                                   o  \n",
       "0  local://security.permissions.net/entities#CHRI...  \n",
       "1  local://security.permissions.net/entities#BIRT...  \n",
       "2  local://security.permissions.net/entities#APPAREL  \n",
       "3  local://security.permissions.net/entities#HOME...  \n",
       "4    local://security.permissions.net/entities#HOBBY  \n",
       "5   local://security.permissions.net/entities#OFFICE  \n",
       "6  local://security.permissions.net/entities#STORAGE  \n",
       "7  local://security.permissions.net/entities#KITCHEN  "
      ]
     },
     "execution_count": 5,
     "metadata": {},
     "output_type": "execute_result"
    }
   ],
   "source": [
    "# Since we haven't run ontological reasoning yet, the \"manages\" relationships are not inferred\n",
    "query = \"\"\"\n",
    "PREFIX : <local://security.permissions.net/vocab#>\n",
    "\n",
    "SELECT ?s ?p ?o\n",
    "WHERE {\n",
    "  ?s ?p ?o .\n",
    "  FILTER(?p = :manages || ?p = :managesDepartment) .\n",
    "}\n",
    "\n",
    "\"\"\"\n",
    "\n",
    "# Execute the query\n",
    "res = corese.sparqlSelect(g, query, return_dataframe=True)\n",
    "res"
   ]
  },
  {
   "cell_type": "code",
   "execution_count": 6,
   "metadata": {},
   "outputs": [
    {
     "ename": "",
     "evalue": "",
     "output_type": "error",
     "traceback": [
      "\u001b[1;31mCannot execute code, session has been disposed. Please try restarting the Kernel."
     ]
    },
    {
     "ename": "",
     "evalue": "",
     "output_type": "error",
     "traceback": [
      "\u001b[1;31mCannot execute code, session has been disposed. Please try restarting the Kernel. \n",
      "\u001b[1;31mView Jupyter <a href='command:jupyter.viewOutput'>log</a> for further details."
     ]
    }
   ],
   "source": [
    "# Run the rules engine\n",
    "corese.resetRuleEngine(g)\n",
    "corese.loadRuleEngine(g, profile='owlrl_lite')\n",
    "corese.loadRuleEngine(g, profile='owlrl_ext')\n",
    "corese.loadRuleEngine(g, profile='rdfs')"
   ]
  },
  {
   "cell_type": "code",
   "execution_count": null,
   "metadata": {},
   "outputs": [
    {
     "data": {
      "application/vnd.microsoft.datawrangler.viewer.v0+json": {
       "columns": [
        {
         "name": "index",
         "rawType": "int64",
         "type": "integer"
        },
        {
         "name": "s",
         "rawType": "string",
         "type": "string"
        },
        {
         "name": "p",
         "rawType": "string",
         "type": "string"
        },
        {
         "name": "o",
         "rawType": "string",
         "type": "string"
        }
       ],
       "conversionMethod": "pd.DataFrame",
       "ref": "8b99dfd6-24ed-4351-b370-7fed0e4d39c4",
       "rows": [
        [
         "0",
         "local://security.permissions.net/entities#475251",
         "local://security.permissions.net/vocab#manages",
         "local://security.permissions.net/entities#STORAGE"
        ],
        [
         "1",
         "local://security.permissions.net/entities#470799",
         "local://security.permissions.net/vocab#manages",
         "local://security.permissions.net/entities#OFFICE"
        ],
        [
         "2",
         "local://security.permissions.net/entities#452718",
         "local://security.permissions.net/vocab#manages",
         "local://security.permissions.net/entities#KITCHEN"
        ],
        [
         "3",
         "local://security.permissions.net/entities#487284",
         "local://security.permissions.net/vocab#manages",
         "local://security.permissions.net/entities#STORAGE"
        ],
        [
         "4",
         "local://security.permissions.net/entities#469308",
         "local://security.permissions.net/vocab#manages",
         "local://security.permissions.net/entities#KITCHEN"
        ],
        [
         "5",
         "local://security.permissions.net/entities#787395",
         "local://security.permissions.net/vocab#manages",
         "local://security.permissions.net/entities#BIRTHDAY"
        ],
        [
         "6",
         "local://security.permissions.net/entities#435057",
         "local://security.permissions.net/vocab#manages",
         "local://security.permissions.net/entities#STORAGE"
        ],
        [
         "7",
         "local://security.permissions.net/entities#492849",
         "local://security.permissions.net/vocab#manages",
         "local://security.permissions.net/entities#HOBBY"
        ],
        [
         "8",
         "local://security.permissions.net/entities#489153",
         "local://security.permissions.net/vocab#manages",
         "local://security.permissions.net/entities#KITCHEN"
        ],
        [
         "9",
         "local://security.permissions.net/entities#467838",
         "local://security.permissions.net/vocab#manages",
         "local://security.permissions.net/entities#STORAGE"
        ],
        [
         "10",
         "local://security.permissions.net/entities#474222",
         "local://security.permissions.net/vocab#manages",
         "local://security.permissions.net/entities#STORAGE"
        ],
        [
         "11",
         "local://security.permissions.net/entities#492156",
         "local://security.permissions.net/vocab#manages",
         "local://security.permissions.net/entities#CHRISTMAS"
        ],
        [
         "12",
         "local://security.permissions.net/entities#1012074",
         "local://security.permissions.net/vocab#manages",
         "local://security.permissions.net/entities#HOME%20AND%20GARDEN"
        ],
        [
         "13",
         "local://security.permissions.net/entities#446859",
         "local://security.permissions.net/vocab#manages",
         "local://security.permissions.net/entities#KITCHEN"
        ],
        [
         "14",
         "local://security.permissions.net/entities#468846",
         "local://security.permissions.net/vocab#manages",
         "local://security.permissions.net/entities#STORAGE"
        ],
        [
         "15",
         "local://security.permissions.net/entities#474033",
         "local://security.permissions.net/vocab#manages",
         "local://security.permissions.net/entities#CHRISTMAS"
        ],
        [
         "16",
         "local://security.permissions.net/entities#1778952",
         "local://security.permissions.net/vocab#manages",
         "local://security.permissions.net/entities#HOME%20AND%20GARDEN"
        ],
        [
         "17",
         "local://security.permissions.net/entities#472836",
         "local://security.permissions.net/vocab#manages",
         "local://security.permissions.net/entities#HOME%20AND%20GARDEN"
        ],
        [
         "18",
         "local://security.permissions.net/entities#1788570",
         "local://security.permissions.net/vocab#manages",
         "local://security.permissions.net/entities#HOME%20AND%20GARDEN"
        ],
        [
         "19",
         "local://security.permissions.net/entities#469896",
         "local://security.permissions.net/vocab#manages",
         "local://security.permissions.net/entities#STORAGE"
        ],
        [
         "20",
         "local://security.permissions.net/entities#481110",
         "local://security.permissions.net/vocab#manages",
         "local://security.permissions.net/entities#CHRISTMAS"
        ],
        [
         "21",
         "local://security.permissions.net/entities#479073",
         "local://security.permissions.net/vocab#manages",
         "local://security.permissions.net/entities#STORAGE"
        ],
        [
         "22",
         "local://security.permissions.net/entities#1011633",
         "local://security.permissions.net/vocab#manages",
         "local://security.permissions.net/entities#HOME%20AND%20GARDEN"
        ],
        [
         "23",
         "local://security.permissions.net/entities#470022",
         "local://security.permissions.net/vocab#manages",
         "local://security.permissions.net/entities#STORAGE"
        ],
        [
         "24",
         "local://security.permissions.net/entities#786744",
         "local://security.permissions.net/vocab#manages",
         "local://security.permissions.net/entities#STORAGE"
        ],
        [
         "25",
         "local://security.permissions.net/entities#482097",
         "local://security.permissions.net/vocab#manages",
         "local://security.permissions.net/entities#KITCHEN"
        ],
        [
         "26",
         "local://security.permissions.net/entities#460488",
         "local://security.permissions.net/vocab#manages",
         "local://security.permissions.net/entities#STORAGE"
        ],
        [
         "27",
         "local://security.permissions.net/entities#470757",
         "local://security.permissions.net/vocab#manages",
         "local://security.permissions.net/entities#KITCHEN"
        ],
        [
         "28",
         "local://security.permissions.net/entities#492387",
         "local://security.permissions.net/vocab#manages",
         "local://security.permissions.net/entities#KITCHEN"
        ],
        [
         "29",
         "local://security.permissions.net/entities#445452",
         "local://security.permissions.net/vocab#manages",
         "local://security.permissions.net/entities#KITCHEN"
        ],
        [
         "30",
         "local://security.permissions.net/entities#752010",
         "local://security.permissions.net/vocab#manages",
         "local://security.permissions.net/entities#KITCHEN"
        ],
        [
         "31",
         "local://security.permissions.net/entities#441693",
         "local://security.permissions.net/vocab#manages",
         "local://security.permissions.net/entities#STORAGE"
        ],
        [
         "32",
         "local://security.permissions.net/entities#467502",
         "local://security.permissions.net/vocab#manages",
         "local://security.permissions.net/entities#KITCHEN"
        ],
        [
         "33",
         "local://security.permissions.net/entities#485289",
         "local://security.permissions.net/vocab#manages",
         "local://security.permissions.net/entities#HOME%20AND%20GARDEN"
        ],
        [
         "34",
         "local://security.permissions.net/entities#446439",
         "local://security.permissions.net/vocab#manages",
         "local://security.permissions.net/entities#HOBBY"
        ],
        [
         "35",
         "local://security.permissions.net/entities#999411",
         "local://security.permissions.net/vocab#manages",
         "local://security.permissions.net/entities#KITCHEN"
        ],
        [
         "36",
         "local://security.permissions.net/entities#487368",
         "local://security.permissions.net/vocab#manages",
         "local://security.permissions.net/entities#STORAGE"
        ],
        [
         "37",
         "local://security.permissions.net/entities#487956",
         "local://security.permissions.net/vocab#manages",
         "local://security.permissions.net/entities#STORAGE"
        ],
        [
         "38",
         "local://security.permissions.net/entities#471912",
         "local://security.permissions.net/vocab#manages",
         "local://security.permissions.net/entities#HOME%20AND%20GARDEN"
        ],
        [
         "39",
         "local://security.permissions.net/entities#453159",
         "local://security.permissions.net/vocab#manages",
         "local://security.permissions.net/entities#STORAGE"
        ],
        [
         "40",
         "local://security.permissions.net/entities#459669",
         "local://security.permissions.net/vocab#manages",
         "local://security.permissions.net/entities#STORAGE"
        ],
        [
         "41",
         "local://security.permissions.net/entities#754404",
         "local://security.permissions.net/vocab#manages",
         "local://security.permissions.net/entities#KITCHEN"
        ],
        [
         "42",
         "local://security.permissions.net/entities#477372",
         "local://security.permissions.net/vocab#manages",
         "local://security.permissions.net/entities#CHRISTMAS"
        ],
        [
         "43",
         "local://security.permissions.net/entities#440391",
         "local://security.permissions.net/vocab#manages",
         "local://security.permissions.net/entities#STORAGE"
        ],
        [
         "44",
         "local://security.permissions.net/entities#1788885",
         "local://security.permissions.net/vocab#manages",
         "local://security.permissions.net/entities#APPAREL"
        ],
        [
         "45",
         "local://security.permissions.net/entities#482307",
         "local://security.permissions.net/vocab#manages",
         "local://security.permissions.net/entities#KITCHEN"
        ],
        [
         "46",
         "local://security.permissions.net/entities#1779855",
         "local://security.permissions.net/vocab#manages",
         "local://security.permissions.net/entities#KITCHEN"
        ],
        [
         "47",
         "local://security.permissions.net/entities#999159",
         "local://security.permissions.net/vocab#manages",
         "local://security.permissions.net/entities#KITCHEN"
        ],
        [
         "48",
         "local://security.permissions.net/entities#483651",
         "local://security.permissions.net/vocab#manages",
         "local://security.permissions.net/entities#STORAGE"
        ],
        [
         "49",
         "local://security.permissions.net/entities#477309",
         "local://security.permissions.net/vocab#manages",
         "local://security.permissions.net/entities#HOME%20AND%20GARDEN"
        ]
       ],
       "shape": {
        "columns": 3,
        "rows": 1919
       }
      },
      "text/html": [
       "<div>\n",
       "<style scoped>\n",
       "    .dataframe tbody tr th:only-of-type {\n",
       "        vertical-align: middle;\n",
       "    }\n",
       "\n",
       "    .dataframe tbody tr th {\n",
       "        vertical-align: top;\n",
       "    }\n",
       "\n",
       "    .dataframe thead th {\n",
       "        text-align: right;\n",
       "    }\n",
       "</style>\n",
       "<table border=\"1\" class=\"dataframe\">\n",
       "  <thead>\n",
       "    <tr style=\"text-align: right;\">\n",
       "      <th></th>\n",
       "      <th>s</th>\n",
       "      <th>p</th>\n",
       "      <th>o</th>\n",
       "    </tr>\n",
       "  </thead>\n",
       "  <tbody>\n",
       "    <tr>\n",
       "      <th>0</th>\n",
       "      <td>local://security.permissions.net/entities#475251</td>\n",
       "      <td>local://security.permissions.net/vocab#manages</td>\n",
       "      <td>local://security.permissions.net/entities#STORAGE</td>\n",
       "    </tr>\n",
       "    <tr>\n",
       "      <th>1</th>\n",
       "      <td>local://security.permissions.net/entities#470799</td>\n",
       "      <td>local://security.permissions.net/vocab#manages</td>\n",
       "      <td>local://security.permissions.net/entities#OFFICE</td>\n",
       "    </tr>\n",
       "    <tr>\n",
       "      <th>2</th>\n",
       "      <td>local://security.permissions.net/entities#452718</td>\n",
       "      <td>local://security.permissions.net/vocab#manages</td>\n",
       "      <td>local://security.permissions.net/entities#KITCHEN</td>\n",
       "    </tr>\n",
       "    <tr>\n",
       "      <th>3</th>\n",
       "      <td>local://security.permissions.net/entities#487284</td>\n",
       "      <td>local://security.permissions.net/vocab#manages</td>\n",
       "      <td>local://security.permissions.net/entities#STORAGE</td>\n",
       "    </tr>\n",
       "    <tr>\n",
       "      <th>4</th>\n",
       "      <td>local://security.permissions.net/entities#469308</td>\n",
       "      <td>local://security.permissions.net/vocab#manages</td>\n",
       "      <td>local://security.permissions.net/entities#KITCHEN</td>\n",
       "    </tr>\n",
       "    <tr>\n",
       "      <th>...</th>\n",
       "      <td>...</td>\n",
       "      <td>...</td>\n",
       "      <td>...</td>\n",
       "    </tr>\n",
       "    <tr>\n",
       "      <th>1914</th>\n",
       "      <td>local://security.permissions.net/entities#Sama...</td>\n",
       "      <td>local://security.permissions.net/vocab#manages...</td>\n",
       "      <td>local://security.permissions.net/entities#HOME...</td>\n",
       "    </tr>\n",
       "    <tr>\n",
       "      <th>1915</th>\n",
       "      <td>local://security.permissions.net/entities#John</td>\n",
       "      <td>local://security.permissions.net/vocab#manages...</td>\n",
       "      <td>local://security.permissions.net/entities#HOBBY</td>\n",
       "    </tr>\n",
       "    <tr>\n",
       "      <th>1916</th>\n",
       "      <td>local://security.permissions.net/entities#John</td>\n",
       "      <td>local://security.permissions.net/vocab#manages...</td>\n",
       "      <td>local://security.permissions.net/entities#OFFICE</td>\n",
       "    </tr>\n",
       "    <tr>\n",
       "      <th>1917</th>\n",
       "      <td>local://security.permissions.net/entities#Anya</td>\n",
       "      <td>local://security.permissions.net/vocab#manages...</td>\n",
       "      <td>local://security.permissions.net/entities#STORAGE</td>\n",
       "    </tr>\n",
       "    <tr>\n",
       "      <th>1918</th>\n",
       "      <td>local://security.permissions.net/entities#Steve</td>\n",
       "      <td>local://security.permissions.net/vocab#manages...</td>\n",
       "      <td>local://security.permissions.net/entities#KITCHEN</td>\n",
       "    </tr>\n",
       "  </tbody>\n",
       "</table>\n",
       "<p>1919 rows × 3 columns</p>\n",
       "</div>"
      ],
      "text/plain": [
       "                                                      s  \\\n",
       "0      local://security.permissions.net/entities#475251   \n",
       "1      local://security.permissions.net/entities#470799   \n",
       "2      local://security.permissions.net/entities#452718   \n",
       "3      local://security.permissions.net/entities#487284   \n",
       "4      local://security.permissions.net/entities#469308   \n",
       "...                                                 ...   \n",
       "1914  local://security.permissions.net/entities#Sama...   \n",
       "1915     local://security.permissions.net/entities#John   \n",
       "1916     local://security.permissions.net/entities#John   \n",
       "1917     local://security.permissions.net/entities#Anya   \n",
       "1918    local://security.permissions.net/entities#Steve   \n",
       "\n",
       "                                                      p  \\\n",
       "0        local://security.permissions.net/vocab#manages   \n",
       "1        local://security.permissions.net/vocab#manages   \n",
       "2        local://security.permissions.net/vocab#manages   \n",
       "3        local://security.permissions.net/vocab#manages   \n",
       "4        local://security.permissions.net/vocab#manages   \n",
       "...                                                 ...   \n",
       "1914  local://security.permissions.net/vocab#manages...   \n",
       "1915  local://security.permissions.net/vocab#manages...   \n",
       "1916  local://security.permissions.net/vocab#manages...   \n",
       "1917  local://security.permissions.net/vocab#manages...   \n",
       "1918  local://security.permissions.net/vocab#manages...   \n",
       "\n",
       "                                                      o  \n",
       "0     local://security.permissions.net/entities#STORAGE  \n",
       "1      local://security.permissions.net/entities#OFFICE  \n",
       "2     local://security.permissions.net/entities#KITCHEN  \n",
       "3     local://security.permissions.net/entities#STORAGE  \n",
       "4     local://security.permissions.net/entities#KITCHEN  \n",
       "...                                                 ...  \n",
       "1914  local://security.permissions.net/entities#HOME...  \n",
       "1915    local://security.permissions.net/entities#HOBBY  \n",
       "1916   local://security.permissions.net/entities#OFFICE  \n",
       "1917  local://security.permissions.net/entities#STORAGE  \n",
       "1918  local://security.permissions.net/entities#KITCHEN  \n",
       "\n",
       "[1919 rows x 3 columns]"
      ]
     },
     "execution_count": 6,
     "metadata": {},
     "output_type": "execute_result"
    }
   ],
   "source": [
    "# Now that we have added our inferences, we can see the results of the manages relationships which have been inferred from both managesDepartment and mangedBy\n",
    "query = \"\"\"\n",
    "PREFIX : <local://security.permissions.net/vocab#>\n",
    "\n",
    "SELECT ?s ?p ?o\n",
    "WHERE {\n",
    "  ?s ?p ?o .\n",
    "  FILTER(?p = :manages || ?p = :managesDepartment) .\n",
    "}\n",
    "\n",
    "\"\"\"\n",
    "\n",
    "# Execute the query\n",
    "res = corese.sparqlSelect(g, query, return_dataframe=True)\n",
    "res"
   ]
  },
  {
   "cell_type": "code",
   "execution_count": null,
   "metadata": {},
   "outputs": [
    {
     "data": {
      "application/vnd.microsoft.datawrangler.viewer.v0+json": {
       "columns": [
        {
         "name": "index",
         "rawType": "int64",
         "type": "integer"
        },
        {
         "name": "x",
         "rawType": "string",
         "type": "string"
        },
        {
         "name": "y",
         "rawType": "string",
         "type": "string"
        }
       ],
       "conversionMethod": "pd.DataFrame",
       "ref": "43dc4022-5fe8-4892-a7b8-7cdb728a7494",
       "rows": [
        [
         "0",
         "local://security.permissions.net/entities#SalesRep_0",
         "local://security.permissions.net/entities#475251#Netherlands"
        ],
        [
         "1",
         "local://security.permissions.net/entities#SalesRep_0",
         "local://security.permissions.net/entities#468846#Netherlands"
        ],
        [
         "2",
         "local://security.permissions.net/entities#SalesRep_0",
         "local://security.permissions.net/entities#460488#Netherlands"
        ],
        [
         "3",
         "local://security.permissions.net/entities#SalesRep_0",
         "local://security.permissions.net/entities#492387#Netherlands"
        ],
        [
         "4",
         "local://security.permissions.net/entities#SalesRep_0",
         "local://security.permissions.net/entities#486864#Netherlands"
        ],
        [
         "5",
         "local://security.permissions.net/entities#SalesRep_0",
         "local://security.permissions.net/entities#492114#Netherlands"
        ],
        [
         "6",
         "local://security.permissions.net/entities#SalesRep_0",
         "local://security.permissions.net/entities#486759#Netherlands"
        ],
        [
         "7",
         "local://security.permissions.net/entities#SalesRep_0",
         "local://security.permissions.net/entities#484743#Netherlands"
        ],
        [
         "8",
         "local://security.permissions.net/entities#SalesRep_0",
         "local://security.permissions.net/entities#458010#Netherlands"
        ],
        [
         "9",
         "local://security.permissions.net/entities#SalesRep_0",
         "local://security.permissions.net/entities#493227#Netherlands"
        ],
        [
         "10",
         "local://security.permissions.net/entities#SalesRep_0",
         "local://security.permissions.net/entities#491799#Netherlands"
        ],
        [
         "11",
         "local://security.permissions.net/entities#SalesRep_0",
         "local://security.permissions.net/entities#445347#Netherlands"
        ],
        [
         "12",
         "local://security.permissions.net/entities#SalesRep_0",
         "local://security.permissions.net/entities#474705#Netherlands"
        ],
        [
         "13",
         "local://security.permissions.net/entities#SalesRep_0",
         "local://security.permissions.net/entities#1011864#Netherlands"
        ],
        [
         "14",
         "local://security.permissions.net/entities#SalesRep_0",
         "local://security.permissions.net/entities#1775256#Netherlands"
        ],
        [
         "15",
         "local://security.permissions.net/entities#SalesRep_0",
         "local://security.permissions.net/entities#476679#Netherlands"
        ],
        [
         "16",
         "local://security.permissions.net/entities#SalesRep_0",
         "local://security.permissions.net/entities#490791#Netherlands"
        ],
        [
         "17",
         "local://security.permissions.net/entities#SalesRep_0",
         "local://security.permissions.net/entities#483252#Netherlands"
        ],
        [
         "18",
         "local://security.permissions.net/entities#SalesRep_0",
         "local://security.permissions.net/entities#486969#Netherlands"
        ],
        [
         "19",
         "local://security.permissions.net/entities#SalesRep_0",
         "local://security.permissions.net/entities#457170#Netherlands"
        ],
        [
         "20",
         "local://security.permissions.net/entities#SalesRep_0",
         "local://security.permissions.net/entities#487158#Netherlands"
        ],
        [
         "21",
         "local://security.permissions.net/entities#SalesRep_0",
         "local://security.permissions.net/entities#473949#Netherlands"
        ],
        [
         "22",
         "local://security.permissions.net/entities#SalesRep_0",
         "local://security.permissions.net/entities#489678#Netherlands"
        ],
        [
         "23",
         "local://security.permissions.net/entities#SalesRep_0",
         "local://security.permissions.net/entities#1788843#Netherlands"
        ],
        [
         "24",
         "local://security.permissions.net/entities#SalesRep_0",
         "local://security.permissions.net/entities#466137#Netherlands"
        ],
        [
         "25",
         "local://security.permissions.net/entities#SalesRep_0",
         "local://security.permissions.net/entities#479199#Netherlands"
        ],
        [
         "26",
         "local://security.permissions.net/entities#SalesRep_0",
         "local://security.permissions.net/entities#484197#Netherlands"
        ],
        [
         "27",
         "local://security.permissions.net/entities#SalesRep_0",
         "local://security.permissions.net/entities#480984#Netherlands"
        ],
        [
         "28",
         "local://security.permissions.net/entities#SalesRep_0",
         "local://security.permissions.net/entities#451185#Netherlands"
        ],
        [
         "29",
         "local://security.permissions.net/entities#SalesRep_0",
         "local://security.permissions.net/entities#486591#Netherlands"
        ],
        [
         "30",
         "local://security.permissions.net/entities#SalesRep_0",
         "local://security.permissions.net/entities#1780905#Netherlands"
        ],
        [
         "31",
         "local://security.permissions.net/entities#SalesRep_0",
         "local://security.permissions.net/entities#470358#Netherlands"
        ],
        [
         "32",
         "local://security.permissions.net/entities#SalesRep_0",
         "local://security.permissions.net/entities#475881#Netherlands"
        ],
        [
         "33",
         "local://security.permissions.net/entities#SalesRep_0",
         "local://security.permissions.net/entities#484491#Netherlands"
        ],
        [
         "34",
         "local://security.permissions.net/entities#SalesRep_0",
         "local://security.permissions.net/entities#484680#Netherlands"
        ],
        [
         "35",
         "local://security.permissions.net/entities#SalesRep_0",
         "local://security.permissions.net/entities#487179#Netherlands"
        ],
        [
         "36",
         "local://security.permissions.net/entities#SalesRep_0",
         "local://security.permissions.net/entities#481845#Netherlands"
        ],
        [
         "37",
         "local://security.permissions.net/entities#SalesRep_0",
         "local://security.permissions.net/entities#492870#Netherlands"
        ],
        [
         "38",
         "local://security.permissions.net/entities#SalesRep_0",
         "local://security.permissions.net/entities#463638#Netherlands"
        ],
        [
         "39",
         "local://security.permissions.net/entities#SalesRep_0",
         "local://security.permissions.net/entities#435225#Netherlands"
        ],
        [
         "40",
         "local://security.permissions.net/entities#SalesRep_0",
         "local://security.permissions.net/entities#477267#Netherlands"
        ],
        [
         "41",
         "local://security.permissions.net/entities#SalesRep_0",
         "local://security.permissions.net/entities#477603#Netherlands"
        ],
        [
         "42",
         "local://security.permissions.net/entities#SalesRep_0",
         "local://security.permissions.net/entities#468804#Netherlands"
        ],
        [
         "43",
         "local://security.permissions.net/entities#SalesRep_0",
         "local://security.permissions.net/entities#483294#Netherlands"
        ],
        [
         "44",
         "local://security.permissions.net/entities#SalesRep_0",
         "local://security.permissions.net/entities#469707#Netherlands"
        ],
        [
         "45",
         "local://security.permissions.net/entities#SalesRep_0",
         "local://security.permissions.net/entities#435267#Netherlands"
        ],
        [
         "46",
         "local://security.permissions.net/entities#SalesRep_0",
         "local://security.permissions.net/entities#487263#Netherlands"
        ],
        [
         "47",
         "local://security.permissions.net/entities#SalesRep_0",
         "local://security.permissions.net/entities#493353#Netherlands"
        ],
        [
         "48",
         "local://security.permissions.net/entities#SalesRep_0",
         "local://security.permissions.net/entities#1784937#Netherlands"
        ],
        [
         "49",
         "local://security.permissions.net/entities#SalesRep_0",
         "local://security.permissions.net/entities#468867#Netherlands"
        ]
       ],
       "shape": {
        "columns": 2,
        "rows": 154899
       }
      },
      "text/html": [
       "<div>\n",
       "<style scoped>\n",
       "    .dataframe tbody tr th:only-of-type {\n",
       "        vertical-align: middle;\n",
       "    }\n",
       "\n",
       "    .dataframe tbody tr th {\n",
       "        vertical-align: top;\n",
       "    }\n",
       "\n",
       "    .dataframe thead th {\n",
       "        text-align: right;\n",
       "    }\n",
       "</style>\n",
       "<table border=\"1\" class=\"dataframe\">\n",
       "  <thead>\n",
       "    <tr style=\"text-align: right;\">\n",
       "      <th></th>\n",
       "      <th>x</th>\n",
       "      <th>y</th>\n",
       "    </tr>\n",
       "  </thead>\n",
       "  <tbody>\n",
       "    <tr>\n",
       "      <th>0</th>\n",
       "      <td>local://security.permissions.net/entities#Sale...</td>\n",
       "      <td>local://security.permissions.net/entities#4752...</td>\n",
       "    </tr>\n",
       "    <tr>\n",
       "      <th>1</th>\n",
       "      <td>local://security.permissions.net/entities#Sale...</td>\n",
       "      <td>local://security.permissions.net/entities#4688...</td>\n",
       "    </tr>\n",
       "    <tr>\n",
       "      <th>2</th>\n",
       "      <td>local://security.permissions.net/entities#Sale...</td>\n",
       "      <td>local://security.permissions.net/entities#4604...</td>\n",
       "    </tr>\n",
       "    <tr>\n",
       "      <th>3</th>\n",
       "      <td>local://security.permissions.net/entities#Sale...</td>\n",
       "      <td>local://security.permissions.net/entities#4923...</td>\n",
       "    </tr>\n",
       "    <tr>\n",
       "      <th>4</th>\n",
       "      <td>local://security.permissions.net/entities#Sale...</td>\n",
       "      <td>local://security.permissions.net/entities#4868...</td>\n",
       "    </tr>\n",
       "    <tr>\n",
       "      <th>...</th>\n",
       "      <td>...</td>\n",
       "      <td>...</td>\n",
       "    </tr>\n",
       "    <tr>\n",
       "      <th>154894</th>\n",
       "      <td>local://security.permissions.net/entities#Sale...</td>\n",
       "      <td>local://security.permissions.net/entities#1663...</td>\n",
       "    </tr>\n",
       "    <tr>\n",
       "      <th>154895</th>\n",
       "      <td>local://security.permissions.net/entities#Sale...</td>\n",
       "      <td>local://security.permissions.net/entities#4898...</td>\n",
       "    </tr>\n",
       "    <tr>\n",
       "      <th>154896</th>\n",
       "      <td>local://security.permissions.net/entities#Sale...</td>\n",
       "      <td>local://security.permissions.net/entities#4883...</td>\n",
       "    </tr>\n",
       "    <tr>\n",
       "      <th>154897</th>\n",
       "      <td>local://security.permissions.net/entities#Sale...</td>\n",
       "      <td>local://security.permissions.net/entities#9993...</td>\n",
       "    </tr>\n",
       "    <tr>\n",
       "      <th>154898</th>\n",
       "      <td>local://security.permissions.net/entities#Sale...</td>\n",
       "      <td>local://security.permissions.net/entities#4775...</td>\n",
       "    </tr>\n",
       "  </tbody>\n",
       "</table>\n",
       "<p>154899 rows × 2 columns</p>\n",
       "</div>"
      ],
      "text/plain": [
       "                                                        x  \\\n",
       "0       local://security.permissions.net/entities#Sale...   \n",
       "1       local://security.permissions.net/entities#Sale...   \n",
       "2       local://security.permissions.net/entities#Sale...   \n",
       "3       local://security.permissions.net/entities#Sale...   \n",
       "4       local://security.permissions.net/entities#Sale...   \n",
       "...                                                   ...   \n",
       "154894  local://security.permissions.net/entities#Sale...   \n",
       "154895  local://security.permissions.net/entities#Sale...   \n",
       "154896  local://security.permissions.net/entities#Sale...   \n",
       "154897  local://security.permissions.net/entities#Sale...   \n",
       "154898  local://security.permissions.net/entities#Sale...   \n",
       "\n",
       "                                                        y  \n",
       "0       local://security.permissions.net/entities#4752...  \n",
       "1       local://security.permissions.net/entities#4688...  \n",
       "2       local://security.permissions.net/entities#4604...  \n",
       "3       local://security.permissions.net/entities#4923...  \n",
       "4       local://security.permissions.net/entities#4868...  \n",
       "...                                                   ...  \n",
       "154894  local://security.permissions.net/entities#1663...  \n",
       "154895  local://security.permissions.net/entities#4898...  \n",
       "154896  local://security.permissions.net/entities#4883...  \n",
       "154897  local://security.permissions.net/entities#9993...  \n",
       "154898  local://security.permissions.net/entities#4775...  \n",
       "\n",
       "[154899 rows x 2 columns]"
      ]
     },
     "execution_count": 7,
     "metadata": {},
     "output_type": "execute_result"
    }
   ],
   "source": [
    "# Find the users who have access to a specific record\n",
    "# Now that we have added our inferences, we can see the results of the manages relationships which have been inferred from both managesDepartment and mangedBy\n",
    "query = \"\"\"\n",
    "PREFIX : <local://security.permissions.net/vocab#>\n",
    "\n",
    "SELECT *\n",
    "WHERE {\n",
    "?x a :User ;\n",
    "    :handlesRegion/:hasCountry/:country ?y .\n",
    "}\n",
    "ORDER BY ?x\n",
    "\"\"\"\n",
    "\n",
    "# Execute the query\n",
    "res = corese.sparqlSelect(g, query, return_dataframe=True)\n",
    "res"
   ]
  },
  {
   "cell_type": "code",
   "execution_count": null,
   "metadata": {},
   "outputs": [
    {
     "data": {
      "application/vnd.microsoft.datawrangler.viewer.v0+json": {
       "columns": [
        {
         "name": "index",
         "rawType": "int64",
         "type": "integer"
        },
        {
         "name": "x",
         "rawType": "string",
         "type": "string"
        },
        {
         "name": "y",
         "rawType": "string",
         "type": "string"
        }
       ],
       "conversionMethod": "pd.DataFrame",
       "ref": "91a3a94a-6eac-493c-b7a6-9e88f67411fb",
       "rows": [
        [
         "0",
         "local://security.permissions.net/entities#1010331",
         "local://security.permissions.net/entities#HOME%20AND%20GARDEN"
        ],
        [
         "1",
         "local://security.permissions.net/entities#1010436",
         "local://security.permissions.net/entities#HOME%20AND%20GARDEN"
        ],
        [
         "2",
         "local://security.permissions.net/entities#1010709",
         "local://security.permissions.net/entities#HOME%20AND%20GARDEN"
        ],
        [
         "3",
         "local://security.permissions.net/entities#1010898",
         "local://security.permissions.net/entities#HOME%20AND%20GARDEN"
        ],
        [
         "4",
         "local://security.permissions.net/entities#1011633",
         "local://security.permissions.net/entities#HOME%20AND%20GARDEN"
        ],
        [
         "5",
         "local://security.permissions.net/entities#1011864",
         "local://security.permissions.net/entities#HOME%20AND%20GARDEN"
        ],
        [
         "6",
         "local://security.permissions.net/entities#1011885",
         "local://security.permissions.net/entities#HOME%20AND%20GARDEN"
        ],
        [
         "7",
         "local://security.permissions.net/entities#1011927",
         "local://security.permissions.net/entities#HOME%20AND%20GARDEN"
        ],
        [
         "8",
         "local://security.permissions.net/entities#1011948",
         "local://security.permissions.net/entities#HOME%20AND%20GARDEN"
        ],
        [
         "9",
         "local://security.permissions.net/entities#1012074",
         "local://security.permissions.net/entities#HOME%20AND%20GARDEN"
        ],
        [
         "10",
         "local://security.permissions.net/entities#1071168",
         "local://security.permissions.net/entities#APPAREL"
        ],
        [
         "11",
         "local://security.permissions.net/entities#1071294",
         "local://security.permissions.net/entities#OFFICE"
        ],
        [
         "12",
         "local://security.permissions.net/entities#1071420",
         "local://security.permissions.net/entities#APPAREL"
        ],
        [
         "13",
         "local://security.permissions.net/entities#1302378",
         "local://security.permissions.net/entities#APPAREL"
        ],
        [
         "14",
         "local://security.permissions.net/entities#1302903",
         "local://security.permissions.net/entities#STORAGE"
        ],
        [
         "15",
         "local://security.permissions.net/entities#1303806",
         "local://security.permissions.net/entities#STORAGE"
        ],
        [
         "16",
         "local://security.permissions.net/entities#1303974",
         "local://security.permissions.net/entities#STORAGE"
        ],
        [
         "17",
         "local://security.permissions.net/entities#1304016",
         "local://security.permissions.net/entities#STORAGE"
        ],
        [
         "18",
         "local://security.permissions.net/entities#1304037",
         "local://security.permissions.net/entities#STORAGE"
        ],
        [
         "19",
         "local://security.permissions.net/entities#1470126",
         "local://security.permissions.net/entities#HOBBY"
        ],
        [
         "20",
         "local://security.permissions.net/entities#1470147",
         "local://security.permissions.net/entities#HOBBY"
        ],
        [
         "21",
         "local://security.permissions.net/entities#1491798",
         "local://security.permissions.net/entities#HOME%20AND%20GARDEN"
        ],
        [
         "22",
         "local://security.permissions.net/entities#1492050",
         "local://security.permissions.net/entities#HOME%20AND%20GARDEN"
        ],
        [
         "23",
         "local://security.permissions.net/entities#1492113",
         "local://security.permissions.net/entities#HOME%20AND%20GARDEN"
        ],
        [
         "24",
         "local://security.permissions.net/entities#1493121",
         "local://security.permissions.net/entities#STORAGE"
        ],
        [
         "25",
         "local://security.permissions.net/entities#1494003",
         "local://security.permissions.net/entities#HOBBY"
        ],
        [
         "26",
         "local://security.permissions.net/entities#1495515",
         "local://security.permissions.net/entities#HOME%20AND%20GARDEN"
        ],
        [
         "27",
         "local://security.permissions.net/entities#1496670",
         "local://security.permissions.net/entities#HOBBY"
        ],
        [
         "28",
         "local://security.permissions.net/entities#1496859",
         "local://security.permissions.net/entities#HOME%20AND%20GARDEN"
        ],
        [
         "29",
         "local://security.permissions.net/entities#1499463",
         "local://security.permissions.net/entities#STORAGE"
        ],
        [
         "30",
         "local://security.permissions.net/entities#1499526",
         "local://security.permissions.net/entities#KITCHEN"
        ],
        [
         "31",
         "local://security.permissions.net/entities#1500639",
         "local://security.permissions.net/entities#STORAGE"
        ],
        [
         "32",
         "local://security.permissions.net/entities#1501017",
         "local://security.permissions.net/entities#KITCHEN"
        ],
        [
         "33",
         "local://security.permissions.net/entities#1501395",
         "local://security.permissions.net/entities#HOME%20AND%20GARDEN"
        ],
        [
         "34",
         "local://security.permissions.net/entities#1501416",
         "local://security.permissions.net/entities#HOME%20AND%20GARDEN"
        ],
        [
         "35",
         "local://security.permissions.net/entities#1501710",
         "local://security.permissions.net/entities#HOME%20AND%20GARDEN"
        ],
        [
         "36",
         "local://security.permissions.net/entities#1512504",
         "local://security.permissions.net/entities#HOME%20AND%20GARDEN"
        ],
        [
         "37",
         "local://security.permissions.net/entities#1513071",
         "local://security.permissions.net/entities#STORAGE"
        ],
        [
         "38",
         "local://security.permissions.net/entities#1514562",
         "local://security.permissions.net/entities#HOME%20AND%20GARDEN"
        ],
        [
         "39",
         "local://security.permissions.net/entities#1514667",
         "local://security.permissions.net/entities#HOME%20AND%20GARDEN"
        ],
        [
         "40",
         "local://security.permissions.net/entities#1514688",
         "local://security.permissions.net/entities#HOME%20AND%20GARDEN"
        ],
        [
         "41",
         "local://security.permissions.net/entities#1514730",
         "local://security.permissions.net/entities#HOME%20AND%20GARDEN"
        ],
        [
         "42",
         "local://security.permissions.net/entities#1514751",
         "local://security.permissions.net/entities#HOME%20AND%20GARDEN"
        ],
        [
         "43",
         "local://security.permissions.net/entities#1514772",
         "local://security.permissions.net/entities#HOME%20AND%20GARDEN"
        ],
        [
         "44",
         "local://security.permissions.net/entities#1514793",
         "local://security.permissions.net/entities#HOME%20AND%20GARDEN"
        ],
        [
         "45",
         "local://security.permissions.net/entities#1514814",
         "local://security.permissions.net/entities#HOME%20AND%20GARDEN"
        ],
        [
         "46",
         "local://security.permissions.net/entities#1514940",
         "local://security.permissions.net/entities#HOME%20AND%20GARDEN"
        ],
        [
         "47",
         "local://security.permissions.net/entities#1516725",
         "local://security.permissions.net/entities#HOME%20AND%20GARDEN"
        ],
        [
         "48",
         "local://security.permissions.net/entities#1516872",
         "local://security.permissions.net/entities#HOME%20AND%20GARDEN"
        ],
        [
         "49",
         "local://security.permissions.net/entities#1519329",
         "local://security.permissions.net/entities#HOME%20AND%20GARDEN"
        ]
       ],
       "shape": {
        "columns": 2,
        "rows": 1911
       }
      },
      "text/html": [
       "<div>\n",
       "<style scoped>\n",
       "    .dataframe tbody tr th:only-of-type {\n",
       "        vertical-align: middle;\n",
       "    }\n",
       "\n",
       "    .dataframe tbody tr th {\n",
       "        vertical-align: top;\n",
       "    }\n",
       "\n",
       "    .dataframe thead th {\n",
       "        text-align: right;\n",
       "    }\n",
       "</style>\n",
       "<table border=\"1\" class=\"dataframe\">\n",
       "  <thead>\n",
       "    <tr style=\"text-align: right;\">\n",
       "      <th></th>\n",
       "      <th>x</th>\n",
       "      <th>y</th>\n",
       "    </tr>\n",
       "  </thead>\n",
       "  <tbody>\n",
       "    <tr>\n",
       "      <th>0</th>\n",
       "      <td>local://security.permissions.net/entities#1010331</td>\n",
       "      <td>local://security.permissions.net/entities#HOME...</td>\n",
       "    </tr>\n",
       "    <tr>\n",
       "      <th>1</th>\n",
       "      <td>local://security.permissions.net/entities#1010436</td>\n",
       "      <td>local://security.permissions.net/entities#HOME...</td>\n",
       "    </tr>\n",
       "    <tr>\n",
       "      <th>2</th>\n",
       "      <td>local://security.permissions.net/entities#1010709</td>\n",
       "      <td>local://security.permissions.net/entities#HOME...</td>\n",
       "    </tr>\n",
       "    <tr>\n",
       "      <th>3</th>\n",
       "      <td>local://security.permissions.net/entities#1010898</td>\n",
       "      <td>local://security.permissions.net/entities#HOME...</td>\n",
       "    </tr>\n",
       "    <tr>\n",
       "      <th>4</th>\n",
       "      <td>local://security.permissions.net/entities#1011633</td>\n",
       "      <td>local://security.permissions.net/entities#HOME...</td>\n",
       "    </tr>\n",
       "    <tr>\n",
       "      <th>...</th>\n",
       "      <td>...</td>\n",
       "      <td>...</td>\n",
       "    </tr>\n",
       "    <tr>\n",
       "      <th>1906</th>\n",
       "      <td>local://security.permissions.net/entities#Steve</td>\n",
       "      <td>local://security.permissions.net/entities#Sale...</td>\n",
       "    </tr>\n",
       "    <tr>\n",
       "      <th>1907</th>\n",
       "      <td>local://security.permissions.net/entities#Steve</td>\n",
       "      <td>local://security.permissions.net/entities#Sale...</td>\n",
       "    </tr>\n",
       "    <tr>\n",
       "      <th>1908</th>\n",
       "      <td>local://security.permissions.net/entities#Steve</td>\n",
       "      <td>local://security.permissions.net/entities#Sale...</td>\n",
       "    </tr>\n",
       "    <tr>\n",
       "      <th>1909</th>\n",
       "      <td>local://security.permissions.net/entities#Steve</td>\n",
       "      <td>local://security.permissions.net/entities#Sale...</td>\n",
       "    </tr>\n",
       "    <tr>\n",
       "      <th>1910</th>\n",
       "      <td>local://security.permissions.net/entities#Steve</td>\n",
       "      <td>local://security.permissions.net/entities#Sale...</td>\n",
       "    </tr>\n",
       "  </tbody>\n",
       "</table>\n",
       "<p>1911 rows × 2 columns</p>\n",
       "</div>"
      ],
      "text/plain": [
       "                                                      x  \\\n",
       "0     local://security.permissions.net/entities#1010331   \n",
       "1     local://security.permissions.net/entities#1010436   \n",
       "2     local://security.permissions.net/entities#1010709   \n",
       "3     local://security.permissions.net/entities#1010898   \n",
       "4     local://security.permissions.net/entities#1011633   \n",
       "...                                                 ...   \n",
       "1906    local://security.permissions.net/entities#Steve   \n",
       "1907    local://security.permissions.net/entities#Steve   \n",
       "1908    local://security.permissions.net/entities#Steve   \n",
       "1909    local://security.permissions.net/entities#Steve   \n",
       "1910    local://security.permissions.net/entities#Steve   \n",
       "\n",
       "                                                      y  \n",
       "0     local://security.permissions.net/entities#HOME...  \n",
       "1     local://security.permissions.net/entities#HOME...  \n",
       "2     local://security.permissions.net/entities#HOME...  \n",
       "3     local://security.permissions.net/entities#HOME...  \n",
       "4     local://security.permissions.net/entities#HOME...  \n",
       "...                                                 ...  \n",
       "1906  local://security.permissions.net/entities#Sale...  \n",
       "1907  local://security.permissions.net/entities#Sale...  \n",
       "1908  local://security.permissions.net/entities#Sale...  \n",
       "1909  local://security.permissions.net/entities#Sale...  \n",
       "1910  local://security.permissions.net/entities#Sale...  \n",
       "\n",
       "[1911 rows x 2 columns]"
      ]
     },
     "execution_count": 11,
     "metadata": {},
     "output_type": "execute_result"
    }
   ],
   "source": [
    "query = \"\"\"\n",
    "PREFIX : <local://security.permissions.net/vocab#>\n",
    "\n",
    "SELECT *\n",
    "WHERE {\n",
    "?x :hasAccessTransitive ?y .\n",
    "}\n",
    "ORDER BY ?x\n",
    "\"\"\"\n",
    "\n",
    "# Execute the query\n",
    "res = corese.sparqlSelect(g, query, return_dataframe=True)\n",
    "res"
   ]
  },
  {
   "cell_type": "code",
   "execution_count": null,
   "metadata": {},
   "outputs": [],
   "source": []
  },
  {
   "cell_type": "code",
   "execution_count": null,
   "metadata": {},
   "outputs": [],
   "source": []
  }
 ],
 "metadata": {
  "kernelspec": {
   "display_name": ".venv",
   "language": "python",
   "name": "python3"
  },
  "language_info": {
   "codemirror_mode": {
    "name": "ipython",
    "version": 3
   },
   "file_extension": ".py",
   "mimetype": "text/x-python",
   "name": "python",
   "nbconvert_exporter": "python",
   "pygments_lexer": "ipython3",
   "version": "3.11.9"
  }
 },
 "nbformat": 4,
 "nbformat_minor": 2
}
