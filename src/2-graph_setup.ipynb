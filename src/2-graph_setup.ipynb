{
 "cells": [
  {
   "cell_type": "code",
   "execution_count": 10,
   "metadata": {},
   "outputs": [],
   "source": [
    "import pandas as pd\n",
    "import morph_kgc as mgc\n",
    "import os"
   ]
  },
  {
   "cell_type": "code",
   "execution_count": 11,
   "metadata": {},
   "outputs": [
    {
     "data": {
      "text/plain": [
       "'/mnt/c/repos/rdf_permissions_example/src'"
      ]
     },
     "execution_count": 11,
     "metadata": {},
     "output_type": "execute_result"
    }
   ],
   "source": [
    "if os.getcwd().split('/')[-1] == 'rdf_permissions_example':\n",
    "    os.chdir('src')\n",
    "\n",
    "os.getcwd()"
   ]
  },
  {
   "cell_type": "markdown",
   "metadata": {},
   "source": [
    "# Base Graph Load"
   ]
  },
  {
   "cell_type": "code",
   "execution_count": 12,
   "metadata": {},
   "outputs": [],
   "source": [
    "config = \"\"\"\n",
    "[manager_mapping]\n",
    "mappings = ../vocab/manager_mapping_metadata.ttl\n",
    "\n",
    "[items_mapping]\n",
    "mappings = ../vocab/items_mapping_metadata.ttl\n",
    "\n",
    "[rep_mapping]\n",
    "mappings = ../vocab/sales_rep_metadata.ttl\n",
    "\"\"\""
   ]
  },
  {
   "cell_type": "code",
   "execution_count": 13,
   "metadata": {},
   "outputs": [
    {
     "name": "stderr",
     "output_type": "stream",
     "text": [
      "INFO | 2025-04-17 10:23:01,654 | 14 mapping rules retrieved.\n",
      "INFO | 2025-04-17 10:23:01,662 | Mapping partition with 13 groups generated.\n",
      "INFO | 2025-04-17 10:23:01,663 | Maximum number of rules within mapping group: 2.\n",
      "INFO | 2025-04-17 10:23:01,664 | Mappings processed in 0.805 seconds.\n",
      "INFO | 2025-04-17 10:23:02,056 | Number of triples generated in total: 36358.\n"
     ]
    }
   ],
   "source": [
    "g = mgc.materialize(config)"
   ]
  },
  {
   "cell_type": "code",
   "execution_count": 14,
   "metadata": {},
   "outputs": [],
   "source": [
    "# Validate the graph loaded (no inferences as we haven't run a rules engine)\n",
    "query = \"\"\"\n",
    "prefix xsd: <http://www.w3.org/2001/XMLSchema#>\n",
    "prefix : <local://security.permissions.net/vocab#>\n",
    "prefix data: <local://security.permissions.net/entities#>\n",
    "\n",
    "SELECT * WHERE {\n",
    "    ?x a :Record ;\n",
    "        :item ?item ;\n",
    "        :country ?country ;\n",
    "}\n",
    "LIMIT 5\n",
    "      \"\"\"\n",
    "\n",
    "query_result = g.query(query)\n",
    "\n",
    "for row in query_result:\n",
    "    print(row['x'], row['item'], row['country'])"
   ]
  },
  {
   "cell_type": "code",
   "execution_count": 15,
   "metadata": {},
   "outputs": [],
   "source": [
    "# Add the ontology\n",
    "g.parse('../vocab/permissions_ontology.ttl', format='turtle')\n",
    "\n",
    "# Serialize the RDFLib graph to RDF/XML format\n",
    "rdf_xml_data = g.serialize(format='xml', destination='../data/server/graph_data.rdf')"
   ]
  },
  {
   "cell_type": "code",
   "execution_count": null,
   "metadata": {},
   "outputs": [],
   "source": []
  }
 ],
 "metadata": {
  "kernelspec": {
   "display_name": "Python 3 (ipykernel)",
   "language": "python",
   "name": "python3"
  },
  "language_info": {
   "codemirror_mode": {
    "name": "ipython",
    "version": 3
   },
   "file_extension": ".py",
   "mimetype": "text/x-python",
   "name": "python",
   "nbconvert_exporter": "python",
   "pygments_lexer": "ipython3",
   "version": "3.10.12"
  }
 },
 "nbformat": 4,
 "nbformat_minor": 2
}
