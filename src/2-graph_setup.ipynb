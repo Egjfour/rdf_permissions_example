{
 "cells": [
  {
   "cell_type": "code",
   "execution_count": 12,
   "metadata": {},
   "outputs": [],
   "source": [
    "import pandas as pd\n",
    "import morph_kgc as mgc"
   ]
  },
  {
   "cell_type": "markdown",
   "metadata": {},
   "source": [
    "# Base Graph Load"
   ]
  },
  {
   "cell_type": "code",
   "execution_count": 13,
   "metadata": {},
   "outputs": [],
   "source": [
    "config = \"\"\"\n",
    "[manager_mapping]\n",
    "mappings = ../vocab/manager_mapping_metadata.ttl\n",
    "\n",
    "[items_mapping]\n",
    "mappings = ../vocab/items_mapping_metadata.ttl\n",
    "\n",
    "[rep_mapping]\n",
    "mappings = ../vocab/sales_rep_metadata.ttl\n",
    "\"\"\""
   ]
  },
  {
   "cell_type": "code",
   "execution_count": 14,
   "metadata": {},
   "outputs": [
    {
     "name": "stderr",
     "output_type": "stream",
     "text": [
      "INFO | 2025-04-12 19:55:35,278 | Parallelization is not supported for win32 when running as a library. If you need to speed up your data integration pipeline, please run through the command line.\n",
      "INFO | 2025-04-12 19:55:36,060 | 17 mapping rules retrieved.\n",
      "INFO | 2025-04-12 19:55:36,068 | Mapping partition with 17 groups generated.\n",
      "INFO | 2025-04-12 19:55:36,069 | Maximum number of rules within mapping group: 1.\n",
      "INFO | 2025-04-12 19:55:36,069 | Mappings processed in 0.789 seconds.\n",
      "INFO | 2025-04-12 19:55:36,327 | Number of triples generated in total: 59957.\n"
     ]
    }
   ],
   "source": [
    "g = mgc.materialize(config)"
   ]
  },
  {
   "cell_type": "code",
   "execution_count": 15,
   "metadata": {},
   "outputs": [
    {
     "name": "stdout",
     "output_type": "stream",
     "text": [
      "local://security.permissions.net/entities#475104#Germany local://security.permissions.net/entities#475104 local://security.permissions.net/entities#Germany\n",
      "local://security.permissions.net/entities#488103#Sweden local://security.permissions.net/entities#488103 local://security.permissions.net/entities#Sweden\n",
      "local://security.permissions.net/entities#480690#Italy local://security.permissions.net/entities#480690 local://security.permissions.net/entities#Italy\n",
      "local://security.permissions.net/entities#340998#France local://security.permissions.net/entities#340998 local://security.permissions.net/entities#France\n",
      "local://security.permissions.net/entities#441000#Israel local://security.permissions.net/entities#441000 local://security.permissions.net/entities#Israel\n"
     ]
    }
   ],
   "source": [
    "# Validate the graph loaded (no inferences as we haven't run a rules engine)\n",
    "query = \"\"\"\n",
    "prefix xsd: <http://www.w3.org/2001/XMLSchema#>\n",
    "prefix : <local://security.permissions.net/vocab#>\n",
    "prefix data: <local://security.permissions.net/entities#>\n",
    "\n",
    "SELECT * WHERE {\n",
    "    ?x a :Record ;\n",
    "        :item ?item ;\n",
    "        :country ?country ;\n",
    "}\n",
    "LIMIT 5\n",
    "      \"\"\"\n",
    "\n",
    "query_result = g.query(query)\n",
    "\n",
    "for row in query_result:\n",
    "    print(row['x'], row['item'], row['country'])"
   ]
  },
  {
   "cell_type": "code",
   "execution_count": 16,
   "metadata": {},
   "outputs": [],
   "source": [
    "# Serialize the RDFLib graph to RDF/XML format\n",
    "rdf_xml_data = g.serialize(format='xml', destination='../data/graph_data.rdf')"
   ]
  },
  {
   "cell_type": "code",
   "execution_count": null,
   "metadata": {},
   "outputs": [],
   "source": []
  }
 ],
 "metadata": {
  "kernelspec": {
   "display_name": ".venv",
   "language": "python",
   "name": "python3"
  },
  "language_info": {
   "codemirror_mode": {
    "name": "ipython",
    "version": 3
   },
   "file_extension": ".py",
   "mimetype": "text/x-python",
   "name": "python",
   "nbconvert_exporter": "python",
   "pygments_lexer": "ipython3",
   "version": "3.11.9"
  }
 },
 "nbformat": 4,
 "nbformat_minor": 2
}
