{
 "cells": [
  {
   "cell_type": "code",
   "execution_count": 395,
   "metadata": {},
   "outputs": [],
   "source": [
    "import pandas as pd\n",
    "import morph_kgc as mgc\n",
    "import random\n",
    "import numpy as np\n",
    "\n",
    "random.seed(42)\n",
    "np.random.seed(42)"
   ]
  },
  {
   "cell_type": "code",
   "execution_count": null,
   "metadata": {},
   "outputs": [],
   "source": [
    "# Load the transaction data (source: https://www.kaggle.com/datasets/vipin20/transaction-data)\n",
    "tx = pd.read_csv('../data/transaction_data.csv', sep=',', encoding='utf-8', dtype={\"ItemCode\": str})\n",
    "tx['TransactionTime'] = pd.to_datetime(tx['TransactionTime'].str.replace(\"IST \", \"\"), format=\"%a %b %d %H:%M:%S %Y\")"
   ]
  },
  {
   "cell_type": "code",
   "execution_count": 397,
   "metadata": {},
   "outputs": [
    {
     "data": {
      "text/plain": [
       "UserId                             int64\n",
       "TransactionId                      int64\n",
       "TransactionTime           datetime64[ns]\n",
       "ItemCode                          object\n",
       "ItemDescription                   object\n",
       "NumberOfItemsPurchased             int64\n",
       "CostPerItem                      float64\n",
       "Country                           object\n",
       "dtype: object"
      ]
     },
     "execution_count": 397,
     "metadata": {},
     "output_type": "execute_result"
    }
   ],
   "source": [
    "tx.dtypes"
   ]
  },
  {
   "cell_type": "code",
   "execution_count": 398,
   "metadata": {},
   "outputs": [
    {
     "data": {
      "application/vnd.microsoft.datawrangler.viewer.v0+json": {
       "columns": [
        {
         "name": "index",
         "rawType": "int64",
         "type": "integer"
        },
        {
         "name": "ItemCode",
         "rawType": "object",
         "type": "string"
        },
        {
         "name": "Country",
         "rawType": "object",
         "type": "string"
        },
        {
         "name": "ItemDescription",
         "rawType": "object",
         "type": "string"
        },
        {
         "name": "CostPerItem",
         "rawType": "float64",
         "type": "float"
        },
        {
         "name": "LastTransactionDate",
         "rawType": "datetime64[ns]",
         "type": "datetime"
        },
        {
         "name": "TransactionCount",
         "rawType": "int64",
         "type": "integer"
        },
        {
         "name": "is_set",
         "rawType": "bool",
         "type": "boolean"
        }
       ],
       "conversionMethod": "pd.DataFrame",
       "ref": "6a1ede80-76a3-4f27-9559-b54ef7d658b0",
       "rows": [
        [
         "0",
         "1010331",
         "Channel Islands",
         "DOORMAT 3 SMILEY CATS",
         "10.98",
         "2018-11-04 08:30:00",
         "4",
         "False"
        ],
        [
         "1",
         "1010331",
         "EIRE",
         "DOORMAT 3 SMILEY CATS",
         "11.39",
         "2018-12-22 08:37:00",
         "4",
         "False"
        ],
        [
         "2",
         "1010331",
         "France",
         "DOORMAT 3 SMILEY CATS",
         "9.78",
         "2019-01-28 07:59:00",
         "2",
         "False"
        ],
        [
         "3",
         "1010331",
         "Greece",
         "DOORMAT 3 SMILEY CATS",
         "9.32",
         "2018-04-07 07:39:00",
         "2",
         "False"
        ],
        [
         "4",
         "1010331",
         "Spain",
         "DOORMAT 3 SMILEY CATS",
         "10.98",
         "2018-04-23 10:44:00",
         "4",
         "False"
        ]
       ],
       "shape": {
        "columns": 7,
        "rows": 5
       }
      },
      "text/html": [
       "<div>\n",
       "<style scoped>\n",
       "    .dataframe tbody tr th:only-of-type {\n",
       "        vertical-align: middle;\n",
       "    }\n",
       "\n",
       "    .dataframe tbody tr th {\n",
       "        vertical-align: top;\n",
       "    }\n",
       "\n",
       "    .dataframe thead th {\n",
       "        text-align: right;\n",
       "    }\n",
       "</style>\n",
       "<table border=\"1\" class=\"dataframe\">\n",
       "  <thead>\n",
       "    <tr style=\"text-align: right;\">\n",
       "      <th></th>\n",
       "      <th>ItemCode</th>\n",
       "      <th>Country</th>\n",
       "      <th>ItemDescription</th>\n",
       "      <th>CostPerItem</th>\n",
       "      <th>LastTransactionDate</th>\n",
       "      <th>TransactionCount</th>\n",
       "      <th>is_set</th>\n",
       "    </tr>\n",
       "  </thead>\n",
       "  <tbody>\n",
       "    <tr>\n",
       "      <th>0</th>\n",
       "      <td>1010331</td>\n",
       "      <td>Channel Islands</td>\n",
       "      <td>DOORMAT 3 SMILEY CATS</td>\n",
       "      <td>10.98</td>\n",
       "      <td>2018-11-04 08:30:00</td>\n",
       "      <td>4</td>\n",
       "      <td>False</td>\n",
       "    </tr>\n",
       "    <tr>\n",
       "      <th>1</th>\n",
       "      <td>1010331</td>\n",
       "      <td>EIRE</td>\n",
       "      <td>DOORMAT 3 SMILEY CATS</td>\n",
       "      <td>11.39</td>\n",
       "      <td>2018-12-22 08:37:00</td>\n",
       "      <td>4</td>\n",
       "      <td>False</td>\n",
       "    </tr>\n",
       "    <tr>\n",
       "      <th>2</th>\n",
       "      <td>1010331</td>\n",
       "      <td>France</td>\n",
       "      <td>DOORMAT 3 SMILEY CATS</td>\n",
       "      <td>9.78</td>\n",
       "      <td>2019-01-28 07:59:00</td>\n",
       "      <td>2</td>\n",
       "      <td>False</td>\n",
       "    </tr>\n",
       "    <tr>\n",
       "      <th>3</th>\n",
       "      <td>1010331</td>\n",
       "      <td>Greece</td>\n",
       "      <td>DOORMAT 3 SMILEY CATS</td>\n",
       "      <td>9.32</td>\n",
       "      <td>2018-04-07 07:39:00</td>\n",
       "      <td>2</td>\n",
       "      <td>False</td>\n",
       "    </tr>\n",
       "    <tr>\n",
       "      <th>4</th>\n",
       "      <td>1010331</td>\n",
       "      <td>Spain</td>\n",
       "      <td>DOORMAT 3 SMILEY CATS</td>\n",
       "      <td>10.98</td>\n",
       "      <td>2018-04-23 10:44:00</td>\n",
       "      <td>4</td>\n",
       "      <td>False</td>\n",
       "    </tr>\n",
       "  </tbody>\n",
       "</table>\n",
       "</div>"
      ],
      "text/plain": [
       "  ItemCode          Country        ItemDescription  CostPerItem  \\\n",
       "0  1010331  Channel Islands  DOORMAT 3 SMILEY CATS        10.98   \n",
       "1  1010331             EIRE  DOORMAT 3 SMILEY CATS        11.39   \n",
       "2  1010331           France  DOORMAT 3 SMILEY CATS         9.78   \n",
       "3  1010331           Greece  DOORMAT 3 SMILEY CATS         9.32   \n",
       "4  1010331            Spain  DOORMAT 3 SMILEY CATS        10.98   \n",
       "\n",
       "  LastTransactionDate  TransactionCount  is_set  \n",
       "0 2018-11-04 08:30:00                 4   False  \n",
       "1 2018-12-22 08:37:00                 4   False  \n",
       "2 2019-01-28 07:59:00                 2   False  \n",
       "3 2018-04-07 07:39:00                 2   False  \n",
       "4 2018-04-23 10:44:00                 4   False  "
      ]
     },
     "execution_count": 398,
     "metadata": {},
     "output_type": "execute_result"
    }
   ],
   "source": [
    "items = (\n",
    "    tx\n",
    "    .loc[(tx['ItemCode'] != '-1') & (tx['UserId'].astype(str) != '-1')]\n",
    "    .sort_values('TransactionTime', ascending=False)\n",
    "    .groupby([\"ItemCode\", \"Country\"], as_index=False)\n",
    "    .agg(\n",
    "        ItemDescription =('ItemDescription', 'first'),\n",
    "        CostPerItem = ('CostPerItem', 'first'),\n",
    "        LastTransactionDate = ('TransactionTime', 'first'),\n",
    "        TransactionCount = ('ItemCode', 'count')\n",
    "    )\n",
    "    .assign(processing_item_desc = lambda x: x['ItemDescription'].str.replace(r'[^A-z ]', '', regex=True))\n",
    "    .assign(is_set = lambda x: x['ItemDescription'].str.contains('(?<!\\w)set(?!\\w)', case=False, regex=True))\n",
    "    .drop(columns=['processing_item_desc'])\n",
    ")\n",
    "items.head()"
   ]
  },
  {
   "cell_type": "code",
   "execution_count": 399,
   "metadata": {},
   "outputs": [
    {
     "data": {
      "application/vnd.microsoft.datawrangler.viewer.v0+json": {
       "columns": [
        {
         "name": "index",
         "rawType": "int64",
         "type": "integer"
        },
        {
         "name": "keywords",
         "rawType": "object",
         "type": "string"
        },
        {
         "name": "word_count",
         "rawType": "int64",
         "type": "integer"
        }
       ],
       "conversionMethod": "pd.DataFrame",
       "ref": "f274844e-27f2-47c4-883d-cf628f7b6aa7",
       "rows": [
        [
         "1687",
         "SET",
         "1952"
        ],
        [
         "1566",
         "RED",
         "1403"
        ],
        [
         "2046",
         "VINTAGE",
         "1187"
        ],
        [
         "138",
         "BAG",
         "1098"
        ],
        [
         "1441",
         "PINK",
         "1084"
        ]
       ],
       "shape": {
        "columns": 2,
        "rows": 5
       }
      },
      "text/html": [
       "<div>\n",
       "<style scoped>\n",
       "    .dataframe tbody tr th:only-of-type {\n",
       "        vertical-align: middle;\n",
       "    }\n",
       "\n",
       "    .dataframe tbody tr th {\n",
       "        vertical-align: top;\n",
       "    }\n",
       "\n",
       "    .dataframe thead th {\n",
       "        text-align: right;\n",
       "    }\n",
       "</style>\n",
       "<table border=\"1\" class=\"dataframe\">\n",
       "  <thead>\n",
       "    <tr style=\"text-align: right;\">\n",
       "      <th></th>\n",
       "      <th>keywords</th>\n",
       "      <th>word_count</th>\n",
       "    </tr>\n",
       "  </thead>\n",
       "  <tbody>\n",
       "    <tr>\n",
       "      <th>1687</th>\n",
       "      <td>SET</td>\n",
       "      <td>1952</td>\n",
       "    </tr>\n",
       "    <tr>\n",
       "      <th>1566</th>\n",
       "      <td>RED</td>\n",
       "      <td>1403</td>\n",
       "    </tr>\n",
       "    <tr>\n",
       "      <th>2046</th>\n",
       "      <td>VINTAGE</td>\n",
       "      <td>1187</td>\n",
       "    </tr>\n",
       "    <tr>\n",
       "      <th>138</th>\n",
       "      <td>BAG</td>\n",
       "      <td>1098</td>\n",
       "    </tr>\n",
       "    <tr>\n",
       "      <th>1441</th>\n",
       "      <td>PINK</td>\n",
       "      <td>1084</td>\n",
       "    </tr>\n",
       "  </tbody>\n",
       "</table>\n",
       "</div>"
      ],
      "text/plain": [
       "     keywords  word_count\n",
       "1687      SET        1952\n",
       "1566      RED        1403\n",
       "2046  VINTAGE        1187\n",
       "138       BAG        1098\n",
       "1441     PINK        1084"
      ]
     },
     "execution_count": 399,
     "metadata": {},
     "output_type": "execute_result"
    }
   ],
   "source": [
    "# Code below is simply to help find hierarchical attributes (like department)\n",
    "stopwords = ['AND', 'OF', 'FOR', 'TO', 'THE', 'IN', 'A', 'AN', 'IS', 'AT', 'ON',\n",
    "             'WITH', 'AS', 'BY', 'FROM', 'THAT', 'THIS', 'WHICH', 'BE', 'OR', '']\n",
    "kw = (\n",
    "    items\n",
    "    .assign(keywords = lambda x: x['ItemDescription'].str.split(' '))\n",
    "    .explode('keywords')\n",
    "    .groupby('keywords', as_index=False)\n",
    "    .agg(word_count=('ItemCode', 'count'))\n",
    "    .pipe(lambda df: df[~df['keywords'].isin(stopwords)])\n",
    "    .sort_values('word_count', ascending=False)\n",
    ")\n",
    "kw.head()"
   ]
  },
  {
   "cell_type": "code",
   "execution_count": 400,
   "metadata": {},
   "outputs": [],
   "source": [
    "def identify_department(item_description, keyword_mapping = {}):\n",
    "    for keyword, grouping in keyword_mapping.items():\n",
    "        if keyword.lower() in item_description.lower():\n",
    "            return grouping\n",
    "        \n",
    "    return \"Miscellaneous\"\n"
   ]
  },
  {
   "cell_type": "code",
   "execution_count": 401,
   "metadata": {},
   "outputs": [],
   "source": [
    "departments_mapping = {\n",
    "    \"CHRISTMAS\": \"CHRISTMAS\",\n",
    "    \"SANTA\": \"CHRISTMAS\",\n",
    "    \"GARLAND\": \"CHRISTMAS\",\n",
    "    \"XMAS\": \"CHRISTMAS\",\n",
    "    \"BIRTHDAY\": \"BIRTHDAY\",\n",
    "    \"HOME\": \"HOME AND GARDEN\",\n",
    "    \"GARDEN\": \"HOME AND GARDEN\",\n",
    "    \"DOORMAT\": \"HOME AND GARDEN\",\n",
    "    \"MIRROR\": \"HOME AND GARDEN\",\n",
    "    'CANDLE': 'HOME AND GARDEN',\n",
    "    'LIGHTS': 'HOME AND GARDEN',\n",
    "    'WALL': 'HOME AND GARDEN',\n",
    "    'LANTERN': 'HOME AND GARDEN',\n",
    "    'CHIME': 'HOME AND GARDEN',\n",
    "    'TRAY': 'HOME AND GARDEN',\n",
    "    \"COASTER\": \"HOME AND GARDEN\",\n",
    "    \"LIGHTBULB\": \"HOME AND GARDEN\",\n",
    "    \"DOORBELL\": \"HOME AND GARDEN\",\n",
    "    \"FRAME\": \"HOME AND GARDEN\",\n",
    "    \"CLOCK\": \"HOME AND GARDEN\",\n",
    "    \"BULB\": \"HOME AND GARDEN\",\n",
    "    \"BATH\": \"HOME AND GARDEN\",\n",
    "    \"PANTRY\": \"KITCHEN\",\n",
    "    \"KITCHEN\": \"KITCHEN\",\n",
    "    \"CAKE\": \"KITCHEN\",\n",
    "    \"TEA\": \"KITCHEN\",\n",
    "    \"EGG\": \"KITCHEN\",\n",
    "    \"BAKING\": \"KITCHEN\",\n",
    "    \"CUTLERY\": \"KITCHEN\",\n",
    "    \"APRON\": \"KITCHEN\",\n",
    "    \"COFFEE\": \"KITCHEN\",\n",
    "    'TUMBLER': 'KITCHEN',\n",
    "    'ORANGE SQUEEZER': 'KITCHEN',\n",
    "    \"COOKIE JAR\": \"KITCHEN\",\n",
    "    \"GLASS\": \"KITCHEN\",\n",
    "    \"BOTTLE\": \"KITCHEN\",\n",
    "    \"FELTCRAFT\": \"HOBBY\",\n",
    "    \"PENCILS\": \"HOBBY\",\n",
    "    \"SEWING\": \"HOBBY\",\n",
    "    \"PHOTO\": \"HOBBY\",\n",
    "    \"WARMER\": \"HOBBY\",\n",
    "    \"BOOK\": \"HOBBY\",\n",
    "    \"KNIT\": \"HOBBY\",\n",
    "    \"CARD\": \"HOBBY\",\n",
    "    'BAG': 'STORAGE',\n",
    "    'HOLDER': 'STORAGE',\n",
    "    'STORAGE': 'STORAGE',\n",
    "    'BOX': 'STORAGE',\n",
    "    'POLE': 'STORAGE',\n",
    "    \"RACK\": \"STORAGE\",\n",
    "    'BIN': 'STORAGE',\n",
    "    'SOCK': 'APPAREL',\n",
    "    'SHIRT': 'APPAREL',\n",
    "    'TROUSER': 'APPAREL',\n",
    "    'PANT': 'APPAREL',\n",
    "    'CAP': 'APPAREL',\n",
    "    'SOMBRERO': 'APPAREL',\n",
    "    'OFFICE': 'OFFICE',\n",
    "    \"SIGN\": \"OFFICE\",\n",
    "    \"PEN\": \"OFFICE\"\n",
    "}"
   ]
  },
  {
   "cell_type": "code",
   "execution_count": 402,
   "metadata": {},
   "outputs": [
    {
     "data": {
      "text/plain": [
       "Department\n",
       "Miscellaneous      7200\n",
       "KITCHEN            2834\n",
       "STORAGE            2362\n",
       "HOME AND GARDEN    2316\n",
       "HOBBY              1325\n",
       "CHRISTMAS           939\n",
       "OFFICE              700\n",
       "BIRTHDAY            214\n",
       "APPAREL             112\n",
       "Name: count, dtype: int64"
      ]
     },
     "execution_count": 402,
     "metadata": {},
     "output_type": "execute_result"
    }
   ],
   "source": [
    "items['Department'] = items['ItemDescription'].apply(identify_department, keyword_mapping=departments_mapping)\n",
    "items['Department'].value_counts()"
   ]
  },
  {
   "cell_type": "code",
   "execution_count": 403,
   "metadata": {},
   "outputs": [],
   "source": [
    "# For our purposes, we will want each item to have a department assigned, so we shall filter out any items that are not assigned a department\n",
    "items_final = items.loc[items['Department'] != 'Miscellaneous'].reset_index(drop=True)"
   ]
  },
  {
   "cell_type": "code",
   "execution_count": 404,
   "metadata": {},
   "outputs": [
    {
     "data": {
      "application/vnd.microsoft.datawrangler.viewer.v0+json": {
       "columns": [
        {
         "name": "index",
         "rawType": "int64",
         "type": "integer"
        },
        {
         "name": "Manager",
         "rawType": "object",
         "type": "string"
        },
        {
         "name": "Department",
         "rawType": "object",
         "type": "string"
        }
       ],
       "conversionMethod": "pd.DataFrame",
       "ref": "abc7d76f-c151-40c2-99b9-b4814cac9a75",
       "rows": [
        [
         "0",
         "John",
         "OFFICE"
        ],
        [
         "1",
         "John",
         "HOBBY"
        ],
        [
         "2",
         "Mary",
         "CHRISTMAS"
        ],
        [
         "3",
         "Mary",
         "BIRTHDAY"
        ],
        [
         "4",
         "Steve",
         "KITCHEN"
        ],
        [
         "5",
         "Anya",
         "STORAGE"
        ],
        [
         "6",
         "Samantha",
         "HOME AND GARDEN"
        ],
        [
         "7",
         "Jackson",
         "APPAREL"
        ]
       ],
       "shape": {
        "columns": 2,
        "rows": 8
       }
      },
      "text/html": [
       "<div>\n",
       "<style scoped>\n",
       "    .dataframe tbody tr th:only-of-type {\n",
       "        vertical-align: middle;\n",
       "    }\n",
       "\n",
       "    .dataframe tbody tr th {\n",
       "        vertical-align: top;\n",
       "    }\n",
       "\n",
       "    .dataframe thead th {\n",
       "        text-align: right;\n",
       "    }\n",
       "</style>\n",
       "<table border=\"1\" class=\"dataframe\">\n",
       "  <thead>\n",
       "    <tr style=\"text-align: right;\">\n",
       "      <th></th>\n",
       "      <th>Manager</th>\n",
       "      <th>Department</th>\n",
       "    </tr>\n",
       "  </thead>\n",
       "  <tbody>\n",
       "    <tr>\n",
       "      <th>0</th>\n",
       "      <td>John</td>\n",
       "      <td>OFFICE</td>\n",
       "    </tr>\n",
       "    <tr>\n",
       "      <th>1</th>\n",
       "      <td>John</td>\n",
       "      <td>HOBBY</td>\n",
       "    </tr>\n",
       "    <tr>\n",
       "      <th>2</th>\n",
       "      <td>Mary</td>\n",
       "      <td>CHRISTMAS</td>\n",
       "    </tr>\n",
       "    <tr>\n",
       "      <th>3</th>\n",
       "      <td>Mary</td>\n",
       "      <td>BIRTHDAY</td>\n",
       "    </tr>\n",
       "    <tr>\n",
       "      <th>4</th>\n",
       "      <td>Steve</td>\n",
       "      <td>KITCHEN</td>\n",
       "    </tr>\n",
       "    <tr>\n",
       "      <th>5</th>\n",
       "      <td>Anya</td>\n",
       "      <td>STORAGE</td>\n",
       "    </tr>\n",
       "    <tr>\n",
       "      <th>6</th>\n",
       "      <td>Samantha</td>\n",
       "      <td>HOME AND GARDEN</td>\n",
       "    </tr>\n",
       "    <tr>\n",
       "      <th>7</th>\n",
       "      <td>Jackson</td>\n",
       "      <td>APPAREL</td>\n",
       "    </tr>\n",
       "  </tbody>\n",
       "</table>\n",
       "</div>"
      ],
      "text/plain": [
       "    Manager       Department\n",
       "0      John           OFFICE\n",
       "1      John            HOBBY\n",
       "2      Mary        CHRISTMAS\n",
       "3      Mary         BIRTHDAY\n",
       "4     Steve          KITCHEN\n",
       "5      Anya          STORAGE\n",
       "6  Samantha  HOME AND GARDEN\n",
       "7   Jackson          APPAREL"
      ]
     },
     "execution_count": 404,
     "metadata": {},
     "output_type": "execute_result"
    }
   ],
   "source": [
    "manager_mapping = {\n",
    "    \"John\": ['OFFICE', 'HOBBY'],\n",
    "    \"Mary\": ['CHRISTMAS', 'BIRTHDAY'],\n",
    "    \"Steve\": ['KITCHEN'],\n",
    "    \"Anya\": ['STORAGE'],\n",
    "    \"Samantha\": ['HOME AND GARDEN'],\n",
    "    \"Jackson\": ['APPAREL'],\n",
    "}\n",
    "\n",
    "# Convert to a pandas DataFrame\n",
    "manager_mapping_df = pd.DataFrame()\n",
    "for manager, departments in manager_mapping.items():\n",
    "    for department in departments:\n",
    "        manager_mapping_df = pd.concat([manager_mapping_df, pd.DataFrame({'Manager': [manager], 'Department': [department]})], ignore_index=True, axis = 0)\n",
    "\n",
    "manager_mapping_df = manager_mapping_df.drop_duplicates().reset_index(drop=True)\n",
    "manager_mapping_df"
   ]
  },
  {
   "cell_type": "code",
   "execution_count": 405,
   "metadata": {},
   "outputs": [
    {
     "data": {
      "text/plain": [
       "Manager\n",
       "Mary        15\n",
       "Jackson      8\n",
       "John         8\n",
       "Steve        7\n",
       "Samantha     6\n",
       "Anya         6\n",
       "Name: count, dtype: int64"
      ]
     },
     "execution_count": 405,
     "metadata": {},
     "output_type": "execute_result"
    }
   ],
   "source": [
    "# Create a dataframe of 50 sales reps and their assigned manager (chosen randomly but deterministically)\n",
    "sales_reps = pd.DataFrame({\n",
    "    'SalesRep': [f'SalesRep_{i}' for i in range(50)],\n",
    "    'Manager': np.random.choice(manager_mapping_df['Manager'], size = 50)\n",
    "})\n",
    "sales_reps['Manager'].value_counts()"
   ]
  },
  {
   "cell_type": "code",
   "execution_count": null,
   "metadata": {},
   "outputs": [],
   "source": []
  },
  {
   "cell_type": "code",
   "execution_count": 406,
   "metadata": {},
   "outputs": [
    {
     "data": {
      "text/plain": [
       "Region\n",
       "Europe           9639\n",
       "Asia-Pacific      578\n",
       "Middle East       207\n",
       "Other             189\n",
       "North America     189\n",
       "Name: count, dtype: int64"
      ]
     },
     "execution_count": 406,
     "metadata": {},
     "output_type": "execute_result"
    }
   ],
   "source": [
    "# Map Countries to Regions (Thanks Mistral for the mapping)\n",
    "country_to_region = {\n",
    "    'Channel Islands': 'Europe',\n",
    "    'EIRE': 'Europe',\n",
    "    'France': 'Europe',\n",
    "    'Greece': 'Europe',\n",
    "    'Spain': 'Europe',\n",
    "    'Switzerland': 'Europe',\n",
    "    'United Kingdom': 'Europe',\n",
    "    'Germany': 'Europe',\n",
    "    'Unspecified': 'Other',\n",
    "    'Australia': 'Asia-Pacific',\n",
    "    'Portugal': 'Europe',\n",
    "    'Italy': 'Europe',\n",
    "    'RSA': 'Other',\n",
    "    'Singapore': 'Asia-Pacific',\n",
    "    'United Arab Emirates': 'Middle East',\n",
    "    'Finland': 'Europe',\n",
    "    'Netherlands': 'Europe',\n",
    "    'Austria': 'Europe',\n",
    "    'Belgium': 'Europe',\n",
    "    'Cyprus': 'Europe',\n",
    "    'USA': 'North America',\n",
    "    'Denmark': 'Europe',\n",
    "    'Iceland': 'Europe',\n",
    "    'Sweden': 'Europe',\n",
    "    'Canada': 'North America',\n",
    "    'Malta': 'Europe',\n",
    "    'Norway': 'Europe',\n",
    "    'Bahrain': 'Middle East',\n",
    "    'European Community': 'Europe',\n",
    "    'Lebanon': 'Middle East',\n",
    "    'Poland': 'Europe',\n",
    "    'Israel': 'Middle East',\n",
    "    'Japan': 'Asia-Pacific',\n",
    "    'Czech Republic': 'Europe',\n",
    "    'Brazil': 'Other',\n",
    "    'Lithuania': 'Europe',\n",
    "    'Saudi Arabia': 'Middle East'\n",
    "}\n",
    "\n",
    "items_final['Region'] = items_final['Country'].map(country_to_region).fillna('Other')\n",
    "items_final['Region'].value_counts()"
   ]
  },
  {
   "cell_type": "code",
   "execution_count": 407,
   "metadata": {},
   "outputs": [],
   "source": [
    "# Randomly assign sales reps a region which has items under the purview of their manager such that each region a manager has sales in has at least one sales rep\n",
    "regions = items_final['Region'].unique()\n",
    "sales_reps['Region'] = sales_reps['Manager'].apply(lambda x: manager_mapping_df.loc[manager_mapping_df['Manager'] == x, 'Department'].values[0])\n",
    "sales_reps['Region'] = sales_reps['Region'].apply(lambda x: random.choice(items_final.loc[items_final['Department'] == x, 'Region'].unique()))\n",
    "\n",
    "# Randomly determine if sales reps can sell item sets\n",
    "sales_reps['CanSellSets'] = random.choices([True, False], k=len(sales_reps), weights=[0.8, 0.2])"
   ]
  },
  {
   "cell_type": "code",
   "execution_count": 408,
   "metadata": {},
   "outputs": [
    {
     "data": {
      "text/plain": [
       "Region\n",
       "Europe           15\n",
       "Middle East      11\n",
       "Asia-Pacific      9\n",
       "North America     8\n",
       "Other             7\n",
       "Name: count, dtype: int64"
      ]
     },
     "execution_count": 408,
     "metadata": {},
     "output_type": "execute_result"
    }
   ],
   "source": [
    "sales_reps.value_counts('Region')"
   ]
  },
  {
   "cell_type": "code",
   "execution_count": 409,
   "metadata": {},
   "outputs": [
    {
     "data": {
      "text/plain": [
       "CanSellSets\n",
       "True     40\n",
       "False    10\n",
       "Name: count, dtype: int64"
      ]
     },
     "execution_count": 409,
     "metadata": {},
     "output_type": "execute_result"
    }
   ],
   "source": [
    "sales_reps.value_counts('CanSellSets')"
   ]
  },
  {
   "cell_type": "code",
   "execution_count": 410,
   "metadata": {},
   "outputs": [],
   "source": [
    "# Save the three dataframes to CSV files\n",
    "items_final.to_csv('../data/items_final.csv', index=False, encoding='utf-8')\n",
    "sales_reps.to_csv('../data/sales_reps.csv', index=False, encoding='utf-8')\n",
    "manager_mapping_df.to_csv('../data/manager_mapping.csv', index=False, encoding='utf-8')"
   ]
  },
  {
   "cell_type": "code",
   "execution_count": null,
   "metadata": {},
   "outputs": [],
   "source": []
  },
  {
   "cell_type": "code",
   "execution_count": 411,
   "metadata": {},
   "outputs": [
    {
     "data": {
      "application/vnd.microsoft.datawrangler.viewer.v0+json": {
       "columns": [
        {
         "name": "index",
         "rawType": "int64",
         "type": "integer"
        },
        {
         "name": "Department",
         "rawType": "object",
         "type": "string"
        },
        {
         "name": "Region",
         "rawType": "object",
         "type": "string"
        }
       ],
       "conversionMethod": "pd.DataFrame",
       "ref": "4b923f5c-b3cd-4492-b214-792c7349a7f6",
       "rows": [
        [
         "6061",
         "APPAREL",
         "Asia-Pacific"
        ],
        [
         "95",
         "APPAREL",
         "Europe"
        ],
        [
         "8219",
         "APPAREL",
         "Middle East"
        ],
        [
         "6062",
         "APPAREL",
         "North America"
        ],
        [
         "8202",
         "APPAREL",
         "Other"
        ],
        [
         "2577",
         "BIRTHDAY",
         "Asia-Pacific"
        ],
        [
         "518",
         "BIRTHDAY",
         "Europe"
        ],
        [
         "3696",
         "BIRTHDAY",
         "Middle East"
        ],
        [
         "2837",
         "BIRTHDAY",
         "North America"
        ],
        [
         "2812",
         "BIRTHDAY",
         "Other"
        ],
        [
         "1020",
         "CHRISTMAS",
         "Asia-Pacific"
        ],
        [
         "259",
         "CHRISTMAS",
         "Europe"
        ],
        [
         "2613",
         "CHRISTMAS",
         "Middle East"
        ],
        [
         "6613",
         "CHRISTMAS",
         "North America"
        ],
        [
         "1026",
         "CHRISTMAS",
         "Other"
        ],
        [
         "961",
         "HOBBY",
         "Asia-Pacific"
        ],
        [
         "116",
         "HOBBY",
         "Europe"
        ],
        [
         "590",
         "HOBBY",
         "Middle East"
        ],
        [
         "1191",
         "HOBBY",
         "North America"
        ],
        [
         "3063",
         "HOBBY",
         "Other"
        ],
        [
         "13",
         "HOME AND GARDEN",
         "Asia-Pacific"
        ],
        [
         "0",
         "HOME AND GARDEN",
         "Europe"
        ],
        [
         "31",
         "HOME AND GARDEN",
         "Middle East"
        ],
        [
         "61",
         "HOME AND GARDEN",
         "North America"
        ],
        [
         "12",
         "HOME AND GARDEN",
         "Other"
        ],
        [
         "462",
         "KITCHEN",
         "Asia-Pacific"
        ],
        [
         "144",
         "KITCHEN",
         "Europe"
        ],
        [
         "456",
         "KITCHEN",
         "Middle East"
        ],
        [
         "288",
         "KITCHEN",
         "North America"
        ],
        [
         "498",
         "KITCHEN",
         "Other"
        ],
        [
         "429",
         "OFFICE",
         "Asia-Pacific"
        ],
        [
         "96",
         "OFFICE",
         "Europe"
        ],
        [
         "393",
         "OFFICE",
         "Middle East"
        ],
        [
         "499",
         "OFFICE",
         "North America"
        ],
        [
         "431",
         "OFFICE",
         "Other"
        ],
        [
         "146",
         "STORAGE",
         "Asia-Pacific"
        ],
        [
         "110",
         "STORAGE",
         "Europe"
        ],
        [
         "765",
         "STORAGE",
         "Middle East"
        ],
        [
         "148",
         "STORAGE",
         "North America"
        ],
        [
         "154",
         "STORAGE",
         "Other"
        ]
       ],
       "shape": {
        "columns": 2,
        "rows": 40
       }
      },
      "text/html": [
       "<div>\n",
       "<style scoped>\n",
       "    .dataframe tbody tr th:only-of-type {\n",
       "        vertical-align: middle;\n",
       "    }\n",
       "\n",
       "    .dataframe tbody tr th {\n",
       "        vertical-align: top;\n",
       "    }\n",
       "\n",
       "    .dataframe thead th {\n",
       "        text-align: right;\n",
       "    }\n",
       "</style>\n",
       "<table border=\"1\" class=\"dataframe\">\n",
       "  <thead>\n",
       "    <tr style=\"text-align: right;\">\n",
       "      <th></th>\n",
       "      <th>Department</th>\n",
       "      <th>Region</th>\n",
       "    </tr>\n",
       "  </thead>\n",
       "  <tbody>\n",
       "    <tr>\n",
       "      <th>6061</th>\n",
       "      <td>APPAREL</td>\n",
       "      <td>Asia-Pacific</td>\n",
       "    </tr>\n",
       "    <tr>\n",
       "      <th>95</th>\n",
       "      <td>APPAREL</td>\n",
       "      <td>Europe</td>\n",
       "    </tr>\n",
       "    <tr>\n",
       "      <th>8219</th>\n",
       "      <td>APPAREL</td>\n",
       "      <td>Middle East</td>\n",
       "    </tr>\n",
       "    <tr>\n",
       "      <th>6062</th>\n",
       "      <td>APPAREL</td>\n",
       "      <td>North America</td>\n",
       "    </tr>\n",
       "    <tr>\n",
       "      <th>8202</th>\n",
       "      <td>APPAREL</td>\n",
       "      <td>Other</td>\n",
       "    </tr>\n",
       "    <tr>\n",
       "      <th>2577</th>\n",
       "      <td>BIRTHDAY</td>\n",
       "      <td>Asia-Pacific</td>\n",
       "    </tr>\n",
       "    <tr>\n",
       "      <th>518</th>\n",
       "      <td>BIRTHDAY</td>\n",
       "      <td>Europe</td>\n",
       "    </tr>\n",
       "    <tr>\n",
       "      <th>3696</th>\n",
       "      <td>BIRTHDAY</td>\n",
       "      <td>Middle East</td>\n",
       "    </tr>\n",
       "    <tr>\n",
       "      <th>2837</th>\n",
       "      <td>BIRTHDAY</td>\n",
       "      <td>North America</td>\n",
       "    </tr>\n",
       "    <tr>\n",
       "      <th>2812</th>\n",
       "      <td>BIRTHDAY</td>\n",
       "      <td>Other</td>\n",
       "    </tr>\n",
       "    <tr>\n",
       "      <th>1020</th>\n",
       "      <td>CHRISTMAS</td>\n",
       "      <td>Asia-Pacific</td>\n",
       "    </tr>\n",
       "    <tr>\n",
       "      <th>259</th>\n",
       "      <td>CHRISTMAS</td>\n",
       "      <td>Europe</td>\n",
       "    </tr>\n",
       "    <tr>\n",
       "      <th>2613</th>\n",
       "      <td>CHRISTMAS</td>\n",
       "      <td>Middle East</td>\n",
       "    </tr>\n",
       "    <tr>\n",
       "      <th>6613</th>\n",
       "      <td>CHRISTMAS</td>\n",
       "      <td>North America</td>\n",
       "    </tr>\n",
       "    <tr>\n",
       "      <th>1026</th>\n",
       "      <td>CHRISTMAS</td>\n",
       "      <td>Other</td>\n",
       "    </tr>\n",
       "    <tr>\n",
       "      <th>961</th>\n",
       "      <td>HOBBY</td>\n",
       "      <td>Asia-Pacific</td>\n",
       "    </tr>\n",
       "    <tr>\n",
       "      <th>116</th>\n",
       "      <td>HOBBY</td>\n",
       "      <td>Europe</td>\n",
       "    </tr>\n",
       "    <tr>\n",
       "      <th>590</th>\n",
       "      <td>HOBBY</td>\n",
       "      <td>Middle East</td>\n",
       "    </tr>\n",
       "    <tr>\n",
       "      <th>1191</th>\n",
       "      <td>HOBBY</td>\n",
       "      <td>North America</td>\n",
       "    </tr>\n",
       "    <tr>\n",
       "      <th>3063</th>\n",
       "      <td>HOBBY</td>\n",
       "      <td>Other</td>\n",
       "    </tr>\n",
       "    <tr>\n",
       "      <th>13</th>\n",
       "      <td>HOME AND GARDEN</td>\n",
       "      <td>Asia-Pacific</td>\n",
       "    </tr>\n",
       "    <tr>\n",
       "      <th>0</th>\n",
       "      <td>HOME AND GARDEN</td>\n",
       "      <td>Europe</td>\n",
       "    </tr>\n",
       "    <tr>\n",
       "      <th>31</th>\n",
       "      <td>HOME AND GARDEN</td>\n",
       "      <td>Middle East</td>\n",
       "    </tr>\n",
       "    <tr>\n",
       "      <th>61</th>\n",
       "      <td>HOME AND GARDEN</td>\n",
       "      <td>North America</td>\n",
       "    </tr>\n",
       "    <tr>\n",
       "      <th>12</th>\n",
       "      <td>HOME AND GARDEN</td>\n",
       "      <td>Other</td>\n",
       "    </tr>\n",
       "    <tr>\n",
       "      <th>462</th>\n",
       "      <td>KITCHEN</td>\n",
       "      <td>Asia-Pacific</td>\n",
       "    </tr>\n",
       "    <tr>\n",
       "      <th>144</th>\n",
       "      <td>KITCHEN</td>\n",
       "      <td>Europe</td>\n",
       "    </tr>\n",
       "    <tr>\n",
       "      <th>456</th>\n",
       "      <td>KITCHEN</td>\n",
       "      <td>Middle East</td>\n",
       "    </tr>\n",
       "    <tr>\n",
       "      <th>288</th>\n",
       "      <td>KITCHEN</td>\n",
       "      <td>North America</td>\n",
       "    </tr>\n",
       "    <tr>\n",
       "      <th>498</th>\n",
       "      <td>KITCHEN</td>\n",
       "      <td>Other</td>\n",
       "    </tr>\n",
       "    <tr>\n",
       "      <th>429</th>\n",
       "      <td>OFFICE</td>\n",
       "      <td>Asia-Pacific</td>\n",
       "    </tr>\n",
       "    <tr>\n",
       "      <th>96</th>\n",
       "      <td>OFFICE</td>\n",
       "      <td>Europe</td>\n",
       "    </tr>\n",
       "    <tr>\n",
       "      <th>393</th>\n",
       "      <td>OFFICE</td>\n",
       "      <td>Middle East</td>\n",
       "    </tr>\n",
       "    <tr>\n",
       "      <th>499</th>\n",
       "      <td>OFFICE</td>\n",
       "      <td>North America</td>\n",
       "    </tr>\n",
       "    <tr>\n",
       "      <th>431</th>\n",
       "      <td>OFFICE</td>\n",
       "      <td>Other</td>\n",
       "    </tr>\n",
       "    <tr>\n",
       "      <th>146</th>\n",
       "      <td>STORAGE</td>\n",
       "      <td>Asia-Pacific</td>\n",
       "    </tr>\n",
       "    <tr>\n",
       "      <th>110</th>\n",
       "      <td>STORAGE</td>\n",
       "      <td>Europe</td>\n",
       "    </tr>\n",
       "    <tr>\n",
       "      <th>765</th>\n",
       "      <td>STORAGE</td>\n",
       "      <td>Middle East</td>\n",
       "    </tr>\n",
       "    <tr>\n",
       "      <th>148</th>\n",
       "      <td>STORAGE</td>\n",
       "      <td>North America</td>\n",
       "    </tr>\n",
       "    <tr>\n",
       "      <th>154</th>\n",
       "      <td>STORAGE</td>\n",
       "      <td>Other</td>\n",
       "    </tr>\n",
       "  </tbody>\n",
       "</table>\n",
       "</div>"
      ],
      "text/plain": [
       "           Department         Region\n",
       "6061          APPAREL   Asia-Pacific\n",
       "95            APPAREL         Europe\n",
       "8219          APPAREL    Middle East\n",
       "6062          APPAREL  North America\n",
       "8202          APPAREL          Other\n",
       "2577         BIRTHDAY   Asia-Pacific\n",
       "518          BIRTHDAY         Europe\n",
       "3696         BIRTHDAY    Middle East\n",
       "2837         BIRTHDAY  North America\n",
       "2812         BIRTHDAY          Other\n",
       "1020        CHRISTMAS   Asia-Pacific\n",
       "259         CHRISTMAS         Europe\n",
       "2613        CHRISTMAS    Middle East\n",
       "6613        CHRISTMAS  North America\n",
       "1026        CHRISTMAS          Other\n",
       "961             HOBBY   Asia-Pacific\n",
       "116             HOBBY         Europe\n",
       "590             HOBBY    Middle East\n",
       "1191            HOBBY  North America\n",
       "3063            HOBBY          Other\n",
       "13    HOME AND GARDEN   Asia-Pacific\n",
       "0     HOME AND GARDEN         Europe\n",
       "31    HOME AND GARDEN    Middle East\n",
       "61    HOME AND GARDEN  North America\n",
       "12    HOME AND GARDEN          Other\n",
       "462           KITCHEN   Asia-Pacific\n",
       "144           KITCHEN         Europe\n",
       "456           KITCHEN    Middle East\n",
       "288           KITCHEN  North America\n",
       "498           KITCHEN          Other\n",
       "429            OFFICE   Asia-Pacific\n",
       "96             OFFICE         Europe\n",
       "393            OFFICE    Middle East\n",
       "499            OFFICE  North America\n",
       "431            OFFICE          Other\n",
       "146           STORAGE   Asia-Pacific\n",
       "110           STORAGE         Europe\n",
       "765           STORAGE    Middle East\n",
       "148           STORAGE  North America\n",
       "154           STORAGE          Other"
      ]
     },
     "execution_count": 411,
     "metadata": {},
     "output_type": "execute_result"
    }
   ],
   "source": [
    "items_final[['Department', 'Region']].drop_duplicates().sort_values(['Department', 'Region'])"
   ]
  },
  {
   "cell_type": "code",
   "execution_count": 412,
   "metadata": {},
   "outputs": [
    {
     "data": {
      "application/vnd.microsoft.datawrangler.viewer.v0+json": {
       "columns": [
        {
         "name": "index",
         "rawType": "int64",
         "type": "integer"
        },
        {
         "name": "Manager",
         "rawType": "object",
         "type": "string"
        },
        {
         "name": "region_ct",
         "rawType": "int64",
         "type": "integer"
        }
       ],
       "conversionMethod": "pd.DataFrame",
       "ref": "cebf34a1-e47e-4487-8235-aafceccb7705",
       "rows": [
        [
         "3",
         "Mary",
         "5"
        ],
        [
         "2",
         "John",
         "5"
        ],
        [
         "4",
         "Samantha",
         "4"
        ],
        [
         "0",
         "Anya",
         "4"
        ],
        [
         "5",
         "Steve",
         "4"
        ],
        [
         "1",
         "Jackson",
         "3"
        ]
       ],
       "shape": {
        "columns": 2,
        "rows": 6
       }
      },
      "text/html": [
       "<div>\n",
       "<style scoped>\n",
       "    .dataframe tbody tr th:only-of-type {\n",
       "        vertical-align: middle;\n",
       "    }\n",
       "\n",
       "    .dataframe tbody tr th {\n",
       "        vertical-align: top;\n",
       "    }\n",
       "\n",
       "    .dataframe thead th {\n",
       "        text-align: right;\n",
       "    }\n",
       "</style>\n",
       "<table border=\"1\" class=\"dataframe\">\n",
       "  <thead>\n",
       "    <tr style=\"text-align: right;\">\n",
       "      <th></th>\n",
       "      <th>Manager</th>\n",
       "      <th>region_ct</th>\n",
       "    </tr>\n",
       "  </thead>\n",
       "  <tbody>\n",
       "    <tr>\n",
       "      <th>3</th>\n",
       "      <td>Mary</td>\n",
       "      <td>5</td>\n",
       "    </tr>\n",
       "    <tr>\n",
       "      <th>2</th>\n",
       "      <td>John</td>\n",
       "      <td>5</td>\n",
       "    </tr>\n",
       "    <tr>\n",
       "      <th>4</th>\n",
       "      <td>Samantha</td>\n",
       "      <td>4</td>\n",
       "    </tr>\n",
       "    <tr>\n",
       "      <th>0</th>\n",
       "      <td>Anya</td>\n",
       "      <td>4</td>\n",
       "    </tr>\n",
       "    <tr>\n",
       "      <th>5</th>\n",
       "      <td>Steve</td>\n",
       "      <td>4</td>\n",
       "    </tr>\n",
       "    <tr>\n",
       "      <th>1</th>\n",
       "      <td>Jackson</td>\n",
       "      <td>3</td>\n",
       "    </tr>\n",
       "  </tbody>\n",
       "</table>\n",
       "</div>"
      ],
      "text/plain": [
       "    Manager  region_ct\n",
       "3      Mary          5\n",
       "2      John          5\n",
       "4  Samantha          4\n",
       "0      Anya          4\n",
       "5     Steve          4\n",
       "1   Jackson          3"
      ]
     },
     "execution_count": 412,
     "metadata": {},
     "output_type": "execute_result"
    }
   ],
   "source": [
    "sales_reps.groupby(\"Manager\").agg(region_ct = ('Region', 'nunique')).reset_index().sort_values('region_ct', ascending=False)"
   ]
  },
  {
   "cell_type": "code",
   "execution_count": null,
   "metadata": {},
   "outputs": [],
   "source": []
  },
  {
   "cell_type": "code",
   "execution_count": null,
   "metadata": {},
   "outputs": [],
   "source": []
  }
 ],
 "metadata": {
  "kernelspec": {
   "display_name": ".venv",
   "language": "python",
   "name": "python3"
  },
  "language_info": {
   "codemirror_mode": {
    "name": "ipython",
    "version": 3
   },
   "file_extension": ".py",
   "mimetype": "text/x-python",
   "name": "python",
   "nbconvert_exporter": "python",
   "pygments_lexer": "ipython3",
   "version": "3.11.9"
  }
 },
 "nbformat": 4,
 "nbformat_minor": 2
}
