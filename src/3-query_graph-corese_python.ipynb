{
 "cells": [
  {
   "cell_type": "code",
   "execution_count": 10,
   "metadata": {},
   "outputs": [
    {
     "name": "stderr",
     "output_type": "stream",
     "text": [
      "2025-04-17 11:39:19,261 - INFO - Py4J: Loading CORESE...\n",
      "2025-04-17 11:39:20,220 - INFO - Py4J: CORESE is loaded\n"
     ]
    },
    {
     "data": {
      "text/plain": [
       "'/mnt/c/repos/rdf_permissions_example'"
      ]
     },
     "execution_count": 10,
     "metadata": {},
     "output_type": "execute_result"
    }
   ],
   "source": [
    "from pycorese.api import CoreseAPI\n",
    "\n",
    "python_to_java_bridge = 'py4j'\n",
    "corese = CoreseAPI(java_bridge=python_to_java_bridge)\n",
    "_ = corese.loadCorese()\n",
    "\n",
    "\n",
    "import os\n",
    "\n",
    "if 'src' in os.getcwd():\n",
    "    os.chdir('..')\n",
    "\n",
    "os.getcwd()"
   ]
  },
  {
   "cell_type": "code",
   "execution_count": 11,
   "metadata": {},
   "outputs": [],
   "source": [
    "g = corese.loadRDF(\"data/server/graph_data.rdf\")"
   ]
  },
  {
   "cell_type": "code",
   "execution_count": 12,
   "metadata": {},
   "outputs": [
    {
     "data": {
      "application/vnd.microsoft.datawrangler.viewer.v0+json": {
       "columns": [
        {
         "name": "index",
         "rawType": "int64",
         "type": "integer"
        },
        {
         "name": "s",
         "rawType": "string",
         "type": "string"
        },
        {
         "name": "p",
         "rawType": "string",
         "type": "string"
        },
        {
         "name": "o",
         "rawType": "string",
         "type": "string"
        }
       ],
       "conversionMethod": "pd.DataFrame",
       "ref": "38d81174-4d45-4558-9805-7fb21ad1c96f",
       "rows": [
        [
         "0",
         "_:b0",
         "http://www.w3.org/1999/02/22-rdf-syntax-ns#first",
         "local://security.permissions.net/vocab#managedBy"
        ],
        [
         "1",
         "_:b1",
         "http://www.w3.org/1999/02/22-rdf-syntax-ns#first",
         "local://security.permissions.net/vocab#managesDepartment"
        ],
        [
         "2",
         "_:b0",
         "http://www.w3.org/1999/02/22-rdf-syntax-ns#rest",
         "_:b1"
        ],
        [
         "3",
         "_:b1",
         "http://www.w3.org/1999/02/22-rdf-syntax-ns#rest",
         "http://www.w3.org/1999/02/22-rdf-syntax-ns#nil"
        ],
        [
         "4",
         "local://security.permissions.net/entities#1787583#France",
         "http://www.w3.org/1999/02/22-rdf-syntax-ns#type",
         "local://security.permissions.net/vocab#Record"
        ]
       ],
       "shape": {
        "columns": 3,
        "rows": 5
       }
      },
      "text/html": [
       "<div>\n",
       "<style scoped>\n",
       "    .dataframe tbody tr th:only-of-type {\n",
       "        vertical-align: middle;\n",
       "    }\n",
       "\n",
       "    .dataframe tbody tr th {\n",
       "        vertical-align: top;\n",
       "    }\n",
       "\n",
       "    .dataframe thead th {\n",
       "        text-align: right;\n",
       "    }\n",
       "</style>\n",
       "<table border=\"1\" class=\"dataframe\">\n",
       "  <thead>\n",
       "    <tr style=\"text-align: right;\">\n",
       "      <th></th>\n",
       "      <th>s</th>\n",
       "      <th>p</th>\n",
       "      <th>o</th>\n",
       "    </tr>\n",
       "  </thead>\n",
       "  <tbody>\n",
       "    <tr>\n",
       "      <th>0</th>\n",
       "      <td>_:b0</td>\n",
       "      <td>http://www.w3.org/1999/02/22-rdf-syntax-ns#first</td>\n",
       "      <td>local://security.permissions.net/vocab#managedBy</td>\n",
       "    </tr>\n",
       "    <tr>\n",
       "      <th>1</th>\n",
       "      <td>_:b1</td>\n",
       "      <td>http://www.w3.org/1999/02/22-rdf-syntax-ns#first</td>\n",
       "      <td>local://security.permissions.net/vocab#manages...</td>\n",
       "    </tr>\n",
       "    <tr>\n",
       "      <th>2</th>\n",
       "      <td>_:b0</td>\n",
       "      <td>http://www.w3.org/1999/02/22-rdf-syntax-ns#rest</td>\n",
       "      <td>_:b1</td>\n",
       "    </tr>\n",
       "    <tr>\n",
       "      <th>3</th>\n",
       "      <td>_:b1</td>\n",
       "      <td>http://www.w3.org/1999/02/22-rdf-syntax-ns#rest</td>\n",
       "      <td>http://www.w3.org/1999/02/22-rdf-syntax-ns#nil</td>\n",
       "    </tr>\n",
       "    <tr>\n",
       "      <th>4</th>\n",
       "      <td>local://security.permissions.net/entities#1787...</td>\n",
       "      <td>http://www.w3.org/1999/02/22-rdf-syntax-ns#type</td>\n",
       "      <td>local://security.permissions.net/vocab#Record</td>\n",
       "    </tr>\n",
       "  </tbody>\n",
       "</table>\n",
       "</div>"
      ],
      "text/plain": [
       "                                                   s  \\\n",
       "0                                               _:b0   \n",
       "1                                               _:b1   \n",
       "2                                               _:b0   \n",
       "3                                               _:b1   \n",
       "4  local://security.permissions.net/entities#1787...   \n",
       "\n",
       "                                                  p  \\\n",
       "0  http://www.w3.org/1999/02/22-rdf-syntax-ns#first   \n",
       "1  http://www.w3.org/1999/02/22-rdf-syntax-ns#first   \n",
       "2   http://www.w3.org/1999/02/22-rdf-syntax-ns#rest   \n",
       "3   http://www.w3.org/1999/02/22-rdf-syntax-ns#rest   \n",
       "4   http://www.w3.org/1999/02/22-rdf-syntax-ns#type   \n",
       "\n",
       "                                                   o  \n",
       "0   local://security.permissions.net/vocab#managedBy  \n",
       "1  local://security.permissions.net/vocab#manages...  \n",
       "2                                               _:b1  \n",
       "3     http://www.w3.org/1999/02/22-rdf-syntax-ns#nil  \n",
       "4      local://security.permissions.net/vocab#Record  "
      ]
     },
     "execution_count": 12,
     "metadata": {},
     "output_type": "execute_result"
    }
   ],
   "source": [
    "# Simple first 5 triples from the whole graph\n",
    "res = corese.sparqlSelect(g, \"SELECT * WHERE { ?s ?p ?o } LIMIT 5\", return_dataframe=True)\n",
    "res"
   ]
  },
  {
   "cell_type": "code",
   "execution_count": 13,
   "metadata": {},
   "outputs": [
    {
     "data": {
      "application/vnd.microsoft.datawrangler.viewer.v0+json": {
       "columns": [
        {
         "name": "index",
         "rawType": "int64",
         "type": "integer"
        },
        {
         "name": "s",
         "rawType": "string",
         "type": "string"
        },
        {
         "name": "p",
         "rawType": "string",
         "type": "string"
        },
        {
         "name": "o",
         "rawType": "string",
         "type": "string"
        }
       ],
       "conversionMethod": "pd.DataFrame",
       "ref": "b3e32348-14a6-472f-8d38-19cfec897637",
       "rows": [
        [
         "0",
         "local://security.permissions.net/entities#Jackson",
         "local://security.permissions.net/vocab#managesDepartment",
         "local://security.permissions.net/entities#APPAREL"
        ],
        [
         "1",
         "local://security.permissions.net/entities#John",
         "local://security.permissions.net/vocab#managesDepartment",
         "local://security.permissions.net/entities#HOBBY"
        ],
        [
         "2",
         "local://security.permissions.net/entities#John",
         "local://security.permissions.net/vocab#managesDepartment",
         "local://security.permissions.net/entities#OFFICE"
        ],
        [
         "3",
         "local://security.permissions.net/entities#Steve",
         "local://security.permissions.net/vocab#managesDepartment",
         "local://security.permissions.net/entities#KITCHEN"
        ],
        [
         "4",
         "local://security.permissions.net/entities#Samantha",
         "local://security.permissions.net/vocab#managesDepartment",
         "local://security.permissions.net/entities#HOME%20AND%20GARDEN"
        ],
        [
         "5",
         "local://security.permissions.net/entities#Mary",
         "local://security.permissions.net/vocab#managesDepartment",
         "local://security.permissions.net/entities#CHRISTMAS"
        ],
        [
         "6",
         "local://security.permissions.net/entities#Mary",
         "local://security.permissions.net/vocab#managesDepartment",
         "local://security.permissions.net/entities#BIRTHDAY"
        ],
        [
         "7",
         "local://security.permissions.net/entities#Anya",
         "local://security.permissions.net/vocab#managesDepartment",
         "local://security.permissions.net/entities#STORAGE"
        ]
       ],
       "shape": {
        "columns": 3,
        "rows": 8
       }
      },
      "text/html": [
       "<div>\n",
       "<style scoped>\n",
       "    .dataframe tbody tr th:only-of-type {\n",
       "        vertical-align: middle;\n",
       "    }\n",
       "\n",
       "    .dataframe tbody tr th {\n",
       "        vertical-align: top;\n",
       "    }\n",
       "\n",
       "    .dataframe thead th {\n",
       "        text-align: right;\n",
       "    }\n",
       "</style>\n",
       "<table border=\"1\" class=\"dataframe\">\n",
       "  <thead>\n",
       "    <tr style=\"text-align: right;\">\n",
       "      <th></th>\n",
       "      <th>s</th>\n",
       "      <th>p</th>\n",
       "      <th>o</th>\n",
       "    </tr>\n",
       "  </thead>\n",
       "  <tbody>\n",
       "    <tr>\n",
       "      <th>0</th>\n",
       "      <td>local://security.permissions.net/entities#Jackson</td>\n",
       "      <td>local://security.permissions.net/vocab#manages...</td>\n",
       "      <td>local://security.permissions.net/entities#APPAREL</td>\n",
       "    </tr>\n",
       "    <tr>\n",
       "      <th>1</th>\n",
       "      <td>local://security.permissions.net/entities#John</td>\n",
       "      <td>local://security.permissions.net/vocab#manages...</td>\n",
       "      <td>local://security.permissions.net/entities#HOBBY</td>\n",
       "    </tr>\n",
       "    <tr>\n",
       "      <th>2</th>\n",
       "      <td>local://security.permissions.net/entities#John</td>\n",
       "      <td>local://security.permissions.net/vocab#manages...</td>\n",
       "      <td>local://security.permissions.net/entities#OFFICE</td>\n",
       "    </tr>\n",
       "    <tr>\n",
       "      <th>3</th>\n",
       "      <td>local://security.permissions.net/entities#Steve</td>\n",
       "      <td>local://security.permissions.net/vocab#manages...</td>\n",
       "      <td>local://security.permissions.net/entities#KITCHEN</td>\n",
       "    </tr>\n",
       "    <tr>\n",
       "      <th>4</th>\n",
       "      <td>local://security.permissions.net/entities#Sama...</td>\n",
       "      <td>local://security.permissions.net/vocab#manages...</td>\n",
       "      <td>local://security.permissions.net/entities#HOME...</td>\n",
       "    </tr>\n",
       "    <tr>\n",
       "      <th>5</th>\n",
       "      <td>local://security.permissions.net/entities#Mary</td>\n",
       "      <td>local://security.permissions.net/vocab#manages...</td>\n",
       "      <td>local://security.permissions.net/entities#CHRI...</td>\n",
       "    </tr>\n",
       "    <tr>\n",
       "      <th>6</th>\n",
       "      <td>local://security.permissions.net/entities#Mary</td>\n",
       "      <td>local://security.permissions.net/vocab#manages...</td>\n",
       "      <td>local://security.permissions.net/entities#BIRT...</td>\n",
       "    </tr>\n",
       "    <tr>\n",
       "      <th>7</th>\n",
       "      <td>local://security.permissions.net/entities#Anya</td>\n",
       "      <td>local://security.permissions.net/vocab#manages...</td>\n",
       "      <td>local://security.permissions.net/entities#STORAGE</td>\n",
       "    </tr>\n",
       "  </tbody>\n",
       "</table>\n",
       "</div>"
      ],
      "text/plain": [
       "                                                   s  \\\n",
       "0  local://security.permissions.net/entities#Jackson   \n",
       "1     local://security.permissions.net/entities#John   \n",
       "2     local://security.permissions.net/entities#John   \n",
       "3    local://security.permissions.net/entities#Steve   \n",
       "4  local://security.permissions.net/entities#Sama...   \n",
       "5     local://security.permissions.net/entities#Mary   \n",
       "6     local://security.permissions.net/entities#Mary   \n",
       "7     local://security.permissions.net/entities#Anya   \n",
       "\n",
       "                                                   p  \\\n",
       "0  local://security.permissions.net/vocab#manages...   \n",
       "1  local://security.permissions.net/vocab#manages...   \n",
       "2  local://security.permissions.net/vocab#manages...   \n",
       "3  local://security.permissions.net/vocab#manages...   \n",
       "4  local://security.permissions.net/vocab#manages...   \n",
       "5  local://security.permissions.net/vocab#manages...   \n",
       "6  local://security.permissions.net/vocab#manages...   \n",
       "7  local://security.permissions.net/vocab#manages...   \n",
       "\n",
       "                                                   o  \n",
       "0  local://security.permissions.net/entities#APPAREL  \n",
       "1    local://security.permissions.net/entities#HOBBY  \n",
       "2   local://security.permissions.net/entities#OFFICE  \n",
       "3  local://security.permissions.net/entities#KITCHEN  \n",
       "4  local://security.permissions.net/entities#HOME...  \n",
       "5  local://security.permissions.net/entities#CHRI...  \n",
       "6  local://security.permissions.net/entities#BIRT...  \n",
       "7  local://security.permissions.net/entities#STORAGE  "
      ]
     },
     "execution_count": 13,
     "metadata": {},
     "output_type": "execute_result"
    }
   ],
   "source": [
    "# Since we haven't run ontological reasoning yet, the \"manages\" relationships are not inferred\n",
    "query = \"\"\"\n",
    "PREFIX : <local://security.permissions.net/vocab#>\n",
    "\n",
    "SELECT ?s ?p ?o\n",
    "WHERE {\n",
    "  ?s ?p ?o .\n",
    "  FILTER(?p = :manages || ?p = :managesDepartment) .\n",
    "}\n",
    "\n",
    "\"\"\"\n",
    "\n",
    "# Execute the query\n",
    "res = corese.sparqlSelect(g, query, return_dataframe=True)\n",
    "res"
   ]
  },
  {
   "cell_type": "code",
   "execution_count": 14,
   "metadata": {},
   "outputs": [
    {
     "data": {
      "text/plain": [
       "JavaObject id=o18"
      ]
     },
     "execution_count": 14,
     "metadata": {},
     "output_type": "execute_result"
    }
   ],
   "source": [
    "# Run the rules engine\n",
    "corese.resetRuleEngine(g)\n",
    "corese.loadRuleEngine(g, profile='owlrl')\n",
    "corese.loadRuleEngine(g, profile='owlrl_lite')\n",
    "corese.loadRuleEngine(g, profile='owlrl_ext')\n",
    "corese.loadRuleEngine(g, profile='rdfs')"
   ]
  },
  {
   "cell_type": "code",
   "execution_count": 15,
   "metadata": {},
   "outputs": [
    {
     "data": {
      "application/vnd.microsoft.datawrangler.viewer.v0+json": {
       "columns": [
        {
         "name": "index",
         "rawType": "int64",
         "type": "integer"
        },
        {
         "name": "s",
         "rawType": "string",
         "type": "string"
        },
        {
         "name": "p",
         "rawType": "string",
         "type": "string"
        },
        {
         "name": "o",
         "rawType": "string",
         "type": "string"
        }
       ],
       "conversionMethod": "pd.DataFrame",
       "ref": "8edbbb8c-1fe4-4ee0-bbde-d7430709c7ff",
       "rows": [
        [
         "0",
         "local://security.permissions.net/entities#Jackson",
         "local://security.permissions.net/vocab#manages",
         "local://security.permissions.net/entities#SalesRep_28"
        ],
        [
         "1",
         "local://security.permissions.net/entities#Jackson",
         "local://security.permissions.net/vocab#manages",
         "local://security.permissions.net/entities#APPAREL"
        ],
        [
         "2",
         "local://security.permissions.net/entities#Jackson",
         "local://security.permissions.net/vocab#manages",
         "local://security.permissions.net/entities#SalesRep_43"
        ],
        [
         "3",
         "local://security.permissions.net/entities#Jackson",
         "local://security.permissions.net/vocab#manages",
         "local://security.permissions.net/entities#SalesRep_23"
        ],
        [
         "4",
         "local://security.permissions.net/entities#Jackson",
         "local://security.permissions.net/vocab#manages",
         "local://security.permissions.net/entities#SalesRep_18"
        ],
        [
         "5",
         "local://security.permissions.net/entities#Jackson",
         "local://security.permissions.net/vocab#manages",
         "local://security.permissions.net/entities#SalesRep_5"
        ],
        [
         "6",
         "local://security.permissions.net/entities#Jackson",
         "local://security.permissions.net/vocab#manages",
         "local://security.permissions.net/entities#SalesRep_17"
        ],
        [
         "7",
         "local://security.permissions.net/entities#Jackson",
         "local://security.permissions.net/vocab#manages",
         "local://security.permissions.net/entities#SalesRep_46"
        ],
        [
         "8",
         "local://security.permissions.net/entities#Jackson",
         "local://security.permissions.net/vocab#manages",
         "local://security.permissions.net/entities#SalesRep_14"
        ],
        [
         "9",
         "local://security.permissions.net/entities#John",
         "local://security.permissions.net/vocab#manages",
         "local://security.permissions.net/entities#HOBBY"
        ],
        [
         "10",
         "local://security.permissions.net/entities#John",
         "local://security.permissions.net/vocab#manages",
         "local://security.permissions.net/entities#OFFICE"
        ],
        [
         "11",
         "local://security.permissions.net/entities#John",
         "local://security.permissions.net/vocab#manages",
         "local://security.permissions.net/entities#SalesRep_38"
        ],
        [
         "12",
         "local://security.permissions.net/entities#John",
         "local://security.permissions.net/vocab#manages",
         "local://security.permissions.net/entities#SalesRep_22"
        ],
        [
         "13",
         "local://security.permissions.net/entities#John",
         "local://security.permissions.net/vocab#manages",
         "local://security.permissions.net/entities#SalesRep_9"
        ],
        [
         "14",
         "local://security.permissions.net/entities#John",
         "local://security.permissions.net/vocab#manages",
         "local://security.permissions.net/entities#SalesRep_31"
        ],
        [
         "15",
         "local://security.permissions.net/entities#John",
         "local://security.permissions.net/vocab#manages",
         "local://security.permissions.net/entities#SalesRep_27"
        ],
        [
         "16",
         "local://security.permissions.net/entities#John",
         "local://security.permissions.net/vocab#manages",
         "local://security.permissions.net/entities#SalesRep_33"
        ],
        [
         "17",
         "local://security.permissions.net/entities#John",
         "local://security.permissions.net/vocab#manages",
         "local://security.permissions.net/entities#SalesRep_42"
        ],
        [
         "18",
         "local://security.permissions.net/entities#John",
         "local://security.permissions.net/vocab#manages",
         "local://security.permissions.net/entities#SalesRep_37"
        ],
        [
         "19",
         "local://security.permissions.net/entities#Steve",
         "local://security.permissions.net/vocab#manages",
         "local://security.permissions.net/entities#KITCHEN"
        ],
        [
         "20",
         "local://security.permissions.net/entities#Steve",
         "local://security.permissions.net/vocab#manages",
         "local://security.permissions.net/entities#SalesRep_21"
        ],
        [
         "21",
         "local://security.permissions.net/entities#Steve",
         "local://security.permissions.net/vocab#manages",
         "local://security.permissions.net/entities#SalesRep_2"
        ],
        [
         "22",
         "local://security.permissions.net/entities#Steve",
         "local://security.permissions.net/vocab#manages",
         "local://security.permissions.net/entities#SalesRep_7"
        ],
        [
         "23",
         "local://security.permissions.net/entities#Steve",
         "local://security.permissions.net/vocab#manages",
         "local://security.permissions.net/entities#SalesRep_6"
        ],
        [
         "24",
         "local://security.permissions.net/entities#Steve",
         "local://security.permissions.net/vocab#manages",
         "local://security.permissions.net/entities#SalesRep_15"
        ],
        [
         "25",
         "local://security.permissions.net/entities#Steve",
         "local://security.permissions.net/vocab#manages",
         "local://security.permissions.net/entities#SalesRep_35"
        ],
        [
         "26",
         "local://security.permissions.net/entities#Steve",
         "local://security.permissions.net/vocab#manages",
         "local://security.permissions.net/entities#SalesRep_30"
        ],
        [
         "27",
         "local://security.permissions.net/entities#Samantha",
         "local://security.permissions.net/vocab#manages",
         "local://security.permissions.net/entities#HOME%20AND%20GARDEN"
        ],
        [
         "28",
         "local://security.permissions.net/entities#Samantha",
         "local://security.permissions.net/vocab#manages",
         "local://security.permissions.net/entities#SalesRep_11"
        ],
        [
         "29",
         "local://security.permissions.net/entities#Samantha",
         "local://security.permissions.net/vocab#manages",
         "local://security.permissions.net/entities#SalesRep_8"
        ],
        [
         "30",
         "local://security.permissions.net/entities#Samantha",
         "local://security.permissions.net/vocab#manages",
         "local://security.permissions.net/entities#SalesRep_47"
        ],
        [
         "31",
         "local://security.permissions.net/entities#Samantha",
         "local://security.permissions.net/vocab#manages",
         "local://security.permissions.net/entities#SalesRep_0"
        ],
        [
         "32",
         "local://security.permissions.net/entities#Samantha",
         "local://security.permissions.net/vocab#manages",
         "local://security.permissions.net/entities#SalesRep_3"
        ],
        [
         "33",
         "local://security.permissions.net/entities#Samantha",
         "local://security.permissions.net/vocab#manages",
         "local://security.permissions.net/entities#SalesRep_41"
        ],
        [
         "34",
         "local://security.permissions.net/entities#Mary",
         "local://security.permissions.net/vocab#manages",
         "local://security.permissions.net/entities#CHRISTMAS"
        ],
        [
         "35",
         "local://security.permissions.net/entities#Mary",
         "local://security.permissions.net/vocab#manages",
         "local://security.permissions.net/entities#BIRTHDAY"
        ],
        [
         "36",
         "local://security.permissions.net/entities#Mary",
         "local://security.permissions.net/vocab#manages",
         "local://security.permissions.net/entities#SalesRep_16"
        ],
        [
         "37",
         "local://security.permissions.net/entities#Mary",
         "local://security.permissions.net/vocab#manages",
         "local://security.permissions.net/entities#SalesRep_44"
        ],
        [
         "38",
         "local://security.permissions.net/entities#Mary",
         "local://security.permissions.net/vocab#manages",
         "local://security.permissions.net/entities#SalesRep_24"
        ],
        [
         "39",
         "local://security.permissions.net/entities#Mary",
         "local://security.permissions.net/vocab#manages",
         "local://security.permissions.net/entities#SalesRep_39"
        ],
        [
         "40",
         "local://security.permissions.net/entities#Mary",
         "local://security.permissions.net/vocab#manages",
         "local://security.permissions.net/entities#SalesRep_29"
        ],
        [
         "41",
         "local://security.permissions.net/entities#Mary",
         "local://security.permissions.net/vocab#manages",
         "local://security.permissions.net/entities#SalesRep_19"
        ],
        [
         "42",
         "local://security.permissions.net/entities#Mary",
         "local://security.permissions.net/vocab#manages",
         "local://security.permissions.net/entities#SalesRep_36"
        ],
        [
         "43",
         "local://security.permissions.net/entities#Mary",
         "local://security.permissions.net/vocab#manages",
         "local://security.permissions.net/entities#SalesRep_45"
        ],
        [
         "44",
         "local://security.permissions.net/entities#Mary",
         "local://security.permissions.net/vocab#manages",
         "local://security.permissions.net/entities#SalesRep_12"
        ],
        [
         "45",
         "local://security.permissions.net/entities#Mary",
         "local://security.permissions.net/vocab#manages",
         "local://security.permissions.net/entities#SalesRep_1"
        ],
        [
         "46",
         "local://security.permissions.net/entities#Mary",
         "local://security.permissions.net/vocab#manages",
         "local://security.permissions.net/entities#SalesRep_40"
        ],
        [
         "47",
         "local://security.permissions.net/entities#Mary",
         "local://security.permissions.net/vocab#manages",
         "local://security.permissions.net/entities#SalesRep_10"
        ],
        [
         "48",
         "local://security.permissions.net/entities#Mary",
         "local://security.permissions.net/vocab#manages",
         "local://security.permissions.net/entities#SalesRep_4"
        ],
        [
         "49",
         "local://security.permissions.net/entities#Mary",
         "local://security.permissions.net/vocab#manages",
         "local://security.permissions.net/entities#SalesRep_13"
        ]
       ],
       "shape": {
        "columns": 3,
        "rows": 66
       }
      },
      "text/html": [
       "<div>\n",
       "<style scoped>\n",
       "    .dataframe tbody tr th:only-of-type {\n",
       "        vertical-align: middle;\n",
       "    }\n",
       "\n",
       "    .dataframe tbody tr th {\n",
       "        vertical-align: top;\n",
       "    }\n",
       "\n",
       "    .dataframe thead th {\n",
       "        text-align: right;\n",
       "    }\n",
       "</style>\n",
       "<table border=\"1\" class=\"dataframe\">\n",
       "  <thead>\n",
       "    <tr style=\"text-align: right;\">\n",
       "      <th></th>\n",
       "      <th>s</th>\n",
       "      <th>p</th>\n",
       "      <th>o</th>\n",
       "    </tr>\n",
       "  </thead>\n",
       "  <tbody>\n",
       "    <tr>\n",
       "      <th>0</th>\n",
       "      <td>local://security.permissions.net/entities#Jackson</td>\n",
       "      <td>local://security.permissions.net/vocab#manages</td>\n",
       "      <td>local://security.permissions.net/entities#Sale...</td>\n",
       "    </tr>\n",
       "    <tr>\n",
       "      <th>1</th>\n",
       "      <td>local://security.permissions.net/entities#Jackson</td>\n",
       "      <td>local://security.permissions.net/vocab#manages</td>\n",
       "      <td>local://security.permissions.net/entities#APPAREL</td>\n",
       "    </tr>\n",
       "    <tr>\n",
       "      <th>2</th>\n",
       "      <td>local://security.permissions.net/entities#Jackson</td>\n",
       "      <td>local://security.permissions.net/vocab#manages</td>\n",
       "      <td>local://security.permissions.net/entities#Sale...</td>\n",
       "    </tr>\n",
       "    <tr>\n",
       "      <th>3</th>\n",
       "      <td>local://security.permissions.net/entities#Jackson</td>\n",
       "      <td>local://security.permissions.net/vocab#manages</td>\n",
       "      <td>local://security.permissions.net/entities#Sale...</td>\n",
       "    </tr>\n",
       "    <tr>\n",
       "      <th>4</th>\n",
       "      <td>local://security.permissions.net/entities#Jackson</td>\n",
       "      <td>local://security.permissions.net/vocab#manages</td>\n",
       "      <td>local://security.permissions.net/entities#Sale...</td>\n",
       "    </tr>\n",
       "    <tr>\n",
       "      <th>...</th>\n",
       "      <td>...</td>\n",
       "      <td>...</td>\n",
       "      <td>...</td>\n",
       "    </tr>\n",
       "    <tr>\n",
       "      <th>61</th>\n",
       "      <td>local://security.permissions.net/entities#Steve</td>\n",
       "      <td>local://security.permissions.net/vocab#manages...</td>\n",
       "      <td>local://security.permissions.net/entities#KITCHEN</td>\n",
       "    </tr>\n",
       "    <tr>\n",
       "      <th>62</th>\n",
       "      <td>local://security.permissions.net/entities#Sama...</td>\n",
       "      <td>local://security.permissions.net/vocab#manages...</td>\n",
       "      <td>local://security.permissions.net/entities#HOME...</td>\n",
       "    </tr>\n",
       "    <tr>\n",
       "      <th>63</th>\n",
       "      <td>local://security.permissions.net/entities#Mary</td>\n",
       "      <td>local://security.permissions.net/vocab#manages...</td>\n",
       "      <td>local://security.permissions.net/entities#CHRI...</td>\n",
       "    </tr>\n",
       "    <tr>\n",
       "      <th>64</th>\n",
       "      <td>local://security.permissions.net/entities#Mary</td>\n",
       "      <td>local://security.permissions.net/vocab#manages...</td>\n",
       "      <td>local://security.permissions.net/entities#BIRT...</td>\n",
       "    </tr>\n",
       "    <tr>\n",
       "      <th>65</th>\n",
       "      <td>local://security.permissions.net/entities#Anya</td>\n",
       "      <td>local://security.permissions.net/vocab#manages...</td>\n",
       "      <td>local://security.permissions.net/entities#STORAGE</td>\n",
       "    </tr>\n",
       "  </tbody>\n",
       "</table>\n",
       "<p>66 rows × 3 columns</p>\n",
       "</div>"
      ],
      "text/plain": [
       "                                                    s  \\\n",
       "0   local://security.permissions.net/entities#Jackson   \n",
       "1   local://security.permissions.net/entities#Jackson   \n",
       "2   local://security.permissions.net/entities#Jackson   \n",
       "3   local://security.permissions.net/entities#Jackson   \n",
       "4   local://security.permissions.net/entities#Jackson   \n",
       "..                                                ...   \n",
       "61    local://security.permissions.net/entities#Steve   \n",
       "62  local://security.permissions.net/entities#Sama...   \n",
       "63     local://security.permissions.net/entities#Mary   \n",
       "64     local://security.permissions.net/entities#Mary   \n",
       "65     local://security.permissions.net/entities#Anya   \n",
       "\n",
       "                                                    p  \\\n",
       "0      local://security.permissions.net/vocab#manages   \n",
       "1      local://security.permissions.net/vocab#manages   \n",
       "2      local://security.permissions.net/vocab#manages   \n",
       "3      local://security.permissions.net/vocab#manages   \n",
       "4      local://security.permissions.net/vocab#manages   \n",
       "..                                                ...   \n",
       "61  local://security.permissions.net/vocab#manages...   \n",
       "62  local://security.permissions.net/vocab#manages...   \n",
       "63  local://security.permissions.net/vocab#manages...   \n",
       "64  local://security.permissions.net/vocab#manages...   \n",
       "65  local://security.permissions.net/vocab#manages...   \n",
       "\n",
       "                                                    o  \n",
       "0   local://security.permissions.net/entities#Sale...  \n",
       "1   local://security.permissions.net/entities#APPAREL  \n",
       "2   local://security.permissions.net/entities#Sale...  \n",
       "3   local://security.permissions.net/entities#Sale...  \n",
       "4   local://security.permissions.net/entities#Sale...  \n",
       "..                                                ...  \n",
       "61  local://security.permissions.net/entities#KITCHEN  \n",
       "62  local://security.permissions.net/entities#HOME...  \n",
       "63  local://security.permissions.net/entities#CHRI...  \n",
       "64  local://security.permissions.net/entities#BIRT...  \n",
       "65  local://security.permissions.net/entities#STORAGE  \n",
       "\n",
       "[66 rows x 3 columns]"
      ]
     },
     "execution_count": 15,
     "metadata": {},
     "output_type": "execute_result"
    }
   ],
   "source": [
    "# Now that we have added our inferences, we can see the results of the manages relationships which have been inferred from both managesDepartment and mangedBy\n",
    "query = \"\"\"\n",
    "PREFIX : <local://security.permissions.net/vocab#>\n",
    "\n",
    "SELECT ?s ?p ?o\n",
    "WHERE {\n",
    "  ?s ?p ?o .\n",
    "  FILTER(?p = :manages || ?p = :managesDepartment) .\n",
    "}\n",
    "\n",
    "\"\"\"\n",
    "\n",
    "# Execute the query\n",
    "res = corese.sparqlSelect(g, query, return_dataframe=True)\n",
    "res"
   ]
  },
  {
   "cell_type": "code",
   "execution_count": 36,
   "metadata": {},
   "outputs": [
    {
     "data": {
      "application/vnd.microsoft.datawrangler.viewer.v0+json": {
       "columns": [
        {
         "name": "index",
         "rawType": "int64",
         "type": "integer"
        },
        {
         "name": "record",
         "rawType": "string",
         "type": "string"
        }
       ],
       "conversionMethod": "pd.DataFrame",
       "ref": "9c131128-36e4-4fde-a8f6-21a00461e2b8",
       "rows": [
        [
         "0",
         "local://security.permissions.net/entities#456645#Spain"
        ],
        [
         "1",
         "local://security.permissions.net/entities#456645#Portugal"
        ],
        [
         "2",
         "local://security.permissions.net/entities#456645#Norway"
        ],
        [
         "3",
         "local://security.permissions.net/entities#456645#Cyprus"
        ],
        [
         "4",
         "local://security.permissions.net/entities#456645#United%20Kingdom"
        ],
        [
         "5",
         "local://security.permissions.net/entities#1663011#United%20Kingdom"
        ],
        [
         "6",
         "local://security.permissions.net/entities#1663011#Norway"
        ],
        [
         "7",
         "local://security.permissions.net/entities#1663011#Germany"
        ],
        [
         "8",
         "local://security.permissions.net/entities#1663011#France"
        ],
        [
         "9",
         "local://security.permissions.net/entities#1663011#Denmark"
        ],
        [
         "10",
         "local://security.permissions.net/entities#1663011#Switzerland"
        ],
        [
         "11",
         "local://security.permissions.net/entities#1663011#Belgium"
        ],
        [
         "12",
         "local://security.permissions.net/entities#1528947#United%20Kingdom"
        ],
        [
         "13",
         "local://security.permissions.net/entities#1528947#Norway"
        ],
        [
         "14",
         "local://security.permissions.net/entities#1528947#Germany"
        ],
        [
         "15",
         "local://security.permissions.net/entities#1528947#Italy"
        ],
        [
         "16",
         "local://security.permissions.net/entities#1528947#EIRE"
        ],
        [
         "17",
         "local://security.permissions.net/entities#1528947#Spain"
        ],
        [
         "18",
         "local://security.permissions.net/entities#1528947#Cyprus"
        ],
        [
         "19",
         "local://security.permissions.net/entities#1528947#Malta"
        ],
        [
         "20",
         "local://security.permissions.net/entities#1528947#European%20Community"
        ],
        [
         "21",
         "local://security.permissions.net/entities#488880#United%20Kingdom"
        ],
        [
         "22",
         "local://security.permissions.net/entities#488880#Germany"
        ],
        [
         "23",
         "local://security.permissions.net/entities#488880#EIRE"
        ],
        [
         "24",
         "local://security.permissions.net/entities#488880#Switzerland"
        ],
        [
         "25",
         "local://security.permissions.net/entities#488880#Spain"
        ],
        [
         "26",
         "local://security.permissions.net/entities#488880#France"
        ],
        [
         "27",
         "local://security.permissions.net/entities#488880#Channel%20Islands"
        ],
        [
         "28",
         "local://security.permissions.net/entities#488880#Denmark"
        ],
        [
         "29",
         "local://security.permissions.net/entities#488880#Netherlands"
        ],
        [
         "30",
         "local://security.permissions.net/entities#1514730#United%20Kingdom"
        ],
        [
         "31",
         "local://security.permissions.net/entities#485289#United%20Kingdom"
        ],
        [
         "32",
         "local://security.permissions.net/entities#485289#Portugal"
        ],
        [
         "33",
         "local://security.permissions.net/entities#485289#EIRE"
        ],
        [
         "34",
         "local://security.permissions.net/entities#485289#Switzerland"
        ],
        [
         "35",
         "local://security.permissions.net/entities#485289#Finland"
        ],
        [
         "36",
         "local://security.permissions.net/entities#485289#France"
        ],
        [
         "37",
         "local://security.permissions.net/entities#465549#United%20Kingdom"
        ],
        [
         "38",
         "local://security.permissions.net/entities#465549#Norway"
        ],
        [
         "39",
         "local://security.permissions.net/entities#465549#Germany"
        ],
        [
         "40",
         "local://security.permissions.net/entities#465549#EIRE"
        ],
        [
         "41",
         "local://security.permissions.net/entities#465549#Greece"
        ],
        [
         "42",
         "local://security.permissions.net/entities#465549#Poland"
        ],
        [
         "43",
         "local://security.permissions.net/entities#465549#Belgium"
        ],
        [
         "44",
         "local://security.permissions.net/entities#465549#Denmark"
        ],
        [
         "45",
         "local://security.permissions.net/entities#465549#Channel%20Islands"
        ],
        [
         "46",
         "local://security.permissions.net/entities#477267#United%20Kingdom"
        ],
        [
         "47",
         "local://security.permissions.net/entities#477267#Norway"
        ],
        [
         "48",
         "local://security.permissions.net/entities#477267#Germany"
        ],
        [
         "49",
         "local://security.permissions.net/entities#477267#Portugal"
        ]
       ],
       "shape": {
        "columns": 1,
        "rows": 2115
       }
      },
      "text/html": [
       "<div>\n",
       "<style scoped>\n",
       "    .dataframe tbody tr th:only-of-type {\n",
       "        vertical-align: middle;\n",
       "    }\n",
       "\n",
       "    .dataframe tbody tr th {\n",
       "        vertical-align: top;\n",
       "    }\n",
       "\n",
       "    .dataframe thead th {\n",
       "        text-align: right;\n",
       "    }\n",
       "</style>\n",
       "<table border=\"1\" class=\"dataframe\">\n",
       "  <thead>\n",
       "    <tr style=\"text-align: right;\">\n",
       "      <th></th>\n",
       "      <th>record</th>\n",
       "    </tr>\n",
       "  </thead>\n",
       "  <tbody>\n",
       "    <tr>\n",
       "      <th>0</th>\n",
       "      <td>local://security.permissions.net/entities#4566...</td>\n",
       "    </tr>\n",
       "    <tr>\n",
       "      <th>1</th>\n",
       "      <td>local://security.permissions.net/entities#4566...</td>\n",
       "    </tr>\n",
       "    <tr>\n",
       "      <th>2</th>\n",
       "      <td>local://security.permissions.net/entities#4566...</td>\n",
       "    </tr>\n",
       "    <tr>\n",
       "      <th>3</th>\n",
       "      <td>local://security.permissions.net/entities#4566...</td>\n",
       "    </tr>\n",
       "    <tr>\n",
       "      <th>4</th>\n",
       "      <td>local://security.permissions.net/entities#4566...</td>\n",
       "    </tr>\n",
       "    <tr>\n",
       "      <th>...</th>\n",
       "      <td>...</td>\n",
       "    </tr>\n",
       "    <tr>\n",
       "      <th>2110</th>\n",
       "      <td>local://security.permissions.net/entities#4916...</td>\n",
       "    </tr>\n",
       "    <tr>\n",
       "      <th>2111</th>\n",
       "      <td>local://security.permissions.net/entities#4554...</td>\n",
       "    </tr>\n",
       "    <tr>\n",
       "      <th>2112</th>\n",
       "      <td>local://security.permissions.net/entities#4554...</td>\n",
       "    </tr>\n",
       "    <tr>\n",
       "      <th>2113</th>\n",
       "      <td>local://security.permissions.net/entities#1782...</td>\n",
       "    </tr>\n",
       "    <tr>\n",
       "      <th>2114</th>\n",
       "      <td>local://security.permissions.net/entities#4487...</td>\n",
       "    </tr>\n",
       "  </tbody>\n",
       "</table>\n",
       "<p>2115 rows × 1 columns</p>\n",
       "</div>"
      ],
      "text/plain": [
       "                                                 record\n",
       "0     local://security.permissions.net/entities#4566...\n",
       "1     local://security.permissions.net/entities#4566...\n",
       "2     local://security.permissions.net/entities#4566...\n",
       "3     local://security.permissions.net/entities#4566...\n",
       "4     local://security.permissions.net/entities#4566...\n",
       "...                                                 ...\n",
       "2110  local://security.permissions.net/entities#4916...\n",
       "2111  local://security.permissions.net/entities#4554...\n",
       "2112  local://security.permissions.net/entities#4554...\n",
       "2113  local://security.permissions.net/entities#1782...\n",
       "2114  local://security.permissions.net/entities#4487...\n",
       "\n",
       "[2115 rows x 1 columns]"
      ]
     },
     "execution_count": 36,
     "metadata": {},
     "output_type": "execute_result"
    }
   ],
   "source": [
    "# Find all the records that a specific user may have access to.\n",
    "\n",
    "USER = \"SalesRep_0\"\n",
    "\n",
    "query = f\"\"\"\n",
    "prefix data: <local://security.permissions.net/entities#>\n",
    "prefix : <local://security.permissions.net/vocab#>\n",
    "\n",
    "select ?record where {{\n",
    "data:{USER} :hasAccess ?item . \n",
    "?item a :Item .\n",
    "?item :hasRecord ?record .\n",
    "?record a :Record .\n",
    "optional {{\n",
    "    data:{USER} :hasAccess ?country .\n",
    "    ?country a :Country ; :hasRecord ?record .\n",
    "}}\n",
    "optional {{\n",
    "    data:{USER} a :Manager .\n",
    "    bind(:Manager as ?mgr) .\n",
    "}}\n",
    "filter(bound(?country) || bound(?mgr)) .\n",
    "}}\n",
    "\"\"\"\n",
    "\n",
    "# Execute the query\n",
    "res = corese.sparqlSelect(g, query, return_dataframe=True)\n",
    "res"
   ]
  },
  {
   "cell_type": "code",
   "execution_count": 38,
   "metadata": {},
   "outputs": [
    {
     "data": {
      "application/vnd.microsoft.datawrangler.viewer.v0+json": {
       "columns": [
        {
         "name": "index",
         "rawType": "int64",
         "type": "integer"
        },
        {
         "name": "record",
         "rawType": "string",
         "type": "string"
        },
        {
         "name": "isManager",
         "rawType": "bool",
         "type": "boolean"
        }
       ],
       "conversionMethod": "pd.DataFrame",
       "ref": "c92a88b4-c2f4-44f4-8d76-868cc51f085a",
       "rows": [
        [
         "0",
         "local://security.permissions.net/entities#465402#United%20Kingdom",
         "True"
        ],
        [
         "1",
         "local://security.permissions.net/entities#474558#United%20Kingdom",
         "True"
        ],
        [
         "2",
         "local://security.permissions.net/entities#474558#Spain",
         "True"
        ],
        [
         "3",
         "local://security.permissions.net/entities#474558#Finland",
         "True"
        ],
        [
         "4",
         "local://security.permissions.net/entities#477393#United%20Kingdom",
         "True"
        ],
        [
         "5",
         "local://security.permissions.net/entities#477393#Germany",
         "True"
        ],
        [
         "6",
         "local://security.permissions.net/entities#477393#Portugal",
         "True"
        ],
        [
         "7",
         "local://security.permissions.net/entities#477393#EIRE",
         "True"
        ],
        [
         "8",
         "local://security.permissions.net/entities#477393#Spain",
         "True"
        ],
        [
         "9",
         "local://security.permissions.net/entities#477393#Unspecified",
         "True"
        ],
        [
         "10",
         "local://security.permissions.net/entities#477393#Austria",
         "True"
        ],
        [
         "11",
         "local://security.permissions.net/entities#477393#France",
         "True"
        ],
        [
         "12",
         "local://security.permissions.net/entities#474033#United%20Kingdom",
         "True"
        ],
        [
         "13",
         "local://security.permissions.net/entities#474033#Germany",
         "True"
        ],
        [
         "14",
         "local://security.permissions.net/entities#474033#Portugal",
         "True"
        ],
        [
         "15",
         "local://security.permissions.net/entities#474033#EIRE",
         "True"
        ],
        [
         "16",
         "local://security.permissions.net/entities#474033#Spain",
         "True"
        ],
        [
         "17",
         "local://security.permissions.net/entities#474033#Belgium",
         "True"
        ],
        [
         "18",
         "local://security.permissions.net/entities#474033#France",
         "True"
        ],
        [
         "19",
         "local://security.permissions.net/entities#490413#United%20Kingdom",
         "True"
        ],
        [
         "20",
         "local://security.permissions.net/entities#490413#Germany",
         "True"
        ],
        [
         "21",
         "local://security.permissions.net/entities#490413#Portugal",
         "True"
        ],
        [
         "22",
         "local://security.permissions.net/entities#490413#Italy",
         "True"
        ],
        [
         "23",
         "local://security.permissions.net/entities#490413#EIRE",
         "True"
        ],
        [
         "24",
         "local://security.permissions.net/entities#490413#Spain",
         "True"
        ],
        [
         "25",
         "local://security.permissions.net/entities#490413#Australia",
         "True"
        ],
        [
         "26",
         "local://security.permissions.net/entities#490413#Belgium",
         "True"
        ],
        [
         "27",
         "local://security.permissions.net/entities#490413#France",
         "True"
        ],
        [
         "28",
         "local://security.permissions.net/entities#490413#Austria",
         "True"
        ],
        [
         "29",
         "local://security.permissions.net/entities#490413#USA",
         "True"
        ],
        [
         "30",
         "local://security.permissions.net/entities#462777#United%20Kingdom",
         "True"
        ],
        [
         "31",
         "local://security.permissions.net/entities#462777#Germany",
         "True"
        ],
        [
         "32",
         "local://security.permissions.net/entities#462777#United%20Arab%20Emirates",
         "True"
        ],
        [
         "33",
         "local://security.permissions.net/entities#462777#EIRE",
         "True"
        ],
        [
         "34",
         "local://security.permissions.net/entities#462777#Switzerland",
         "True"
        ],
        [
         "35",
         "local://security.permissions.net/entities#462777#Spain",
         "True"
        ],
        [
         "36",
         "local://security.permissions.net/entities#462777#Australia",
         "True"
        ],
        [
         "37",
         "local://security.permissions.net/entities#462777#Finland",
         "True"
        ],
        [
         "38",
         "local://security.permissions.net/entities#462777#Netherlands",
         "True"
        ],
        [
         "39",
         "local://security.permissions.net/entities#462777#France",
         "True"
        ],
        [
         "40",
         "local://security.permissions.net/entities#462777#Greece",
         "True"
        ],
        [
         "41",
         "local://security.permissions.net/entities#462777#Belgium",
         "True"
        ],
        [
         "42",
         "local://security.permissions.net/entities#488628#United%20Kingdom",
         "True"
        ],
        [
         "43",
         "local://security.permissions.net/entities#488628#Germany",
         "True"
        ],
        [
         "44",
         "local://security.permissions.net/entities#488628#EIRE",
         "True"
        ],
        [
         "45",
         "local://security.permissions.net/entities#488628#Switzerland",
         "True"
        ],
        [
         "46",
         "local://security.permissions.net/entities#488628#Unspecified",
         "True"
        ],
        [
         "47",
         "local://security.permissions.net/entities#488628#Australia",
         "True"
        ],
        [
         "48",
         "local://security.permissions.net/entities#488628#Netherlands",
         "True"
        ],
        [
         "49",
         "local://security.permissions.net/entities#488628#France",
         "True"
        ]
       ],
       "shape": {
        "columns": 2,
        "rows": 1158
       }
      },
      "text/html": [
       "<div>\n",
       "<style scoped>\n",
       "    .dataframe tbody tr th:only-of-type {\n",
       "        vertical-align: middle;\n",
       "    }\n",
       "\n",
       "    .dataframe tbody tr th {\n",
       "        vertical-align: top;\n",
       "    }\n",
       "\n",
       "    .dataframe thead th {\n",
       "        text-align: right;\n",
       "    }\n",
       "</style>\n",
       "<table border=\"1\" class=\"dataframe\">\n",
       "  <thead>\n",
       "    <tr style=\"text-align: right;\">\n",
       "      <th></th>\n",
       "      <th>record</th>\n",
       "      <th>isManager</th>\n",
       "    </tr>\n",
       "  </thead>\n",
       "  <tbody>\n",
       "    <tr>\n",
       "      <th>0</th>\n",
       "      <td>local://security.permissions.net/entities#4654...</td>\n",
       "      <td>True</td>\n",
       "    </tr>\n",
       "    <tr>\n",
       "      <th>1</th>\n",
       "      <td>local://security.permissions.net/entities#4745...</td>\n",
       "      <td>True</td>\n",
       "    </tr>\n",
       "    <tr>\n",
       "      <th>2</th>\n",
       "      <td>local://security.permissions.net/entities#4745...</td>\n",
       "      <td>True</td>\n",
       "    </tr>\n",
       "    <tr>\n",
       "      <th>3</th>\n",
       "      <td>local://security.permissions.net/entities#4745...</td>\n",
       "      <td>True</td>\n",
       "    </tr>\n",
       "    <tr>\n",
       "      <th>4</th>\n",
       "      <td>local://security.permissions.net/entities#4773...</td>\n",
       "      <td>True</td>\n",
       "    </tr>\n",
       "    <tr>\n",
       "      <th>...</th>\n",
       "      <td>...</td>\n",
       "      <td>...</td>\n",
       "    </tr>\n",
       "    <tr>\n",
       "      <th>1153</th>\n",
       "      <td>local://security.permissions.net/entities#4580...</td>\n",
       "      <td>True</td>\n",
       "    </tr>\n",
       "    <tr>\n",
       "      <th>1154</th>\n",
       "      <td>local://security.permissions.net/entities#7475...</td>\n",
       "      <td>True</td>\n",
       "    </tr>\n",
       "    <tr>\n",
       "      <th>1155</th>\n",
       "      <td>local://security.permissions.net/entities#4413...</td>\n",
       "      <td>True</td>\n",
       "    </tr>\n",
       "    <tr>\n",
       "      <th>1156</th>\n",
       "      <td>local://security.permissions.net/entities#7524...</td>\n",
       "      <td>True</td>\n",
       "    </tr>\n",
       "    <tr>\n",
       "      <th>1157</th>\n",
       "      <td>local://security.permissions.net/entities#4384...</td>\n",
       "      <td>True</td>\n",
       "    </tr>\n",
       "  </tbody>\n",
       "</table>\n",
       "<p>1158 rows × 2 columns</p>\n",
       "</div>"
      ],
      "text/plain": [
       "                                                 record  isManager\n",
       "0     local://security.permissions.net/entities#4654...       True\n",
       "1     local://security.permissions.net/entities#4745...       True\n",
       "2     local://security.permissions.net/entities#4745...       True\n",
       "3     local://security.permissions.net/entities#4745...       True\n",
       "4     local://security.permissions.net/entities#4773...       True\n",
       "...                                                 ...        ...\n",
       "1153  local://security.permissions.net/entities#4580...       True\n",
       "1154  local://security.permissions.net/entities#7475...       True\n",
       "1155  local://security.permissions.net/entities#4413...       True\n",
       "1156  local://security.permissions.net/entities#7524...       True\n",
       "1157  local://security.permissions.net/entities#4384...       True\n",
       "\n",
       "[1158 rows x 2 columns]"
      ]
     },
     "execution_count": 38,
     "metadata": {},
     "output_type": "execute_result"
    }
   ],
   "source": [
    "# Show that through inference, managers are also users and their records can be queries\n",
    "\n",
    "\n",
    "USER = \"Mary\"\n",
    "\n",
    "query = f\"\"\"\n",
    "prefix data: <local://security.permissions.net/entities#>\n",
    "prefix : <local://security.permissions.net/vocab#>\n",
    "\n",
    "select ?record (bound(?mgr) as ?isManager) where {{\n",
    "data:{USER} :hasAccess ?item . \n",
    "?item a :Item .\n",
    "?item :hasRecord ?record .\n",
    "?record a :Record .\n",
    "optional {{\n",
    "    data:{USER} :hasAccess ?country .\n",
    "    ?country a :Country ; :hasRecord ?record .\n",
    "}}\n",
    "optional {{\n",
    "    data:{USER} a :Manager .\n",
    "    bind(:Manager as ?mgr) .\n",
    "}}\n",
    "filter(bound(?country) || bound(?mgr)) .\n",
    "}}\n",
    "\"\"\"\n",
    "\n",
    "# Execute the query\n",
    "res = corese.sparqlSelect(g, query, return_dataframe=True)\n",
    "res"
   ]
  },
  {
   "cell_type": "code",
   "execution_count": null,
   "metadata": {},
   "outputs": [],
   "source": []
  }
 ],
 "metadata": {
  "kernelspec": {
   "display_name": "Python 3 (ipykernel)",
   "language": "python",
   "name": "python3"
  },
  "language_info": {
   "codemirror_mode": {
    "name": "ipython",
    "version": 3
   },
   "file_extension": ".py",
   "mimetype": "text/x-python",
   "name": "python",
   "nbconvert_exporter": "python",
   "pygments_lexer": "ipython3",
   "version": "3.10.12"
  }
 },
 "nbformat": 4,
 "nbformat_minor": 2
}
