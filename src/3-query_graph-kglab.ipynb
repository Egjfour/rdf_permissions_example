{
 "cells": [
  {
   "cell_type": "code",
   "execution_count": 1,
   "metadata": {},
   "outputs": [
    {
     "data": {
      "text/plain": [
       "'/mnt/c/repos/rdf_permissions_example'"
      ]
     },
     "execution_count": 1,
     "metadata": {},
     "output_type": "execute_result"
    }
   ],
   "source": [
    "import kglab\n",
    "import os\n",
    "\n",
    "if 'src' in os.getcwd():\n",
    "    os.chdir('..')\n",
    "\n",
    "os.getcwd()"
   ]
  },
  {
   "cell_type": "code",
   "execution_count": 2,
   "metadata": {},
   "outputs": [
    {
     "data": {
      "text/plain": [
       "<kglab.kglab.KnowledgeGraph at 0x7f24257b8430>"
      ]
     },
     "execution_count": 2,
     "metadata": {},
     "output_type": "execute_result"
    }
   ],
   "source": [
    "g = kglab.KnowledgeGraph()\n",
    "g.load_rdf(\"data/server/graph_data.rdf\", format=\"xml\")"
   ]
  },
  {
   "cell_type": "code",
   "execution_count": 3,
   "metadata": {},
   "outputs": [
    {
     "data": {
      "application/vnd.microsoft.datawrangler.viewer.v0+json": {
       "columns": [
        {
         "name": "index",
         "rawType": "int64",
         "type": "integer"
        },
        {
         "name": "s",
         "rawType": "object",
         "type": "string"
        },
        {
         "name": "p",
         "rawType": "object",
         "type": "string"
        },
        {
         "name": "o",
         "rawType": "object",
         "type": "string"
        }
       ],
       "conversionMethod": "pd.DataFrame",
       "ref": "f3f69b95-97cc-437a-901f-7b527fcc377e",
       "rows": [
        [
         "0",
         "<local://security.permissions.net/entities#Anya>",
         ":managesDepartment",
         "<local://security.permissions.net/entities#STORAGE>"
        ],
        [
         "1",
         "<local://security.permissions.net/entities#Jackson>",
         ":managesDepartment",
         "<local://security.permissions.net/entities#APPAREL>"
        ],
        [
         "2",
         "<local://security.permissions.net/entities#John>",
         ":managesDepartment",
         "<local://security.permissions.net/entities#OFFICE>"
        ],
        [
         "3",
         "<local://security.permissions.net/entities#Mary>",
         ":managesDepartment",
         "<local://security.permissions.net/entities#BIRTHDAY>"
        ],
        [
         "4",
         "<local://security.permissions.net/entities#Samantha>",
         ":managesDepartment",
         "<local://security.permissions.net/entities#HOME%20AND%20GARDEN>"
        ],
        [
         "5",
         "<local://security.permissions.net/entities#John>",
         ":managesDepartment",
         "<local://security.permissions.net/entities#HOBBY>"
        ],
        [
         "6",
         "<local://security.permissions.net/entities#Steve>",
         ":managesDepartment",
         "<local://security.permissions.net/entities#KITCHEN>"
        ],
        [
         "7",
         "<local://security.permissions.net/entities#Mary>",
         ":managesDepartment",
         "<local://security.permissions.net/entities#CHRISTMAS>"
        ]
       ],
       "shape": {
        "columns": 3,
        "rows": 8
       }
      },
      "text/html": [
       "<div>\n",
       "<style scoped>\n",
       "    .dataframe tbody tr th:only-of-type {\n",
       "        vertical-align: middle;\n",
       "    }\n",
       "\n",
       "    .dataframe tbody tr th {\n",
       "        vertical-align: top;\n",
       "    }\n",
       "\n",
       "    .dataframe thead th {\n",
       "        text-align: right;\n",
       "    }\n",
       "</style>\n",
       "<table border=\"1\" class=\"dataframe\">\n",
       "  <thead>\n",
       "    <tr style=\"text-align: right;\">\n",
       "      <th></th>\n",
       "      <th>s</th>\n",
       "      <th>p</th>\n",
       "      <th>o</th>\n",
       "    </tr>\n",
       "  </thead>\n",
       "  <tbody>\n",
       "    <tr>\n",
       "      <th>0</th>\n",
       "      <td>&lt;local://security.permissions.net/entities#Anya&gt;</td>\n",
       "      <td>:managesDepartment</td>\n",
       "      <td>&lt;local://security.permissions.net/entities#STO...</td>\n",
       "    </tr>\n",
       "    <tr>\n",
       "      <th>1</th>\n",
       "      <td>&lt;local://security.permissions.net/entities#Jac...</td>\n",
       "      <td>:managesDepartment</td>\n",
       "      <td>&lt;local://security.permissions.net/entities#APP...</td>\n",
       "    </tr>\n",
       "    <tr>\n",
       "      <th>2</th>\n",
       "      <td>&lt;local://security.permissions.net/entities#John&gt;</td>\n",
       "      <td>:managesDepartment</td>\n",
       "      <td>&lt;local://security.permissions.net/entities#OFF...</td>\n",
       "    </tr>\n",
       "    <tr>\n",
       "      <th>3</th>\n",
       "      <td>&lt;local://security.permissions.net/entities#Mary&gt;</td>\n",
       "      <td>:managesDepartment</td>\n",
       "      <td>&lt;local://security.permissions.net/entities#BIR...</td>\n",
       "    </tr>\n",
       "    <tr>\n",
       "      <th>4</th>\n",
       "      <td>&lt;local://security.permissions.net/entities#Sam...</td>\n",
       "      <td>:managesDepartment</td>\n",
       "      <td>&lt;local://security.permissions.net/entities#HOM...</td>\n",
       "    </tr>\n",
       "    <tr>\n",
       "      <th>5</th>\n",
       "      <td>&lt;local://security.permissions.net/entities#John&gt;</td>\n",
       "      <td>:managesDepartment</td>\n",
       "      <td>&lt;local://security.permissions.net/entities#HOBBY&gt;</td>\n",
       "    </tr>\n",
       "    <tr>\n",
       "      <th>6</th>\n",
       "      <td>&lt;local://security.permissions.net/entities#Steve&gt;</td>\n",
       "      <td>:managesDepartment</td>\n",
       "      <td>&lt;local://security.permissions.net/entities#KIT...</td>\n",
       "    </tr>\n",
       "    <tr>\n",
       "      <th>7</th>\n",
       "      <td>&lt;local://security.permissions.net/entities#Mary&gt;</td>\n",
       "      <td>:managesDepartment</td>\n",
       "      <td>&lt;local://security.permissions.net/entities#CHR...</td>\n",
       "    </tr>\n",
       "  </tbody>\n",
       "</table>\n",
       "</div>"
      ],
      "text/plain": [
       "                                                   s                   p  \\\n",
       "0   <local://security.permissions.net/entities#Anya>  :managesDepartment   \n",
       "1  <local://security.permissions.net/entities#Jac...  :managesDepartment   \n",
       "2   <local://security.permissions.net/entities#John>  :managesDepartment   \n",
       "3   <local://security.permissions.net/entities#Mary>  :managesDepartment   \n",
       "4  <local://security.permissions.net/entities#Sam...  :managesDepartment   \n",
       "5   <local://security.permissions.net/entities#John>  :managesDepartment   \n",
       "6  <local://security.permissions.net/entities#Steve>  :managesDepartment   \n",
       "7   <local://security.permissions.net/entities#Mary>  :managesDepartment   \n",
       "\n",
       "                                                   o  \n",
       "0  <local://security.permissions.net/entities#STO...  \n",
       "1  <local://security.permissions.net/entities#APP...  \n",
       "2  <local://security.permissions.net/entities#OFF...  \n",
       "3  <local://security.permissions.net/entities#BIR...  \n",
       "4  <local://security.permissions.net/entities#HOM...  \n",
       "5  <local://security.permissions.net/entities#HOBBY>  \n",
       "6  <local://security.permissions.net/entities#KIT...  \n",
       "7  <local://security.permissions.net/entities#CHR...  "
      ]
     },
     "execution_count": 3,
     "metadata": {},
     "output_type": "execute_result"
    }
   ],
   "source": [
    "# Since we haven't run ontological reasoning yet, the \"manages\" relationships are not inferred\n",
    "query = \"\"\"\n",
    "PREFIX : <local://security.permissions.net/vocab#>\n",
    "\n",
    "SELECT ?s ?p ?o\n",
    "WHERE {\n",
    "  ?s ?p ?o .\n",
    "  FILTER(?p = :manages || ?p = :managesDepartment) .\n",
    "}\n",
    "\n",
    "\"\"\"\n",
    "\n",
    "# Execute the query\n",
    "res = g.query_as_df(query)\n",
    "res"
   ]
  },
  {
   "cell_type": "code",
   "execution_count": 4,
   "metadata": {},
   "outputs": [],
   "source": [
    "# Run the rules engine - takes a crazy long amount of time\n",
    "g.infer_owlrl_closure()"
   ]
  },
  {
   "cell_type": "code",
   "execution_count": 7,
   "metadata": {},
   "outputs": [
    {
     "data": {
      "application/vnd.microsoft.datawrangler.viewer.v0+json": {
       "columns": [
        {
         "name": "index",
         "rawType": "int64",
         "type": "integer"
        },
        {
         "name": "s",
         "rawType": "object",
         "type": "string"
        },
        {
         "name": "p",
         "rawType": "object",
         "type": "string"
        },
        {
         "name": "o",
         "rawType": "object",
         "type": "string"
        }
       ],
       "conversionMethod": "pd.DataFrame",
       "ref": "10359b3d-cb9f-44f9-ada3-6149fd0d5ba9",
       "rows": [
        [
         "0",
         "<local://security.permissions.net/entities#Mary>",
         ":manages",
         "<local://security.permissions.net/entities#SalesRep_44>"
        ],
        [
         "1",
         "<local://security.permissions.net/entities#Mary>",
         ":manages",
         "<local://security.permissions.net/entities#SalesRep_19>"
        ],
        [
         "2",
         "<local://security.permissions.net/entities#Jackson>",
         ":managesDepartment",
         "<local://security.permissions.net/entities#APPAREL>"
        ],
        [
         "3",
         "<local://security.permissions.net/entities#John>",
         ":manages",
         "<local://security.permissions.net/entities#SalesRep_27>"
        ],
        [
         "4",
         "<local://security.permissions.net/entities#Jackson>",
         ":manages",
         "<local://security.permissions.net/entities#SalesRep_18>"
        ],
        [
         "5",
         "<local://security.permissions.net/entities#Mary>",
         ":manages",
         "<local://security.permissions.net/entities#SalesRep_24>"
        ],
        [
         "6",
         "<local://security.permissions.net/entities#Steve>",
         ":manages",
         "<local://security.permissions.net/entities#KITCHEN>"
        ],
        [
         "7",
         "<local://security.permissions.net/entities#Mary>",
         ":manages",
         "<local://security.permissions.net/entities#SalesRep_12>"
        ],
        [
         "8",
         "<local://security.permissions.net/entities#Anya>",
         ":manages",
         "<local://security.permissions.net/entities#SalesRep_34>"
        ],
        [
         "9",
         "<local://security.permissions.net/entities#Jackson>",
         ":manages",
         "<local://security.permissions.net/entities#SalesRep_28>"
        ],
        [
         "10",
         "<local://security.permissions.net/entities#John>",
         ":manages",
         "<local://security.permissions.net/entities#SalesRep_38>"
        ],
        [
         "11",
         "<local://security.permissions.net/entities#Jackson>",
         ":manages",
         "<local://security.permissions.net/entities#SalesRep_23>"
        ],
        [
         "12",
         "<local://security.permissions.net/entities#Samantha>",
         ":manages",
         "<local://security.permissions.net/entities#SalesRep_41>"
        ],
        [
         "13",
         "<local://security.permissions.net/entities#John>",
         ":manages",
         "<local://security.permissions.net/entities#SalesRep_33>"
        ],
        [
         "14",
         "<local://security.permissions.net/entities#Steve>",
         ":manages",
         "<local://security.permissions.net/entities#SalesRep_6>"
        ],
        [
         "15",
         "<local://security.permissions.net/entities#Samantha>",
         ":manages",
         "<local://security.permissions.net/entities#SalesRep_11>"
        ],
        [
         "16",
         "<local://security.permissions.net/entities#Jackson>",
         ":manages",
         "<local://security.permissions.net/entities#SalesRep_17>"
        ],
        [
         "17",
         "<local://security.permissions.net/entities#Jackson>",
         ":manages",
         "<local://security.permissions.net/entities#SalesRep_46>"
        ],
        [
         "18",
         "<local://security.permissions.net/entities#Mary>",
         ":managesDepartment",
         "<local://security.permissions.net/entities#BIRTHDAY>"
        ],
        [
         "19",
         "<local://security.permissions.net/entities#Anya>",
         ":manages",
         "<local://security.permissions.net/entities#SalesRep_48>"
        ],
        [
         "20",
         "<local://security.permissions.net/entities#Anya>",
         ":manages",
         "<local://security.permissions.net/entities#SalesRep_20>"
        ],
        [
         "21",
         "<local://security.permissions.net/entities#Mary>",
         ":manages",
         "<local://security.permissions.net/entities#SalesRep_1>"
        ],
        [
         "22",
         "<local://security.permissions.net/entities#Mary>",
         ":manages",
         "<local://security.permissions.net/entities#SalesRep_45>"
        ],
        [
         "23",
         "<local://security.permissions.net/entities#Steve>",
         ":manages",
         "<local://security.permissions.net/entities#SalesRep_15>"
        ],
        [
         "24",
         "<local://security.permissions.net/entities#Samantha>",
         ":managesDepartment",
         "<local://security.permissions.net/entities#HOME%20AND%20GARDEN>"
        ],
        [
         "25",
         "<local://security.permissions.net/entities#Jackson>",
         ":manages",
         "<local://security.permissions.net/entities#SalesRep_5>"
        ],
        [
         "26",
         "<local://security.permissions.net/entities#Samantha>",
         ":manages",
         "<local://security.permissions.net/entities#HOME%20AND%20GARDEN>"
        ],
        [
         "27",
         "<local://security.permissions.net/entities#Steve>",
         ":managesDepartment",
         "<local://security.permissions.net/entities#KITCHEN>"
        ],
        [
         "28",
         "<local://security.permissions.net/entities#Mary>",
         ":manages",
         "<local://security.permissions.net/entities#SalesRep_10>"
        ],
        [
         "29",
         "<local://security.permissions.net/entities#Steve>",
         ":manages",
         "<local://security.permissions.net/entities#SalesRep_35>"
        ],
        [
         "30",
         "<local://security.permissions.net/entities#Anya>",
         ":manages",
         "<local://security.permissions.net/entities#SalesRep_49>"
        ],
        [
         "31",
         "<local://security.permissions.net/entities#John>",
         ":manages",
         "<local://security.permissions.net/entities#OFFICE>"
        ],
        [
         "32",
         "<local://security.permissions.net/entities#Steve>",
         ":manages",
         "<local://security.permissions.net/entities#SalesRep_21>"
        ],
        [
         "33",
         "<local://security.permissions.net/entities#John>",
         ":manages",
         "<local://security.permissions.net/entities#SalesRep_31>"
        ],
        [
         "34",
         "<local://security.permissions.net/entities#John>",
         ":manages",
         "<local://security.permissions.net/entities#SalesRep_22>"
        ],
        [
         "35",
         "<local://security.permissions.net/entities#Mary>",
         ":manages",
         "<local://security.permissions.net/entities#SalesRep_32>"
        ],
        [
         "36",
         "<local://security.permissions.net/entities#Mary>",
         ":manages",
         "<local://security.permissions.net/entities#SalesRep_39>"
        ],
        [
         "37",
         "<local://security.permissions.net/entities#Anya>",
         ":manages",
         "<local://security.permissions.net/entities#SalesRep_25>"
        ],
        [
         "38",
         "<local://security.permissions.net/entities#Anya>",
         ":managesDepartment",
         "<local://security.permissions.net/entities#STORAGE>"
        ],
        [
         "39",
         "<local://security.permissions.net/entities#Anya>",
         ":manages",
         "<local://security.permissions.net/entities#STORAGE>"
        ],
        [
         "40",
         "<local://security.permissions.net/entities#John>",
         ":manages",
         "<local://security.permissions.net/entities#HOBBY>"
        ],
        [
         "41",
         "<local://security.permissions.net/entities#Mary>",
         ":manages",
         "<local://security.permissions.net/entities#SalesRep_4>"
        ],
        [
         "42",
         "<local://security.permissions.net/entities#Mary>",
         ":manages",
         "<local://security.permissions.net/entities#SalesRep_40>"
        ],
        [
         "43",
         "<local://security.permissions.net/entities#Steve>",
         ":manages",
         "<local://security.permissions.net/entities#SalesRep_7>"
        ],
        [
         "44",
         "<local://security.permissions.net/entities#John>",
         ":managesDepartment",
         "<local://security.permissions.net/entities#OFFICE>"
        ],
        [
         "45",
         "<local://security.permissions.net/entities#Samantha>",
         ":manages",
         "<local://security.permissions.net/entities#SalesRep_0>"
        ],
        [
         "46",
         "<local://security.permissions.net/entities#Mary>",
         ":manages",
         "<local://security.permissions.net/entities#SalesRep_36>"
        ],
        [
         "47",
         "<local://security.permissions.net/entities#Samantha>",
         ":manages",
         "<local://security.permissions.net/entities#SalesRep_47>"
        ],
        [
         "48",
         "<local://security.permissions.net/entities#Mary>",
         ":manages",
         "<local://security.permissions.net/entities#CHRISTMAS>"
        ],
        [
         "49",
         "<local://security.permissions.net/entities#John>",
         ":manages",
         "<local://security.permissions.net/entities#SalesRep_9>"
        ]
       ],
       "shape": {
        "columns": 3,
        "rows": 66
       }
      },
      "text/html": [
       "<div>\n",
       "<style scoped>\n",
       "    .dataframe tbody tr th:only-of-type {\n",
       "        vertical-align: middle;\n",
       "    }\n",
       "\n",
       "    .dataframe tbody tr th {\n",
       "        vertical-align: top;\n",
       "    }\n",
       "\n",
       "    .dataframe thead th {\n",
       "        text-align: right;\n",
       "    }\n",
       "</style>\n",
       "<table border=\"1\" class=\"dataframe\">\n",
       "  <thead>\n",
       "    <tr style=\"text-align: right;\">\n",
       "      <th></th>\n",
       "      <th>s</th>\n",
       "      <th>p</th>\n",
       "      <th>o</th>\n",
       "    </tr>\n",
       "  </thead>\n",
       "  <tbody>\n",
       "    <tr>\n",
       "      <th>0</th>\n",
       "      <td>&lt;local://security.permissions.net/entities#Mary&gt;</td>\n",
       "      <td>:manages</td>\n",
       "      <td>&lt;local://security.permissions.net/entities#Sal...</td>\n",
       "    </tr>\n",
       "    <tr>\n",
       "      <th>1</th>\n",
       "      <td>&lt;local://security.permissions.net/entities#Mary&gt;</td>\n",
       "      <td>:manages</td>\n",
       "      <td>&lt;local://security.permissions.net/entities#Sal...</td>\n",
       "    </tr>\n",
       "    <tr>\n",
       "      <th>2</th>\n",
       "      <td>&lt;local://security.permissions.net/entities#Jac...</td>\n",
       "      <td>:managesDepartment</td>\n",
       "      <td>&lt;local://security.permissions.net/entities#APP...</td>\n",
       "    </tr>\n",
       "    <tr>\n",
       "      <th>3</th>\n",
       "      <td>&lt;local://security.permissions.net/entities#John&gt;</td>\n",
       "      <td>:manages</td>\n",
       "      <td>&lt;local://security.permissions.net/entities#Sal...</td>\n",
       "    </tr>\n",
       "    <tr>\n",
       "      <th>4</th>\n",
       "      <td>&lt;local://security.permissions.net/entities#Jac...</td>\n",
       "      <td>:manages</td>\n",
       "      <td>&lt;local://security.permissions.net/entities#Sal...</td>\n",
       "    </tr>\n",
       "    <tr>\n",
       "      <th>...</th>\n",
       "      <td>...</td>\n",
       "      <td>...</td>\n",
       "      <td>...</td>\n",
       "    </tr>\n",
       "    <tr>\n",
       "      <th>61</th>\n",
       "      <td>&lt;local://security.permissions.net/entities#John&gt;</td>\n",
       "      <td>:manages</td>\n",
       "      <td>&lt;local://security.permissions.net/entities#Sal...</td>\n",
       "    </tr>\n",
       "    <tr>\n",
       "      <th>62</th>\n",
       "      <td>&lt;local://security.permissions.net/entities#Sam...</td>\n",
       "      <td>:manages</td>\n",
       "      <td>&lt;local://security.permissions.net/entities#Sal...</td>\n",
       "    </tr>\n",
       "    <tr>\n",
       "      <th>63</th>\n",
       "      <td>&lt;local://security.permissions.net/entities#Jac...</td>\n",
       "      <td>:manages</td>\n",
       "      <td>&lt;local://security.permissions.net/entities#Sal...</td>\n",
       "    </tr>\n",
       "    <tr>\n",
       "      <th>64</th>\n",
       "      <td>&lt;local://security.permissions.net/entities#Mary&gt;</td>\n",
       "      <td>:managesDepartment</td>\n",
       "      <td>&lt;local://security.permissions.net/entities#CHR...</td>\n",
       "    </tr>\n",
       "    <tr>\n",
       "      <th>65</th>\n",
       "      <td>&lt;local://security.permissions.net/entities#Mary&gt;</td>\n",
       "      <td>:manages</td>\n",
       "      <td>&lt;local://security.permissions.net/entities#BIR...</td>\n",
       "    </tr>\n",
       "  </tbody>\n",
       "</table>\n",
       "<p>66 rows × 3 columns</p>\n",
       "</div>"
      ],
      "text/plain": [
       "                                                    s                   p  \\\n",
       "0    <local://security.permissions.net/entities#Mary>            :manages   \n",
       "1    <local://security.permissions.net/entities#Mary>            :manages   \n",
       "2   <local://security.permissions.net/entities#Jac...  :managesDepartment   \n",
       "3    <local://security.permissions.net/entities#John>            :manages   \n",
       "4   <local://security.permissions.net/entities#Jac...            :manages   \n",
       "..                                                ...                 ...   \n",
       "61   <local://security.permissions.net/entities#John>            :manages   \n",
       "62  <local://security.permissions.net/entities#Sam...            :manages   \n",
       "63  <local://security.permissions.net/entities#Jac...            :manages   \n",
       "64   <local://security.permissions.net/entities#Mary>  :managesDepartment   \n",
       "65   <local://security.permissions.net/entities#Mary>            :manages   \n",
       "\n",
       "                                                    o  \n",
       "0   <local://security.permissions.net/entities#Sal...  \n",
       "1   <local://security.permissions.net/entities#Sal...  \n",
       "2   <local://security.permissions.net/entities#APP...  \n",
       "3   <local://security.permissions.net/entities#Sal...  \n",
       "4   <local://security.permissions.net/entities#Sal...  \n",
       "..                                                ...  \n",
       "61  <local://security.permissions.net/entities#Sal...  \n",
       "62  <local://security.permissions.net/entities#Sal...  \n",
       "63  <local://security.permissions.net/entities#Sal...  \n",
       "64  <local://security.permissions.net/entities#CHR...  \n",
       "65  <local://security.permissions.net/entities#BIR...  \n",
       "\n",
       "[66 rows x 3 columns]"
      ]
     },
     "execution_count": 7,
     "metadata": {},
     "output_type": "execute_result"
    }
   ],
   "source": [
    "# Now that we have added our inferences, we can see the results of the manages relationships which have been inferred from both managesDepartment and mangedBy\n",
    "query = \"\"\"\n",
    "PREFIX : <local://security.permissions.net/vocab#>\n",
    "\n",
    "SELECT ?s ?p ?o\n",
    "WHERE {\n",
    "  ?s ?p ?o .\n",
    "  FILTER(?p = :manages || ?p = :managesDepartment) .\n",
    "}\n",
    "\n",
    "\"\"\"\n",
    "\n",
    "# Execute the query\n",
    "res = g.query_as_df(query)\n",
    "res"
   ]
  },
  {
   "cell_type": "code",
   "execution_count": null,
   "metadata": {},
   "outputs": [
    {
     "ename": "KeyboardInterrupt",
     "evalue": "",
     "output_type": "error",
     "traceback": [
      "\u001b[0;31m---------------------------------------------------------------------------\u001b[0m",
      "\u001b[0;31mKeyboardInterrupt\u001b[0m                         Traceback (most recent call last)",
      "Cell \u001b[0;32mIn[8], line 25\u001b[0m\n\u001b[1;32m      5\u001b[0m query \u001b[38;5;241m=\u001b[39m \u001b[38;5;124mf\u001b[39m\u001b[38;5;124m\"\"\"\u001b[39m\n\u001b[1;32m      6\u001b[0m \u001b[38;5;124mprefix data: <local://security.permissions.net/entities#>\u001b[39m\n\u001b[1;32m      7\u001b[0m \u001b[38;5;124mprefix : <local://security.permissions.net/vocab#>\u001b[39m\n\u001b[0;32m   (...)\u001b[0m\n\u001b[1;32m     21\u001b[0m \u001b[38;5;130;01m}}\u001b[39;00m\n\u001b[1;32m     22\u001b[0m \u001b[38;5;124m\"\"\"\u001b[39m\n\u001b[1;32m     24\u001b[0m \u001b[38;5;66;03m# Execute the query\u001b[39;00m\n\u001b[0;32m---> 25\u001b[0m res \u001b[38;5;241m=\u001b[39m \u001b[43mg\u001b[49m\u001b[38;5;241;43m.\u001b[39;49m\u001b[43mquery_as_df\u001b[49m\u001b[43m(\u001b[49m\u001b[43mquery\u001b[49m\u001b[43m)\u001b[49m\n\u001b[1;32m     26\u001b[0m res\n",
      "File \u001b[0;32m/mnt/c/repos/rdf_permissions_example/.venv/lib/python3.10/site-packages/kglab/query/mixin.py:106\u001b[0m, in \u001b[0;36mQueryingMixin.query_as_df\u001b[0;34m(self, sparql, bindings, simplify, pythonify)\u001b[0m\n\u001b[1;32m    103\u001b[0m row_iter \u001b[38;5;241m=\u001b[39m \u001b[38;5;28mself\u001b[39m\u001b[38;5;241m.\u001b[39m_g\u001b[38;5;241m.\u001b[39mquery(sparql, initBindings\u001b[38;5;241m=\u001b[39mbindings) \u001b[38;5;66;03m# type: ignore\u001b[39;00m\n\u001b[1;32m    105\u001b[0m \u001b[38;5;28;01mif\u001b[39;00m simplify:\n\u001b[0;32m--> 106\u001b[0m     rows_list \u001b[38;5;241m=\u001b[39m [ \u001b[38;5;28mself\u001b[39m\u001b[38;5;241m.\u001b[39mn3fy_row(r\u001b[38;5;241m.\u001b[39masdict(), pythonify\u001b[38;5;241m=\u001b[39mpythonify) \u001b[38;5;28;01mfor\u001b[39;00m r \u001b[38;5;129;01min\u001b[39;00m row_iter ]\n\u001b[1;32m    107\u001b[0m \u001b[38;5;28;01melse\u001b[39;00m:\n\u001b[1;32m    108\u001b[0m     rows_list \u001b[38;5;241m=\u001b[39m [ r\u001b[38;5;241m.\u001b[39masdict() \u001b[38;5;28;01mfor\u001b[39;00m r \u001b[38;5;129;01min\u001b[39;00m row_iter ]\n",
      "File \u001b[0;32m/mnt/c/repos/rdf_permissions_example/.venv/lib/python3.10/site-packages/kglab/query/mixin.py:106\u001b[0m, in \u001b[0;36m<listcomp>\u001b[0;34m(.0)\u001b[0m\n\u001b[1;32m    103\u001b[0m row_iter \u001b[38;5;241m=\u001b[39m \u001b[38;5;28mself\u001b[39m\u001b[38;5;241m.\u001b[39m_g\u001b[38;5;241m.\u001b[39mquery(sparql, initBindings\u001b[38;5;241m=\u001b[39mbindings) \u001b[38;5;66;03m# type: ignore\u001b[39;00m\n\u001b[1;32m    105\u001b[0m \u001b[38;5;28;01mif\u001b[39;00m simplify:\n\u001b[0;32m--> 106\u001b[0m     rows_list \u001b[38;5;241m=\u001b[39m [ \u001b[38;5;28mself\u001b[39m\u001b[38;5;241m.\u001b[39mn3fy_row(r\u001b[38;5;241m.\u001b[39masdict(), pythonify\u001b[38;5;241m=\u001b[39mpythonify) \u001b[38;5;28;01mfor\u001b[39;00m r \u001b[38;5;129;01min\u001b[39;00m row_iter ]\n\u001b[1;32m    107\u001b[0m \u001b[38;5;28;01melse\u001b[39;00m:\n\u001b[1;32m    108\u001b[0m     rows_list \u001b[38;5;241m=\u001b[39m [ r\u001b[38;5;241m.\u001b[39masdict() \u001b[38;5;28;01mfor\u001b[39;00m r \u001b[38;5;129;01min\u001b[39;00m row_iter ]\n",
      "File \u001b[0;32m/mnt/c/repos/rdf_permissions_example/.venv/lib/python3.10/site-packages/rdflib/query.py:372\u001b[0m, in \u001b[0;36mResult.__iter__\u001b[0;34m(self)\u001b[0m\n\u001b[1;32m    368\u001b[0m \u001b[38;5;28;01melif\u001b[39;00m \u001b[38;5;28mself\u001b[39m\u001b[38;5;241m.\u001b[39mtype \u001b[38;5;241m==\u001b[39m \u001b[38;5;124m\"\u001b[39m\u001b[38;5;124mSELECT\u001b[39m\u001b[38;5;124m\"\u001b[39m:\n\u001b[1;32m    369\u001b[0m     \u001b[38;5;66;03m# this iterates over ResultRows of variable bindings\u001b[39;00m\n\u001b[1;32m    371\u001b[0m     \u001b[38;5;28;01mif\u001b[39;00m \u001b[38;5;28mself\u001b[39m\u001b[38;5;241m.\u001b[39m_genbindings:\n\u001b[0;32m--> 372\u001b[0m         \u001b[38;5;28;01mfor\u001b[39;00m b \u001b[38;5;129;01min\u001b[39;00m \u001b[38;5;28mself\u001b[39m\u001b[38;5;241m.\u001b[39m_genbindings:\n\u001b[1;32m    373\u001b[0m             \u001b[38;5;28;01mif\u001b[39;00m b:  \u001b[38;5;66;03m# don't add a result row in case of empty binding {}\u001b[39;00m\n\u001b[1;32m    374\u001b[0m                 \u001b[38;5;28mself\u001b[39m\u001b[38;5;241m.\u001b[39m_bindings\u001b[38;5;241m.\u001b[39mappend(b)\n",
      "File \u001b[0;32m/mnt/c/repos/rdf_permissions_example/.venv/lib/python3.10/site-packages/rdflib/plugins/sparql/evaluate.py:574\u001b[0m, in \u001b[0;36m<genexpr>\u001b[0;34m(.0)\u001b[0m\n\u001b[1;32m    572\u001b[0m \u001b[38;5;28;01mdef\u001b[39;00m\u001b[38;5;250m \u001b[39m\u001b[38;5;21mevalProject\u001b[39m(ctx: QueryContext, project: CompValue):\n\u001b[1;32m    573\u001b[0m     res \u001b[38;5;241m=\u001b[39m evalPart(ctx, project\u001b[38;5;241m.\u001b[39mp)\n\u001b[0;32m--> 574\u001b[0m     \u001b[38;5;28;01mreturn\u001b[39;00m (row\u001b[38;5;241m.\u001b[39mproject(project\u001b[38;5;241m.\u001b[39mPV) \u001b[38;5;28;01mfor\u001b[39;00m row \u001b[38;5;129;01min\u001b[39;00m res)\n",
      "File \u001b[0;32m/mnt/c/repos/rdf_permissions_example/.venv/lib/python3.10/site-packages/rdflib/plugins/sparql/evaluate.py:153\u001b[0m, in \u001b[0;36mevalLazyJoin\u001b[0;34m(ctx, join)\u001b[0m\n\u001b[1;32m    151\u001b[0m \u001b[38;5;28;01mfor\u001b[39;00m a \u001b[38;5;129;01min\u001b[39;00m evalPart(ctx, join\u001b[38;5;241m.\u001b[39mp1):\n\u001b[1;32m    152\u001b[0m     c \u001b[38;5;241m=\u001b[39m ctx\u001b[38;5;241m.\u001b[39mthaw(a)\n\u001b[0;32m--> 153\u001b[0m     \u001b[38;5;28;01mfor\u001b[39;00m b \u001b[38;5;129;01min\u001b[39;00m \u001b[43mevalPart\u001b[49m\u001b[43m(\u001b[49m\u001b[43mc\u001b[49m\u001b[43m,\u001b[49m\u001b[43m \u001b[49m\u001b[43mjoin\u001b[49m\u001b[38;5;241;43m.\u001b[39;49m\u001b[43mp2\u001b[49m\u001b[43m)\u001b[49m:\n\u001b[1;32m    154\u001b[0m         \u001b[38;5;28;01myield\u001b[39;00m b\u001b[38;5;241m.\u001b[39mmerge(a)\n",
      "File \u001b[0;32m/mnt/c/repos/rdf_permissions_example/.venv/lib/python3.10/site-packages/rdflib/plugins/sparql/evaluate.py:303\u001b[0m, in \u001b[0;36mevalPart\u001b[0;34m(ctx, part)\u001b[0m\n\u001b[1;32m    301\u001b[0m     \u001b[38;5;28;01mreturn\u001b[39;00m evalGraph(ctx, part)\n\u001b[1;32m    302\u001b[0m \u001b[38;5;28;01melif\u001b[39;00m part\u001b[38;5;241m.\u001b[39mname \u001b[38;5;241m==\u001b[39m \u001b[38;5;124m\"\u001b[39m\u001b[38;5;124mUnion\u001b[39m\u001b[38;5;124m\"\u001b[39m:\n\u001b[0;32m--> 303\u001b[0m     \u001b[38;5;28;01mreturn\u001b[39;00m \u001b[43mevalUnion\u001b[49m\u001b[43m(\u001b[49m\u001b[43mctx\u001b[49m\u001b[43m,\u001b[49m\u001b[43m \u001b[49m\u001b[43mpart\u001b[49m\u001b[43m)\u001b[49m\n\u001b[1;32m    304\u001b[0m \u001b[38;5;28;01melif\u001b[39;00m part\u001b[38;5;241m.\u001b[39mname \u001b[38;5;241m==\u001b[39m \u001b[38;5;124m\"\u001b[39m\u001b[38;5;124mToMultiSet\u001b[39m\u001b[38;5;124m\"\u001b[39m:\n\u001b[1;32m    305\u001b[0m     \u001b[38;5;28;01mreturn\u001b[39;00m evalMultiset(ctx, part)\n",
      "File \u001b[0;32m/mnt/c/repos/rdf_permissions_example/.venv/lib/python3.10/site-packages/rdflib/plugins/sparql/evaluate.py:171\u001b[0m, in \u001b[0;36mevalUnion\u001b[0;34m(ctx, union)\u001b[0m\n\u001b[1;32m    169\u001b[0m \u001b[38;5;28;01mdef\u001b[39;00m\u001b[38;5;250m \u001b[39m\u001b[38;5;21mevalUnion\u001b[39m(ctx: QueryContext, union: CompValue) \u001b[38;5;241m-\u001b[39m\u001b[38;5;241m>\u001b[39m List[Any]:\n\u001b[1;32m    170\u001b[0m     branch1_branch2 \u001b[38;5;241m=\u001b[39m []\n\u001b[0;32m--> 171\u001b[0m     \u001b[38;5;28;01mfor\u001b[39;00m x \u001b[38;5;129;01min\u001b[39;00m evalPart(ctx, union\u001b[38;5;241m.\u001b[39mp1):\n\u001b[1;32m    172\u001b[0m         branch1_branch2\u001b[38;5;241m.\u001b[39mappend(x)\n\u001b[1;32m    173\u001b[0m     \u001b[38;5;28;01mfor\u001b[39;00m x \u001b[38;5;129;01min\u001b[39;00m evalPart(ctx, union\u001b[38;5;241m.\u001b[39mp2):\n",
      "File \u001b[0;32m/mnt/c/repos/rdf_permissions_example/.venv/lib/python3.10/site-packages/rdflib/plugins/sparql/evaluate.py:121\u001b[0m, in \u001b[0;36mevalBGP\u001b[0;34m(ctx, bgp)\u001b[0m\n\u001b[1;32m    118\u001b[0m \u001b[38;5;28;01mexcept\u001b[39;00m AlreadyBound:\n\u001b[1;32m    119\u001b[0m     \u001b[38;5;28;01mcontinue\u001b[39;00m\n\u001b[0;32m--> 121\u001b[0m \u001b[38;5;28;01mfor\u001b[39;00m x \u001b[38;5;129;01min\u001b[39;00m evalBGP(c, bgp[\u001b[38;5;241m1\u001b[39m:]):\n\u001b[1;32m    122\u001b[0m     \u001b[38;5;28;01myield\u001b[39;00m x\n",
      "File \u001b[0;32m/mnt/c/repos/rdf_permissions_example/.venv/lib/python3.10/site-packages/rdflib/plugins/sparql/evaluate.py:121\u001b[0m, in \u001b[0;36mevalBGP\u001b[0;34m(ctx, bgp)\u001b[0m\n\u001b[1;32m    118\u001b[0m \u001b[38;5;28;01mexcept\u001b[39;00m AlreadyBound:\n\u001b[1;32m    119\u001b[0m     \u001b[38;5;28;01mcontinue\u001b[39;00m\n\u001b[0;32m--> 121\u001b[0m \u001b[38;5;28;01mfor\u001b[39;00m x \u001b[38;5;129;01min\u001b[39;00m evalBGP(c, bgp[\u001b[38;5;241m1\u001b[39m:]):\n\u001b[1;32m    122\u001b[0m     \u001b[38;5;28;01myield\u001b[39;00m x\n",
      "File \u001b[0;32m/mnt/c/repos/rdf_permissions_example/.venv/lib/python3.10/site-packages/rdflib/plugins/sparql/evaluate.py:121\u001b[0m, in \u001b[0;36mevalBGP\u001b[0;34m(ctx, bgp)\u001b[0m\n\u001b[1;32m    118\u001b[0m \u001b[38;5;28;01mexcept\u001b[39;00m AlreadyBound:\n\u001b[1;32m    119\u001b[0m     \u001b[38;5;28;01mcontinue\u001b[39;00m\n\u001b[0;32m--> 121\u001b[0m \u001b[38;5;28;01mfor\u001b[39;00m x \u001b[38;5;129;01min\u001b[39;00m evalBGP(c, bgp[\u001b[38;5;241m1\u001b[39m:]):\n\u001b[1;32m    122\u001b[0m     \u001b[38;5;28;01myield\u001b[39;00m x\n",
      "File \u001b[0;32m/mnt/c/repos/rdf_permissions_example/.venv/lib/python3.10/site-packages/rdflib/plugins/sparql/evaluate.py:99\u001b[0m, in \u001b[0;36mevalBGP\u001b[0;34m(ctx, bgp)\u001b[0m\n\u001b[1;32m     97\u001b[0m \u001b[38;5;28;01mfor\u001b[39;00m ss, sp, so \u001b[38;5;129;01min\u001b[39;00m ctx\u001b[38;5;241m.\u001b[39mgraph\u001b[38;5;241m.\u001b[39mtriples((_s, _p, _o)):  \u001b[38;5;66;03m# type: ignore[union-attr, arg-type]\u001b[39;00m\n\u001b[1;32m     98\u001b[0m     \u001b[38;5;28;01mif\u001b[39;00m \u001b[38;5;28;01mNone\u001b[39;00m \u001b[38;5;129;01min\u001b[39;00m (_s, _p, _o):\n\u001b[0;32m---> 99\u001b[0m         c \u001b[38;5;241m=\u001b[39m \u001b[43mctx\u001b[49m\u001b[38;5;241;43m.\u001b[39;49m\u001b[43mpush\u001b[49m\u001b[43m(\u001b[49m\u001b[43m)\u001b[49m\n\u001b[1;32m    100\u001b[0m     \u001b[38;5;28;01melse\u001b[39;00m:\n\u001b[1;32m    101\u001b[0m         c \u001b[38;5;241m=\u001b[39m ctx\n",
      "File \u001b[0;32m/mnt/c/repos/rdf_permissions_example/.venv/lib/python3.10/site-packages/rdflib/plugins/sparql/sparql.py:423\u001b[0m, in \u001b[0;36mQueryContext.push\u001b[0;34m(self)\u001b[0m\n\u001b[1;32m    422\u001b[0m \u001b[38;5;28;01mdef\u001b[39;00m\u001b[38;5;250m \u001b[39m\u001b[38;5;21mpush\u001b[39m(\u001b[38;5;28mself\u001b[39m) \u001b[38;5;241m-\u001b[39m\u001b[38;5;241m>\u001b[39m QueryContext:\n\u001b[0;32m--> 423\u001b[0m     r \u001b[38;5;241m=\u001b[39m \u001b[38;5;28;43mself\u001b[39;49m\u001b[38;5;241;43m.\u001b[39;49m\u001b[43mclone\u001b[49m\u001b[43m(\u001b[49m\u001b[43mBindings\u001b[49m\u001b[43m(\u001b[49m\u001b[38;5;28;43mself\u001b[39;49m\u001b[38;5;241;43m.\u001b[39;49m\u001b[43mbindings\u001b[49m\u001b[43m)\u001b[49m\u001b[43m)\u001b[49m\n\u001b[1;32m    424\u001b[0m     \u001b[38;5;28;01mreturn\u001b[39;00m r\n",
      "File \u001b[0;32m/mnt/c/repos/rdf_permissions_example/.venv/lib/python3.10/site-packages/rdflib/plugins/sparql/sparql.py:309\u001b[0m, in \u001b[0;36mQueryContext.clone\u001b[0;34m(self, bindings)\u001b[0m\n\u001b[1;32m    306\u001b[0m \u001b[38;5;28;01mdef\u001b[39;00m\u001b[38;5;250m \u001b[39m\u001b[38;5;21mclone\u001b[39m(\n\u001b[1;32m    307\u001b[0m     \u001b[38;5;28mself\u001b[39m, bindings: Optional[Union[FrozenBindings, Bindings, List[Any]]] \u001b[38;5;241m=\u001b[39m \u001b[38;5;28;01mNone\u001b[39;00m\n\u001b[1;32m    308\u001b[0m ) \u001b[38;5;241m-\u001b[39m\u001b[38;5;241m>\u001b[39m QueryContext:\n\u001b[0;32m--> 309\u001b[0m     r \u001b[38;5;241m=\u001b[39m \u001b[43mQueryContext\u001b[49m\u001b[43m(\u001b[49m\n\u001b[1;32m    310\u001b[0m \u001b[43m        \u001b[49m\u001b[38;5;28;43mself\u001b[39;49m\u001b[38;5;241;43m.\u001b[39;49m\u001b[43m_dataset\u001b[49m\u001b[43m \u001b[49m\u001b[38;5;28;43;01mif\u001b[39;49;00m\u001b[43m \u001b[49m\u001b[38;5;28;43mself\u001b[39;49m\u001b[38;5;241;43m.\u001b[39;49m\u001b[43m_dataset\u001b[49m\u001b[43m \u001b[49m\u001b[38;5;129;43;01mis\u001b[39;49;00m\u001b[43m \u001b[49m\u001b[38;5;129;43;01mnot\u001b[39;49;00m\u001b[43m \u001b[49m\u001b[38;5;28;43;01mNone\u001b[39;49;00m\u001b[43m \u001b[49m\u001b[38;5;28;43;01melse\u001b[39;49;00m\u001b[43m \u001b[49m\u001b[38;5;28;43mself\u001b[39;49m\u001b[38;5;241;43m.\u001b[39;49m\u001b[43mgraph\u001b[49m\u001b[43m,\u001b[49m\n\u001b[1;32m    311\u001b[0m \u001b[43m        \u001b[49m\u001b[43mbindings\u001b[49m\u001b[43m \u001b[49m\u001b[38;5;129;43;01mor\u001b[39;49;00m\u001b[43m \u001b[49m\u001b[38;5;28;43mself\u001b[39;49m\u001b[38;5;241;43m.\u001b[39;49m\u001b[43mbindings\u001b[49m\u001b[43m,\u001b[49m\n\u001b[1;32m    312\u001b[0m \u001b[43m        \u001b[49m\u001b[43minitBindings\u001b[49m\u001b[38;5;241;43m=\u001b[39;49m\u001b[38;5;28;43mself\u001b[39;49m\u001b[38;5;241;43m.\u001b[39;49m\u001b[43minitBindings\u001b[49m\u001b[43m,\u001b[49m\n\u001b[1;32m    313\u001b[0m \u001b[43m    \u001b[49m\u001b[43m)\u001b[49m\n\u001b[1;32m    314\u001b[0m     r\u001b[38;5;241m.\u001b[39mprologue \u001b[38;5;241m=\u001b[39m \u001b[38;5;28mself\u001b[39m\u001b[38;5;241m.\u001b[39mprologue\n\u001b[1;32m    315\u001b[0m     r\u001b[38;5;241m.\u001b[39mgraph \u001b[38;5;241m=\u001b[39m \u001b[38;5;28mself\u001b[39m\u001b[38;5;241m.\u001b[39mgraph\n",
      "File \u001b[0;32m/mnt/c/repos/rdf_permissions_example/.venv/lib/python3.10/site-packages/rdflib/plugins/sparql/sparql.py:259\u001b[0m, in \u001b[0;36mQueryContext.__init__\u001b[0;34m(self, graph, bindings, initBindings, datasetClause)\u001b[0m\n\u001b[1;32m    251\u001b[0m \u001b[38;5;28;01mdef\u001b[39;00m\u001b[38;5;250m \u001b[39m\u001b[38;5;21m__init__\u001b[39m(\n\u001b[1;32m    252\u001b[0m     \u001b[38;5;28mself\u001b[39m,\n\u001b[1;32m    253\u001b[0m     graph: Optional[Graph] \u001b[38;5;241m=\u001b[39m \u001b[38;5;28;01mNone\u001b[39;00m,\n\u001b[0;32m   (...)\u001b[0m\n\u001b[1;32m    256\u001b[0m     datasetClause\u001b[38;5;241m=\u001b[39m\u001b[38;5;28;01mNone\u001b[39;00m,\n\u001b[1;32m    257\u001b[0m ):\n\u001b[1;32m    258\u001b[0m     \u001b[38;5;28mself\u001b[39m\u001b[38;5;241m.\u001b[39minitBindings \u001b[38;5;241m=\u001b[39m initBindings\n\u001b[0;32m--> 259\u001b[0m     \u001b[38;5;28mself\u001b[39m\u001b[38;5;241m.\u001b[39mbindings \u001b[38;5;241m=\u001b[39m \u001b[43mBindings\u001b[49m\u001b[43m(\u001b[49m\u001b[43md\u001b[49m\u001b[38;5;241;43m=\u001b[39;49m\u001b[43mbindings\u001b[49m\u001b[43m \u001b[49m\u001b[38;5;129;43;01mor\u001b[39;49;00m\u001b[43m \u001b[49m\u001b[43m[\u001b[49m\u001b[43m]\u001b[49m\u001b[43m)\u001b[49m\n\u001b[1;32m    260\u001b[0m     \u001b[38;5;28;01mif\u001b[39;00m initBindings:\n\u001b[1;32m    261\u001b[0m         \u001b[38;5;28mself\u001b[39m\u001b[38;5;241m.\u001b[39mbindings\u001b[38;5;241m.\u001b[39mupdate(initBindings)\n",
      "File \u001b[0;32m/mnt/c/repos/rdf_permissions_example/.venv/lib/python3.10/site-packages/rdflib/plugins/sparql/sparql.py:68\u001b[0m, in \u001b[0;36mBindings.__init__\u001b[0;34m(self, outer, d)\u001b[0m\n\u001b[1;32m     67\u001b[0m \u001b[38;5;28;01mdef\u001b[39;00m\u001b[38;5;250m \u001b[39m\u001b[38;5;21m__init__\u001b[39m(\u001b[38;5;28mself\u001b[39m, outer: Optional[Bindings] \u001b[38;5;241m=\u001b[39m \u001b[38;5;28;01mNone\u001b[39;00m, d\u001b[38;5;241m=\u001b[39m[]):\n\u001b[0;32m---> 68\u001b[0m     \u001b[38;5;28mself\u001b[39m\u001b[38;5;241m.\u001b[39m_d: Dict[\u001b[38;5;28mstr\u001b[39m, \u001b[38;5;28mstr\u001b[39m] \u001b[38;5;241m=\u001b[39m \u001b[38;5;28;43mdict\u001b[39;49m\u001b[43m(\u001b[49m\u001b[43md\u001b[49m\u001b[43m)\u001b[49m\n\u001b[1;32m     69\u001b[0m     \u001b[38;5;28mself\u001b[39m\u001b[38;5;241m.\u001b[39mouter \u001b[38;5;241m=\u001b[39m outer\n",
      "File \u001b[0;32m/usr/lib/python3.10/_collections_abc.py:836\u001b[0m, in \u001b[0;36mMapping.keys\u001b[0;34m(self)\u001b[0m\n\u001b[1;32m    833\u001b[0m     \u001b[38;5;28;01melse\u001b[39;00m:\n\u001b[1;32m    834\u001b[0m         \u001b[38;5;28;01mreturn\u001b[39;00m \u001b[38;5;28;01mTrue\u001b[39;00m\n\u001b[0;32m--> 836\u001b[0m \u001b[38;5;28;01mdef\u001b[39;00m\u001b[38;5;250m \u001b[39m\u001b[38;5;21mkeys\u001b[39m(\u001b[38;5;28mself\u001b[39m):\n\u001b[1;32m    837\u001b[0m     \u001b[38;5;124m\"\u001b[39m\u001b[38;5;124mD.keys() -> a set-like object providing a view on D\u001b[39m\u001b[38;5;124m'\u001b[39m\u001b[38;5;124ms keys\u001b[39m\u001b[38;5;124m\"\u001b[39m\n\u001b[1;32m    838\u001b[0m     \u001b[38;5;28;01mreturn\u001b[39;00m KeysView(\u001b[38;5;28mself\u001b[39m)\n",
      "\u001b[0;31mKeyboardInterrupt\u001b[0m: "
     ]
    }
   ],
   "source": [
    "# Find all the records that a specific user may have access to.\n",
    "# Takes a very very long time\n",
    "\n",
    "USER = \"SalesRep_0\"\n",
    "\n",
    "query = f\"\"\"\n",
    "prefix data: <local://security.permissions.net/entities#>\n",
    "prefix : <local://security.permissions.net/vocab#>\n",
    "\n",
    "select ?record where {{\n",
    "?department a :Department .\n",
    "?department :hasItem ?item .\n",
    "{{\n",
    "data:{USER} :hasAccess ?country, ?department ; a :User .\n",
    "?country a :Country .\n",
    "?record a :Record; :country ?country; :item ?item.}}\n",
    "union {{\n",
    "data:{USER} a :Manager .\n",
    "data:{USER} :managesDepartment ?department .\n",
    "?record a :Record; :item ?item.\n",
    "}}\n",
    "}}\n",
    "\"\"\"\n",
    "\n",
    "# Execute the query\n",
    "res = g.query_as_df(query)\n",
    "res"
   ]
  },
  {
   "cell_type": "code",
   "execution_count": null,
   "metadata": {},
   "outputs": [],
   "source": []
  }
 ],
 "metadata": {
  "kernelspec": {
   "display_name": "Python 3 (ipykernel)",
   "language": "python",
   "name": "python3"
  },
  "language_info": {
   "codemirror_mode": {
    "name": "ipython",
    "version": 3
   },
   "file_extension": ".py",
   "mimetype": "text/x-python",
   "name": "python",
   "nbconvert_exporter": "python",
   "pygments_lexer": "ipython3",
   "version": "3.10.12"
  }
 },
 "nbformat": 4,
 "nbformat_minor": 2
}
