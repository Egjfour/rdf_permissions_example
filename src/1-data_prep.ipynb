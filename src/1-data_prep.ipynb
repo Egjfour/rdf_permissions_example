{
 "cells": [
  {
   "cell_type": "code",
   "execution_count": 27,
   "metadata": {},
   "outputs": [],
   "source": [
    "import pandas as pd\n",
    "import random\n",
    "import numpy as np\n",
    "\n",
    "random.seed(42)\n",
    "np.random.seed(42)\n",
    "\n",
    "import os\n",
    "if os.getcwd().split('/')[-1] == 'rdf_permissions_example':\n",
    "    os.chdir('src')"
   ]
  },
  {
   "cell_type": "code",
   "execution_count": 28,
   "metadata": {},
   "outputs": [],
   "source": [
    "# Load the transaction data (source: https://www.kaggle.com/datasets/vipin20/transaction-data)\n",
    "tx = pd.read_csv('../data/transaction_data.csv', sep=',', encoding='utf-8', dtype={\"ItemCode\": str})\n",
    "tx['TransactionTime'] = pd.to_datetime(tx['TransactionTime'].str.replace(\"IST \", \"\"), format=\"%a %b %d %H:%M:%S %Y\")"
   ]
  },
  {
   "cell_type": "code",
   "execution_count": 29,
   "metadata": {},
   "outputs": [
    {
     "data": {
      "text/plain": [
       "UserId                             int64\n",
       "TransactionId                      int64\n",
       "TransactionTime           datetime64[ns]\n",
       "ItemCode                          object\n",
       "ItemDescription                   object\n",
       "NumberOfItemsPurchased             int64\n",
       "CostPerItem                      float64\n",
       "Country                           object\n",
       "dtype: object"
      ]
     },
     "execution_count": 29,
     "metadata": {},
     "output_type": "execute_result"
    }
   ],
   "source": [
    "tx.dtypes"
   ]
  },
  {
   "cell_type": "code",
   "execution_count": 30,
   "metadata": {},
   "outputs": [
    {
     "data": {
      "application/vnd.microsoft.datawrangler.viewer.v0+json": {
       "columns": [
        {
         "name": "index",
         "rawType": "int64",
         "type": "integer"
        },
        {
         "name": "ItemCode",
         "rawType": "object",
         "type": "string"
        },
        {
         "name": "Country",
         "rawType": "object",
         "type": "string"
        },
        {
         "name": "ItemDescription",
         "rawType": "object",
         "type": "string"
        },
        {
         "name": "CostPerItem",
         "rawType": "float64",
         "type": "float"
        },
        {
         "name": "LastTransactionDate",
         "rawType": "datetime64[ns]",
         "type": "datetime"
        },
        {
         "name": "TransactionCount",
         "rawType": "int64",
         "type": "integer"
        },
        {
         "name": "is_set",
         "rawType": "bool",
         "type": "boolean"
        }
       ],
       "conversionMethod": "pd.DataFrame",
       "ref": "aef59a13-d5a2-4f8c-a36b-46a1f20ae70b",
       "rows": [
        [
         "0",
         "1010331",
         "Channel Islands",
         "DOORMAT 3 SMILEY CATS",
         "10.98",
         "2018-11-04 08:30:00",
         "4",
         "False"
        ],
        [
         "1",
         "1010331",
         "EIRE",
         "DOORMAT 3 SMILEY CATS",
         "11.39",
         "2018-12-22 08:37:00",
         "4",
         "False"
        ],
        [
         "2",
         "1010331",
         "France",
         "DOORMAT 3 SMILEY CATS",
         "9.78",
         "2019-01-28 07:59:00",
         "2",
         "False"
        ],
        [
         "3",
         "1010331",
         "Greece",
         "DOORMAT 3 SMILEY CATS",
         "9.32",
         "2018-04-07 07:39:00",
         "2",
         "False"
        ],
        [
         "4",
         "1010331",
         "Spain",
         "DOORMAT 3 SMILEY CATS",
         "10.98",
         "2018-04-23 10:44:00",
         "4",
         "False"
        ]
       ],
       "shape": {
        "columns": 7,
        "rows": 5
       }
      },
      "text/html": [
       "<div>\n",
       "<style scoped>\n",
       "    .dataframe tbody tr th:only-of-type {\n",
       "        vertical-align: middle;\n",
       "    }\n",
       "\n",
       "    .dataframe tbody tr th {\n",
       "        vertical-align: top;\n",
       "    }\n",
       "\n",
       "    .dataframe thead th {\n",
       "        text-align: right;\n",
       "    }\n",
       "</style>\n",
       "<table border=\"1\" class=\"dataframe\">\n",
       "  <thead>\n",
       "    <tr style=\"text-align: right;\">\n",
       "      <th></th>\n",
       "      <th>ItemCode</th>\n",
       "      <th>Country</th>\n",
       "      <th>ItemDescription</th>\n",
       "      <th>CostPerItem</th>\n",
       "      <th>LastTransactionDate</th>\n",
       "      <th>TransactionCount</th>\n",
       "      <th>is_set</th>\n",
       "    </tr>\n",
       "  </thead>\n",
       "  <tbody>\n",
       "    <tr>\n",
       "      <th>0</th>\n",
       "      <td>1010331</td>\n",
       "      <td>Channel Islands</td>\n",
       "      <td>DOORMAT 3 SMILEY CATS</td>\n",
       "      <td>10.98</td>\n",
       "      <td>2018-11-04 08:30:00</td>\n",
       "      <td>4</td>\n",
       "      <td>False</td>\n",
       "    </tr>\n",
       "    <tr>\n",
       "      <th>1</th>\n",
       "      <td>1010331</td>\n",
       "      <td>EIRE</td>\n",
       "      <td>DOORMAT 3 SMILEY CATS</td>\n",
       "      <td>11.39</td>\n",
       "      <td>2018-12-22 08:37:00</td>\n",
       "      <td>4</td>\n",
       "      <td>False</td>\n",
       "    </tr>\n",
       "    <tr>\n",
       "      <th>2</th>\n",
       "      <td>1010331</td>\n",
       "      <td>France</td>\n",
       "      <td>DOORMAT 3 SMILEY CATS</td>\n",
       "      <td>9.78</td>\n",
       "      <td>2019-01-28 07:59:00</td>\n",
       "      <td>2</td>\n",
       "      <td>False</td>\n",
       "    </tr>\n",
       "    <tr>\n",
       "      <th>3</th>\n",
       "      <td>1010331</td>\n",
       "      <td>Greece</td>\n",
       "      <td>DOORMAT 3 SMILEY CATS</td>\n",
       "      <td>9.32</td>\n",
       "      <td>2018-04-07 07:39:00</td>\n",
       "      <td>2</td>\n",
       "      <td>False</td>\n",
       "    </tr>\n",
       "    <tr>\n",
       "      <th>4</th>\n",
       "      <td>1010331</td>\n",
       "      <td>Spain</td>\n",
       "      <td>DOORMAT 3 SMILEY CATS</td>\n",
       "      <td>10.98</td>\n",
       "      <td>2018-04-23 10:44:00</td>\n",
       "      <td>4</td>\n",
       "      <td>False</td>\n",
       "    </tr>\n",
       "  </tbody>\n",
       "</table>\n",
       "</div>"
      ],
      "text/plain": [
       "  ItemCode          Country        ItemDescription  CostPerItem  \\\n",
       "0  1010331  Channel Islands  DOORMAT 3 SMILEY CATS        10.98   \n",
       "1  1010331             EIRE  DOORMAT 3 SMILEY CATS        11.39   \n",
       "2  1010331           France  DOORMAT 3 SMILEY CATS         9.78   \n",
       "3  1010331           Greece  DOORMAT 3 SMILEY CATS         9.32   \n",
       "4  1010331            Spain  DOORMAT 3 SMILEY CATS        10.98   \n",
       "\n",
       "  LastTransactionDate  TransactionCount  is_set  \n",
       "0 2018-11-04 08:30:00                 4   False  \n",
       "1 2018-12-22 08:37:00                 4   False  \n",
       "2 2019-01-28 07:59:00                 2   False  \n",
       "3 2018-04-07 07:39:00                 2   False  \n",
       "4 2018-04-23 10:44:00                 4   False  "
      ]
     },
     "execution_count": 30,
     "metadata": {},
     "output_type": "execute_result"
    }
   ],
   "source": [
    "items = (\n",
    "    tx\n",
    "    .loc[(tx['ItemCode'] != '-1') & (tx['UserId'].astype(str) != '-1')]\n",
    "    .sort_values('TransactionTime', ascending=False)\n",
    "    .groupby([\"ItemCode\", \"Country\"], as_index=False)\n",
    "    .agg(\n",
    "        ItemDescription =('ItemDescription', 'first'),\n",
    "        CostPerItem = ('CostPerItem', 'first'),\n",
    "        LastTransactionDate = ('TransactionTime', 'first'),\n",
    "        TransactionCount = ('ItemCode', 'count')\n",
    "    )\n",
    "    .assign(processing_item_desc = lambda x: x['ItemDescription'].str.replace(r'[^A-z ]', '', regex=True))\n",
    "    .assign(is_set = lambda x: x['ItemDescription'].str.contains('(?<!\\w)set(?!\\w)', case=False, regex=True))\n",
    "    .drop(columns=['processing_item_desc'])\n",
    "    \n",
    "    .assign(ItemDescription = lambda df: df.sort_values(\"LastTransactionDate\", ascending=False).groupby(\"ItemCode\")[\"ItemDescription\"].transform(lambda x: x.iloc[0]))\n",
    ")\n",
    "items.head()"
   ]
  },
  {
   "cell_type": "code",
   "execution_count": 31,
   "metadata": {},
   "outputs": [],
   "source": [
    "assert items.groupby(\"ItemCode\").agg(unique_descriptions=(\"ItemDescription\", \"nunique\")).max().max() == 1, \"There are NOT multiple descriptions for the same item code!\""
   ]
  },
  {
   "cell_type": "code",
   "execution_count": 32,
   "metadata": {},
   "outputs": [
    {
     "data": {
      "text/plain": [
       "Region\n",
       "Europe           16090\n",
       "Asia-Pacific       971\n",
       "Middle East        349\n",
       "North America      298\n",
       "Other              294\n",
       "Name: count, dtype: int64"
      ]
     },
     "execution_count": 32,
     "metadata": {},
     "output_type": "execute_result"
    }
   ],
   "source": [
    "# Map Countries to Regions (Thanks Mistral for the mapping)\n",
    "country_to_region = {\n",
    "    'Channel Islands': 'Europe',\n",
    "    'EIRE': 'Europe',\n",
    "    'France': 'Europe',\n",
    "    'Greece': 'Europe',\n",
    "    'Spain': 'Europe',\n",
    "    'Switzerland': 'Europe',\n",
    "    'United Kingdom': 'Europe',\n",
    "    'Germany': 'Europe',\n",
    "    'Unspecified': 'Other',\n",
    "    'Australia': 'Asia-Pacific',\n",
    "    'Portugal': 'Europe',\n",
    "    'Italy': 'Europe',\n",
    "    'RSA': 'Other',\n",
    "    'Singapore': 'Asia-Pacific',\n",
    "    'United Arab Emirates': 'Middle East',\n",
    "    'Finland': 'Europe',\n",
    "    'Netherlands': 'Europe',\n",
    "    'Austria': 'Europe',\n",
    "    'Belgium': 'Europe',\n",
    "    'Cyprus': 'Europe',\n",
    "    'USA': 'North America',\n",
    "    'Denmark': 'Europe',\n",
    "    'Iceland': 'Europe',\n",
    "    'Sweden': 'Europe',\n",
    "    'Canada': 'North America',\n",
    "    'Malta': 'Europe',\n",
    "    'Norway': 'Europe',\n",
    "    'Bahrain': 'Middle East',\n",
    "    'European Community': 'Europe',\n",
    "    'Lebanon': 'Middle East',\n",
    "    'Poland': 'Europe',\n",
    "    'Israel': 'Middle East',\n",
    "    'Japan': 'Asia-Pacific',\n",
    "    'Czech Republic': 'Europe',\n",
    "    'Brazil': 'Other',\n",
    "    'Lithuania': 'Europe',\n",
    "    'Saudi Arabia': 'Middle East'\n",
    "}\n",
    "\n",
    "items['Region'] = items['Country'].map(country_to_region).fillna('Other')\n",
    "items['Region'].value_counts()"
   ]
  },
  {
   "cell_type": "code",
   "execution_count": 33,
   "metadata": {},
   "outputs": [
    {
     "data": {
      "application/vnd.microsoft.datawrangler.viewer.v0+json": {
       "columns": [
        {
         "name": "index",
         "rawType": "int64",
         "type": "integer"
        },
        {
         "name": "keywords",
         "rawType": "object",
         "type": "string"
        },
        {
         "name": "word_count",
         "rawType": "int64",
         "type": "integer"
        }
       ],
       "conversionMethod": "pd.DataFrame",
       "ref": "b572eeca-b3f4-417e-9929-a4f21a27feb5",
       "rows": [
        [
         "1638",
         "SET",
         "1981"
        ],
        [
         "1524",
         "RED",
         "1387"
        ],
        [
         "1991",
         "VINTAGE",
         "1207"
        ],
        [
         "134",
         "BAG",
         "1098"
        ],
        [
         "1400",
         "PINK",
         "1060"
        ]
       ],
       "shape": {
        "columns": 2,
        "rows": 5
       }
      },
      "text/html": [
       "<div>\n",
       "<style scoped>\n",
       "    .dataframe tbody tr th:only-of-type {\n",
       "        vertical-align: middle;\n",
       "    }\n",
       "\n",
       "    .dataframe tbody tr th {\n",
       "        vertical-align: top;\n",
       "    }\n",
       "\n",
       "    .dataframe thead th {\n",
       "        text-align: right;\n",
       "    }\n",
       "</style>\n",
       "<table border=\"1\" class=\"dataframe\">\n",
       "  <thead>\n",
       "    <tr style=\"text-align: right;\">\n",
       "      <th></th>\n",
       "      <th>keywords</th>\n",
       "      <th>word_count</th>\n",
       "    </tr>\n",
       "  </thead>\n",
       "  <tbody>\n",
       "    <tr>\n",
       "      <th>1638</th>\n",
       "      <td>SET</td>\n",
       "      <td>1981</td>\n",
       "    </tr>\n",
       "    <tr>\n",
       "      <th>1524</th>\n",
       "      <td>RED</td>\n",
       "      <td>1387</td>\n",
       "    </tr>\n",
       "    <tr>\n",
       "      <th>1991</th>\n",
       "      <td>VINTAGE</td>\n",
       "      <td>1207</td>\n",
       "    </tr>\n",
       "    <tr>\n",
       "      <th>134</th>\n",
       "      <td>BAG</td>\n",
       "      <td>1098</td>\n",
       "    </tr>\n",
       "    <tr>\n",
       "      <th>1400</th>\n",
       "      <td>PINK</td>\n",
       "      <td>1060</td>\n",
       "    </tr>\n",
       "  </tbody>\n",
       "</table>\n",
       "</div>"
      ],
      "text/plain": [
       "     keywords  word_count\n",
       "1638      SET        1981\n",
       "1524      RED        1387\n",
       "1991  VINTAGE        1207\n",
       "134       BAG        1098\n",
       "1400     PINK        1060"
      ]
     },
     "execution_count": 33,
     "metadata": {},
     "output_type": "execute_result"
    }
   ],
   "source": [
    "# Code below is simply to help find hierarchical attributes (like department)\n",
    "stopwords = ['AND', 'OF', 'FOR', 'TO', 'THE', 'IN', 'A', 'AN', 'IS', 'AT', 'ON',\n",
    "             'WITH', 'AS', 'BY', 'FROM', 'THAT', 'THIS', 'WHICH', 'BE', 'OR', '']\n",
    "kw = (\n",
    "    items\n",
    "    .assign(keywords = lambda x: x['ItemDescription'].str.split(' '))\n",
    "    .explode('keywords')\n",
    "    .groupby('keywords', as_index=False)\n",
    "    .agg(word_count=('ItemCode', 'count'))\n",
    "    .pipe(lambda df: df[~df['keywords'].isin(stopwords)])\n",
    "    .sort_values('word_count', ascending=False)\n",
    ")\n",
    "kw.head()"
   ]
  },
  {
   "cell_type": "code",
   "execution_count": 34,
   "metadata": {},
   "outputs": [],
   "source": [
    "def identify_department(item_description, keyword_mapping = {}):\n",
    "    for keyword, grouping in keyword_mapping.items():\n",
    "        if keyword.lower() in item_description.lower():\n",
    "            return grouping\n",
    "        \n",
    "    return \"Miscellaneous\"\n"
   ]
  },
  {
   "cell_type": "code",
   "execution_count": 35,
   "metadata": {},
   "outputs": [],
   "source": [
    "departments_mapping = {\n",
    "    \"CHRISTMAS\": \"CHRISTMAS\",\n",
    "    \"SANTA\": \"CHRISTMAS\",\n",
    "    \"GARLAND\": \"CHRISTMAS\",\n",
    "    \"XMAS\": \"CHRISTMAS\",\n",
    "    \"BIRTHDAY\": \"BIRTHDAY\",\n",
    "    \"HOME\": \"HOME AND GARDEN\",\n",
    "    \"GARDEN\": \"HOME AND GARDEN\",\n",
    "    \"DOORMAT\": \"HOME AND GARDEN\",\n",
    "    \"MIRROR\": \"HOME AND GARDEN\",\n",
    "    'CANDLE': 'HOME AND GARDEN',\n",
    "    'LIGHTS': 'HOME AND GARDEN',\n",
    "    'WALL': 'HOME AND GARDEN',\n",
    "    'LANTERN': 'HOME AND GARDEN',\n",
    "    'CHIME': 'HOME AND GARDEN',\n",
    "    'TRAY': 'HOME AND GARDEN',\n",
    "    \"COASTER\": \"HOME AND GARDEN\",\n",
    "    \"LIGHTBULB\": \"HOME AND GARDEN\",\n",
    "    \"DOORBELL\": \"HOME AND GARDEN\",\n",
    "    \"FRAME\": \"HOME AND GARDEN\",\n",
    "    \"CLOCK\": \"HOME AND GARDEN\",\n",
    "    \"BULB\": \"HOME AND GARDEN\",\n",
    "    \"BATH\": \"HOME AND GARDEN\",\n",
    "    \"PANTRY\": \"KITCHEN\",\n",
    "    \"KITCHEN\": \"KITCHEN\",\n",
    "    \"CAKE\": \"KITCHEN\",\n",
    "    \"TEA\": \"KITCHEN\",\n",
    "    \"EGG\": \"KITCHEN\",\n",
    "    \"BAKING\": \"KITCHEN\",\n",
    "    \"CUTLERY\": \"KITCHEN\",\n",
    "    \"APRON\": \"KITCHEN\",\n",
    "    \"COFFEE\": \"KITCHEN\",\n",
    "    'TUMBLER': 'KITCHEN',\n",
    "    'ORANGE SQUEEZER': 'KITCHEN',\n",
    "    \"COOKIE JAR\": \"KITCHEN\",\n",
    "    \"GLASS\": \"KITCHEN\",\n",
    "    \"BOTTLE\": \"KITCHEN\",\n",
    "    \"FELTCRAFT\": \"HOBBY\",\n",
    "    \"PENCILS\": \"HOBBY\",\n",
    "    \"SEWING\": \"HOBBY\",\n",
    "    \"PHOTO\": \"HOBBY\",\n",
    "    \"WARMER\": \"HOBBY\",\n",
    "    \"BOOK\": \"HOBBY\",\n",
    "    \"KNIT\": \"HOBBY\",\n",
    "    \"CARD\": \"HOBBY\",\n",
    "    'BAG': 'STORAGE',\n",
    "    'HOLDER': 'STORAGE',\n",
    "    'STORAGE': 'STORAGE',\n",
    "    'BOX': 'STORAGE',\n",
    "    'POLE': 'STORAGE',\n",
    "    \"RACK\": \"STORAGE\",\n",
    "    'BIN': 'STORAGE',\n",
    "    'SOCK': 'APPAREL',\n",
    "    'SHIRT': 'APPAREL',\n",
    "    'TROUSER': 'APPAREL',\n",
    "    'PANT': 'APPAREL',\n",
    "    'CAP': 'APPAREL',\n",
    "    'SOMBRERO': 'APPAREL',\n",
    "    'OFFICE': 'OFFICE',\n",
    "    \"SIGN\": \"OFFICE\",\n",
    "    \"PEN\": \"OFFICE\"\n",
    "}"
   ]
  },
  {
   "cell_type": "code",
   "execution_count": 36,
   "metadata": {},
   "outputs": [
    {
     "data": {
      "text/plain": [
       "Department\n",
       "Miscellaneous      7201\n",
       "KITCHEN            2833\n",
       "STORAGE            2360\n",
       "HOME AND GARDEN    2320\n",
       "HOBBY              1324\n",
       "CHRISTMAS           955\n",
       "OFFICE              683\n",
       "BIRTHDAY            214\n",
       "APPAREL             112\n",
       "Name: count, dtype: int64"
      ]
     },
     "execution_count": 36,
     "metadata": {},
     "output_type": "execute_result"
    }
   ],
   "source": [
    "items['Department'] = items['ItemDescription'].apply(identify_department, keyword_mapping=departments_mapping)\n",
    "items['Department'].value_counts()"
   ]
  },
  {
   "cell_type": "code",
   "execution_count": 37,
   "metadata": {},
   "outputs": [],
   "source": [
    "# For our purposes, we will want each item to have a department assigned, so we shall filter out any items that are not assigned a department\n",
    "items_final = items.loc[items['Department'] != 'Miscellaneous'].reset_index(drop=True)"
   ]
  },
  {
   "cell_type": "code",
   "execution_count": 38,
   "metadata": {},
   "outputs": [
    {
     "data": {
      "application/vnd.microsoft.datawrangler.viewer.v0+json": {
       "columns": [
        {
         "name": "index",
         "rawType": "int64",
         "type": "integer"
        },
        {
         "name": "Manager",
         "rawType": "object",
         "type": "string"
        },
        {
         "name": "Department",
         "rawType": "object",
         "type": "string"
        }
       ],
       "conversionMethod": "pd.DataFrame",
       "ref": "faa01529-fa77-4a85-99d8-1fa7dc511f16",
       "rows": [
        [
         "0",
         "John",
         "OFFICE"
        ],
        [
         "1",
         "John",
         "HOBBY"
        ],
        [
         "2",
         "Mary",
         "CHRISTMAS"
        ],
        [
         "3",
         "Mary",
         "BIRTHDAY"
        ],
        [
         "4",
         "Steve",
         "KITCHEN"
        ],
        [
         "5",
         "Anya",
         "STORAGE"
        ],
        [
         "6",
         "Samantha",
         "HOME AND GARDEN"
        ],
        [
         "7",
         "Jackson",
         "APPAREL"
        ]
       ],
       "shape": {
        "columns": 2,
        "rows": 8
       }
      },
      "text/html": [
       "<div>\n",
       "<style scoped>\n",
       "    .dataframe tbody tr th:only-of-type {\n",
       "        vertical-align: middle;\n",
       "    }\n",
       "\n",
       "    .dataframe tbody tr th {\n",
       "        vertical-align: top;\n",
       "    }\n",
       "\n",
       "    .dataframe thead th {\n",
       "        text-align: right;\n",
       "    }\n",
       "</style>\n",
       "<table border=\"1\" class=\"dataframe\">\n",
       "  <thead>\n",
       "    <tr style=\"text-align: right;\">\n",
       "      <th></th>\n",
       "      <th>Manager</th>\n",
       "      <th>Department</th>\n",
       "    </tr>\n",
       "  </thead>\n",
       "  <tbody>\n",
       "    <tr>\n",
       "      <th>0</th>\n",
       "      <td>John</td>\n",
       "      <td>OFFICE</td>\n",
       "    </tr>\n",
       "    <tr>\n",
       "      <th>1</th>\n",
       "      <td>John</td>\n",
       "      <td>HOBBY</td>\n",
       "    </tr>\n",
       "    <tr>\n",
       "      <th>2</th>\n",
       "      <td>Mary</td>\n",
       "      <td>CHRISTMAS</td>\n",
       "    </tr>\n",
       "    <tr>\n",
       "      <th>3</th>\n",
       "      <td>Mary</td>\n",
       "      <td>BIRTHDAY</td>\n",
       "    </tr>\n",
       "    <tr>\n",
       "      <th>4</th>\n",
       "      <td>Steve</td>\n",
       "      <td>KITCHEN</td>\n",
       "    </tr>\n",
       "    <tr>\n",
       "      <th>5</th>\n",
       "      <td>Anya</td>\n",
       "      <td>STORAGE</td>\n",
       "    </tr>\n",
       "    <tr>\n",
       "      <th>6</th>\n",
       "      <td>Samantha</td>\n",
       "      <td>HOME AND GARDEN</td>\n",
       "    </tr>\n",
       "    <tr>\n",
       "      <th>7</th>\n",
       "      <td>Jackson</td>\n",
       "      <td>APPAREL</td>\n",
       "    </tr>\n",
       "  </tbody>\n",
       "</table>\n",
       "</div>"
      ],
      "text/plain": [
       "    Manager       Department\n",
       "0      John           OFFICE\n",
       "1      John            HOBBY\n",
       "2      Mary        CHRISTMAS\n",
       "3      Mary         BIRTHDAY\n",
       "4     Steve          KITCHEN\n",
       "5      Anya          STORAGE\n",
       "6  Samantha  HOME AND GARDEN\n",
       "7   Jackson          APPAREL"
      ]
     },
     "execution_count": 38,
     "metadata": {},
     "output_type": "execute_result"
    }
   ],
   "source": [
    "manager_mapping = {\n",
    "    \"John\": ['OFFICE', 'HOBBY'],\n",
    "    \"Mary\": ['CHRISTMAS', 'BIRTHDAY'],\n",
    "    \"Steve\": ['KITCHEN'],\n",
    "    \"Anya\": ['STORAGE'],\n",
    "    \"Samantha\": ['HOME AND GARDEN'],\n",
    "    \"Jackson\": ['APPAREL'],\n",
    "}\n",
    "\n",
    "# Convert to a pandas DataFrame\n",
    "manager_mapping_df = pd.DataFrame()\n",
    "for manager, departments in manager_mapping.items():\n",
    "    for department in departments:\n",
    "        manager_mapping_df = pd.concat([manager_mapping_df, pd.DataFrame({'Manager': [manager], 'Department': [department]})], ignore_index=True, axis = 0)\n",
    "\n",
    "manager_mapping_df = manager_mapping_df.drop_duplicates().reset_index(drop=True)\n",
    "manager_mapping_df"
   ]
  },
  {
   "cell_type": "code",
   "execution_count": 39,
   "metadata": {},
   "outputs": [
    {
     "data": {
      "text/plain": [
       "Manager\n",
       "Mary        15\n",
       "Jackson      8\n",
       "John         8\n",
       "Steve        7\n",
       "Samantha     6\n",
       "Anya         6\n",
       "Name: count, dtype: int64"
      ]
     },
     "execution_count": 39,
     "metadata": {},
     "output_type": "execute_result"
    }
   ],
   "source": [
    "# Create a dataframe of 50 sales reps and their assigned manager (chosen randomly but deterministically)\n",
    "sales_reps = pd.DataFrame({\n",
    "    'SalesRep': [f'SalesRep_{i}' for i in range(50)],\n",
    "    'Manager': np.random.choice(manager_mapping_df['Manager'], size = 50)\n",
    "})\n",
    "sales_reps['Manager'].value_counts()"
   ]
  },
  {
   "cell_type": "code",
   "execution_count": 40,
   "metadata": {},
   "outputs": [],
   "source": [
    "# Randomly assign sales reps a region which has items under the purview of their manager such that each region a manager has sales in has at least one sales rep\n",
    "regions = items_final['Region'].unique()\n",
    "sales_reps['Region'] = sales_reps['Manager'].apply(lambda x: manager_mapping_df.loc[manager_mapping_df['Manager'] == x, 'Department'].values[0])\n",
    "sales_reps['Region'] = sales_reps['Region'].apply(lambda x: random.choice(items_final.loc[items_final['Department'] == x, 'Region'].unique()))\n",
    "\n",
    "# Randomly determine if sales reps can sell item sets\n",
    "sales_reps['CanSellSets'] = random.choices([True, False], k=len(sales_reps), weights=[0.8, 0.2])"
   ]
  },
  {
   "cell_type": "code",
   "execution_count": 41,
   "metadata": {},
   "outputs": [
    {
     "data": {
      "text/plain": [
       "Region\n",
       "Europe           15\n",
       "Asia-Pacific     11\n",
       "Middle East       9\n",
       "North America     8\n",
       "Other             7\n",
       "Name: count, dtype: int64"
      ]
     },
     "execution_count": 41,
     "metadata": {},
     "output_type": "execute_result"
    }
   ],
   "source": [
    "sales_reps.value_counts('Region')"
   ]
  },
  {
   "cell_type": "code",
   "execution_count": 42,
   "metadata": {},
   "outputs": [
    {
     "data": {
      "text/plain": [
       "CanSellSets\n",
       "True     40\n",
       "False    10\n",
       "Name: count, dtype: int64"
      ]
     },
     "execution_count": 42,
     "metadata": {},
     "output_type": "execute_result"
    }
   ],
   "source": [
    "sales_reps.value_counts('CanSellSets')"
   ]
  },
  {
   "cell_type": "code",
   "execution_count": 43,
   "metadata": {},
   "outputs": [],
   "source": [
    "# Save the three dataframes to CSV files\n",
    "items_final.to_csv('../data/items_final.csv', index=False, encoding='utf-8')\n",
    "sales_reps.to_csv('../data/sales_reps.csv', index=False, encoding='utf-8')\n",
    "manager_mapping_df.to_csv('../data/manager_mapping.csv', index=False, encoding='utf-8')"
   ]
  },
  {
   "cell_type": "code",
   "execution_count": null,
   "metadata": {},
   "outputs": [],
   "source": []
  },
  {
   "cell_type": "code",
   "execution_count": 44,
   "metadata": {},
   "outputs": [
    {
     "data": {
      "application/vnd.microsoft.datawrangler.viewer.v0+json": {
       "columns": [
        {
         "name": "index",
         "rawType": "int64",
         "type": "integer"
        },
        {
         "name": "Department",
         "rawType": "object",
         "type": "string"
        },
        {
         "name": "Region",
         "rawType": "object",
         "type": "string"
        }
       ],
       "conversionMethod": "pd.DataFrame",
       "ref": "566a1715-0596-4ec5-80e7-e594f9628227",
       "rows": [
        [
         "6069",
         "APPAREL",
         "Asia-Pacific"
        ],
        [
         "95",
         "APPAREL",
         "Europe"
        ],
        [
         "8228",
         "APPAREL",
         "Middle East"
        ],
        [
         "6070",
         "APPAREL",
         "North America"
        ],
        [
         "8211",
         "APPAREL",
         "Other"
        ],
        [
         "2580",
         "BIRTHDAY",
         "Asia-Pacific"
        ],
        [
         "513",
         "BIRTHDAY",
         "Europe"
        ],
        [
         "3702",
         "BIRTHDAY",
         "Middle East"
        ],
        [
         "2840",
         "BIRTHDAY",
         "North America"
        ],
        [
         "2815",
         "BIRTHDAY",
         "Other"
        ],
        [
         "1018",
         "CHRISTMAS",
         "Asia-Pacific"
        ],
        [
         "259",
         "CHRISTMAS",
         "Europe"
        ],
        [
         "2616",
         "CHRISTMAS",
         "Middle East"
        ],
        [
         "6621",
         "CHRISTMAS",
         "North America"
        ],
        [
         "6602",
         "CHRISTMAS",
         "Other"
        ],
        [
         "959",
         "HOBBY",
         "Asia-Pacific"
        ],
        [
         "116",
         "HOBBY",
         "Europe"
        ],
        [
         "590",
         "HOBBY",
         "Middle East"
        ],
        [
         "1185",
         "HOBBY",
         "North America"
        ],
        [
         "3066",
         "HOBBY",
         "Other"
        ],
        [
         "13",
         "HOME AND GARDEN",
         "Asia-Pacific"
        ],
        [
         "0",
         "HOME AND GARDEN",
         "Europe"
        ],
        [
         "31",
         "HOME AND GARDEN",
         "Middle East"
        ],
        [
         "61",
         "HOME AND GARDEN",
         "North America"
        ],
        [
         "12",
         "HOME AND GARDEN",
         "Other"
        ],
        [
         "515",
         "KITCHEN",
         "Asia-Pacific"
        ],
        [
         "144",
         "KITCHEN",
         "Europe"
        ],
        [
         "456",
         "KITCHEN",
         "Middle East"
        ],
        [
         "288",
         "KITCHEN",
         "North America"
        ],
        [
         "493",
         "KITCHEN",
         "Other"
        ],
        [
         "429",
         "OFFICE",
         "Asia-Pacific"
        ],
        [
         "96",
         "OFFICE",
         "Europe"
        ],
        [
         "393",
         "OFFICE",
         "Middle East"
        ],
        [
         "494",
         "OFFICE",
         "North America"
        ],
        [
         "431",
         "OFFICE",
         "Other"
        ],
        [
         "146",
         "STORAGE",
         "Asia-Pacific"
        ],
        [
         "110",
         "STORAGE",
         "Europe"
        ],
        [
         "795",
         "STORAGE",
         "Middle East"
        ],
        [
         "148",
         "STORAGE",
         "North America"
        ],
        [
         "154",
         "STORAGE",
         "Other"
        ]
       ],
       "shape": {
        "columns": 2,
        "rows": 40
       }
      },
      "text/html": [
       "<div>\n",
       "<style scoped>\n",
       "    .dataframe tbody tr th:only-of-type {\n",
       "        vertical-align: middle;\n",
       "    }\n",
       "\n",
       "    .dataframe tbody tr th {\n",
       "        vertical-align: top;\n",
       "    }\n",
       "\n",
       "    .dataframe thead th {\n",
       "        text-align: right;\n",
       "    }\n",
       "</style>\n",
       "<table border=\"1\" class=\"dataframe\">\n",
       "  <thead>\n",
       "    <tr style=\"text-align: right;\">\n",
       "      <th></th>\n",
       "      <th>Department</th>\n",
       "      <th>Region</th>\n",
       "    </tr>\n",
       "  </thead>\n",
       "  <tbody>\n",
       "    <tr>\n",
       "      <th>6069</th>\n",
       "      <td>APPAREL</td>\n",
       "      <td>Asia-Pacific</td>\n",
       "    </tr>\n",
       "    <tr>\n",
       "      <th>95</th>\n",
       "      <td>APPAREL</td>\n",
       "      <td>Europe</td>\n",
       "    </tr>\n",
       "    <tr>\n",
       "      <th>8228</th>\n",
       "      <td>APPAREL</td>\n",
       "      <td>Middle East</td>\n",
       "    </tr>\n",
       "    <tr>\n",
       "      <th>6070</th>\n",
       "      <td>APPAREL</td>\n",
       "      <td>North America</td>\n",
       "    </tr>\n",
       "    <tr>\n",
       "      <th>8211</th>\n",
       "      <td>APPAREL</td>\n",
       "      <td>Other</td>\n",
       "    </tr>\n",
       "    <tr>\n",
       "      <th>2580</th>\n",
       "      <td>BIRTHDAY</td>\n",
       "      <td>Asia-Pacific</td>\n",
       "    </tr>\n",
       "    <tr>\n",
       "      <th>513</th>\n",
       "      <td>BIRTHDAY</td>\n",
       "      <td>Europe</td>\n",
       "    </tr>\n",
       "    <tr>\n",
       "      <th>3702</th>\n",
       "      <td>BIRTHDAY</td>\n",
       "      <td>Middle East</td>\n",
       "    </tr>\n",
       "    <tr>\n",
       "      <th>2840</th>\n",
       "      <td>BIRTHDAY</td>\n",
       "      <td>North America</td>\n",
       "    </tr>\n",
       "    <tr>\n",
       "      <th>2815</th>\n",
       "      <td>BIRTHDAY</td>\n",
       "      <td>Other</td>\n",
       "    </tr>\n",
       "    <tr>\n",
       "      <th>1018</th>\n",
       "      <td>CHRISTMAS</td>\n",
       "      <td>Asia-Pacific</td>\n",
       "    </tr>\n",
       "    <tr>\n",
       "      <th>259</th>\n",
       "      <td>CHRISTMAS</td>\n",
       "      <td>Europe</td>\n",
       "    </tr>\n",
       "    <tr>\n",
       "      <th>2616</th>\n",
       "      <td>CHRISTMAS</td>\n",
       "      <td>Middle East</td>\n",
       "    </tr>\n",
       "    <tr>\n",
       "      <th>6621</th>\n",
       "      <td>CHRISTMAS</td>\n",
       "      <td>North America</td>\n",
       "    </tr>\n",
       "    <tr>\n",
       "      <th>6602</th>\n",
       "      <td>CHRISTMAS</td>\n",
       "      <td>Other</td>\n",
       "    </tr>\n",
       "    <tr>\n",
       "      <th>959</th>\n",
       "      <td>HOBBY</td>\n",
       "      <td>Asia-Pacific</td>\n",
       "    </tr>\n",
       "    <tr>\n",
       "      <th>116</th>\n",
       "      <td>HOBBY</td>\n",
       "      <td>Europe</td>\n",
       "    </tr>\n",
       "    <tr>\n",
       "      <th>590</th>\n",
       "      <td>HOBBY</td>\n",
       "      <td>Middle East</td>\n",
       "    </tr>\n",
       "    <tr>\n",
       "      <th>1185</th>\n",
       "      <td>HOBBY</td>\n",
       "      <td>North America</td>\n",
       "    </tr>\n",
       "    <tr>\n",
       "      <th>3066</th>\n",
       "      <td>HOBBY</td>\n",
       "      <td>Other</td>\n",
       "    </tr>\n",
       "    <tr>\n",
       "      <th>13</th>\n",
       "      <td>HOME AND GARDEN</td>\n",
       "      <td>Asia-Pacific</td>\n",
       "    </tr>\n",
       "    <tr>\n",
       "      <th>0</th>\n",
       "      <td>HOME AND GARDEN</td>\n",
       "      <td>Europe</td>\n",
       "    </tr>\n",
       "    <tr>\n",
       "      <th>31</th>\n",
       "      <td>HOME AND GARDEN</td>\n",
       "      <td>Middle East</td>\n",
       "    </tr>\n",
       "    <tr>\n",
       "      <th>61</th>\n",
       "      <td>HOME AND GARDEN</td>\n",
       "      <td>North America</td>\n",
       "    </tr>\n",
       "    <tr>\n",
       "      <th>12</th>\n",
       "      <td>HOME AND GARDEN</td>\n",
       "      <td>Other</td>\n",
       "    </tr>\n",
       "    <tr>\n",
       "      <th>515</th>\n",
       "      <td>KITCHEN</td>\n",
       "      <td>Asia-Pacific</td>\n",
       "    </tr>\n",
       "    <tr>\n",
       "      <th>144</th>\n",
       "      <td>KITCHEN</td>\n",
       "      <td>Europe</td>\n",
       "    </tr>\n",
       "    <tr>\n",
       "      <th>456</th>\n",
       "      <td>KITCHEN</td>\n",
       "      <td>Middle East</td>\n",
       "    </tr>\n",
       "    <tr>\n",
       "      <th>288</th>\n",
       "      <td>KITCHEN</td>\n",
       "      <td>North America</td>\n",
       "    </tr>\n",
       "    <tr>\n",
       "      <th>493</th>\n",
       "      <td>KITCHEN</td>\n",
       "      <td>Other</td>\n",
       "    </tr>\n",
       "    <tr>\n",
       "      <th>429</th>\n",
       "      <td>OFFICE</td>\n",
       "      <td>Asia-Pacific</td>\n",
       "    </tr>\n",
       "    <tr>\n",
       "      <th>96</th>\n",
       "      <td>OFFICE</td>\n",
       "      <td>Europe</td>\n",
       "    </tr>\n",
       "    <tr>\n",
       "      <th>393</th>\n",
       "      <td>OFFICE</td>\n",
       "      <td>Middle East</td>\n",
       "    </tr>\n",
       "    <tr>\n",
       "      <th>494</th>\n",
       "      <td>OFFICE</td>\n",
       "      <td>North America</td>\n",
       "    </tr>\n",
       "    <tr>\n",
       "      <th>431</th>\n",
       "      <td>OFFICE</td>\n",
       "      <td>Other</td>\n",
       "    </tr>\n",
       "    <tr>\n",
       "      <th>146</th>\n",
       "      <td>STORAGE</td>\n",
       "      <td>Asia-Pacific</td>\n",
       "    </tr>\n",
       "    <tr>\n",
       "      <th>110</th>\n",
       "      <td>STORAGE</td>\n",
       "      <td>Europe</td>\n",
       "    </tr>\n",
       "    <tr>\n",
       "      <th>795</th>\n",
       "      <td>STORAGE</td>\n",
       "      <td>Middle East</td>\n",
       "    </tr>\n",
       "    <tr>\n",
       "      <th>148</th>\n",
       "      <td>STORAGE</td>\n",
       "      <td>North America</td>\n",
       "    </tr>\n",
       "    <tr>\n",
       "      <th>154</th>\n",
       "      <td>STORAGE</td>\n",
       "      <td>Other</td>\n",
       "    </tr>\n",
       "  </tbody>\n",
       "</table>\n",
       "</div>"
      ],
      "text/plain": [
       "           Department         Region\n",
       "6069          APPAREL   Asia-Pacific\n",
       "95            APPAREL         Europe\n",
       "8228          APPAREL    Middle East\n",
       "6070          APPAREL  North America\n",
       "8211          APPAREL          Other\n",
       "2580         BIRTHDAY   Asia-Pacific\n",
       "513          BIRTHDAY         Europe\n",
       "3702         BIRTHDAY    Middle East\n",
       "2840         BIRTHDAY  North America\n",
       "2815         BIRTHDAY          Other\n",
       "1018        CHRISTMAS   Asia-Pacific\n",
       "259         CHRISTMAS         Europe\n",
       "2616        CHRISTMAS    Middle East\n",
       "6621        CHRISTMAS  North America\n",
       "6602        CHRISTMAS          Other\n",
       "959             HOBBY   Asia-Pacific\n",
       "116             HOBBY         Europe\n",
       "590             HOBBY    Middle East\n",
       "1185            HOBBY  North America\n",
       "3066            HOBBY          Other\n",
       "13    HOME AND GARDEN   Asia-Pacific\n",
       "0     HOME AND GARDEN         Europe\n",
       "31    HOME AND GARDEN    Middle East\n",
       "61    HOME AND GARDEN  North America\n",
       "12    HOME AND GARDEN          Other\n",
       "515           KITCHEN   Asia-Pacific\n",
       "144           KITCHEN         Europe\n",
       "456           KITCHEN    Middle East\n",
       "288           KITCHEN  North America\n",
       "493           KITCHEN          Other\n",
       "429            OFFICE   Asia-Pacific\n",
       "96             OFFICE         Europe\n",
       "393            OFFICE    Middle East\n",
       "494            OFFICE  North America\n",
       "431            OFFICE          Other\n",
       "146           STORAGE   Asia-Pacific\n",
       "110           STORAGE         Europe\n",
       "795           STORAGE    Middle East\n",
       "148           STORAGE  North America\n",
       "154           STORAGE          Other"
      ]
     },
     "execution_count": 44,
     "metadata": {},
     "output_type": "execute_result"
    }
   ],
   "source": [
    "items_final[['Department', 'Region']].drop_duplicates().sort_values(['Department', 'Region'])"
   ]
  },
  {
   "cell_type": "code",
   "execution_count": 45,
   "metadata": {},
   "outputs": [
    {
     "data": {
      "application/vnd.microsoft.datawrangler.viewer.v0+json": {
       "columns": [
        {
         "name": "index",
         "rawType": "int64",
         "type": "integer"
        },
        {
         "name": "Manager",
         "rawType": "object",
         "type": "string"
        },
        {
         "name": "region_ct",
         "rawType": "int64",
         "type": "integer"
        }
       ],
       "conversionMethod": "pd.DataFrame",
       "ref": "dbecace2-c081-4578-91f3-977e6efd3d26",
       "rows": [
        [
         "3",
         "Mary",
         "5"
        ],
        [
         "2",
         "John",
         "5"
        ],
        [
         "4",
         "Samantha",
         "4"
        ],
        [
         "0",
         "Anya",
         "4"
        ],
        [
         "5",
         "Steve",
         "4"
        ],
        [
         "1",
         "Jackson",
         "3"
        ]
       ],
       "shape": {
        "columns": 2,
        "rows": 6
       }
      },
      "text/html": [
       "<div>\n",
       "<style scoped>\n",
       "    .dataframe tbody tr th:only-of-type {\n",
       "        vertical-align: middle;\n",
       "    }\n",
       "\n",
       "    .dataframe tbody tr th {\n",
       "        vertical-align: top;\n",
       "    }\n",
       "\n",
       "    .dataframe thead th {\n",
       "        text-align: right;\n",
       "    }\n",
       "</style>\n",
       "<table border=\"1\" class=\"dataframe\">\n",
       "  <thead>\n",
       "    <tr style=\"text-align: right;\">\n",
       "      <th></th>\n",
       "      <th>Manager</th>\n",
       "      <th>region_ct</th>\n",
       "    </tr>\n",
       "  </thead>\n",
       "  <tbody>\n",
       "    <tr>\n",
       "      <th>3</th>\n",
       "      <td>Mary</td>\n",
       "      <td>5</td>\n",
       "    </tr>\n",
       "    <tr>\n",
       "      <th>2</th>\n",
       "      <td>John</td>\n",
       "      <td>5</td>\n",
       "    </tr>\n",
       "    <tr>\n",
       "      <th>4</th>\n",
       "      <td>Samantha</td>\n",
       "      <td>4</td>\n",
       "    </tr>\n",
       "    <tr>\n",
       "      <th>0</th>\n",
       "      <td>Anya</td>\n",
       "      <td>4</td>\n",
       "    </tr>\n",
       "    <tr>\n",
       "      <th>5</th>\n",
       "      <td>Steve</td>\n",
       "      <td>4</td>\n",
       "    </tr>\n",
       "    <tr>\n",
       "      <th>1</th>\n",
       "      <td>Jackson</td>\n",
       "      <td>3</td>\n",
       "    </tr>\n",
       "  </tbody>\n",
       "</table>\n",
       "</div>"
      ],
      "text/plain": [
       "    Manager  region_ct\n",
       "3      Mary          5\n",
       "2      John          5\n",
       "4  Samantha          4\n",
       "0      Anya          4\n",
       "5     Steve          4\n",
       "1   Jackson          3"
      ]
     },
     "execution_count": 45,
     "metadata": {},
     "output_type": "execute_result"
    }
   ],
   "source": [
    "sales_reps.groupby(\"Manager\").agg(region_ct = ('Region', 'nunique')).reset_index().sort_values('region_ct', ascending=False)"
   ]
  },
  {
   "cell_type": "code",
   "execution_count": null,
   "metadata": {},
   "outputs": [],
   "source": []
  },
  {
   "cell_type": "code",
   "execution_count": null,
   "metadata": {},
   "outputs": [],
   "source": []
  }
 ],
 "metadata": {
  "kernelspec": {
   "display_name": "Python 3 (ipykernel)",
   "language": "python",
   "name": "python3"
  },
  "language_info": {
   "codemirror_mode": {
    "name": "ipython",
    "version": 3
   },
   "file_extension": ".py",
   "mimetype": "text/x-python",
   "name": "python",
   "nbconvert_exporter": "python",
   "pygments_lexer": "ipython3",
   "version": "3.10.12"
  }
 },
 "nbformat": 4,
 "nbformat_minor": 2
}
