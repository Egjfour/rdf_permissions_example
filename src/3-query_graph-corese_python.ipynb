{
 "cells": [
  {
   "cell_type": "code",
   "execution_count": 6,
   "metadata": {},
   "outputs": [
    {
     "name": "stderr",
     "output_type": "stream",
     "text": [
      "2025-04-16 21:15:25,662 - INFO - Py4J: Loading CORESE...\n",
      "2025-04-16 21:15:26,392 - INFO - Py4J: CORESE is loaded\n"
     ]
    },
    {
     "data": {
      "text/plain": [
       "'/mnt/c/repos/rdf_permissions_example'"
      ]
     },
     "execution_count": 6,
     "metadata": {},
     "output_type": "execute_result"
    }
   ],
   "source": [
    "from pycorese.api import CoreseAPI\n",
    "\n",
    "python_to_java_bridge = 'py4j'\n",
    "corese = CoreseAPI(java_bridge=python_to_java_bridge)\n",
    "_ = corese.loadCorese()\n",
    "\n",
    "\n",
    "import os\n",
    "\n",
    "if 'src' in os.getcwd():\n",
    "    os.chdir('..')\n",
    "\n",
    "os.getcwd()"
   ]
  },
  {
   "cell_type": "code",
   "execution_count": 7,
   "metadata": {},
   "outputs": [],
   "source": [
    "g = corese.loadRDF(\"data/server/graph_data.rdf\")"
   ]
  },
  {
   "cell_type": "code",
   "execution_count": 8,
   "metadata": {},
   "outputs": [
    {
     "data": {
      "application/vnd.microsoft.datawrangler.viewer.v0+json": {
       "columns": [
        {
         "name": "index",
         "rawType": "int64",
         "type": "integer"
        },
        {
         "name": "s",
         "rawType": "string",
         "type": "string"
        },
        {
         "name": "p",
         "rawType": "string",
         "type": "string"
        },
        {
         "name": "o",
         "rawType": "string",
         "type": "string"
        }
       ],
       "conversionMethod": "pd.DataFrame",
       "ref": "eeef3af7-ca65-4767-8b85-fed28b9a8da1",
       "rows": [
        [
         "0",
         "_:b0",
         "http://www.w3.org/1999/02/22-rdf-syntax-ns#first",
         "local://security.permissions.net/vocab#managedBy"
        ],
        [
         "1",
         "_:b1",
         "http://www.w3.org/1999/02/22-rdf-syntax-ns#first",
         "local://security.permissions.net/vocab#managesDepartment"
        ],
        [
         "2",
         "_:b0",
         "http://www.w3.org/1999/02/22-rdf-syntax-ns#rest",
         "_:b1"
        ],
        [
         "3",
         "_:b1",
         "http://www.w3.org/1999/02/22-rdf-syntax-ns#rest",
         "http://www.w3.org/1999/02/22-rdf-syntax-ns#nil"
        ],
        [
         "4",
         "local://security.permissions.net/entities#487956#Switzerland",
         "http://www.w3.org/1999/02/22-rdf-syntax-ns#type",
         "local://security.permissions.net/vocab#Record"
        ]
       ],
       "shape": {
        "columns": 3,
        "rows": 5
       }
      },
      "text/html": [
       "<div>\n",
       "<style scoped>\n",
       "    .dataframe tbody tr th:only-of-type {\n",
       "        vertical-align: middle;\n",
       "    }\n",
       "\n",
       "    .dataframe tbody tr th {\n",
       "        vertical-align: top;\n",
       "    }\n",
       "\n",
       "    .dataframe thead th {\n",
       "        text-align: right;\n",
       "    }\n",
       "</style>\n",
       "<table border=\"1\" class=\"dataframe\">\n",
       "  <thead>\n",
       "    <tr style=\"text-align: right;\">\n",
       "      <th></th>\n",
       "      <th>s</th>\n",
       "      <th>p</th>\n",
       "      <th>o</th>\n",
       "    </tr>\n",
       "  </thead>\n",
       "  <tbody>\n",
       "    <tr>\n",
       "      <th>0</th>\n",
       "      <td>_:b0</td>\n",
       "      <td>http://www.w3.org/1999/02/22-rdf-syntax-ns#first</td>\n",
       "      <td>local://security.permissions.net/vocab#managedBy</td>\n",
       "    </tr>\n",
       "    <tr>\n",
       "      <th>1</th>\n",
       "      <td>_:b1</td>\n",
       "      <td>http://www.w3.org/1999/02/22-rdf-syntax-ns#first</td>\n",
       "      <td>local://security.permissions.net/vocab#manages...</td>\n",
       "    </tr>\n",
       "    <tr>\n",
       "      <th>2</th>\n",
       "      <td>_:b0</td>\n",
       "      <td>http://www.w3.org/1999/02/22-rdf-syntax-ns#rest</td>\n",
       "      <td>_:b1</td>\n",
       "    </tr>\n",
       "    <tr>\n",
       "      <th>3</th>\n",
       "      <td>_:b1</td>\n",
       "      <td>http://www.w3.org/1999/02/22-rdf-syntax-ns#rest</td>\n",
       "      <td>http://www.w3.org/1999/02/22-rdf-syntax-ns#nil</td>\n",
       "    </tr>\n",
       "    <tr>\n",
       "      <th>4</th>\n",
       "      <td>local://security.permissions.net/entities#4879...</td>\n",
       "      <td>http://www.w3.org/1999/02/22-rdf-syntax-ns#type</td>\n",
       "      <td>local://security.permissions.net/vocab#Record</td>\n",
       "    </tr>\n",
       "  </tbody>\n",
       "</table>\n",
       "</div>"
      ],
      "text/plain": [
       "                                                   s  \\\n",
       "0                                               _:b0   \n",
       "1                                               _:b1   \n",
       "2                                               _:b0   \n",
       "3                                               _:b1   \n",
       "4  local://security.permissions.net/entities#4879...   \n",
       "\n",
       "                                                  p  \\\n",
       "0  http://www.w3.org/1999/02/22-rdf-syntax-ns#first   \n",
       "1  http://www.w3.org/1999/02/22-rdf-syntax-ns#first   \n",
       "2   http://www.w3.org/1999/02/22-rdf-syntax-ns#rest   \n",
       "3   http://www.w3.org/1999/02/22-rdf-syntax-ns#rest   \n",
       "4   http://www.w3.org/1999/02/22-rdf-syntax-ns#type   \n",
       "\n",
       "                                                   o  \n",
       "0   local://security.permissions.net/vocab#managedBy  \n",
       "1  local://security.permissions.net/vocab#manages...  \n",
       "2                                               _:b1  \n",
       "3     http://www.w3.org/1999/02/22-rdf-syntax-ns#nil  \n",
       "4      local://security.permissions.net/vocab#Record  "
      ]
     },
     "execution_count": 8,
     "metadata": {},
     "output_type": "execute_result"
    }
   ],
   "source": [
    "# Simple first 5 triples from the whole graph\n",
    "res = corese.sparqlSelect(g, \"SELECT * WHERE { ?s ?p ?o } LIMIT 5\", return_dataframe=True)\n",
    "res"
   ]
  },
  {
   "cell_type": "code",
   "execution_count": 9,
   "metadata": {},
   "outputs": [
    {
     "data": {
      "application/vnd.microsoft.datawrangler.viewer.v0+json": {
       "columns": [
        {
         "name": "index",
         "rawType": "int64",
         "type": "integer"
        },
        {
         "name": "s",
         "rawType": "string",
         "type": "string"
        },
        {
         "name": "p",
         "rawType": "string",
         "type": "string"
        },
        {
         "name": "o",
         "rawType": "string",
         "type": "string"
        }
       ],
       "conversionMethod": "pd.DataFrame",
       "ref": "74317d32-e4a1-4f1e-a660-fd22cfbba4fb",
       "rows": [
        [
         "0",
         "local://security.permissions.net/entities#Mary",
         "local://security.permissions.net/vocab#managesDepartment",
         "local://security.permissions.net/entities#CHRISTMAS"
        ],
        [
         "1",
         "local://security.permissions.net/entities#Mary",
         "local://security.permissions.net/vocab#managesDepartment",
         "local://security.permissions.net/entities#BIRTHDAY"
        ],
        [
         "2",
         "local://security.permissions.net/entities#Jackson",
         "local://security.permissions.net/vocab#managesDepartment",
         "local://security.permissions.net/entities#APPAREL"
        ],
        [
         "3",
         "local://security.permissions.net/entities#Anya",
         "local://security.permissions.net/vocab#managesDepartment",
         "local://security.permissions.net/entities#STORAGE"
        ],
        [
         "4",
         "local://security.permissions.net/entities#Steve",
         "local://security.permissions.net/vocab#managesDepartment",
         "local://security.permissions.net/entities#KITCHEN"
        ],
        [
         "5",
         "local://security.permissions.net/entities#John",
         "local://security.permissions.net/vocab#managesDepartment",
         "local://security.permissions.net/entities#HOBBY"
        ],
        [
         "6",
         "local://security.permissions.net/entities#John",
         "local://security.permissions.net/vocab#managesDepartment",
         "local://security.permissions.net/entities#OFFICE"
        ],
        [
         "7",
         "local://security.permissions.net/entities#Samantha",
         "local://security.permissions.net/vocab#managesDepartment",
         "local://security.permissions.net/entities#HOME%20AND%20GARDEN"
        ]
       ],
       "shape": {
        "columns": 3,
        "rows": 8
       }
      },
      "text/html": [
       "<div>\n",
       "<style scoped>\n",
       "    .dataframe tbody tr th:only-of-type {\n",
       "        vertical-align: middle;\n",
       "    }\n",
       "\n",
       "    .dataframe tbody tr th {\n",
       "        vertical-align: top;\n",
       "    }\n",
       "\n",
       "    .dataframe thead th {\n",
       "        text-align: right;\n",
       "    }\n",
       "</style>\n",
       "<table border=\"1\" class=\"dataframe\">\n",
       "  <thead>\n",
       "    <tr style=\"text-align: right;\">\n",
       "      <th></th>\n",
       "      <th>s</th>\n",
       "      <th>p</th>\n",
       "      <th>o</th>\n",
       "    </tr>\n",
       "  </thead>\n",
       "  <tbody>\n",
       "    <tr>\n",
       "      <th>0</th>\n",
       "      <td>local://security.permissions.net/entities#Mary</td>\n",
       "      <td>local://security.permissions.net/vocab#manages...</td>\n",
       "      <td>local://security.permissions.net/entities#CHRI...</td>\n",
       "    </tr>\n",
       "    <tr>\n",
       "      <th>1</th>\n",
       "      <td>local://security.permissions.net/entities#Mary</td>\n",
       "      <td>local://security.permissions.net/vocab#manages...</td>\n",
       "      <td>local://security.permissions.net/entities#BIRT...</td>\n",
       "    </tr>\n",
       "    <tr>\n",
       "      <th>2</th>\n",
       "      <td>local://security.permissions.net/entities#Jackson</td>\n",
       "      <td>local://security.permissions.net/vocab#manages...</td>\n",
       "      <td>local://security.permissions.net/entities#APPAREL</td>\n",
       "    </tr>\n",
       "    <tr>\n",
       "      <th>3</th>\n",
       "      <td>local://security.permissions.net/entities#Anya</td>\n",
       "      <td>local://security.permissions.net/vocab#manages...</td>\n",
       "      <td>local://security.permissions.net/entities#STORAGE</td>\n",
       "    </tr>\n",
       "    <tr>\n",
       "      <th>4</th>\n",
       "      <td>local://security.permissions.net/entities#Steve</td>\n",
       "      <td>local://security.permissions.net/vocab#manages...</td>\n",
       "      <td>local://security.permissions.net/entities#KITCHEN</td>\n",
       "    </tr>\n",
       "    <tr>\n",
       "      <th>5</th>\n",
       "      <td>local://security.permissions.net/entities#John</td>\n",
       "      <td>local://security.permissions.net/vocab#manages...</td>\n",
       "      <td>local://security.permissions.net/entities#HOBBY</td>\n",
       "    </tr>\n",
       "    <tr>\n",
       "      <th>6</th>\n",
       "      <td>local://security.permissions.net/entities#John</td>\n",
       "      <td>local://security.permissions.net/vocab#manages...</td>\n",
       "      <td>local://security.permissions.net/entities#OFFICE</td>\n",
       "    </tr>\n",
       "    <tr>\n",
       "      <th>7</th>\n",
       "      <td>local://security.permissions.net/entities#Sama...</td>\n",
       "      <td>local://security.permissions.net/vocab#manages...</td>\n",
       "      <td>local://security.permissions.net/entities#HOME...</td>\n",
       "    </tr>\n",
       "  </tbody>\n",
       "</table>\n",
       "</div>"
      ],
      "text/plain": [
       "                                                   s  \\\n",
       "0     local://security.permissions.net/entities#Mary   \n",
       "1     local://security.permissions.net/entities#Mary   \n",
       "2  local://security.permissions.net/entities#Jackson   \n",
       "3     local://security.permissions.net/entities#Anya   \n",
       "4    local://security.permissions.net/entities#Steve   \n",
       "5     local://security.permissions.net/entities#John   \n",
       "6     local://security.permissions.net/entities#John   \n",
       "7  local://security.permissions.net/entities#Sama...   \n",
       "\n",
       "                                                   p  \\\n",
       "0  local://security.permissions.net/vocab#manages...   \n",
       "1  local://security.permissions.net/vocab#manages...   \n",
       "2  local://security.permissions.net/vocab#manages...   \n",
       "3  local://security.permissions.net/vocab#manages...   \n",
       "4  local://security.permissions.net/vocab#manages...   \n",
       "5  local://security.permissions.net/vocab#manages...   \n",
       "6  local://security.permissions.net/vocab#manages...   \n",
       "7  local://security.permissions.net/vocab#manages...   \n",
       "\n",
       "                                                   o  \n",
       "0  local://security.permissions.net/entities#CHRI...  \n",
       "1  local://security.permissions.net/entities#BIRT...  \n",
       "2  local://security.permissions.net/entities#APPAREL  \n",
       "3  local://security.permissions.net/entities#STORAGE  \n",
       "4  local://security.permissions.net/entities#KITCHEN  \n",
       "5    local://security.permissions.net/entities#HOBBY  \n",
       "6   local://security.permissions.net/entities#OFFICE  \n",
       "7  local://security.permissions.net/entities#HOME...  "
      ]
     },
     "execution_count": 9,
     "metadata": {},
     "output_type": "execute_result"
    }
   ],
   "source": [
    "# Since we haven't run ontological reasoning yet, the \"manages\" relationships are not inferred\n",
    "query = \"\"\"\n",
    "PREFIX : <local://security.permissions.net/vocab#>\n",
    "\n",
    "SELECT ?s ?p ?o\n",
    "WHERE {\n",
    "  ?s ?p ?o .\n",
    "  FILTER(?p = :manages || ?p = :managesDepartment) .\n",
    "}\n",
    "\n",
    "\"\"\"\n",
    "\n",
    "# Execute the query\n",
    "res = corese.sparqlSelect(g, query, return_dataframe=True)\n",
    "res"
   ]
  },
  {
   "cell_type": "code",
   "execution_count": 10,
   "metadata": {},
   "outputs": [
    {
     "data": {
      "text/plain": [
       "JavaObject id=o18"
      ]
     },
     "execution_count": 10,
     "metadata": {},
     "output_type": "execute_result"
    }
   ],
   "source": [
    "# Run the rules engine\n",
    "corese.resetRuleEngine(g)\n",
    "corese.loadRuleEngine(g, profile='owlrl')\n",
    "corese.loadRuleEngine(g, profile='owlrl_lite')\n",
    "corese.loadRuleEngine(g, profile='owlrl_ext')\n",
    "corese.loadRuleEngine(g, profile='rdfs')"
   ]
  },
  {
   "cell_type": "code",
   "execution_count": 12,
   "metadata": {},
   "outputs": [
    {
     "data": {
      "application/vnd.microsoft.datawrangler.viewer.v0+json": {
       "columns": [
        {
         "name": "index",
         "rawType": "int64",
         "type": "integer"
        },
        {
         "name": "s",
         "rawType": "string",
         "type": "string"
        },
        {
         "name": "p",
         "rawType": "string",
         "type": "string"
        },
        {
         "name": "o",
         "rawType": "string",
         "type": "string"
        }
       ],
       "conversionMethod": "pd.DataFrame",
       "ref": "fdca138a-4b87-4afb-99c4-ba98ffbbca48",
       "rows": [
        [
         "0",
         "local://security.permissions.net/entities#Mary",
         "local://security.permissions.net/vocab#manages",
         "local://security.permissions.net/entities#CHRISTMAS"
        ],
        [
         "1",
         "local://security.permissions.net/entities#Mary",
         "local://security.permissions.net/vocab#manages",
         "local://security.permissions.net/entities#BIRTHDAY"
        ],
        [
         "2",
         "local://security.permissions.net/entities#Mary",
         "local://security.permissions.net/vocab#manages",
         "local://security.permissions.net/entities#SalesRep_1"
        ],
        [
         "3",
         "local://security.permissions.net/entities#Mary",
         "local://security.permissions.net/vocab#manages",
         "local://security.permissions.net/entities#SalesRep_10"
        ],
        [
         "4",
         "local://security.permissions.net/entities#Mary",
         "local://security.permissions.net/vocab#manages",
         "local://security.permissions.net/entities#SalesRep_45"
        ],
        [
         "5",
         "local://security.permissions.net/entities#Mary",
         "local://security.permissions.net/vocab#manages",
         "local://security.permissions.net/entities#SalesRep_44"
        ],
        [
         "6",
         "local://security.permissions.net/entities#Mary",
         "local://security.permissions.net/vocab#manages",
         "local://security.permissions.net/entities#SalesRep_12"
        ],
        [
         "7",
         "local://security.permissions.net/entities#Mary",
         "local://security.permissions.net/vocab#manages",
         "local://security.permissions.net/entities#SalesRep_40"
        ],
        [
         "8",
         "local://security.permissions.net/entities#Mary",
         "local://security.permissions.net/vocab#manages",
         "local://security.permissions.net/entities#SalesRep_39"
        ],
        [
         "9",
         "local://security.permissions.net/entities#Mary",
         "local://security.permissions.net/vocab#manages",
         "local://security.permissions.net/entities#SalesRep_16"
        ],
        [
         "10",
         "local://security.permissions.net/entities#Mary",
         "local://security.permissions.net/vocab#manages",
         "local://security.permissions.net/entities#SalesRep_36"
        ],
        [
         "11",
         "local://security.permissions.net/entities#Mary",
         "local://security.permissions.net/vocab#manages",
         "local://security.permissions.net/entities#SalesRep_32"
        ],
        [
         "12",
         "local://security.permissions.net/entities#Mary",
         "local://security.permissions.net/vocab#manages",
         "local://security.permissions.net/entities#SalesRep_29"
        ],
        [
         "13",
         "local://security.permissions.net/entities#Mary",
         "local://security.permissions.net/vocab#manages",
         "local://security.permissions.net/entities#SalesRep_13"
        ],
        [
         "14",
         "local://security.permissions.net/entities#Mary",
         "local://security.permissions.net/vocab#manages",
         "local://security.permissions.net/entities#SalesRep_19"
        ],
        [
         "15",
         "local://security.permissions.net/entities#Mary",
         "local://security.permissions.net/vocab#manages",
         "local://security.permissions.net/entities#SalesRep_4"
        ],
        [
         "16",
         "local://security.permissions.net/entities#Mary",
         "local://security.permissions.net/vocab#manages",
         "local://security.permissions.net/entities#SalesRep_24"
        ],
        [
         "17",
         "local://security.permissions.net/entities#Jackson",
         "local://security.permissions.net/vocab#manages",
         "local://security.permissions.net/entities#SalesRep_23"
        ],
        [
         "18",
         "local://security.permissions.net/entities#Jackson",
         "local://security.permissions.net/vocab#manages",
         "local://security.permissions.net/entities#APPAREL"
        ],
        [
         "19",
         "local://security.permissions.net/entities#Jackson",
         "local://security.permissions.net/vocab#manages",
         "local://security.permissions.net/entities#SalesRep_14"
        ],
        [
         "20",
         "local://security.permissions.net/entities#Jackson",
         "local://security.permissions.net/vocab#manages",
         "local://security.permissions.net/entities#SalesRep_43"
        ],
        [
         "21",
         "local://security.permissions.net/entities#Jackson",
         "local://security.permissions.net/vocab#manages",
         "local://security.permissions.net/entities#SalesRep_5"
        ],
        [
         "22",
         "local://security.permissions.net/entities#Jackson",
         "local://security.permissions.net/vocab#manages",
         "local://security.permissions.net/entities#SalesRep_18"
        ],
        [
         "23",
         "local://security.permissions.net/entities#Jackson",
         "local://security.permissions.net/vocab#manages",
         "local://security.permissions.net/entities#SalesRep_28"
        ],
        [
         "24",
         "local://security.permissions.net/entities#Jackson",
         "local://security.permissions.net/vocab#manages",
         "local://security.permissions.net/entities#SalesRep_46"
        ],
        [
         "25",
         "local://security.permissions.net/entities#Jackson",
         "local://security.permissions.net/vocab#manages",
         "local://security.permissions.net/entities#SalesRep_17"
        ],
        [
         "26",
         "local://security.permissions.net/entities#Anya",
         "local://security.permissions.net/vocab#manages",
         "local://security.permissions.net/entities#STORAGE"
        ],
        [
         "27",
         "local://security.permissions.net/entities#Anya",
         "local://security.permissions.net/vocab#manages",
         "local://security.permissions.net/entities#SalesRep_26"
        ],
        [
         "28",
         "local://security.permissions.net/entities#Anya",
         "local://security.permissions.net/vocab#manages",
         "local://security.permissions.net/entities#SalesRep_25"
        ],
        [
         "29",
         "local://security.permissions.net/entities#Anya",
         "local://security.permissions.net/vocab#manages",
         "local://security.permissions.net/entities#SalesRep_48"
        ],
        [
         "30",
         "local://security.permissions.net/entities#Anya",
         "local://security.permissions.net/vocab#manages",
         "local://security.permissions.net/entities#SalesRep_49"
        ],
        [
         "31",
         "local://security.permissions.net/entities#Anya",
         "local://security.permissions.net/vocab#manages",
         "local://security.permissions.net/entities#SalesRep_34"
        ],
        [
         "32",
         "local://security.permissions.net/entities#Anya",
         "local://security.permissions.net/vocab#manages",
         "local://security.permissions.net/entities#SalesRep_20"
        ],
        [
         "33",
         "local://security.permissions.net/entities#Steve",
         "local://security.permissions.net/vocab#manages",
         "local://security.permissions.net/entities#KITCHEN"
        ],
        [
         "34",
         "local://security.permissions.net/entities#Steve",
         "local://security.permissions.net/vocab#manages",
         "local://security.permissions.net/entities#SalesRep_6"
        ],
        [
         "35",
         "local://security.permissions.net/entities#Steve",
         "local://security.permissions.net/vocab#manages",
         "local://security.permissions.net/entities#SalesRep_7"
        ],
        [
         "36",
         "local://security.permissions.net/entities#Steve",
         "local://security.permissions.net/vocab#manages",
         "local://security.permissions.net/entities#SalesRep_30"
        ],
        [
         "37",
         "local://security.permissions.net/entities#Steve",
         "local://security.permissions.net/vocab#manages",
         "local://security.permissions.net/entities#SalesRep_15"
        ],
        [
         "38",
         "local://security.permissions.net/entities#Steve",
         "local://security.permissions.net/vocab#manages",
         "local://security.permissions.net/entities#SalesRep_35"
        ],
        [
         "39",
         "local://security.permissions.net/entities#Steve",
         "local://security.permissions.net/vocab#manages",
         "local://security.permissions.net/entities#SalesRep_2"
        ],
        [
         "40",
         "local://security.permissions.net/entities#Steve",
         "local://security.permissions.net/vocab#manages",
         "local://security.permissions.net/entities#SalesRep_21"
        ],
        [
         "41",
         "local://security.permissions.net/entities#John",
         "local://security.permissions.net/vocab#manages",
         "local://security.permissions.net/entities#HOBBY"
        ],
        [
         "42",
         "local://security.permissions.net/entities#John",
         "local://security.permissions.net/vocab#manages",
         "local://security.permissions.net/entities#OFFICE"
        ],
        [
         "43",
         "local://security.permissions.net/entities#John",
         "local://security.permissions.net/vocab#manages",
         "local://security.permissions.net/entities#SalesRep_22"
        ],
        [
         "44",
         "local://security.permissions.net/entities#John",
         "local://security.permissions.net/vocab#manages",
         "local://security.permissions.net/entities#SalesRep_33"
        ],
        [
         "45",
         "local://security.permissions.net/entities#John",
         "local://security.permissions.net/vocab#manages",
         "local://security.permissions.net/entities#SalesRep_37"
        ],
        [
         "46",
         "local://security.permissions.net/entities#John",
         "local://security.permissions.net/vocab#manages",
         "local://security.permissions.net/entities#SalesRep_42"
        ],
        [
         "47",
         "local://security.permissions.net/entities#John",
         "local://security.permissions.net/vocab#manages",
         "local://security.permissions.net/entities#SalesRep_38"
        ],
        [
         "48",
         "local://security.permissions.net/entities#John",
         "local://security.permissions.net/vocab#manages",
         "local://security.permissions.net/entities#SalesRep_31"
        ],
        [
         "49",
         "local://security.permissions.net/entities#John",
         "local://security.permissions.net/vocab#manages",
         "local://security.permissions.net/entities#SalesRep_27"
        ]
       ],
       "shape": {
        "columns": 3,
        "rows": 66
       }
      },
      "text/html": [
       "<div>\n",
       "<style scoped>\n",
       "    .dataframe tbody tr th:only-of-type {\n",
       "        vertical-align: middle;\n",
       "    }\n",
       "\n",
       "    .dataframe tbody tr th {\n",
       "        vertical-align: top;\n",
       "    }\n",
       "\n",
       "    .dataframe thead th {\n",
       "        text-align: right;\n",
       "    }\n",
       "</style>\n",
       "<table border=\"1\" class=\"dataframe\">\n",
       "  <thead>\n",
       "    <tr style=\"text-align: right;\">\n",
       "      <th></th>\n",
       "      <th>s</th>\n",
       "      <th>p</th>\n",
       "      <th>o</th>\n",
       "    </tr>\n",
       "  </thead>\n",
       "  <tbody>\n",
       "    <tr>\n",
       "      <th>0</th>\n",
       "      <td>local://security.permissions.net/entities#Mary</td>\n",
       "      <td>local://security.permissions.net/vocab#manages</td>\n",
       "      <td>local://security.permissions.net/entities#CHRI...</td>\n",
       "    </tr>\n",
       "    <tr>\n",
       "      <th>1</th>\n",
       "      <td>local://security.permissions.net/entities#Mary</td>\n",
       "      <td>local://security.permissions.net/vocab#manages</td>\n",
       "      <td>local://security.permissions.net/entities#BIRT...</td>\n",
       "    </tr>\n",
       "    <tr>\n",
       "      <th>2</th>\n",
       "      <td>local://security.permissions.net/entities#Mary</td>\n",
       "      <td>local://security.permissions.net/vocab#manages</td>\n",
       "      <td>local://security.permissions.net/entities#Sale...</td>\n",
       "    </tr>\n",
       "    <tr>\n",
       "      <th>3</th>\n",
       "      <td>local://security.permissions.net/entities#Mary</td>\n",
       "      <td>local://security.permissions.net/vocab#manages</td>\n",
       "      <td>local://security.permissions.net/entities#Sale...</td>\n",
       "    </tr>\n",
       "    <tr>\n",
       "      <th>4</th>\n",
       "      <td>local://security.permissions.net/entities#Mary</td>\n",
       "      <td>local://security.permissions.net/vocab#manages</td>\n",
       "      <td>local://security.permissions.net/entities#Sale...</td>\n",
       "    </tr>\n",
       "    <tr>\n",
       "      <th>...</th>\n",
       "      <td>...</td>\n",
       "      <td>...</td>\n",
       "      <td>...</td>\n",
       "    </tr>\n",
       "    <tr>\n",
       "      <th>61</th>\n",
       "      <td>local://security.permissions.net/entities#Anya</td>\n",
       "      <td>local://security.permissions.net/vocab#manages...</td>\n",
       "      <td>local://security.permissions.net/entities#STORAGE</td>\n",
       "    </tr>\n",
       "    <tr>\n",
       "      <th>62</th>\n",
       "      <td>local://security.permissions.net/entities#Steve</td>\n",
       "      <td>local://security.permissions.net/vocab#manages...</td>\n",
       "      <td>local://security.permissions.net/entities#KITCHEN</td>\n",
       "    </tr>\n",
       "    <tr>\n",
       "      <th>63</th>\n",
       "      <td>local://security.permissions.net/entities#John</td>\n",
       "      <td>local://security.permissions.net/vocab#manages...</td>\n",
       "      <td>local://security.permissions.net/entities#HOBBY</td>\n",
       "    </tr>\n",
       "    <tr>\n",
       "      <th>64</th>\n",
       "      <td>local://security.permissions.net/entities#John</td>\n",
       "      <td>local://security.permissions.net/vocab#manages...</td>\n",
       "      <td>local://security.permissions.net/entities#OFFICE</td>\n",
       "    </tr>\n",
       "    <tr>\n",
       "      <th>65</th>\n",
       "      <td>local://security.permissions.net/entities#Sama...</td>\n",
       "      <td>local://security.permissions.net/vocab#manages...</td>\n",
       "      <td>local://security.permissions.net/entities#HOME...</td>\n",
       "    </tr>\n",
       "  </tbody>\n",
       "</table>\n",
       "<p>66 rows × 3 columns</p>\n",
       "</div>"
      ],
      "text/plain": [
       "                                                    s  \\\n",
       "0      local://security.permissions.net/entities#Mary   \n",
       "1      local://security.permissions.net/entities#Mary   \n",
       "2      local://security.permissions.net/entities#Mary   \n",
       "3      local://security.permissions.net/entities#Mary   \n",
       "4      local://security.permissions.net/entities#Mary   \n",
       "..                                                ...   \n",
       "61     local://security.permissions.net/entities#Anya   \n",
       "62    local://security.permissions.net/entities#Steve   \n",
       "63     local://security.permissions.net/entities#John   \n",
       "64     local://security.permissions.net/entities#John   \n",
       "65  local://security.permissions.net/entities#Sama...   \n",
       "\n",
       "                                                    p  \\\n",
       "0      local://security.permissions.net/vocab#manages   \n",
       "1      local://security.permissions.net/vocab#manages   \n",
       "2      local://security.permissions.net/vocab#manages   \n",
       "3      local://security.permissions.net/vocab#manages   \n",
       "4      local://security.permissions.net/vocab#manages   \n",
       "..                                                ...   \n",
       "61  local://security.permissions.net/vocab#manages...   \n",
       "62  local://security.permissions.net/vocab#manages...   \n",
       "63  local://security.permissions.net/vocab#manages...   \n",
       "64  local://security.permissions.net/vocab#manages...   \n",
       "65  local://security.permissions.net/vocab#manages...   \n",
       "\n",
       "                                                    o  \n",
       "0   local://security.permissions.net/entities#CHRI...  \n",
       "1   local://security.permissions.net/entities#BIRT...  \n",
       "2   local://security.permissions.net/entities#Sale...  \n",
       "3   local://security.permissions.net/entities#Sale...  \n",
       "4   local://security.permissions.net/entities#Sale...  \n",
       "..                                                ...  \n",
       "61  local://security.permissions.net/entities#STORAGE  \n",
       "62  local://security.permissions.net/entities#KITCHEN  \n",
       "63    local://security.permissions.net/entities#HOBBY  \n",
       "64   local://security.permissions.net/entities#OFFICE  \n",
       "65  local://security.permissions.net/entities#HOME...  \n",
       "\n",
       "[66 rows x 3 columns]"
      ]
     },
     "execution_count": 12,
     "metadata": {},
     "output_type": "execute_result"
    }
   ],
   "source": [
    "# Now that we have added our inferences, we can see the results of the manages relationships which have been inferred from both managesDepartment and mangedBy\n",
    "query = \"\"\"\n",
    "PREFIX : <local://security.permissions.net/vocab#>\n",
    "\n",
    "SELECT ?s ?p ?o\n",
    "WHERE {\n",
    "  ?s ?p ?o .\n",
    "  FILTER(?p = :manages || ?p = :managesDepartment) .\n",
    "}\n",
    "\n",
    "\"\"\"\n",
    "\n",
    "# Execute the query\n",
    "res = corese.sparqlSelect(g, query, return_dataframe=True)\n",
    "res"
   ]
  },
  {
   "cell_type": "code",
   "execution_count": 13,
   "metadata": {},
   "outputs": [
    {
     "data": {
      "application/vnd.microsoft.datawrangler.viewer.v0+json": {
       "columns": [
        {
         "name": "index",
         "rawType": "int64",
         "type": "integer"
        },
        {
         "name": "record",
         "rawType": "string",
         "type": "string"
        }
       ],
       "conversionMethod": "pd.DataFrame",
       "ref": "d77f85ea-97f7-48c9-a8d8-8936dca62287",
       "rows": [
        [
         "0",
         "local://security.permissions.net/entities#443604#Switzerland"
        ],
        [
         "1",
         "local://security.permissions.net/entities#443604#France"
        ],
        [
         "2",
         "local://security.permissions.net/entities#443604#EIRE"
        ],
        [
         "3",
         "local://security.permissions.net/entities#443604#United%20Kingdom"
        ],
        [
         "4",
         "local://security.permissions.net/entities#443604#Sweden"
        ],
        [
         "5",
         "local://security.permissions.net/entities#443604#Belgium"
        ],
        [
         "6",
         "local://security.permissions.net/entities#443604#Germany"
        ],
        [
         "7",
         "local://security.permissions.net/entities#443604#Spain"
        ],
        [
         "8",
         "local://security.permissions.net/entities#443604#Portugal"
        ],
        [
         "9",
         "local://security.permissions.net/entities#443604#Finland"
        ],
        [
         "10",
         "local://security.permissions.net/entities#443604#Netherlands"
        ],
        [
         "11",
         "local://security.permissions.net/entities#494004#EIRE"
        ],
        [
         "12",
         "local://security.permissions.net/entities#494004#United%20Kingdom"
        ],
        [
         "13",
         "local://security.permissions.net/entities#478107#EIRE"
        ],
        [
         "14",
         "local://security.permissions.net/entities#478107#Malta"
        ],
        [
         "15",
         "local://security.permissions.net/entities#478107#United%20Kingdom"
        ],
        [
         "16",
         "local://security.permissions.net/entities#478107#Germany"
        ],
        [
         "17",
         "local://security.permissions.net/entities#478107#Portugal"
        ],
        [
         "18",
         "local://security.permissions.net/entities#478107#Cyprus"
        ],
        [
         "19",
         "local://security.permissions.net/entities#478107#Channel%20Islands"
        ],
        [
         "20",
         "local://security.permissions.net/entities#477267#Switzerland"
        ],
        [
         "21",
         "local://security.permissions.net/entities#477267#France"
        ],
        [
         "22",
         "local://security.permissions.net/entities#477267#EIRE"
        ],
        [
         "23",
         "local://security.permissions.net/entities#477267#United%20Kingdom"
        ],
        [
         "24",
         "local://security.permissions.net/entities#477267#Belgium"
        ],
        [
         "25",
         "local://security.permissions.net/entities#477267#Germany"
        ],
        [
         "26",
         "local://security.permissions.net/entities#477267#Spain"
        ],
        [
         "27",
         "local://security.permissions.net/entities#477267#Portugal"
        ],
        [
         "28",
         "local://security.permissions.net/entities#477267#Cyprus"
        ],
        [
         "29",
         "local://security.permissions.net/entities#477267#Channel%20Islands"
        ],
        [
         "30",
         "local://security.permissions.net/entities#477267#Iceland"
        ],
        [
         "31",
         "local://security.permissions.net/entities#477267#Netherlands"
        ],
        [
         "32",
         "local://security.permissions.net/entities#477267#Norway"
        ],
        [
         "33",
         "local://security.permissions.net/entities#477267#Denmark"
        ],
        [
         "34",
         "local://security.permissions.net/entities#477267#Greece"
        ],
        [
         "35",
         "local://security.permissions.net/entities#483000#Switzerland"
        ],
        [
         "36",
         "local://security.permissions.net/entities#483000#France"
        ],
        [
         "37",
         "local://security.permissions.net/entities#483000#EIRE"
        ],
        [
         "38",
         "local://security.permissions.net/entities#483000#United%20Kingdom"
        ],
        [
         "39",
         "local://security.permissions.net/entities#483000#Belgium"
        ],
        [
         "40",
         "local://security.permissions.net/entities#483000#Germany"
        ],
        [
         "41",
         "local://security.permissions.net/entities#483000#Portugal"
        ],
        [
         "42",
         "local://security.permissions.net/entities#483000#Norway"
        ],
        [
         "43",
         "local://security.permissions.net/entities#478464#Switzerland"
        ],
        [
         "44",
         "local://security.permissions.net/entities#478464#France"
        ],
        [
         "45",
         "local://security.permissions.net/entities#478464#EIRE"
        ],
        [
         "46",
         "local://security.permissions.net/entities#478464#Malta"
        ],
        [
         "47",
         "local://security.permissions.net/entities#478464#United%20Kingdom"
        ],
        [
         "48",
         "local://security.permissions.net/entities#478464#Spain"
        ],
        [
         "49",
         "local://security.permissions.net/entities#478464#Cyprus"
        ]
       ],
       "shape": {
        "columns": 1,
        "rows": 2115
       }
      },
      "text/html": [
       "<div>\n",
       "<style scoped>\n",
       "    .dataframe tbody tr th:only-of-type {\n",
       "        vertical-align: middle;\n",
       "    }\n",
       "\n",
       "    .dataframe tbody tr th {\n",
       "        vertical-align: top;\n",
       "    }\n",
       "\n",
       "    .dataframe thead th {\n",
       "        text-align: right;\n",
       "    }\n",
       "</style>\n",
       "<table border=\"1\" class=\"dataframe\">\n",
       "  <thead>\n",
       "    <tr style=\"text-align: right;\">\n",
       "      <th></th>\n",
       "      <th>record</th>\n",
       "    </tr>\n",
       "  </thead>\n",
       "  <tbody>\n",
       "    <tr>\n",
       "      <th>0</th>\n",
       "      <td>local://security.permissions.net/entities#4436...</td>\n",
       "    </tr>\n",
       "    <tr>\n",
       "      <th>1</th>\n",
       "      <td>local://security.permissions.net/entities#4436...</td>\n",
       "    </tr>\n",
       "    <tr>\n",
       "      <th>2</th>\n",
       "      <td>local://security.permissions.net/entities#4436...</td>\n",
       "    </tr>\n",
       "    <tr>\n",
       "      <th>3</th>\n",
       "      <td>local://security.permissions.net/entities#4436...</td>\n",
       "    </tr>\n",
       "    <tr>\n",
       "      <th>4</th>\n",
       "      <td>local://security.permissions.net/entities#4436...</td>\n",
       "    </tr>\n",
       "    <tr>\n",
       "      <th>...</th>\n",
       "      <td>...</td>\n",
       "    </tr>\n",
       "    <tr>\n",
       "      <th>2110</th>\n",
       "      <td>local://security.permissions.net/entities#4642...</td>\n",
       "    </tr>\n",
       "    <tr>\n",
       "      <th>2111</th>\n",
       "      <td>local://security.permissions.net/entities#1783...</td>\n",
       "    </tr>\n",
       "    <tr>\n",
       "      <th>2112</th>\n",
       "      <td>local://security.permissions.net/entities#4598...</td>\n",
       "    </tr>\n",
       "    <tr>\n",
       "      <th>2113</th>\n",
       "      <td>local://security.permissions.net/entities#1788...</td>\n",
       "    </tr>\n",
       "    <tr>\n",
       "      <th>2114</th>\n",
       "      <td>local://security.permissions.net/entities#1788...</td>\n",
       "    </tr>\n",
       "  </tbody>\n",
       "</table>\n",
       "<p>2115 rows × 1 columns</p>\n",
       "</div>"
      ],
      "text/plain": [
       "                                                 record\n",
       "0     local://security.permissions.net/entities#4436...\n",
       "1     local://security.permissions.net/entities#4436...\n",
       "2     local://security.permissions.net/entities#4436...\n",
       "3     local://security.permissions.net/entities#4436...\n",
       "4     local://security.permissions.net/entities#4436...\n",
       "...                                                 ...\n",
       "2110  local://security.permissions.net/entities#4642...\n",
       "2111  local://security.permissions.net/entities#1783...\n",
       "2112  local://security.permissions.net/entities#4598...\n",
       "2113  local://security.permissions.net/entities#1788...\n",
       "2114  local://security.permissions.net/entities#1788...\n",
       "\n",
       "[2115 rows x 1 columns]"
      ]
     },
     "execution_count": 13,
     "metadata": {},
     "output_type": "execute_result"
    }
   ],
   "source": [
    "# Find all the records that a specific user may have access to.\n",
    "\n",
    "USER = \"SalesRep_0\"\n",
    "\n",
    "query = f\"\"\"\n",
    "prefix data: <local://security.permissions.net/entities#>\n",
    "prefix : <local://security.permissions.net/vocab#>\n",
    "\n",
    "select ?record where {{\n",
    "?department a :Department .\n",
    "?department :hasItem ?item .\n",
    "{{\n",
    "data:{USER} :hasAccess ?country, ?department ; a :User .\n",
    "?country a :Country .\n",
    "?record a :Record; :country ?country; :item ?item.}}\n",
    "union {{\n",
    "data:{USER} a :Manager .\n",
    "data:{USER} :managesDepartment ?department .\n",
    "?record a :Record; :item ?item.\n",
    "}}\n",
    "}}\n",
    "\"\"\"\n",
    "\n",
    "# Execute the query\n",
    "res = corese.sparqlSelect(g, query, return_dataframe=True)\n",
    "res"
   ]
  },
  {
   "cell_type": "code",
   "execution_count": 15,
   "metadata": {},
   "outputs": [
    {
     "data": {
      "application/vnd.microsoft.datawrangler.viewer.v0+json": {
       "columns": [
        {
         "name": "index",
         "rawType": "int64",
         "type": "integer"
        },
        {
         "name": "country",
         "rawType": "string",
         "type": "string"
        },
        {
         "name": "department",
         "rawType": "string",
         "type": "string"
        },
        {
         "name": "item",
         "rawType": "string",
         "type": "string"
        },
        {
         "name": "record",
         "rawType": "string",
         "type": "string"
        }
       ],
       "conversionMethod": "pd.DataFrame",
       "ref": "7d0f5f43-4bf8-4b65-b2e0-99637525d436",
       "rows": [
        [
         "0",
         "local://security.permissions.net/entities#USA",
         "local://security.permissions.net/entities#CHRISTMAS",
         "local://security.permissions.net/entities#477519",
         "local://security.permissions.net/entities#477519#USA"
        ],
        [
         "1",
         "local://security.permissions.net/entities#USA",
         "local://security.permissions.net/entities#CHRISTMAS",
         "local://security.permissions.net/entities#477477",
         "local://security.permissions.net/entities#477477#USA"
        ],
        [
         "2",
         "local://security.permissions.net/entities#USA",
         "local://security.permissions.net/entities#BIRTHDAY",
         "local://security.permissions.net/entities#787395",
         "local://security.permissions.net/entities#787395#USA"
        ],
        [
         "3",
         "local://security.permissions.net/entities#USA",
         "local://security.permissions.net/entities#BIRTHDAY",
         "local://security.permissions.net/entities#451647",
         "local://security.permissions.net/entities#451647#USA"
        ],
        [
         "4",
         "local://security.permissions.net/entities#USA",
         "local://security.permissions.net/entities#CHRISTMAS",
         "local://security.permissions.net/entities#477414",
         "local://security.permissions.net/entities#477414#USA"
        ],
        [
         "5",
         "local://security.permissions.net/entities#USA",
         "local://security.permissions.net/entities#BIRTHDAY",
         "local://security.permissions.net/entities#462567",
         "local://security.permissions.net/entities#462567#USA"
        ],
        [
         "6",
         "local://security.permissions.net/entities#USA",
         "local://security.permissions.net/entities#CHRISTMAS",
         "local://security.permissions.net/entities#490224",
         "local://security.permissions.net/entities#490224#USA"
        ],
        [
         "7",
         "local://security.permissions.net/entities#USA",
         "local://security.permissions.net/entities#CHRISTMAS",
         "local://security.permissions.net/entities#490329",
         "local://security.permissions.net/entities#490329#USA"
        ],
        [
         "8",
         "local://security.permissions.net/entities#USA",
         "local://security.permissions.net/entities#CHRISTMAS",
         "local://security.permissions.net/entities#490371",
         "local://security.permissions.net/entities#490371#USA"
        ],
        [
         "9",
         "local://security.permissions.net/entities#USA",
         "local://security.permissions.net/entities#BIRTHDAY",
         "local://security.permissions.net/entities#999390",
         "local://security.permissions.net/entities#999390#USA"
        ]
       ],
       "shape": {
        "columns": 4,
        "rows": 10
       }
      },
      "text/html": [
       "<div>\n",
       "<style scoped>\n",
       "    .dataframe tbody tr th:only-of-type {\n",
       "        vertical-align: middle;\n",
       "    }\n",
       "\n",
       "    .dataframe tbody tr th {\n",
       "        vertical-align: top;\n",
       "    }\n",
       "\n",
       "    .dataframe thead th {\n",
       "        text-align: right;\n",
       "    }\n",
       "</style>\n",
       "<table border=\"1\" class=\"dataframe\">\n",
       "  <thead>\n",
       "    <tr style=\"text-align: right;\">\n",
       "      <th></th>\n",
       "      <th>country</th>\n",
       "      <th>department</th>\n",
       "      <th>item</th>\n",
       "      <th>record</th>\n",
       "    </tr>\n",
       "  </thead>\n",
       "  <tbody>\n",
       "    <tr>\n",
       "      <th>0</th>\n",
       "      <td>local://security.permissions.net/entities#USA</td>\n",
       "      <td>local://security.permissions.net/entities#CHRI...</td>\n",
       "      <td>local://security.permissions.net/entities#477519</td>\n",
       "      <td>local://security.permissions.net/entities#4775...</td>\n",
       "    </tr>\n",
       "    <tr>\n",
       "      <th>1</th>\n",
       "      <td>local://security.permissions.net/entities#USA</td>\n",
       "      <td>local://security.permissions.net/entities#CHRI...</td>\n",
       "      <td>local://security.permissions.net/entities#477477</td>\n",
       "      <td>local://security.permissions.net/entities#4774...</td>\n",
       "    </tr>\n",
       "    <tr>\n",
       "      <th>2</th>\n",
       "      <td>local://security.permissions.net/entities#USA</td>\n",
       "      <td>local://security.permissions.net/entities#BIRT...</td>\n",
       "      <td>local://security.permissions.net/entities#787395</td>\n",
       "      <td>local://security.permissions.net/entities#7873...</td>\n",
       "    </tr>\n",
       "    <tr>\n",
       "      <th>3</th>\n",
       "      <td>local://security.permissions.net/entities#USA</td>\n",
       "      <td>local://security.permissions.net/entities#BIRT...</td>\n",
       "      <td>local://security.permissions.net/entities#451647</td>\n",
       "      <td>local://security.permissions.net/entities#4516...</td>\n",
       "    </tr>\n",
       "    <tr>\n",
       "      <th>4</th>\n",
       "      <td>local://security.permissions.net/entities#USA</td>\n",
       "      <td>local://security.permissions.net/entities#CHRI...</td>\n",
       "      <td>local://security.permissions.net/entities#477414</td>\n",
       "      <td>local://security.permissions.net/entities#4774...</td>\n",
       "    </tr>\n",
       "    <tr>\n",
       "      <th>5</th>\n",
       "      <td>local://security.permissions.net/entities#USA</td>\n",
       "      <td>local://security.permissions.net/entities#BIRT...</td>\n",
       "      <td>local://security.permissions.net/entities#462567</td>\n",
       "      <td>local://security.permissions.net/entities#4625...</td>\n",
       "    </tr>\n",
       "    <tr>\n",
       "      <th>6</th>\n",
       "      <td>local://security.permissions.net/entities#USA</td>\n",
       "      <td>local://security.permissions.net/entities#CHRI...</td>\n",
       "      <td>local://security.permissions.net/entities#490224</td>\n",
       "      <td>local://security.permissions.net/entities#4902...</td>\n",
       "    </tr>\n",
       "    <tr>\n",
       "      <th>7</th>\n",
       "      <td>local://security.permissions.net/entities#USA</td>\n",
       "      <td>local://security.permissions.net/entities#CHRI...</td>\n",
       "      <td>local://security.permissions.net/entities#490329</td>\n",
       "      <td>local://security.permissions.net/entities#4903...</td>\n",
       "    </tr>\n",
       "    <tr>\n",
       "      <th>8</th>\n",
       "      <td>local://security.permissions.net/entities#USA</td>\n",
       "      <td>local://security.permissions.net/entities#CHRI...</td>\n",
       "      <td>local://security.permissions.net/entities#490371</td>\n",
       "      <td>local://security.permissions.net/entities#4903...</td>\n",
       "    </tr>\n",
       "    <tr>\n",
       "      <th>9</th>\n",
       "      <td>local://security.permissions.net/entities#USA</td>\n",
       "      <td>local://security.permissions.net/entities#BIRT...</td>\n",
       "      <td>local://security.permissions.net/entities#999390</td>\n",
       "      <td>local://security.permissions.net/entities#9993...</td>\n",
       "    </tr>\n",
       "  </tbody>\n",
       "</table>\n",
       "</div>"
      ],
      "text/plain": [
       "                                         country  \\\n",
       "0  local://security.permissions.net/entities#USA   \n",
       "1  local://security.permissions.net/entities#USA   \n",
       "2  local://security.permissions.net/entities#USA   \n",
       "3  local://security.permissions.net/entities#USA   \n",
       "4  local://security.permissions.net/entities#USA   \n",
       "5  local://security.permissions.net/entities#USA   \n",
       "6  local://security.permissions.net/entities#USA   \n",
       "7  local://security.permissions.net/entities#USA   \n",
       "8  local://security.permissions.net/entities#USA   \n",
       "9  local://security.permissions.net/entities#USA   \n",
       "\n",
       "                                          department  \\\n",
       "0  local://security.permissions.net/entities#CHRI...   \n",
       "1  local://security.permissions.net/entities#CHRI...   \n",
       "2  local://security.permissions.net/entities#BIRT...   \n",
       "3  local://security.permissions.net/entities#BIRT...   \n",
       "4  local://security.permissions.net/entities#CHRI...   \n",
       "5  local://security.permissions.net/entities#BIRT...   \n",
       "6  local://security.permissions.net/entities#CHRI...   \n",
       "7  local://security.permissions.net/entities#CHRI...   \n",
       "8  local://security.permissions.net/entities#CHRI...   \n",
       "9  local://security.permissions.net/entities#BIRT...   \n",
       "\n",
       "                                               item  \\\n",
       "0  local://security.permissions.net/entities#477519   \n",
       "1  local://security.permissions.net/entities#477477   \n",
       "2  local://security.permissions.net/entities#787395   \n",
       "3  local://security.permissions.net/entities#451647   \n",
       "4  local://security.permissions.net/entities#477414   \n",
       "5  local://security.permissions.net/entities#462567   \n",
       "6  local://security.permissions.net/entities#490224   \n",
       "7  local://security.permissions.net/entities#490329   \n",
       "8  local://security.permissions.net/entities#490371   \n",
       "9  local://security.permissions.net/entities#999390   \n",
       "\n",
       "                                              record  \n",
       "0  local://security.permissions.net/entities#4775...  \n",
       "1  local://security.permissions.net/entities#4774...  \n",
       "2  local://security.permissions.net/entities#7873...  \n",
       "3  local://security.permissions.net/entities#4516...  \n",
       "4  local://security.permissions.net/entities#4774...  \n",
       "5  local://security.permissions.net/entities#4625...  \n",
       "6  local://security.permissions.net/entities#4902...  \n",
       "7  local://security.permissions.net/entities#4903...  \n",
       "8  local://security.permissions.net/entities#4903...  \n",
       "9  local://security.permissions.net/entities#9993...  "
      ]
     },
     "execution_count": 15,
     "metadata": {},
     "output_type": "execute_result"
    }
   ],
   "source": [
    "query = \"\"\"\n",
    "prefix data: <local://security.permissions.net/entities#>\n",
    "prefix : <local://security.permissions.net/vocab#>\n",
    "\n",
    "select * where {\n",
    "data:SalesRep_45 a :User ; :hasAccess ?country, ?department .\n",
    "?department a :Department .\n",
    "?country a :Country .\n",
    "?department :hasItem ?item .\n",
    "?record a :Record; :country ?country; :item ?item.\n",
    "}\n",
    "limit 10\n",
    "\"\"\"\n",
    "\n",
    "# Execute the query\n",
    "res = corese.sparqlSelect(g, query, return_dataframe=True)\n",
    "res"
   ]
  },
  {
   "cell_type": "code",
   "execution_count": null,
   "metadata": {},
   "outputs": [],
   "source": []
  }
 ],
 "metadata": {
  "kernelspec": {
   "display_name": "Python 3 (ipykernel)",
   "language": "python",
   "name": "python3"
  }
 },
 "nbformat": 4,
 "nbformat_minor": 2
}
