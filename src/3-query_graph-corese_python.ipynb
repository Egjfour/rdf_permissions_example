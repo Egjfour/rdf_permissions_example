{
 "cells": [
  {
   "cell_type": "code",
   "execution_count": 132,
   "metadata": {},
   "outputs": [
    {
     "name": "stderr",
     "output_type": "stream",
     "text": [
      "2025-04-19 12:21:05,698 - INFO - Py4J: Loading CORESE...\n",
      "2025-04-19 12:21:07,637 - INFO - Py4J: CORESE is loaded\n"
     ]
    },
    {
     "data": {
      "text/plain": [
       "'/mnt/c/repos/rdf_permissions_example'"
      ]
     },
     "execution_count": 132,
     "metadata": {},
     "output_type": "execute_result"
    }
   ],
   "source": [
    "from pycorese.api import CoreseAPI\n",
    "\n",
    "python_to_java_bridge = 'py4j'\n",
    "corese = CoreseAPI(java_bridge=python_to_java_bridge)\n",
    "_ = corese.loadCorese()\n",
    "\n",
    "\n",
    "import os\n",
    "\n",
    "if 'src' in os.getcwd():\n",
    "    os.chdir('..')\n",
    "\n",
    "os.getcwd()"
   ]
  },
  {
   "cell_type": "code",
   "execution_count": 133,
   "metadata": {},
   "outputs": [],
   "source": [
    "g = corese.loadRDF(\"data/server/graph_data.rdf\")"
   ]
  },
  {
   "cell_type": "code",
   "execution_count": 134,
   "metadata": {},
   "outputs": [
    {
     "data": {
      "application/vnd.microsoft.datawrangler.viewer.v0+json": {
       "columns": [
        {
         "name": "index",
         "rawType": "int64",
         "type": "integer"
        },
        {
         "name": "s",
         "rawType": "string",
         "type": "string"
        },
        {
         "name": "p",
         "rawType": "string",
         "type": "string"
        },
        {
         "name": "o",
         "rawType": "string",
         "type": "string"
        }
       ],
       "conversionMethod": "pd.DataFrame",
       "ref": "c38ec7c8-a6fc-4c18-98fa-754c269488fe",
       "rows": [
        [
         "0",
         "_:b0",
         "http://www.w3.org/1999/02/22-rdf-syntax-ns#first",
         "local://security.permissions.net/vocab#managedBy"
        ],
        [
         "1",
         "_:b1",
         "http://www.w3.org/1999/02/22-rdf-syntax-ns#first",
         "local://security.permissions.net/vocab#managesDepartment"
        ],
        [
         "2",
         "_:b0",
         "http://www.w3.org/1999/02/22-rdf-syntax-ns#rest",
         "_:b1"
        ],
        [
         "3",
         "_:b1",
         "http://www.w3.org/1999/02/22-rdf-syntax-ns#rest",
         "http://www.w3.org/1999/02/22-rdf-syntax-ns#nil"
        ],
        [
         "4",
         "local://security.permissions.net/entities#1787583#France",
         "http://www.w3.org/1999/02/22-rdf-syntax-ns#type",
         "local://security.permissions.net/vocab#Record"
        ]
       ],
       "shape": {
        "columns": 3,
        "rows": 5
       }
      },
      "text/html": [
       "<div>\n",
       "<style scoped>\n",
       "    .dataframe tbody tr th:only-of-type {\n",
       "        vertical-align: middle;\n",
       "    }\n",
       "\n",
       "    .dataframe tbody tr th {\n",
       "        vertical-align: top;\n",
       "    }\n",
       "\n",
       "    .dataframe thead th {\n",
       "        text-align: right;\n",
       "    }\n",
       "</style>\n",
       "<table border=\"1\" class=\"dataframe\">\n",
       "  <thead>\n",
       "    <tr style=\"text-align: right;\">\n",
       "      <th></th>\n",
       "      <th>s</th>\n",
       "      <th>p</th>\n",
       "      <th>o</th>\n",
       "    </tr>\n",
       "  </thead>\n",
       "  <tbody>\n",
       "    <tr>\n",
       "      <th>0</th>\n",
       "      <td>_:b0</td>\n",
       "      <td>http://www.w3.org/1999/02/22-rdf-syntax-ns#first</td>\n",
       "      <td>local://security.permissions.net/vocab#managedBy</td>\n",
       "    </tr>\n",
       "    <tr>\n",
       "      <th>1</th>\n",
       "      <td>_:b1</td>\n",
       "      <td>http://www.w3.org/1999/02/22-rdf-syntax-ns#first</td>\n",
       "      <td>local://security.permissions.net/vocab#manages...</td>\n",
       "    </tr>\n",
       "    <tr>\n",
       "      <th>2</th>\n",
       "      <td>_:b0</td>\n",
       "      <td>http://www.w3.org/1999/02/22-rdf-syntax-ns#rest</td>\n",
       "      <td>_:b1</td>\n",
       "    </tr>\n",
       "    <tr>\n",
       "      <th>3</th>\n",
       "      <td>_:b1</td>\n",
       "      <td>http://www.w3.org/1999/02/22-rdf-syntax-ns#rest</td>\n",
       "      <td>http://www.w3.org/1999/02/22-rdf-syntax-ns#nil</td>\n",
       "    </tr>\n",
       "    <tr>\n",
       "      <th>4</th>\n",
       "      <td>local://security.permissions.net/entities#1787...</td>\n",
       "      <td>http://www.w3.org/1999/02/22-rdf-syntax-ns#type</td>\n",
       "      <td>local://security.permissions.net/vocab#Record</td>\n",
       "    </tr>\n",
       "  </tbody>\n",
       "</table>\n",
       "</div>"
      ],
      "text/plain": [
       "                                                   s  \\\n",
       "0                                               _:b0   \n",
       "1                                               _:b1   \n",
       "2                                               _:b0   \n",
       "3                                               _:b1   \n",
       "4  local://security.permissions.net/entities#1787...   \n",
       "\n",
       "                                                  p  \\\n",
       "0  http://www.w3.org/1999/02/22-rdf-syntax-ns#first   \n",
       "1  http://www.w3.org/1999/02/22-rdf-syntax-ns#first   \n",
       "2   http://www.w3.org/1999/02/22-rdf-syntax-ns#rest   \n",
       "3   http://www.w3.org/1999/02/22-rdf-syntax-ns#rest   \n",
       "4   http://www.w3.org/1999/02/22-rdf-syntax-ns#type   \n",
       "\n",
       "                                                   o  \n",
       "0   local://security.permissions.net/vocab#managedBy  \n",
       "1  local://security.permissions.net/vocab#manages...  \n",
       "2                                               _:b1  \n",
       "3     http://www.w3.org/1999/02/22-rdf-syntax-ns#nil  \n",
       "4      local://security.permissions.net/vocab#Record  "
      ]
     },
     "execution_count": 134,
     "metadata": {},
     "output_type": "execute_result"
    }
   ],
   "source": [
    "# Simple first 5 triples from the whole graph\n",
    "res = corese.sparqlSelect(g, \"SELECT * WHERE { ?s ?p ?o } LIMIT 5\", return_dataframe=True)\n",
    "res"
   ]
  },
  {
   "cell_type": "code",
   "execution_count": 135,
   "metadata": {},
   "outputs": [
    {
     "data": {
      "application/vnd.microsoft.datawrangler.viewer.v0+json": {
       "columns": [
        {
         "name": "index",
         "rawType": "int64",
         "type": "integer"
        },
        {
         "name": "s",
         "rawType": "string",
         "type": "string"
        },
        {
         "name": "p",
         "rawType": "string",
         "type": "string"
        },
        {
         "name": "o",
         "rawType": "string",
         "type": "string"
        }
       ],
       "conversionMethod": "pd.DataFrame",
       "ref": "f2c72a35-15f7-4be4-b7d3-1ff181e72c4f",
       "rows": [
        [
         "0",
         "local://security.permissions.net/entities#Jackson",
         "local://security.permissions.net/vocab#managesDepartment",
         "local://security.permissions.net/entities#APPAREL"
        ],
        [
         "1",
         "local://security.permissions.net/entities#John",
         "local://security.permissions.net/vocab#managesDepartment",
         "local://security.permissions.net/entities#HOBBY"
        ],
        [
         "2",
         "local://security.permissions.net/entities#John",
         "local://security.permissions.net/vocab#managesDepartment",
         "local://security.permissions.net/entities#OFFICE"
        ],
        [
         "3",
         "local://security.permissions.net/entities#Steve",
         "local://security.permissions.net/vocab#managesDepartment",
         "local://security.permissions.net/entities#KITCHEN"
        ],
        [
         "4",
         "local://security.permissions.net/entities#Mary",
         "local://security.permissions.net/vocab#managesDepartment",
         "local://security.permissions.net/entities#CHRISTMAS"
        ],
        [
         "5",
         "local://security.permissions.net/entities#Mary",
         "local://security.permissions.net/vocab#managesDepartment",
         "local://security.permissions.net/entities#BIRTHDAY"
        ],
        [
         "6",
         "local://security.permissions.net/entities#Samantha",
         "local://security.permissions.net/vocab#managesDepartment",
         "local://security.permissions.net/entities#HOME%20AND%20GARDEN"
        ],
        [
         "7",
         "local://security.permissions.net/entities#Anya",
         "local://security.permissions.net/vocab#managesDepartment",
         "local://security.permissions.net/entities#STORAGE"
        ]
       ],
       "shape": {
        "columns": 3,
        "rows": 8
       }
      },
      "text/html": [
       "<div>\n",
       "<style scoped>\n",
       "    .dataframe tbody tr th:only-of-type {\n",
       "        vertical-align: middle;\n",
       "    }\n",
       "\n",
       "    .dataframe tbody tr th {\n",
       "        vertical-align: top;\n",
       "    }\n",
       "\n",
       "    .dataframe thead th {\n",
       "        text-align: right;\n",
       "    }\n",
       "</style>\n",
       "<table border=\"1\" class=\"dataframe\">\n",
       "  <thead>\n",
       "    <tr style=\"text-align: right;\">\n",
       "      <th></th>\n",
       "      <th>s</th>\n",
       "      <th>p</th>\n",
       "      <th>o</th>\n",
       "    </tr>\n",
       "  </thead>\n",
       "  <tbody>\n",
       "    <tr>\n",
       "      <th>0</th>\n",
       "      <td>local://security.permissions.net/entities#Jackson</td>\n",
       "      <td>local://security.permissions.net/vocab#manages...</td>\n",
       "      <td>local://security.permissions.net/entities#APPAREL</td>\n",
       "    </tr>\n",
       "    <tr>\n",
       "      <th>1</th>\n",
       "      <td>local://security.permissions.net/entities#John</td>\n",
       "      <td>local://security.permissions.net/vocab#manages...</td>\n",
       "      <td>local://security.permissions.net/entities#HOBBY</td>\n",
       "    </tr>\n",
       "    <tr>\n",
       "      <th>2</th>\n",
       "      <td>local://security.permissions.net/entities#John</td>\n",
       "      <td>local://security.permissions.net/vocab#manages...</td>\n",
       "      <td>local://security.permissions.net/entities#OFFICE</td>\n",
       "    </tr>\n",
       "    <tr>\n",
       "      <th>3</th>\n",
       "      <td>local://security.permissions.net/entities#Steve</td>\n",
       "      <td>local://security.permissions.net/vocab#manages...</td>\n",
       "      <td>local://security.permissions.net/entities#KITCHEN</td>\n",
       "    </tr>\n",
       "    <tr>\n",
       "      <th>4</th>\n",
       "      <td>local://security.permissions.net/entities#Mary</td>\n",
       "      <td>local://security.permissions.net/vocab#manages...</td>\n",
       "      <td>local://security.permissions.net/entities#CHRI...</td>\n",
       "    </tr>\n",
       "    <tr>\n",
       "      <th>5</th>\n",
       "      <td>local://security.permissions.net/entities#Mary</td>\n",
       "      <td>local://security.permissions.net/vocab#manages...</td>\n",
       "      <td>local://security.permissions.net/entities#BIRT...</td>\n",
       "    </tr>\n",
       "    <tr>\n",
       "      <th>6</th>\n",
       "      <td>local://security.permissions.net/entities#Sama...</td>\n",
       "      <td>local://security.permissions.net/vocab#manages...</td>\n",
       "      <td>local://security.permissions.net/entities#HOME...</td>\n",
       "    </tr>\n",
       "    <tr>\n",
       "      <th>7</th>\n",
       "      <td>local://security.permissions.net/entities#Anya</td>\n",
       "      <td>local://security.permissions.net/vocab#manages...</td>\n",
       "      <td>local://security.permissions.net/entities#STORAGE</td>\n",
       "    </tr>\n",
       "  </tbody>\n",
       "</table>\n",
       "</div>"
      ],
      "text/plain": [
       "                                                   s  \\\n",
       "0  local://security.permissions.net/entities#Jackson   \n",
       "1     local://security.permissions.net/entities#John   \n",
       "2     local://security.permissions.net/entities#John   \n",
       "3    local://security.permissions.net/entities#Steve   \n",
       "4     local://security.permissions.net/entities#Mary   \n",
       "5     local://security.permissions.net/entities#Mary   \n",
       "6  local://security.permissions.net/entities#Sama...   \n",
       "7     local://security.permissions.net/entities#Anya   \n",
       "\n",
       "                                                   p  \\\n",
       "0  local://security.permissions.net/vocab#manages...   \n",
       "1  local://security.permissions.net/vocab#manages...   \n",
       "2  local://security.permissions.net/vocab#manages...   \n",
       "3  local://security.permissions.net/vocab#manages...   \n",
       "4  local://security.permissions.net/vocab#manages...   \n",
       "5  local://security.permissions.net/vocab#manages...   \n",
       "6  local://security.permissions.net/vocab#manages...   \n",
       "7  local://security.permissions.net/vocab#manages...   \n",
       "\n",
       "                                                   o  \n",
       "0  local://security.permissions.net/entities#APPAREL  \n",
       "1    local://security.permissions.net/entities#HOBBY  \n",
       "2   local://security.permissions.net/entities#OFFICE  \n",
       "3  local://security.permissions.net/entities#KITCHEN  \n",
       "4  local://security.permissions.net/entities#CHRI...  \n",
       "5  local://security.permissions.net/entities#BIRT...  \n",
       "6  local://security.permissions.net/entities#HOME...  \n",
       "7  local://security.permissions.net/entities#STORAGE  "
      ]
     },
     "execution_count": 135,
     "metadata": {},
     "output_type": "execute_result"
    }
   ],
   "source": [
    "# Since we haven't run ontological reasoning yet, the \"manages\" relationships are not inferred\n",
    "query = \"\"\"\n",
    "PREFIX : <local://security.permissions.net/vocab#>\n",
    "\n",
    "SELECT ?s ?p ?o\n",
    "WHERE {\n",
    "  ?s ?p ?o .\n",
    "  FILTER(?p = :manages || ?p = :managesDepartment) .\n",
    "}\n",
    "\n",
    "\"\"\"\n",
    "\n",
    "# Execute the query\n",
    "res = corese.sparqlSelect(g, query, return_dataframe=True)\n",
    "res"
   ]
  },
  {
   "cell_type": "code",
   "execution_count": 136,
   "metadata": {},
   "outputs": [
    {
     "data": {
      "text/plain": [
       "JavaObject id=o18"
      ]
     },
     "execution_count": 136,
     "metadata": {},
     "output_type": "execute_result"
    }
   ],
   "source": [
    "# Run the rules engine\n",
    "corese.resetRuleEngine(g)\n",
    "corese.loadRuleEngine(g, profile='owlrl')\n",
    "corese.loadRuleEngine(g, profile='owlrl_lite')\n",
    "corese.loadRuleEngine(g, profile='owlrl_ext')\n",
    "corese.loadRuleEngine(g, profile='rdfs')"
   ]
  },
  {
   "cell_type": "code",
   "execution_count": 137,
   "metadata": {},
   "outputs": [
    {
     "data": {
      "application/vnd.microsoft.datawrangler.viewer.v0+json": {
       "columns": [
        {
         "name": "index",
         "rawType": "int64",
         "type": "integer"
        },
        {
         "name": "s",
         "rawType": "string",
         "type": "string"
        },
        {
         "name": "p",
         "rawType": "string",
         "type": "string"
        },
        {
         "name": "o",
         "rawType": "string",
         "type": "string"
        }
       ],
       "conversionMethod": "pd.DataFrame",
       "ref": "50fddfa0-e586-48f5-9a3d-7aa9d6636c63",
       "rows": [
        [
         "0",
         "local://security.permissions.net/entities#Jackson",
         "local://security.permissions.net/vocab#manages",
         "local://security.permissions.net/entities#SalesRep_28"
        ],
        [
         "1",
         "local://security.permissions.net/entities#Jackson",
         "local://security.permissions.net/vocab#manages",
         "local://security.permissions.net/entities#APPAREL"
        ],
        [
         "2",
         "local://security.permissions.net/entities#Jackson",
         "local://security.permissions.net/vocab#manages",
         "local://security.permissions.net/entities#SalesRep_43"
        ],
        [
         "3",
         "local://security.permissions.net/entities#Jackson",
         "local://security.permissions.net/vocab#manages",
         "local://security.permissions.net/entities#SalesRep_17"
        ],
        [
         "4",
         "local://security.permissions.net/entities#Jackson",
         "local://security.permissions.net/vocab#manages",
         "local://security.permissions.net/entities#SalesRep_23"
        ],
        [
         "5",
         "local://security.permissions.net/entities#Jackson",
         "local://security.permissions.net/vocab#manages",
         "local://security.permissions.net/entities#SalesRep_18"
        ],
        [
         "6",
         "local://security.permissions.net/entities#Jackson",
         "local://security.permissions.net/vocab#manages",
         "local://security.permissions.net/entities#SalesRep_5"
        ],
        [
         "7",
         "local://security.permissions.net/entities#Jackson",
         "local://security.permissions.net/vocab#manages",
         "local://security.permissions.net/entities#SalesRep_46"
        ],
        [
         "8",
         "local://security.permissions.net/entities#Jackson",
         "local://security.permissions.net/vocab#manages",
         "local://security.permissions.net/entities#SalesRep_14"
        ],
        [
         "9",
         "local://security.permissions.net/entities#John",
         "local://security.permissions.net/vocab#manages",
         "local://security.permissions.net/entities#HOBBY"
        ],
        [
         "10",
         "local://security.permissions.net/entities#John",
         "local://security.permissions.net/vocab#manages",
         "local://security.permissions.net/entities#OFFICE"
        ],
        [
         "11",
         "local://security.permissions.net/entities#John",
         "local://security.permissions.net/vocab#manages",
         "local://security.permissions.net/entities#SalesRep_38"
        ],
        [
         "12",
         "local://security.permissions.net/entities#John",
         "local://security.permissions.net/vocab#manages",
         "local://security.permissions.net/entities#SalesRep_22"
        ],
        [
         "13",
         "local://security.permissions.net/entities#John",
         "local://security.permissions.net/vocab#manages",
         "local://security.permissions.net/entities#SalesRep_33"
        ],
        [
         "14",
         "local://security.permissions.net/entities#John",
         "local://security.permissions.net/vocab#manages",
         "local://security.permissions.net/entities#SalesRep_9"
        ],
        [
         "15",
         "local://security.permissions.net/entities#John",
         "local://security.permissions.net/vocab#manages",
         "local://security.permissions.net/entities#SalesRep_37"
        ],
        [
         "16",
         "local://security.permissions.net/entities#John",
         "local://security.permissions.net/vocab#manages",
         "local://security.permissions.net/entities#SalesRep_31"
        ],
        [
         "17",
         "local://security.permissions.net/entities#John",
         "local://security.permissions.net/vocab#manages",
         "local://security.permissions.net/entities#SalesRep_27"
        ],
        [
         "18",
         "local://security.permissions.net/entities#John",
         "local://security.permissions.net/vocab#manages",
         "local://security.permissions.net/entities#SalesRep_42"
        ],
        [
         "19",
         "local://security.permissions.net/entities#Steve",
         "local://security.permissions.net/vocab#manages",
         "local://security.permissions.net/entities#KITCHEN"
        ],
        [
         "20",
         "local://security.permissions.net/entities#Steve",
         "local://security.permissions.net/vocab#manages",
         "local://security.permissions.net/entities#SalesRep_21"
        ],
        [
         "21",
         "local://security.permissions.net/entities#Steve",
         "local://security.permissions.net/vocab#manages",
         "local://security.permissions.net/entities#SalesRep_7"
        ],
        [
         "22",
         "local://security.permissions.net/entities#Steve",
         "local://security.permissions.net/vocab#manages",
         "local://security.permissions.net/entities#SalesRep_15"
        ],
        [
         "23",
         "local://security.permissions.net/entities#Steve",
         "local://security.permissions.net/vocab#manages",
         "local://security.permissions.net/entities#SalesRep_2"
        ],
        [
         "24",
         "local://security.permissions.net/entities#Steve",
         "local://security.permissions.net/vocab#manages",
         "local://security.permissions.net/entities#SalesRep_35"
        ],
        [
         "25",
         "local://security.permissions.net/entities#Steve",
         "local://security.permissions.net/vocab#manages",
         "local://security.permissions.net/entities#SalesRep_6"
        ],
        [
         "26",
         "local://security.permissions.net/entities#Steve",
         "local://security.permissions.net/vocab#manages",
         "local://security.permissions.net/entities#SalesRep_30"
        ],
        [
         "27",
         "local://security.permissions.net/entities#Mary",
         "local://security.permissions.net/vocab#manages",
         "local://security.permissions.net/entities#CHRISTMAS"
        ],
        [
         "28",
         "local://security.permissions.net/entities#Mary",
         "local://security.permissions.net/vocab#manages",
         "local://security.permissions.net/entities#BIRTHDAY"
        ],
        [
         "29",
         "local://security.permissions.net/entities#Mary",
         "local://security.permissions.net/vocab#manages",
         "local://security.permissions.net/entities#SalesRep_13"
        ],
        [
         "30",
         "local://security.permissions.net/entities#Mary",
         "local://security.permissions.net/vocab#manages",
         "local://security.permissions.net/entities#SalesRep_36"
        ],
        [
         "31",
         "local://security.permissions.net/entities#Mary",
         "local://security.permissions.net/vocab#manages",
         "local://security.permissions.net/entities#SalesRep_16"
        ],
        [
         "32",
         "local://security.permissions.net/entities#Mary",
         "local://security.permissions.net/vocab#manages",
         "local://security.permissions.net/entities#SalesRep_24"
        ],
        [
         "33",
         "local://security.permissions.net/entities#Mary",
         "local://security.permissions.net/vocab#manages",
         "local://security.permissions.net/entities#SalesRep_39"
        ],
        [
         "34",
         "local://security.permissions.net/entities#Mary",
         "local://security.permissions.net/vocab#manages",
         "local://security.permissions.net/entities#SalesRep_4"
        ],
        [
         "35",
         "local://security.permissions.net/entities#Mary",
         "local://security.permissions.net/vocab#manages",
         "local://security.permissions.net/entities#SalesRep_19"
        ],
        [
         "36",
         "local://security.permissions.net/entities#Mary",
         "local://security.permissions.net/vocab#manages",
         "local://security.permissions.net/entities#SalesRep_29"
        ],
        [
         "37",
         "local://security.permissions.net/entities#Mary",
         "local://security.permissions.net/vocab#manages",
         "local://security.permissions.net/entities#SalesRep_45"
        ],
        [
         "38",
         "local://security.permissions.net/entities#Mary",
         "local://security.permissions.net/vocab#manages",
         "local://security.permissions.net/entities#SalesRep_32"
        ],
        [
         "39",
         "local://security.permissions.net/entities#Mary",
         "local://security.permissions.net/vocab#manages",
         "local://security.permissions.net/entities#SalesRep_12"
        ],
        [
         "40",
         "local://security.permissions.net/entities#Mary",
         "local://security.permissions.net/vocab#manages",
         "local://security.permissions.net/entities#SalesRep_1"
        ],
        [
         "41",
         "local://security.permissions.net/entities#Mary",
         "local://security.permissions.net/vocab#manages",
         "local://security.permissions.net/entities#SalesRep_40"
        ],
        [
         "42",
         "local://security.permissions.net/entities#Mary",
         "local://security.permissions.net/vocab#manages",
         "local://security.permissions.net/entities#SalesRep_44"
        ],
        [
         "43",
         "local://security.permissions.net/entities#Mary",
         "local://security.permissions.net/vocab#manages",
         "local://security.permissions.net/entities#SalesRep_10"
        ],
        [
         "44",
         "local://security.permissions.net/entities#Samantha",
         "local://security.permissions.net/vocab#manages",
         "local://security.permissions.net/entities#HOME%20AND%20GARDEN"
        ],
        [
         "45",
         "local://security.permissions.net/entities#Samantha",
         "local://security.permissions.net/vocab#manages",
         "local://security.permissions.net/entities#SalesRep_11"
        ],
        [
         "46",
         "local://security.permissions.net/entities#Samantha",
         "local://security.permissions.net/vocab#manages",
         "local://security.permissions.net/entities#SalesRep_8"
        ],
        [
         "47",
         "local://security.permissions.net/entities#Samantha",
         "local://security.permissions.net/vocab#manages",
         "local://security.permissions.net/entities#SalesRep_47"
        ],
        [
         "48",
         "local://security.permissions.net/entities#Samantha",
         "local://security.permissions.net/vocab#manages",
         "local://security.permissions.net/entities#SalesRep_0"
        ],
        [
         "49",
         "local://security.permissions.net/entities#Samantha",
         "local://security.permissions.net/vocab#manages",
         "local://security.permissions.net/entities#SalesRep_3"
        ]
       ],
       "shape": {
        "columns": 3,
        "rows": 66
       }
      },
      "text/html": [
       "<div>\n",
       "<style scoped>\n",
       "    .dataframe tbody tr th:only-of-type {\n",
       "        vertical-align: middle;\n",
       "    }\n",
       "\n",
       "    .dataframe tbody tr th {\n",
       "        vertical-align: top;\n",
       "    }\n",
       "\n",
       "    .dataframe thead th {\n",
       "        text-align: right;\n",
       "    }\n",
       "</style>\n",
       "<table border=\"1\" class=\"dataframe\">\n",
       "  <thead>\n",
       "    <tr style=\"text-align: right;\">\n",
       "      <th></th>\n",
       "      <th>s</th>\n",
       "      <th>p</th>\n",
       "      <th>o</th>\n",
       "    </tr>\n",
       "  </thead>\n",
       "  <tbody>\n",
       "    <tr>\n",
       "      <th>0</th>\n",
       "      <td>local://security.permissions.net/entities#Jackson</td>\n",
       "      <td>local://security.permissions.net/vocab#manages</td>\n",
       "      <td>local://security.permissions.net/entities#Sale...</td>\n",
       "    </tr>\n",
       "    <tr>\n",
       "      <th>1</th>\n",
       "      <td>local://security.permissions.net/entities#Jackson</td>\n",
       "      <td>local://security.permissions.net/vocab#manages</td>\n",
       "      <td>local://security.permissions.net/entities#APPAREL</td>\n",
       "    </tr>\n",
       "    <tr>\n",
       "      <th>2</th>\n",
       "      <td>local://security.permissions.net/entities#Jackson</td>\n",
       "      <td>local://security.permissions.net/vocab#manages</td>\n",
       "      <td>local://security.permissions.net/entities#Sale...</td>\n",
       "    </tr>\n",
       "    <tr>\n",
       "      <th>3</th>\n",
       "      <td>local://security.permissions.net/entities#Jackson</td>\n",
       "      <td>local://security.permissions.net/vocab#manages</td>\n",
       "      <td>local://security.permissions.net/entities#Sale...</td>\n",
       "    </tr>\n",
       "    <tr>\n",
       "      <th>4</th>\n",
       "      <td>local://security.permissions.net/entities#Jackson</td>\n",
       "      <td>local://security.permissions.net/vocab#manages</td>\n",
       "      <td>local://security.permissions.net/entities#Sale...</td>\n",
       "    </tr>\n",
       "    <tr>\n",
       "      <th>...</th>\n",
       "      <td>...</td>\n",
       "      <td>...</td>\n",
       "      <td>...</td>\n",
       "    </tr>\n",
       "    <tr>\n",
       "      <th>61</th>\n",
       "      <td>local://security.permissions.net/entities#Steve</td>\n",
       "      <td>local://security.permissions.net/vocab#manages...</td>\n",
       "      <td>local://security.permissions.net/entities#KITCHEN</td>\n",
       "    </tr>\n",
       "    <tr>\n",
       "      <th>62</th>\n",
       "      <td>local://security.permissions.net/entities#Mary</td>\n",
       "      <td>local://security.permissions.net/vocab#manages...</td>\n",
       "      <td>local://security.permissions.net/entities#CHRI...</td>\n",
       "    </tr>\n",
       "    <tr>\n",
       "      <th>63</th>\n",
       "      <td>local://security.permissions.net/entities#Mary</td>\n",
       "      <td>local://security.permissions.net/vocab#manages...</td>\n",
       "      <td>local://security.permissions.net/entities#BIRT...</td>\n",
       "    </tr>\n",
       "    <tr>\n",
       "      <th>64</th>\n",
       "      <td>local://security.permissions.net/entities#Sama...</td>\n",
       "      <td>local://security.permissions.net/vocab#manages...</td>\n",
       "      <td>local://security.permissions.net/entities#HOME...</td>\n",
       "    </tr>\n",
       "    <tr>\n",
       "      <th>65</th>\n",
       "      <td>local://security.permissions.net/entities#Anya</td>\n",
       "      <td>local://security.permissions.net/vocab#manages...</td>\n",
       "      <td>local://security.permissions.net/entities#STORAGE</td>\n",
       "    </tr>\n",
       "  </tbody>\n",
       "</table>\n",
       "<p>66 rows × 3 columns</p>\n",
       "</div>"
      ],
      "text/plain": [
       "                                                    s  \\\n",
       "0   local://security.permissions.net/entities#Jackson   \n",
       "1   local://security.permissions.net/entities#Jackson   \n",
       "2   local://security.permissions.net/entities#Jackson   \n",
       "3   local://security.permissions.net/entities#Jackson   \n",
       "4   local://security.permissions.net/entities#Jackson   \n",
       "..                                                ...   \n",
       "61    local://security.permissions.net/entities#Steve   \n",
       "62     local://security.permissions.net/entities#Mary   \n",
       "63     local://security.permissions.net/entities#Mary   \n",
       "64  local://security.permissions.net/entities#Sama...   \n",
       "65     local://security.permissions.net/entities#Anya   \n",
       "\n",
       "                                                    p  \\\n",
       "0      local://security.permissions.net/vocab#manages   \n",
       "1      local://security.permissions.net/vocab#manages   \n",
       "2      local://security.permissions.net/vocab#manages   \n",
       "3      local://security.permissions.net/vocab#manages   \n",
       "4      local://security.permissions.net/vocab#manages   \n",
       "..                                                ...   \n",
       "61  local://security.permissions.net/vocab#manages...   \n",
       "62  local://security.permissions.net/vocab#manages...   \n",
       "63  local://security.permissions.net/vocab#manages...   \n",
       "64  local://security.permissions.net/vocab#manages...   \n",
       "65  local://security.permissions.net/vocab#manages...   \n",
       "\n",
       "                                                    o  \n",
       "0   local://security.permissions.net/entities#Sale...  \n",
       "1   local://security.permissions.net/entities#APPAREL  \n",
       "2   local://security.permissions.net/entities#Sale...  \n",
       "3   local://security.permissions.net/entities#Sale...  \n",
       "4   local://security.permissions.net/entities#Sale...  \n",
       "..                                                ...  \n",
       "61  local://security.permissions.net/entities#KITCHEN  \n",
       "62  local://security.permissions.net/entities#CHRI...  \n",
       "63  local://security.permissions.net/entities#BIRT...  \n",
       "64  local://security.permissions.net/entities#HOME...  \n",
       "65  local://security.permissions.net/entities#STORAGE  \n",
       "\n",
       "[66 rows x 3 columns]"
      ]
     },
     "execution_count": 137,
     "metadata": {},
     "output_type": "execute_result"
    }
   ],
   "source": [
    "# Now that we have added our inferences, we can see the results of the manages relationships which have been inferred from both managesDepartment and mangedBy\n",
    "query = \"\"\"\n",
    "PREFIX : <local://security.permissions.net/vocab#>\n",
    "\n",
    "SELECT ?s ?p ?o\n",
    "WHERE {\n",
    "  ?s ?p ?o .\n",
    "  FILTER(?p = :manages || ?p = :managesDepartment) .\n",
    "}\n",
    "\n",
    "\"\"\"\n",
    "\n",
    "# Execute the query\n",
    "res = corese.sparqlSelect(g, query, return_dataframe=True)\n",
    "res"
   ]
  },
  {
   "cell_type": "code",
   "execution_count": 138,
   "metadata": {},
   "outputs": [
    {
     "data": {
      "application/vnd.microsoft.datawrangler.viewer.v0+json": {
       "columns": [
        {
         "name": "index",
         "rawType": "int64",
         "type": "integer"
        },
        {
         "name": "record",
         "rawType": "string",
         "type": "string"
        }
       ],
       "conversionMethod": "pd.DataFrame",
       "ref": "64878008-0875-4fee-bdbc-1def6d052697",
       "rows": [
        [
         "0",
         "local://security.permissions.net/entities#456645#Spain"
        ],
        [
         "1",
         "local://security.permissions.net/entities#456645#Portugal"
        ],
        [
         "2",
         "local://security.permissions.net/entities#456645#Norway"
        ],
        [
         "3",
         "local://security.permissions.net/entities#456645#Cyprus"
        ],
        [
         "4",
         "local://security.permissions.net/entities#456645#United%20Kingdom"
        ],
        [
         "5",
         "local://security.permissions.net/entities#466053#United%20Kingdom"
        ],
        [
         "6",
         "local://security.permissions.net/entities#466053#Germany"
        ],
        [
         "7",
         "local://security.permissions.net/entities#466053#Portugal"
        ],
        [
         "8",
         "local://security.permissions.net/entities#466053#Switzerland"
        ],
        [
         "9",
         "local://security.permissions.net/entities#466053#Netherlands"
        ],
        [
         "10",
         "local://security.permissions.net/entities#466053#Belgium"
        ],
        [
         "11",
         "local://security.permissions.net/entities#466053#Cyprus"
        ],
        [
         "12",
         "local://security.permissions.net/entities#466053#Channel%20Islands"
        ],
        [
         "13",
         "local://security.permissions.net/entities#466053#France"
        ],
        [
         "14",
         "local://security.permissions.net/entities#466053#European%20Community"
        ],
        [
         "15",
         "local://security.permissions.net/entities#466053#EIRE"
        ],
        [
         "16",
         "local://security.permissions.net/entities#1663011#United%20Kingdom"
        ],
        [
         "17",
         "local://security.permissions.net/entities#1663011#Norway"
        ],
        [
         "18",
         "local://security.permissions.net/entities#1663011#Germany"
        ],
        [
         "19",
         "local://security.permissions.net/entities#1663011#France"
        ],
        [
         "20",
         "local://security.permissions.net/entities#1663011#Denmark"
        ],
        [
         "21",
         "local://security.permissions.net/entities#1663011#Switzerland"
        ],
        [
         "22",
         "local://security.permissions.net/entities#1663011#Belgium"
        ],
        [
         "23",
         "local://security.permissions.net/entities#1528947#United%20Kingdom"
        ],
        [
         "24",
         "local://security.permissions.net/entities#1528947#Norway"
        ],
        [
         "25",
         "local://security.permissions.net/entities#1528947#Germany"
        ],
        [
         "26",
         "local://security.permissions.net/entities#1528947#Italy"
        ],
        [
         "27",
         "local://security.permissions.net/entities#1528947#EIRE"
        ],
        [
         "28",
         "local://security.permissions.net/entities#1528947#Spain"
        ],
        [
         "29",
         "local://security.permissions.net/entities#1528947#Cyprus"
        ],
        [
         "30",
         "local://security.permissions.net/entities#1528947#Malta"
        ],
        [
         "31",
         "local://security.permissions.net/entities#1528947#European%20Community"
        ],
        [
         "32",
         "local://security.permissions.net/entities#488880#United%20Kingdom"
        ],
        [
         "33",
         "local://security.permissions.net/entities#488880#Germany"
        ],
        [
         "34",
         "local://security.permissions.net/entities#488880#EIRE"
        ],
        [
         "35",
         "local://security.permissions.net/entities#488880#Switzerland"
        ],
        [
         "36",
         "local://security.permissions.net/entities#488880#Spain"
        ],
        [
         "37",
         "local://security.permissions.net/entities#488880#France"
        ],
        [
         "38",
         "local://security.permissions.net/entities#488880#Channel%20Islands"
        ],
        [
         "39",
         "local://security.permissions.net/entities#488880#Denmark"
        ],
        [
         "40",
         "local://security.permissions.net/entities#488880#Netherlands"
        ],
        [
         "41",
         "local://security.permissions.net/entities#1514730#United%20Kingdom"
        ],
        [
         "42",
         "local://security.permissions.net/entities#1495515#United%20Kingdom"
        ],
        [
         "43",
         "local://security.permissions.net/entities#485289#United%20Kingdom"
        ],
        [
         "44",
         "local://security.permissions.net/entities#485289#Portugal"
        ],
        [
         "45",
         "local://security.permissions.net/entities#485289#EIRE"
        ],
        [
         "46",
         "local://security.permissions.net/entities#485289#Switzerland"
        ],
        [
         "47",
         "local://security.permissions.net/entities#485289#Finland"
        ],
        [
         "48",
         "local://security.permissions.net/entities#485289#France"
        ],
        [
         "49",
         "local://security.permissions.net/entities#465549#United%20Kingdom"
        ]
       ],
       "shape": {
        "columns": 1,
        "rows": 2110
       }
      },
      "text/html": [
       "<div>\n",
       "<style scoped>\n",
       "    .dataframe tbody tr th:only-of-type {\n",
       "        vertical-align: middle;\n",
       "    }\n",
       "\n",
       "    .dataframe tbody tr th {\n",
       "        vertical-align: top;\n",
       "    }\n",
       "\n",
       "    .dataframe thead th {\n",
       "        text-align: right;\n",
       "    }\n",
       "</style>\n",
       "<table border=\"1\" class=\"dataframe\">\n",
       "  <thead>\n",
       "    <tr style=\"text-align: right;\">\n",
       "      <th></th>\n",
       "      <th>record</th>\n",
       "    </tr>\n",
       "  </thead>\n",
       "  <tbody>\n",
       "    <tr>\n",
       "      <th>0</th>\n",
       "      <td>local://security.permissions.net/entities#4566...</td>\n",
       "    </tr>\n",
       "    <tr>\n",
       "      <th>1</th>\n",
       "      <td>local://security.permissions.net/entities#4566...</td>\n",
       "    </tr>\n",
       "    <tr>\n",
       "      <th>2</th>\n",
       "      <td>local://security.permissions.net/entities#4566...</td>\n",
       "    </tr>\n",
       "    <tr>\n",
       "      <th>3</th>\n",
       "      <td>local://security.permissions.net/entities#4566...</td>\n",
       "    </tr>\n",
       "    <tr>\n",
       "      <th>4</th>\n",
       "      <td>local://security.permissions.net/entities#4566...</td>\n",
       "    </tr>\n",
       "    <tr>\n",
       "      <th>...</th>\n",
       "      <td>...</td>\n",
       "    </tr>\n",
       "    <tr>\n",
       "      <th>2105</th>\n",
       "      <td>local://security.permissions.net/entities#4457...</td>\n",
       "    </tr>\n",
       "    <tr>\n",
       "      <th>2106</th>\n",
       "      <td>local://security.permissions.net/entities#4654...</td>\n",
       "    </tr>\n",
       "    <tr>\n",
       "      <th>2107</th>\n",
       "      <td>local://security.permissions.net/entities#1785...</td>\n",
       "    </tr>\n",
       "    <tr>\n",
       "      <th>2108</th>\n",
       "      <td>local://security.permissions.net/entities#1785...</td>\n",
       "    </tr>\n",
       "    <tr>\n",
       "      <th>2109</th>\n",
       "      <td>local://security.permissions.net/entities#1785...</td>\n",
       "    </tr>\n",
       "  </tbody>\n",
       "</table>\n",
       "<p>2110 rows × 1 columns</p>\n",
       "</div>"
      ],
      "text/plain": [
       "                                                 record\n",
       "0     local://security.permissions.net/entities#4566...\n",
       "1     local://security.permissions.net/entities#4566...\n",
       "2     local://security.permissions.net/entities#4566...\n",
       "3     local://security.permissions.net/entities#4566...\n",
       "4     local://security.permissions.net/entities#4566...\n",
       "...                                                 ...\n",
       "2105  local://security.permissions.net/entities#4457...\n",
       "2106  local://security.permissions.net/entities#4654...\n",
       "2107  local://security.permissions.net/entities#1785...\n",
       "2108  local://security.permissions.net/entities#1785...\n",
       "2109  local://security.permissions.net/entities#1785...\n",
       "\n",
       "[2110 rows x 1 columns]"
      ]
     },
     "execution_count": 138,
     "metadata": {},
     "output_type": "execute_result"
    }
   ],
   "source": [
    "# Find all the records that a specific user may have access to.\n",
    "\n",
    "USER = \"SalesRep_0\"\n",
    "\n",
    "query = f\"\"\"\n",
    "prefix data: <local://security.permissions.net/entities#>\n",
    "prefix : <local://security.permissions.net/vocab#>\n",
    "\n",
    "select distinct ?record where {{\n",
    "data:{USER} :hasAccess ?item . \n",
    "?item a :Item .\n",
    "?item :hasRecord ?record .\n",
    "?record a :Record .\n",
    "optional {{\n",
    "    data:{USER} :hasAccess ?country .\n",
    "    ?country a :Country ; :hasRecord ?record .\n",
    "}}\n",
    "optional {{\n",
    "    data:{USER} a :Manager .\n",
    "    bind(:Manager as ?mgr) .\n",
    "}}\n",
    "filter(bound(?country) || bound(?mgr)) .\n",
    "}}\n",
    "\"\"\"\n",
    "\n",
    "# Execute the query\n",
    "res = corese.sparqlSelect(g, query, return_dataframe=True)\n",
    "res"
   ]
  },
  {
   "cell_type": "code",
   "execution_count": null,
   "metadata": {},
   "outputs": [
    {
     "data": {
      "application/vnd.microsoft.datawrangler.viewer.v0+json": {
       "columns": [
        {
         "name": "index",
         "rawType": "int64",
         "type": "integer"
        },
        {
         "name": "record",
         "rawType": "string",
         "type": "string"
        }
       ],
       "conversionMethod": "pd.DataFrame",
       "ref": "b08ba9d2-581a-4d99-8139-80ecf7d3d783",
       "rows": [
        [
         "0",
         "local://security.permissions.net/entities#456645#United%20Kingdom"
        ],
        [
         "1",
         "local://security.permissions.net/entities#1787667#United%20Kingdom"
        ],
        [
         "2",
         "local://security.permissions.net/entities#1779960#United%20Kingdom"
        ],
        [
         "3",
         "local://security.permissions.net/entities#455994#United%20Kingdom"
        ],
        [
         "4",
         "local://security.permissions.net/entities#466767#United%20Kingdom"
        ],
        [
         "5",
         "local://security.permissions.net/entities#465465#United%20Kingdom"
        ],
        [
         "6",
         "local://security.permissions.net/entities#472941#United%20Kingdom"
        ],
        [
         "7",
         "local://security.permissions.net/entities#1785420#United%20Kingdom"
        ],
        [
         "8",
         "local://security.permissions.net/entities#1787625#United%20Kingdom"
        ],
        [
         "9",
         "local://security.permissions.net/entities#474726#United%20Kingdom"
        ],
        [
         "10",
         "local://security.permissions.net/entities#1788528#United%20Kingdom"
        ],
        [
         "11",
         "local://security.permissions.net/entities#465570#United%20Kingdom"
        ],
        [
         "12",
         "local://security.permissions.net/entities#1788654#United%20Kingdom"
        ],
        [
         "13",
         "local://security.permissions.net/entities#495180#United%20Kingdom"
        ],
        [
         "14",
         "local://security.permissions.net/entities#481488#United%20Kingdom"
        ],
        [
         "15",
         "local://security.permissions.net/entities#482895#United%20Kingdom"
        ],
        [
         "16",
         "local://security.permissions.net/entities#495075#United%20Kingdom"
        ],
        [
         "17",
         "local://security.permissions.net/entities#482937#United%20Kingdom"
        ],
        [
         "18",
         "local://security.permissions.net/entities#471996#United%20Kingdom"
        ],
        [
         "19",
         "local://security.permissions.net/entities#479304#United%20Kingdom"
        ],
        [
         "20",
         "local://security.permissions.net/entities#1789452#United%20Kingdom"
        ],
        [
         "21",
         "local://security.permissions.net/entities#457233#United%20Kingdom"
        ],
        [
         "22",
         "local://security.permissions.net/entities#786996#United%20Kingdom"
        ],
        [
         "23",
         "local://security.permissions.net/entities#491715#United%20Kingdom"
        ],
        [
         "24",
         "local://security.permissions.net/entities#479262#United%20Kingdom"
        ],
        [
         "25",
         "local://security.permissions.net/entities#493962#United%20Kingdom"
        ],
        [
         "26",
         "local://security.permissions.net/entities#477267#United%20Kingdom"
        ],
        [
         "27",
         "local://security.permissions.net/entities#445746#United%20Kingdom"
        ],
        [
         "28",
         "local://security.permissions.net/entities#467250#United%20Kingdom"
        ],
        [
         "29",
         "local://security.permissions.net/entities#472017#United%20Kingdom"
        ],
        [
         "30",
         "local://security.permissions.net/entities#448791#United%20Kingdom"
        ],
        [
         "31",
         "local://security.permissions.net/entities#437220#United%20Kingdom"
        ],
        [
         "32",
         "local://security.permissions.net/entities#466704#United%20Kingdom"
        ],
        [
         "33",
         "local://security.permissions.net/entities#437472#United%20Kingdom"
        ],
        [
         "34",
         "local://security.permissions.net/entities#447531#United%20Kingdom"
        ],
        [
         "35",
         "local://security.permissions.net/entities#489300#United%20Kingdom"
        ],
        [
         "36",
         "local://security.permissions.net/entities#464037#United%20Kingdom"
        ],
        [
         "37",
         "local://security.permissions.net/entities#455616#United%20Kingdom"
        ],
        [
         "38",
         "local://security.permissions.net/entities#1527561#United%20Kingdom"
        ],
        [
         "39",
         "local://security.permissions.net/entities#494193#United%20Kingdom"
        ],
        [
         "40",
         "local://security.permissions.net/entities#452004#United%20Kingdom"
        ],
        [
         "41",
         "local://security.permissions.net/entities#1786113#United%20Kingdom"
        ],
        [
         "42",
         "local://security.permissions.net/entities#1662024#United%20Kingdom"
        ],
        [
         "43",
         "local://security.permissions.net/entities#438207#United%20Kingdom"
        ],
        [
         "44",
         "local://security.permissions.net/entities#454020#United%20Kingdom"
        ],
        [
         "45",
         "local://security.permissions.net/entities#1734243#United%20Kingdom"
        ],
        [
         "46",
         "local://security.permissions.net/entities#472836#United%20Kingdom"
        ],
        [
         "47",
         "local://security.permissions.net/entities#1662360#United%20Kingdom"
        ],
        [
         "48",
         "local://security.permissions.net/entities#491463#United%20Kingdom"
        ],
        [
         "49",
         "local://security.permissions.net/entities#1011885#United%20Kingdom"
        ]
       ],
       "shape": {
        "columns": 1,
        "rows": 2110
       }
      },
      "text/html": [
       "<div>\n",
       "<style scoped>\n",
       "    .dataframe tbody tr th:only-of-type {\n",
       "        vertical-align: middle;\n",
       "    }\n",
       "\n",
       "    .dataframe tbody tr th {\n",
       "        vertical-align: top;\n",
       "    }\n",
       "\n",
       "    .dataframe thead th {\n",
       "        text-align: right;\n",
       "    }\n",
       "</style>\n",
       "<table border=\"1\" class=\"dataframe\">\n",
       "  <thead>\n",
       "    <tr style=\"text-align: right;\">\n",
       "      <th></th>\n",
       "      <th>record</th>\n",
       "    </tr>\n",
       "  </thead>\n",
       "  <tbody>\n",
       "    <tr>\n",
       "      <th>0</th>\n",
       "      <td>local://security.permissions.net/entities#4566...</td>\n",
       "    </tr>\n",
       "    <tr>\n",
       "      <th>1</th>\n",
       "      <td>local://security.permissions.net/entities#1787...</td>\n",
       "    </tr>\n",
       "    <tr>\n",
       "      <th>2</th>\n",
       "      <td>local://security.permissions.net/entities#1779...</td>\n",
       "    </tr>\n",
       "    <tr>\n",
       "      <th>3</th>\n",
       "      <td>local://security.permissions.net/entities#4559...</td>\n",
       "    </tr>\n",
       "    <tr>\n",
       "      <th>4</th>\n",
       "      <td>local://security.permissions.net/entities#4667...</td>\n",
       "    </tr>\n",
       "    <tr>\n",
       "      <th>...</th>\n",
       "      <td>...</td>\n",
       "    </tr>\n",
       "    <tr>\n",
       "      <th>2105</th>\n",
       "      <td>local://security.permissions.net/entities#4823...</td>\n",
       "    </tr>\n",
       "    <tr>\n",
       "      <th>2106</th>\n",
       "      <td>local://security.permissions.net/entities#4671...</td>\n",
       "    </tr>\n",
       "    <tr>\n",
       "      <th>2107</th>\n",
       "      <td>local://security.permissions.net/entities#4488...</td>\n",
       "    </tr>\n",
       "    <tr>\n",
       "      <th>2108</th>\n",
       "      <td>local://security.permissions.net/entities#4672...</td>\n",
       "    </tr>\n",
       "    <tr>\n",
       "      <th>2109</th>\n",
       "      <td>local://security.permissions.net/entities#4463...</td>\n",
       "    </tr>\n",
       "  </tbody>\n",
       "</table>\n",
       "<p>2110 rows × 1 columns</p>\n",
       "</div>"
      ],
      "text/plain": [
       "                                                 record\n",
       "0     local://security.permissions.net/entities#4566...\n",
       "1     local://security.permissions.net/entities#1787...\n",
       "2     local://security.permissions.net/entities#1779...\n",
       "3     local://security.permissions.net/entities#4559...\n",
       "4     local://security.permissions.net/entities#4667...\n",
       "...                                                 ...\n",
       "2105  local://security.permissions.net/entities#4823...\n",
       "2106  local://security.permissions.net/entities#4671...\n",
       "2107  local://security.permissions.net/entities#4488...\n",
       "2108  local://security.permissions.net/entities#4672...\n",
       "2109  local://security.permissions.net/entities#4463...\n",
       "\n",
       "[2110 rows x 1 columns]"
      ]
     },
     "execution_count": 139,
     "metadata": {},
     "output_type": "execute_result"
    }
   ],
   "source": [
    "# Find all the records that a specific user may have access to. This query is simpler to read and more performant\n",
    "\n",
    "USER = \"SalesRep_0\"\n",
    "\n",
    "query = f\"\"\"\n",
    "prefix data: <local://security.permissions.net/entities#>\n",
    "prefix : <local://security.permissions.net/vocab#>\n",
    "\n",
    "select distinct ?record where {{\n",
    "    {{\n",
    "    data:{USER} a :SalesRep; :hasAccess ?country, ?item .\n",
    "    ?country a :Country ; :hasRecord ?record .\n",
    "    ?item a :Item ; :hasRecord ?record .\n",
    "    }} union {{\n",
    "    data:{USER} a :Manager; :hasAccess ?item .\n",
    "    ?item a :Item ; :hasRecord ?record .\n",
    "    }}\n",
    "}}\n",
    "\"\"\"\n",
    "\n",
    "# Execute the query\n",
    "res = corese.sparqlSelect(g, query, return_dataframe=True)\n",
    "res"
   ]
  },
  {
   "cell_type": "code",
   "execution_count": null,
   "metadata": {},
   "outputs": [
    {
     "data": {
      "application/vnd.microsoft.datawrangler.viewer.v0+json": {
       "columns": [
        {
         "name": "index",
         "rawType": "int64",
         "type": "integer"
        },
        {
         "name": "record",
         "rawType": "string",
         "type": "string"
        }
       ],
       "conversionMethod": "pd.DataFrame",
       "ref": "328ce16f-11f0-40db-a929-5302705defbf",
       "rows": [
        [
         "0",
         "local://security.permissions.net/entities#465402#United%20Kingdom"
        ],
        [
         "1",
         "local://security.permissions.net/entities#474558#United%20Kingdom"
        ],
        [
         "2",
         "local://security.permissions.net/entities#474558#Spain"
        ],
        [
         "3",
         "local://security.permissions.net/entities#474558#Finland"
        ],
        [
         "4",
         "local://security.permissions.net/entities#477393#United%20Kingdom"
        ],
        [
         "5",
         "local://security.permissions.net/entities#477393#Germany"
        ],
        [
         "6",
         "local://security.permissions.net/entities#477393#Portugal"
        ],
        [
         "7",
         "local://security.permissions.net/entities#477393#EIRE"
        ],
        [
         "8",
         "local://security.permissions.net/entities#477393#Spain"
        ],
        [
         "9",
         "local://security.permissions.net/entities#477393#Unspecified"
        ],
        [
         "10",
         "local://security.permissions.net/entities#477393#Austria"
        ],
        [
         "11",
         "local://security.permissions.net/entities#477393#France"
        ],
        [
         "12",
         "local://security.permissions.net/entities#474033#United%20Kingdom"
        ],
        [
         "13",
         "local://security.permissions.net/entities#474033#Germany"
        ],
        [
         "14",
         "local://security.permissions.net/entities#474033#Portugal"
        ],
        [
         "15",
         "local://security.permissions.net/entities#474033#EIRE"
        ],
        [
         "16",
         "local://security.permissions.net/entities#474033#Spain"
        ],
        [
         "17",
         "local://security.permissions.net/entities#474033#Belgium"
        ],
        [
         "18",
         "local://security.permissions.net/entities#474033#France"
        ],
        [
         "19",
         "local://security.permissions.net/entities#490413#United%20Kingdom"
        ],
        [
         "20",
         "local://security.permissions.net/entities#490413#Germany"
        ],
        [
         "21",
         "local://security.permissions.net/entities#490413#Portugal"
        ],
        [
         "22",
         "local://security.permissions.net/entities#490413#Italy"
        ],
        [
         "23",
         "local://security.permissions.net/entities#490413#EIRE"
        ],
        [
         "24",
         "local://security.permissions.net/entities#490413#Spain"
        ],
        [
         "25",
         "local://security.permissions.net/entities#490413#Australia"
        ],
        [
         "26",
         "local://security.permissions.net/entities#490413#Belgium"
        ],
        [
         "27",
         "local://security.permissions.net/entities#490413#France"
        ],
        [
         "28",
         "local://security.permissions.net/entities#490413#Austria"
        ],
        [
         "29",
         "local://security.permissions.net/entities#490413#USA"
        ],
        [
         "30",
         "local://security.permissions.net/entities#490434#United%20Kingdom"
        ],
        [
         "31",
         "local://security.permissions.net/entities#490434#Germany"
        ],
        [
         "32",
         "local://security.permissions.net/entities#490434#Portugal"
        ],
        [
         "33",
         "local://security.permissions.net/entities#490434#EIRE"
        ],
        [
         "34",
         "local://security.permissions.net/entities#490434#Spain"
        ],
        [
         "35",
         "local://security.permissions.net/entities#490434#Sweden"
        ],
        [
         "36",
         "local://security.permissions.net/entities#490434#Austria"
        ],
        [
         "37",
         "local://security.permissions.net/entities#490434#France"
        ],
        [
         "38",
         "local://security.permissions.net/entities#490434#USA"
        ],
        [
         "39",
         "local://security.permissions.net/entities#490434#Belgium"
        ],
        [
         "40",
         "local://security.permissions.net/entities#462777#United%20Kingdom"
        ],
        [
         "41",
         "local://security.permissions.net/entities#462777#Germany"
        ],
        [
         "42",
         "local://security.permissions.net/entities#462777#United%20Arab%20Emirates"
        ],
        [
         "43",
         "local://security.permissions.net/entities#462777#EIRE"
        ],
        [
         "44",
         "local://security.permissions.net/entities#462777#Switzerland"
        ],
        [
         "45",
         "local://security.permissions.net/entities#462777#Spain"
        ],
        [
         "46",
         "local://security.permissions.net/entities#462777#Australia"
        ],
        [
         "47",
         "local://security.permissions.net/entities#462777#Finland"
        ],
        [
         "48",
         "local://security.permissions.net/entities#462777#Netherlands"
        ],
        [
         "49",
         "local://security.permissions.net/entities#462777#France"
        ]
       ],
       "shape": {
        "columns": 1,
        "rows": 1169
       }
      },
      "text/html": [
       "<div>\n",
       "<style scoped>\n",
       "    .dataframe tbody tr th:only-of-type {\n",
       "        vertical-align: middle;\n",
       "    }\n",
       "\n",
       "    .dataframe tbody tr th {\n",
       "        vertical-align: top;\n",
       "    }\n",
       "\n",
       "    .dataframe thead th {\n",
       "        text-align: right;\n",
       "    }\n",
       "</style>\n",
       "<table border=\"1\" class=\"dataframe\">\n",
       "  <thead>\n",
       "    <tr style=\"text-align: right;\">\n",
       "      <th></th>\n",
       "      <th>record</th>\n",
       "    </tr>\n",
       "  </thead>\n",
       "  <tbody>\n",
       "    <tr>\n",
       "      <th>0</th>\n",
       "      <td>local://security.permissions.net/entities#4654...</td>\n",
       "    </tr>\n",
       "    <tr>\n",
       "      <th>1</th>\n",
       "      <td>local://security.permissions.net/entities#4745...</td>\n",
       "    </tr>\n",
       "    <tr>\n",
       "      <th>2</th>\n",
       "      <td>local://security.permissions.net/entities#4745...</td>\n",
       "    </tr>\n",
       "    <tr>\n",
       "      <th>3</th>\n",
       "      <td>local://security.permissions.net/entities#4745...</td>\n",
       "    </tr>\n",
       "    <tr>\n",
       "      <th>4</th>\n",
       "      <td>local://security.permissions.net/entities#4773...</td>\n",
       "    </tr>\n",
       "    <tr>\n",
       "      <th>...</th>\n",
       "      <td>...</td>\n",
       "    </tr>\n",
       "    <tr>\n",
       "      <th>1164</th>\n",
       "      <td>local://security.permissions.net/entities#4908...</td>\n",
       "    </tr>\n",
       "    <tr>\n",
       "      <th>1165</th>\n",
       "      <td>local://security.permissions.net/entities#1785...</td>\n",
       "    </tr>\n",
       "    <tr>\n",
       "      <th>1166</th>\n",
       "      <td>local://security.permissions.net/entities#4582...</td>\n",
       "    </tr>\n",
       "    <tr>\n",
       "      <th>1167</th>\n",
       "      <td>local://security.permissions.net/entities#4582...</td>\n",
       "    </tr>\n",
       "    <tr>\n",
       "      <th>1168</th>\n",
       "      <td>local://security.permissions.net/entities#4413...</td>\n",
       "    </tr>\n",
       "  </tbody>\n",
       "</table>\n",
       "<p>1169 rows × 1 columns</p>\n",
       "</div>"
      ],
      "text/plain": [
       "                                                 record\n",
       "0     local://security.permissions.net/entities#4654...\n",
       "1     local://security.permissions.net/entities#4745...\n",
       "2     local://security.permissions.net/entities#4745...\n",
       "3     local://security.permissions.net/entities#4745...\n",
       "4     local://security.permissions.net/entities#4773...\n",
       "...                                                 ...\n",
       "1164  local://security.permissions.net/entities#4908...\n",
       "1165  local://security.permissions.net/entities#1785...\n",
       "1166  local://security.permissions.net/entities#4582...\n",
       "1167  local://security.permissions.net/entities#4582...\n",
       "1168  local://security.permissions.net/entities#4413...\n",
       "\n",
       "[1169 rows x 1 columns]"
      ]
     },
     "execution_count": 140,
     "metadata": {},
     "output_type": "execute_result"
    }
   ],
   "source": [
    "# Check the records for a manager as well\n",
    "\n",
    "USER = \"Mary\"\n",
    "\n",
    "query = f\"\"\"\n",
    "prefix data: <local://security.permissions.net/entities#>\n",
    "prefix : <local://security.permissions.net/vocab#>\n",
    "\n",
    "select distinct ?record where {{\n",
    "    {{\n",
    "    data:{USER} a :SalesRep; :hasAccess ?country, ?item .\n",
    "    ?country a :Country ; :hasRecord ?record .\n",
    "    ?item a :Item ; :hasRecord ?record .\n",
    "    }} union {{\n",
    "    data:{USER} a :Manager; :hasAccess ?item .\n",
    "    ?item a :Item ; :hasRecord ?record .\n",
    "    }}\n",
    "}}\n",
    "\"\"\"\n",
    "\n",
    "# Execute the query\n",
    "res2 = corese.sparqlSelect(g, query, return_dataframe=True)\n",
    "res2"
   ]
  },
  {
   "cell_type": "markdown",
   "metadata": {},
   "source": [
    "# Showcase handling of the canSellSet Permission"
   ]
  },
  {
   "cell_type": "markdown",
   "metadata": {},
   "source": [
    "## Wihtout Applying"
   ]
  },
  {
   "cell_type": "code",
   "execution_count": 169,
   "metadata": {},
   "outputs": [
    {
     "data": {
      "application/vnd.microsoft.datawrangler.viewer.v0+json": {
       "columns": [
        {
         "name": "index",
         "rawType": "int64",
         "type": "integer"
        },
        {
         "name": "record",
         "rawType": "string",
         "type": "string"
        },
        {
         "name": "is_set",
         "rawType": "bool",
         "type": "boolean"
        },
        {
         "name": "sell_sets_permission",
         "rawType": "bool",
         "type": "boolean"
        }
       ],
       "conversionMethod": "pd.DataFrame",
       "ref": "685ed886-52c3-4937-a424-b58c5cc3a956",
       "rows": [
        [
         "0",
         "local://security.permissions.net/entities#464919#United%20Arab%20Emirates",
         "True",
         "False"
        ],
        [
         "1",
         "local://security.permissions.net/entities#489174#United%20Arab%20Emirates",
         "True",
         "False"
        ],
        [
         "2",
         "local://security.permissions.net/entities#470883#United%20Arab%20Emirates",
         "False",
         "False"
        ],
        [
         "3",
         "local://security.permissions.net/entities#464352#United%20Arab%20Emirates",
         "False",
         "False"
        ],
        [
         "4",
         "local://security.permissions.net/entities#488145#United%20Arab%20Emirates",
         "True",
         "False"
        ],
        [
         "5",
         "local://security.permissions.net/entities#482055#United%20Arab%20Emirates",
         "False",
         "False"
        ],
        [
         "6",
         "local://security.permissions.net/entities#451185#United%20Arab%20Emirates",
         "False",
         "False"
        ],
        [
         "7",
         "local://security.permissions.net/entities#464331#United%20Arab%20Emirates",
         "False",
         "False"
        ],
        [
         "8",
         "local://security.permissions.net/entities#489153#United%20Arab%20Emirates",
         "True",
         "False"
        ],
        [
         "9",
         "local://security.permissions.net/entities#489216#United%20Arab%20Emirates",
         "True",
         "False"
        ],
        [
         "10",
         "local://security.permissions.net/entities#1765050#United%20Arab%20Emirates",
         "False",
         "False"
        ],
        [
         "11",
         "local://security.permissions.net/entities#464919#Israel",
         "True",
         "False"
        ],
        [
         "12",
         "local://security.permissions.net/entities#461496#Israel",
         "False",
         "False"
        ],
        [
         "13",
         "local://security.permissions.net/entities#489447#Israel",
         "True",
         "False"
        ],
        [
         "14",
         "local://security.permissions.net/entities#486633#Israel",
         "False",
         "False"
        ],
        [
         "15",
         "local://security.permissions.net/entities#489153#Israel",
         "True",
         "False"
        ],
        [
         "16",
         "local://security.permissions.net/entities#464898#Israel",
         "True",
         "False"
        ],
        [
         "17",
         "local://security.permissions.net/entities#446859#Israel",
         "False",
         "False"
        ],
        [
         "18",
         "local://security.permissions.net/entities#475125#Israel",
         "False",
         "False"
        ],
        [
         "19",
         "local://security.permissions.net/entities#489426#Israel",
         "True",
         "False"
        ],
        [
         "20",
         "local://security.permissions.net/entities#461475#Israel",
         "False",
         "False"
        ],
        [
         "21",
         "local://security.permissions.net/entities#488145#Israel",
         "True",
         "False"
        ],
        [
         "22",
         "local://security.permissions.net/entities#474957#Israel",
         "True",
         "False"
        ],
        [
         "23",
         "local://security.permissions.net/entities#488103#Israel",
         "True",
         "False"
        ],
        [
         "24",
         "local://security.permissions.net/entities#439194#Israel",
         "True",
         "False"
        ],
        [
         "25",
         "local://security.permissions.net/entities#441735#Israel",
         "True",
         "False"
        ],
        [
         "26",
         "local://security.permissions.net/entities#469917#Israel",
         "False",
         "False"
        ],
        [
         "27",
         "local://security.permissions.net/entities#446880#Israel",
         "False",
         "False"
        ],
        [
         "28",
         "local://security.permissions.net/entities#489174#Israel",
         "True",
         "False"
        ],
        [
         "29",
         "local://security.permissions.net/entities#486612#Israel",
         "False",
         "False"
        ],
        [
         "30",
         "local://security.permissions.net/entities#461517#Israel",
         "False",
         "False"
        ],
        [
         "31",
         "local://security.permissions.net/entities#476637#Israel",
         "False",
         "False"
        ],
        [
         "32",
         "local://security.permissions.net/entities#481971#Israel",
         "False",
         "False"
        ],
        [
         "33",
         "local://security.permissions.net/entities#337008#Israel",
         "False",
         "False"
        ],
        [
         "34",
         "local://security.permissions.net/entities#470757#Israel",
         "False",
         "False"
        ],
        [
         "35",
         "local://security.permissions.net/entities#475167#Israel",
         "False",
         "False"
        ],
        [
         "36",
         "local://security.permissions.net/entities#477120#Israel",
         "True",
         "False"
        ],
        [
         "37",
         "local://security.permissions.net/entities#445452#Israel",
         "False",
         "False"
        ],
        [
         "38",
         "local://security.permissions.net/entities#489216#Israel",
         "True",
         "False"
        ],
        [
         "39",
         "local://security.permissions.net/entities#489195#Israel",
         "True",
         "False"
        ],
        [
         "40",
         "local://security.permissions.net/entities#482769#Israel",
         "True",
         "False"
        ],
        [
         "41",
         "local://security.permissions.net/entities#1734873#Israel",
         "False",
         "False"
        ],
        [
         "42",
         "local://security.permissions.net/entities#486591#Israel",
         "False",
         "False"
        ],
        [
         "43",
         "local://security.permissions.net/entities#470883#Israel",
         "False",
         "False"
        ],
        [
         "44",
         "local://security.permissions.net/entities#486570#Israel",
         "False",
         "False"
        ],
        [
         "45",
         "local://security.permissions.net/entities#476679#Israel",
         "False",
         "False"
        ],
        [
         "46",
         "local://security.permissions.net/entities#475629#Bahrain",
         "False",
         "False"
        ],
        [
         "47",
         "local://security.permissions.net/entities#476679#Bahrain",
         "False",
         "False"
        ],
        [
         "48",
         "local://security.permissions.net/entities#476658#Bahrain",
         "False",
         "False"
        ],
        [
         "49",
         "local://security.permissions.net/entities#786450#Bahrain",
         "False",
         "False"
        ]
       ],
       "shape": {
        "columns": 3,
        "rows": 66
       }
      },
      "text/html": [
       "<div>\n",
       "<style scoped>\n",
       "    .dataframe tbody tr th:only-of-type {\n",
       "        vertical-align: middle;\n",
       "    }\n",
       "\n",
       "    .dataframe tbody tr th {\n",
       "        vertical-align: top;\n",
       "    }\n",
       "\n",
       "    .dataframe thead th {\n",
       "        text-align: right;\n",
       "    }\n",
       "</style>\n",
       "<table border=\"1\" class=\"dataframe\">\n",
       "  <thead>\n",
       "    <tr style=\"text-align: right;\">\n",
       "      <th></th>\n",
       "      <th>record</th>\n",
       "      <th>is_set</th>\n",
       "      <th>sell_sets_permission</th>\n",
       "    </tr>\n",
       "  </thead>\n",
       "  <tbody>\n",
       "    <tr>\n",
       "      <th>0</th>\n",
       "      <td>local://security.permissions.net/entities#4649...</td>\n",
       "      <td>True</td>\n",
       "      <td>False</td>\n",
       "    </tr>\n",
       "    <tr>\n",
       "      <th>1</th>\n",
       "      <td>local://security.permissions.net/entities#4891...</td>\n",
       "      <td>True</td>\n",
       "      <td>False</td>\n",
       "    </tr>\n",
       "    <tr>\n",
       "      <th>2</th>\n",
       "      <td>local://security.permissions.net/entities#4708...</td>\n",
       "      <td>False</td>\n",
       "      <td>False</td>\n",
       "    </tr>\n",
       "    <tr>\n",
       "      <th>3</th>\n",
       "      <td>local://security.permissions.net/entities#4643...</td>\n",
       "      <td>False</td>\n",
       "      <td>False</td>\n",
       "    </tr>\n",
       "    <tr>\n",
       "      <th>4</th>\n",
       "      <td>local://security.permissions.net/entities#4881...</td>\n",
       "      <td>True</td>\n",
       "      <td>False</td>\n",
       "    </tr>\n",
       "    <tr>\n",
       "      <th>...</th>\n",
       "      <td>...</td>\n",
       "      <td>...</td>\n",
       "      <td>...</td>\n",
       "    </tr>\n",
       "    <tr>\n",
       "      <th>61</th>\n",
       "      <td>local://security.permissions.net/entities#7520...</td>\n",
       "      <td>False</td>\n",
       "      <td>False</td>\n",
       "    </tr>\n",
       "    <tr>\n",
       "      <th>62</th>\n",
       "      <td>local://security.permissions.net/entities#4679...</td>\n",
       "      <td>False</td>\n",
       "      <td>False</td>\n",
       "    </tr>\n",
       "    <tr>\n",
       "      <th>63</th>\n",
       "      <td>local://security.permissions.net/entities#4695...</td>\n",
       "      <td>False</td>\n",
       "      <td>False</td>\n",
       "    </tr>\n",
       "    <tr>\n",
       "      <th>64</th>\n",
       "      <td>local://security.permissions.net/entities#4812...</td>\n",
       "      <td>False</td>\n",
       "      <td>False</td>\n",
       "    </tr>\n",
       "    <tr>\n",
       "      <th>65</th>\n",
       "      <td>local://security.permissions.net/entities#4696...</td>\n",
       "      <td>False</td>\n",
       "      <td>False</td>\n",
       "    </tr>\n",
       "  </tbody>\n",
       "</table>\n",
       "<p>66 rows × 3 columns</p>\n",
       "</div>"
      ],
      "text/plain": [
       "                                               record  is_set  \\\n",
       "0   local://security.permissions.net/entities#4649...    True   \n",
       "1   local://security.permissions.net/entities#4891...    True   \n",
       "2   local://security.permissions.net/entities#4708...   False   \n",
       "3   local://security.permissions.net/entities#4643...   False   \n",
       "4   local://security.permissions.net/entities#4881...    True   \n",
       "..                                                ...     ...   \n",
       "61  local://security.permissions.net/entities#7520...   False   \n",
       "62  local://security.permissions.net/entities#4679...   False   \n",
       "63  local://security.permissions.net/entities#4695...   False   \n",
       "64  local://security.permissions.net/entities#4812...   False   \n",
       "65  local://security.permissions.net/entities#4696...   False   \n",
       "\n",
       "    sell_sets_permission  \n",
       "0                  False  \n",
       "1                  False  \n",
       "2                  False  \n",
       "3                  False  \n",
       "4                  False  \n",
       "..                   ...  \n",
       "61                 False  \n",
       "62                 False  \n",
       "63                 False  \n",
       "64                 False  \n",
       "65                 False  \n",
       "\n",
       "[66 rows x 3 columns]"
      ]
     },
     "execution_count": 169,
     "metadata": {},
     "output_type": "execute_result"
    }
   ],
   "source": [
    "# Find all the records that a specific user may have access to. This query is simpler to read and more performant\n",
    "\n",
    "USER = \"SalesRep_2\"\n",
    "\n",
    "query = f\"\"\"\n",
    "prefix data: <local://security.permissions.net/entities#>\n",
    "prefix : <local://security.permissions.net/vocab#>\n",
    "\n",
    "select distinct ?record ?is_set ?sell_sets_permission where {{\n",
    "    {{\n",
    "    data:{USER} a :SalesRep; :hasAccess ?country, ?item ; :canSellSets ?sell_sets_permission .\n",
    "    ?country a :Country ; :hasRecord ?record .\n",
    "    ?item a :Item ; :hasRecord ?record ; :isSet ?is_set .\n",
    "    }} union {{\n",
    "    data:{USER} a :Manager; :hasAccess ?item .\n",
    "    ?item a :Item ; :hasRecord ?record .\n",
    "    }}\n",
    "}}\n",
    "\"\"\"\n",
    "\n",
    "# Execute the query\n",
    "res = corese.sparqlSelect(g, query, return_dataframe=True)\n",
    "res"
   ]
  },
  {
   "cell_type": "markdown",
   "metadata": {},
   "source": [
    "## Apply with `minus` operation"
   ]
  },
  {
   "cell_type": "code",
   "execution_count": 170,
   "metadata": {},
   "outputs": [
    {
     "data": {
      "application/vnd.microsoft.datawrangler.viewer.v0+json": {
       "columns": [
        {
         "name": "index",
         "rawType": "int64",
         "type": "integer"
        },
        {
         "name": "record",
         "rawType": "string",
         "type": "string"
        },
        {
         "name": "is_set",
         "rawType": "bool",
         "type": "boolean"
        },
        {
         "name": "sell_sets_permission",
         "rawType": "bool",
         "type": "boolean"
        }
       ],
       "conversionMethod": "pd.DataFrame",
       "ref": "442178dd-71b4-456c-a6d3-e83ea8565471",
       "rows": [
        [
         "0",
         "local://security.permissions.net/entities#470883#United%20Arab%20Emirates",
         "False",
         "False"
        ],
        [
         "1",
         "local://security.permissions.net/entities#464352#United%20Arab%20Emirates",
         "False",
         "False"
        ],
        [
         "2",
         "local://security.permissions.net/entities#482055#United%20Arab%20Emirates",
         "False",
         "False"
        ],
        [
         "3",
         "local://security.permissions.net/entities#451185#United%20Arab%20Emirates",
         "False",
         "False"
        ],
        [
         "4",
         "local://security.permissions.net/entities#464331#United%20Arab%20Emirates",
         "False",
         "False"
        ],
        [
         "5",
         "local://security.permissions.net/entities#1765050#United%20Arab%20Emirates",
         "False",
         "False"
        ],
        [
         "6",
         "local://security.permissions.net/entities#461496#Israel",
         "False",
         "False"
        ],
        [
         "7",
         "local://security.permissions.net/entities#486633#Israel",
         "False",
         "False"
        ],
        [
         "8",
         "local://security.permissions.net/entities#446859#Israel",
         "False",
         "False"
        ],
        [
         "9",
         "local://security.permissions.net/entities#475125#Israel",
         "False",
         "False"
        ],
        [
         "10",
         "local://security.permissions.net/entities#461475#Israel",
         "False",
         "False"
        ],
        [
         "11",
         "local://security.permissions.net/entities#469917#Israel",
         "False",
         "False"
        ],
        [
         "12",
         "local://security.permissions.net/entities#446880#Israel",
         "False",
         "False"
        ],
        [
         "13",
         "local://security.permissions.net/entities#486612#Israel",
         "False",
         "False"
        ],
        [
         "14",
         "local://security.permissions.net/entities#461517#Israel",
         "False",
         "False"
        ],
        [
         "15",
         "local://security.permissions.net/entities#476637#Israel",
         "False",
         "False"
        ],
        [
         "16",
         "local://security.permissions.net/entities#481971#Israel",
         "False",
         "False"
        ],
        [
         "17",
         "local://security.permissions.net/entities#337008#Israel",
         "False",
         "False"
        ],
        [
         "18",
         "local://security.permissions.net/entities#470757#Israel",
         "False",
         "False"
        ],
        [
         "19",
         "local://security.permissions.net/entities#475167#Israel",
         "False",
         "False"
        ],
        [
         "20",
         "local://security.permissions.net/entities#445452#Israel",
         "False",
         "False"
        ],
        [
         "21",
         "local://security.permissions.net/entities#1734873#Israel",
         "False",
         "False"
        ],
        [
         "22",
         "local://security.permissions.net/entities#486591#Israel",
         "False",
         "False"
        ],
        [
         "23",
         "local://security.permissions.net/entities#470883#Israel",
         "False",
         "False"
        ],
        [
         "24",
         "local://security.permissions.net/entities#486570#Israel",
         "False",
         "False"
        ],
        [
         "25",
         "local://security.permissions.net/entities#476679#Israel",
         "False",
         "False"
        ],
        [
         "26",
         "local://security.permissions.net/entities#475629#Bahrain",
         "False",
         "False"
        ],
        [
         "27",
         "local://security.permissions.net/entities#476679#Bahrain",
         "False",
         "False"
        ],
        [
         "28",
         "local://security.permissions.net/entities#476658#Bahrain",
         "False",
         "False"
        ],
        [
         "29",
         "local://security.permissions.net/entities#786450#Bahrain",
         "False",
         "False"
        ],
        [
         "30",
         "local://security.permissions.net/entities#480690#Bahrain",
         "False",
         "False"
        ],
        [
         "31",
         "local://security.permissions.net/entities#786366#Bahrain",
         "False",
         "False"
        ],
        [
         "32",
         "local://security.permissions.net/entities#476637#Bahrain",
         "False",
         "False"
        ],
        [
         "33",
         "local://security.permissions.net/entities#470883#Bahrain",
         "False",
         "False"
        ],
        [
         "34",
         "local://security.permissions.net/entities#786429#Bahrain",
         "False",
         "False"
        ],
        [
         "35",
         "local://security.permissions.net/entities#470883#Lebanon",
         "False",
         "False"
        ],
        [
         "36",
         "local://security.permissions.net/entities#479934#Lebanon",
         "False",
         "False"
        ],
        [
         "37",
         "local://security.permissions.net/entities#457401#Lebanon",
         "False",
         "False"
        ],
        [
         "38",
         "local://security.permissions.net/entities#752010#Lebanon",
         "False",
         "False"
        ],
        [
         "39",
         "local://security.permissions.net/entities#467922#Lebanon",
         "False",
         "False"
        ],
        [
         "40",
         "local://security.permissions.net/entities#469581#Saudi%20Arabia",
         "False",
         "False"
        ],
        [
         "41",
         "local://security.permissions.net/entities#481215#Saudi%20Arabia",
         "False",
         "False"
        ],
        [
         "42",
         "local://security.permissions.net/entities#469623#Saudi%20Arabia",
         "False",
         "False"
        ]
       ],
       "shape": {
        "columns": 3,
        "rows": 43
       }
      },
      "text/html": [
       "<div>\n",
       "<style scoped>\n",
       "    .dataframe tbody tr th:only-of-type {\n",
       "        vertical-align: middle;\n",
       "    }\n",
       "\n",
       "    .dataframe tbody tr th {\n",
       "        vertical-align: top;\n",
       "    }\n",
       "\n",
       "    .dataframe thead th {\n",
       "        text-align: right;\n",
       "    }\n",
       "</style>\n",
       "<table border=\"1\" class=\"dataframe\">\n",
       "  <thead>\n",
       "    <tr style=\"text-align: right;\">\n",
       "      <th></th>\n",
       "      <th>record</th>\n",
       "      <th>is_set</th>\n",
       "      <th>sell_sets_permission</th>\n",
       "    </tr>\n",
       "  </thead>\n",
       "  <tbody>\n",
       "    <tr>\n",
       "      <th>0</th>\n",
       "      <td>local://security.permissions.net/entities#4708...</td>\n",
       "      <td>False</td>\n",
       "      <td>False</td>\n",
       "    </tr>\n",
       "    <tr>\n",
       "      <th>1</th>\n",
       "      <td>local://security.permissions.net/entities#4643...</td>\n",
       "      <td>False</td>\n",
       "      <td>False</td>\n",
       "    </tr>\n",
       "    <tr>\n",
       "      <th>2</th>\n",
       "      <td>local://security.permissions.net/entities#4820...</td>\n",
       "      <td>False</td>\n",
       "      <td>False</td>\n",
       "    </tr>\n",
       "    <tr>\n",
       "      <th>3</th>\n",
       "      <td>local://security.permissions.net/entities#4511...</td>\n",
       "      <td>False</td>\n",
       "      <td>False</td>\n",
       "    </tr>\n",
       "    <tr>\n",
       "      <th>4</th>\n",
       "      <td>local://security.permissions.net/entities#4643...</td>\n",
       "      <td>False</td>\n",
       "      <td>False</td>\n",
       "    </tr>\n",
       "    <tr>\n",
       "      <th>5</th>\n",
       "      <td>local://security.permissions.net/entities#1765...</td>\n",
       "      <td>False</td>\n",
       "      <td>False</td>\n",
       "    </tr>\n",
       "    <tr>\n",
       "      <th>6</th>\n",
       "      <td>local://security.permissions.net/entities#4614...</td>\n",
       "      <td>False</td>\n",
       "      <td>False</td>\n",
       "    </tr>\n",
       "    <tr>\n",
       "      <th>7</th>\n",
       "      <td>local://security.permissions.net/entities#4866...</td>\n",
       "      <td>False</td>\n",
       "      <td>False</td>\n",
       "    </tr>\n",
       "    <tr>\n",
       "      <th>8</th>\n",
       "      <td>local://security.permissions.net/entities#4468...</td>\n",
       "      <td>False</td>\n",
       "      <td>False</td>\n",
       "    </tr>\n",
       "    <tr>\n",
       "      <th>9</th>\n",
       "      <td>local://security.permissions.net/entities#4751...</td>\n",
       "      <td>False</td>\n",
       "      <td>False</td>\n",
       "    </tr>\n",
       "    <tr>\n",
       "      <th>10</th>\n",
       "      <td>local://security.permissions.net/entities#4614...</td>\n",
       "      <td>False</td>\n",
       "      <td>False</td>\n",
       "    </tr>\n",
       "    <tr>\n",
       "      <th>11</th>\n",
       "      <td>local://security.permissions.net/entities#4699...</td>\n",
       "      <td>False</td>\n",
       "      <td>False</td>\n",
       "    </tr>\n",
       "    <tr>\n",
       "      <th>12</th>\n",
       "      <td>local://security.permissions.net/entities#4468...</td>\n",
       "      <td>False</td>\n",
       "      <td>False</td>\n",
       "    </tr>\n",
       "    <tr>\n",
       "      <th>13</th>\n",
       "      <td>local://security.permissions.net/entities#4866...</td>\n",
       "      <td>False</td>\n",
       "      <td>False</td>\n",
       "    </tr>\n",
       "    <tr>\n",
       "      <th>14</th>\n",
       "      <td>local://security.permissions.net/entities#4615...</td>\n",
       "      <td>False</td>\n",
       "      <td>False</td>\n",
       "    </tr>\n",
       "    <tr>\n",
       "      <th>15</th>\n",
       "      <td>local://security.permissions.net/entities#4766...</td>\n",
       "      <td>False</td>\n",
       "      <td>False</td>\n",
       "    </tr>\n",
       "    <tr>\n",
       "      <th>16</th>\n",
       "      <td>local://security.permissions.net/entities#4819...</td>\n",
       "      <td>False</td>\n",
       "      <td>False</td>\n",
       "    </tr>\n",
       "    <tr>\n",
       "      <th>17</th>\n",
       "      <td>local://security.permissions.net/entities#3370...</td>\n",
       "      <td>False</td>\n",
       "      <td>False</td>\n",
       "    </tr>\n",
       "    <tr>\n",
       "      <th>18</th>\n",
       "      <td>local://security.permissions.net/entities#4707...</td>\n",
       "      <td>False</td>\n",
       "      <td>False</td>\n",
       "    </tr>\n",
       "    <tr>\n",
       "      <th>19</th>\n",
       "      <td>local://security.permissions.net/entities#4751...</td>\n",
       "      <td>False</td>\n",
       "      <td>False</td>\n",
       "    </tr>\n",
       "    <tr>\n",
       "      <th>20</th>\n",
       "      <td>local://security.permissions.net/entities#4454...</td>\n",
       "      <td>False</td>\n",
       "      <td>False</td>\n",
       "    </tr>\n",
       "    <tr>\n",
       "      <th>21</th>\n",
       "      <td>local://security.permissions.net/entities#1734...</td>\n",
       "      <td>False</td>\n",
       "      <td>False</td>\n",
       "    </tr>\n",
       "    <tr>\n",
       "      <th>22</th>\n",
       "      <td>local://security.permissions.net/entities#4865...</td>\n",
       "      <td>False</td>\n",
       "      <td>False</td>\n",
       "    </tr>\n",
       "    <tr>\n",
       "      <th>23</th>\n",
       "      <td>local://security.permissions.net/entities#4708...</td>\n",
       "      <td>False</td>\n",
       "      <td>False</td>\n",
       "    </tr>\n",
       "    <tr>\n",
       "      <th>24</th>\n",
       "      <td>local://security.permissions.net/entities#4865...</td>\n",
       "      <td>False</td>\n",
       "      <td>False</td>\n",
       "    </tr>\n",
       "    <tr>\n",
       "      <th>25</th>\n",
       "      <td>local://security.permissions.net/entities#4766...</td>\n",
       "      <td>False</td>\n",
       "      <td>False</td>\n",
       "    </tr>\n",
       "    <tr>\n",
       "      <th>26</th>\n",
       "      <td>local://security.permissions.net/entities#4756...</td>\n",
       "      <td>False</td>\n",
       "      <td>False</td>\n",
       "    </tr>\n",
       "    <tr>\n",
       "      <th>27</th>\n",
       "      <td>local://security.permissions.net/entities#4766...</td>\n",
       "      <td>False</td>\n",
       "      <td>False</td>\n",
       "    </tr>\n",
       "    <tr>\n",
       "      <th>28</th>\n",
       "      <td>local://security.permissions.net/entities#4766...</td>\n",
       "      <td>False</td>\n",
       "      <td>False</td>\n",
       "    </tr>\n",
       "    <tr>\n",
       "      <th>29</th>\n",
       "      <td>local://security.permissions.net/entities#7864...</td>\n",
       "      <td>False</td>\n",
       "      <td>False</td>\n",
       "    </tr>\n",
       "    <tr>\n",
       "      <th>30</th>\n",
       "      <td>local://security.permissions.net/entities#4806...</td>\n",
       "      <td>False</td>\n",
       "      <td>False</td>\n",
       "    </tr>\n",
       "    <tr>\n",
       "      <th>31</th>\n",
       "      <td>local://security.permissions.net/entities#7863...</td>\n",
       "      <td>False</td>\n",
       "      <td>False</td>\n",
       "    </tr>\n",
       "    <tr>\n",
       "      <th>32</th>\n",
       "      <td>local://security.permissions.net/entities#4766...</td>\n",
       "      <td>False</td>\n",
       "      <td>False</td>\n",
       "    </tr>\n",
       "    <tr>\n",
       "      <th>33</th>\n",
       "      <td>local://security.permissions.net/entities#4708...</td>\n",
       "      <td>False</td>\n",
       "      <td>False</td>\n",
       "    </tr>\n",
       "    <tr>\n",
       "      <th>34</th>\n",
       "      <td>local://security.permissions.net/entities#7864...</td>\n",
       "      <td>False</td>\n",
       "      <td>False</td>\n",
       "    </tr>\n",
       "    <tr>\n",
       "      <th>35</th>\n",
       "      <td>local://security.permissions.net/entities#4708...</td>\n",
       "      <td>False</td>\n",
       "      <td>False</td>\n",
       "    </tr>\n",
       "    <tr>\n",
       "      <th>36</th>\n",
       "      <td>local://security.permissions.net/entities#4799...</td>\n",
       "      <td>False</td>\n",
       "      <td>False</td>\n",
       "    </tr>\n",
       "    <tr>\n",
       "      <th>37</th>\n",
       "      <td>local://security.permissions.net/entities#4574...</td>\n",
       "      <td>False</td>\n",
       "      <td>False</td>\n",
       "    </tr>\n",
       "    <tr>\n",
       "      <th>38</th>\n",
       "      <td>local://security.permissions.net/entities#7520...</td>\n",
       "      <td>False</td>\n",
       "      <td>False</td>\n",
       "    </tr>\n",
       "    <tr>\n",
       "      <th>39</th>\n",
       "      <td>local://security.permissions.net/entities#4679...</td>\n",
       "      <td>False</td>\n",
       "      <td>False</td>\n",
       "    </tr>\n",
       "    <tr>\n",
       "      <th>40</th>\n",
       "      <td>local://security.permissions.net/entities#4695...</td>\n",
       "      <td>False</td>\n",
       "      <td>False</td>\n",
       "    </tr>\n",
       "    <tr>\n",
       "      <th>41</th>\n",
       "      <td>local://security.permissions.net/entities#4812...</td>\n",
       "      <td>False</td>\n",
       "      <td>False</td>\n",
       "    </tr>\n",
       "    <tr>\n",
       "      <th>42</th>\n",
       "      <td>local://security.permissions.net/entities#4696...</td>\n",
       "      <td>False</td>\n",
       "      <td>False</td>\n",
       "    </tr>\n",
       "  </tbody>\n",
       "</table>\n",
       "</div>"
      ],
      "text/plain": [
       "                                               record  is_set  \\\n",
       "0   local://security.permissions.net/entities#4708...   False   \n",
       "1   local://security.permissions.net/entities#4643...   False   \n",
       "2   local://security.permissions.net/entities#4820...   False   \n",
       "3   local://security.permissions.net/entities#4511...   False   \n",
       "4   local://security.permissions.net/entities#4643...   False   \n",
       "5   local://security.permissions.net/entities#1765...   False   \n",
       "6   local://security.permissions.net/entities#4614...   False   \n",
       "7   local://security.permissions.net/entities#4866...   False   \n",
       "8   local://security.permissions.net/entities#4468...   False   \n",
       "9   local://security.permissions.net/entities#4751...   False   \n",
       "10  local://security.permissions.net/entities#4614...   False   \n",
       "11  local://security.permissions.net/entities#4699...   False   \n",
       "12  local://security.permissions.net/entities#4468...   False   \n",
       "13  local://security.permissions.net/entities#4866...   False   \n",
       "14  local://security.permissions.net/entities#4615...   False   \n",
       "15  local://security.permissions.net/entities#4766...   False   \n",
       "16  local://security.permissions.net/entities#4819...   False   \n",
       "17  local://security.permissions.net/entities#3370...   False   \n",
       "18  local://security.permissions.net/entities#4707...   False   \n",
       "19  local://security.permissions.net/entities#4751...   False   \n",
       "20  local://security.permissions.net/entities#4454...   False   \n",
       "21  local://security.permissions.net/entities#1734...   False   \n",
       "22  local://security.permissions.net/entities#4865...   False   \n",
       "23  local://security.permissions.net/entities#4708...   False   \n",
       "24  local://security.permissions.net/entities#4865...   False   \n",
       "25  local://security.permissions.net/entities#4766...   False   \n",
       "26  local://security.permissions.net/entities#4756...   False   \n",
       "27  local://security.permissions.net/entities#4766...   False   \n",
       "28  local://security.permissions.net/entities#4766...   False   \n",
       "29  local://security.permissions.net/entities#7864...   False   \n",
       "30  local://security.permissions.net/entities#4806...   False   \n",
       "31  local://security.permissions.net/entities#7863...   False   \n",
       "32  local://security.permissions.net/entities#4766...   False   \n",
       "33  local://security.permissions.net/entities#4708...   False   \n",
       "34  local://security.permissions.net/entities#7864...   False   \n",
       "35  local://security.permissions.net/entities#4708...   False   \n",
       "36  local://security.permissions.net/entities#4799...   False   \n",
       "37  local://security.permissions.net/entities#4574...   False   \n",
       "38  local://security.permissions.net/entities#7520...   False   \n",
       "39  local://security.permissions.net/entities#4679...   False   \n",
       "40  local://security.permissions.net/entities#4695...   False   \n",
       "41  local://security.permissions.net/entities#4812...   False   \n",
       "42  local://security.permissions.net/entities#4696...   False   \n",
       "\n",
       "    sell_sets_permission  \n",
       "0                  False  \n",
       "1                  False  \n",
       "2                  False  \n",
       "3                  False  \n",
       "4                  False  \n",
       "5                  False  \n",
       "6                  False  \n",
       "7                  False  \n",
       "8                  False  \n",
       "9                  False  \n",
       "10                 False  \n",
       "11                 False  \n",
       "12                 False  \n",
       "13                 False  \n",
       "14                 False  \n",
       "15                 False  \n",
       "16                 False  \n",
       "17                 False  \n",
       "18                 False  \n",
       "19                 False  \n",
       "20                 False  \n",
       "21                 False  \n",
       "22                 False  \n",
       "23                 False  \n",
       "24                 False  \n",
       "25                 False  \n",
       "26                 False  \n",
       "27                 False  \n",
       "28                 False  \n",
       "29                 False  \n",
       "30                 False  \n",
       "31                 False  \n",
       "32                 False  \n",
       "33                 False  \n",
       "34                 False  \n",
       "35                 False  \n",
       "36                 False  \n",
       "37                 False  \n",
       "38                 False  \n",
       "39                 False  \n",
       "40                 False  \n",
       "41                 False  \n",
       "42                 False  "
      ]
     },
     "execution_count": 170,
     "metadata": {},
     "output_type": "execute_result"
    }
   ],
   "source": [
    "# Find all the records that a specific user may have access to. This query is simpler to read and more performant\n",
    "\n",
    "USER = \"SalesRep_2\"\n",
    "\n",
    "query = f\"\"\"\n",
    "prefix data: <local://security.permissions.net/entities#>\n",
    "prefix : <local://security.permissions.net/vocab#>\n",
    "\n",
    "select distinct ?record ?is_set ?sell_sets_permission where {{\n",
    "    {{\n",
    "    data:{USER} a :SalesRep; :hasAccess ?country, ?item ; :canSellSets ?sell_sets_permission .\n",
    "    ?country a :Country ; :hasRecord ?record .\n",
    "    ?item a :Item ; :hasRecord ?record ; :isSet ?is_set .\n",
    "    }} union {{\n",
    "    data:{USER} a :Manager; :hasAccess ?item .\n",
    "    ?item a :Item ; :hasRecord ?record .\n",
    "    }}\n",
    "    minus {{\n",
    "        data:{USER} :hasAccess ?item ; :canSellSets false .\n",
    "        ?item :isSet true .\n",
    "    }}\n",
    "}}\n",
    "\"\"\"\n",
    "\n",
    "# Execute the query\n",
    "res = corese.sparqlSelect(g, query, return_dataframe=True)\n",
    "res"
   ]
  },
  {
   "cell_type": "markdown",
   "metadata": {},
   "source": [
    "## Show that this update would not affect the managers"
   ]
  },
  {
   "cell_type": "code",
   "execution_count": 171,
   "metadata": {},
   "outputs": [
    {
     "data": {
      "application/vnd.microsoft.datawrangler.viewer.v0+json": {
       "columns": [
        {
         "name": "index",
         "rawType": "int64",
         "type": "integer"
        },
        {
         "name": "record",
         "rawType": "string",
         "type": "string"
        },
        {
         "name": "is_set",
         "rawType": "object",
         "type": "unknown"
        },
        {
         "name": "sell_sets_permission",
         "rawType": "object",
         "type": "unknown"
        }
       ],
       "conversionMethod": "pd.DataFrame",
       "ref": "e68815b6-6e9d-4de6-b7b2-d8dd189b5a55",
       "rows": [
        [
         "0",
         "local://security.permissions.net/entities#465402#United%20Kingdom",
         null,
         null
        ],
        [
         "1",
         "local://security.permissions.net/entities#474558#United%20Kingdom",
         null,
         null
        ],
        [
         "2",
         "local://security.permissions.net/entities#474558#Spain",
         null,
         null
        ],
        [
         "3",
         "local://security.permissions.net/entities#474558#Finland",
         null,
         null
        ],
        [
         "4",
         "local://security.permissions.net/entities#477393#United%20Kingdom",
         null,
         null
        ],
        [
         "5",
         "local://security.permissions.net/entities#477393#Germany",
         null,
         null
        ],
        [
         "6",
         "local://security.permissions.net/entities#477393#Portugal",
         null,
         null
        ],
        [
         "7",
         "local://security.permissions.net/entities#477393#EIRE",
         null,
         null
        ],
        [
         "8",
         "local://security.permissions.net/entities#477393#Spain",
         null,
         null
        ],
        [
         "9",
         "local://security.permissions.net/entities#477393#Unspecified",
         null,
         null
        ],
        [
         "10",
         "local://security.permissions.net/entities#477393#Austria",
         null,
         null
        ],
        [
         "11",
         "local://security.permissions.net/entities#477393#France",
         null,
         null
        ],
        [
         "12",
         "local://security.permissions.net/entities#474033#United%20Kingdom",
         null,
         null
        ],
        [
         "13",
         "local://security.permissions.net/entities#474033#Germany",
         null,
         null
        ],
        [
         "14",
         "local://security.permissions.net/entities#474033#Portugal",
         null,
         null
        ],
        [
         "15",
         "local://security.permissions.net/entities#474033#EIRE",
         null,
         null
        ],
        [
         "16",
         "local://security.permissions.net/entities#474033#Spain",
         null,
         null
        ],
        [
         "17",
         "local://security.permissions.net/entities#474033#Belgium",
         null,
         null
        ],
        [
         "18",
         "local://security.permissions.net/entities#474033#France",
         null,
         null
        ],
        [
         "19",
         "local://security.permissions.net/entities#490413#United%20Kingdom",
         null,
         null
        ],
        [
         "20",
         "local://security.permissions.net/entities#490413#Germany",
         null,
         null
        ],
        [
         "21",
         "local://security.permissions.net/entities#490413#Portugal",
         null,
         null
        ],
        [
         "22",
         "local://security.permissions.net/entities#490413#Italy",
         null,
         null
        ],
        [
         "23",
         "local://security.permissions.net/entities#490413#EIRE",
         null,
         null
        ],
        [
         "24",
         "local://security.permissions.net/entities#490413#Spain",
         null,
         null
        ],
        [
         "25",
         "local://security.permissions.net/entities#490413#Australia",
         null,
         null
        ],
        [
         "26",
         "local://security.permissions.net/entities#490413#Belgium",
         null,
         null
        ],
        [
         "27",
         "local://security.permissions.net/entities#490413#France",
         null,
         null
        ],
        [
         "28",
         "local://security.permissions.net/entities#490413#Austria",
         null,
         null
        ],
        [
         "29",
         "local://security.permissions.net/entities#490413#USA",
         null,
         null
        ],
        [
         "30",
         "local://security.permissions.net/entities#490434#United%20Kingdom",
         null,
         null
        ],
        [
         "31",
         "local://security.permissions.net/entities#490434#Germany",
         null,
         null
        ],
        [
         "32",
         "local://security.permissions.net/entities#490434#Portugal",
         null,
         null
        ],
        [
         "33",
         "local://security.permissions.net/entities#490434#EIRE",
         null,
         null
        ],
        [
         "34",
         "local://security.permissions.net/entities#490434#Spain",
         null,
         null
        ],
        [
         "35",
         "local://security.permissions.net/entities#490434#Sweden",
         null,
         null
        ],
        [
         "36",
         "local://security.permissions.net/entities#490434#Austria",
         null,
         null
        ],
        [
         "37",
         "local://security.permissions.net/entities#490434#France",
         null,
         null
        ],
        [
         "38",
         "local://security.permissions.net/entities#490434#USA",
         null,
         null
        ],
        [
         "39",
         "local://security.permissions.net/entities#490434#Belgium",
         null,
         null
        ],
        [
         "40",
         "local://security.permissions.net/entities#462777#United%20Kingdom",
         null,
         null
        ],
        [
         "41",
         "local://security.permissions.net/entities#462777#Germany",
         null,
         null
        ],
        [
         "42",
         "local://security.permissions.net/entities#462777#United%20Arab%20Emirates",
         null,
         null
        ],
        [
         "43",
         "local://security.permissions.net/entities#462777#EIRE",
         null,
         null
        ],
        [
         "44",
         "local://security.permissions.net/entities#462777#Switzerland",
         null,
         null
        ],
        [
         "45",
         "local://security.permissions.net/entities#462777#Spain",
         null,
         null
        ],
        [
         "46",
         "local://security.permissions.net/entities#462777#Australia",
         null,
         null
        ],
        [
         "47",
         "local://security.permissions.net/entities#462777#Finland",
         null,
         null
        ],
        [
         "48",
         "local://security.permissions.net/entities#462777#Netherlands",
         null,
         null
        ],
        [
         "49",
         "local://security.permissions.net/entities#462777#France",
         null,
         null
        ]
       ],
       "shape": {
        "columns": 3,
        "rows": 1169
       }
      },
      "text/html": [
       "<div>\n",
       "<style scoped>\n",
       "    .dataframe tbody tr th:only-of-type {\n",
       "        vertical-align: middle;\n",
       "    }\n",
       "\n",
       "    .dataframe tbody tr th {\n",
       "        vertical-align: top;\n",
       "    }\n",
       "\n",
       "    .dataframe thead th {\n",
       "        text-align: right;\n",
       "    }\n",
       "</style>\n",
       "<table border=\"1\" class=\"dataframe\">\n",
       "  <thead>\n",
       "    <tr style=\"text-align: right;\">\n",
       "      <th></th>\n",
       "      <th>record</th>\n",
       "      <th>is_set</th>\n",
       "      <th>sell_sets_permission</th>\n",
       "    </tr>\n",
       "  </thead>\n",
       "  <tbody>\n",
       "    <tr>\n",
       "      <th>0</th>\n",
       "      <td>local://security.permissions.net/entities#4654...</td>\n",
       "      <td>&lt;NA&gt;</td>\n",
       "      <td>&lt;NA&gt;</td>\n",
       "    </tr>\n",
       "    <tr>\n",
       "      <th>1</th>\n",
       "      <td>local://security.permissions.net/entities#4745...</td>\n",
       "      <td>&lt;NA&gt;</td>\n",
       "      <td>&lt;NA&gt;</td>\n",
       "    </tr>\n",
       "    <tr>\n",
       "      <th>2</th>\n",
       "      <td>local://security.permissions.net/entities#4745...</td>\n",
       "      <td>&lt;NA&gt;</td>\n",
       "      <td>&lt;NA&gt;</td>\n",
       "    </tr>\n",
       "    <tr>\n",
       "      <th>3</th>\n",
       "      <td>local://security.permissions.net/entities#4745...</td>\n",
       "      <td>&lt;NA&gt;</td>\n",
       "      <td>&lt;NA&gt;</td>\n",
       "    </tr>\n",
       "    <tr>\n",
       "      <th>4</th>\n",
       "      <td>local://security.permissions.net/entities#4773...</td>\n",
       "      <td>&lt;NA&gt;</td>\n",
       "      <td>&lt;NA&gt;</td>\n",
       "    </tr>\n",
       "    <tr>\n",
       "      <th>...</th>\n",
       "      <td>...</td>\n",
       "      <td>...</td>\n",
       "      <td>...</td>\n",
       "    </tr>\n",
       "    <tr>\n",
       "      <th>1164</th>\n",
       "      <td>local://security.permissions.net/entities#4908...</td>\n",
       "      <td>&lt;NA&gt;</td>\n",
       "      <td>&lt;NA&gt;</td>\n",
       "    </tr>\n",
       "    <tr>\n",
       "      <th>1165</th>\n",
       "      <td>local://security.permissions.net/entities#1785...</td>\n",
       "      <td>&lt;NA&gt;</td>\n",
       "      <td>&lt;NA&gt;</td>\n",
       "    </tr>\n",
       "    <tr>\n",
       "      <th>1166</th>\n",
       "      <td>local://security.permissions.net/entities#4582...</td>\n",
       "      <td>&lt;NA&gt;</td>\n",
       "      <td>&lt;NA&gt;</td>\n",
       "    </tr>\n",
       "    <tr>\n",
       "      <th>1167</th>\n",
       "      <td>local://security.permissions.net/entities#4582...</td>\n",
       "      <td>&lt;NA&gt;</td>\n",
       "      <td>&lt;NA&gt;</td>\n",
       "    </tr>\n",
       "    <tr>\n",
       "      <th>1168</th>\n",
       "      <td>local://security.permissions.net/entities#4413...</td>\n",
       "      <td>&lt;NA&gt;</td>\n",
       "      <td>&lt;NA&gt;</td>\n",
       "    </tr>\n",
       "  </tbody>\n",
       "</table>\n",
       "<p>1169 rows × 3 columns</p>\n",
       "</div>"
      ],
      "text/plain": [
       "                                                 record is_set  \\\n",
       "0     local://security.permissions.net/entities#4654...   <NA>   \n",
       "1     local://security.permissions.net/entities#4745...   <NA>   \n",
       "2     local://security.permissions.net/entities#4745...   <NA>   \n",
       "3     local://security.permissions.net/entities#4745...   <NA>   \n",
       "4     local://security.permissions.net/entities#4773...   <NA>   \n",
       "...                                                 ...    ...   \n",
       "1164  local://security.permissions.net/entities#4908...   <NA>   \n",
       "1165  local://security.permissions.net/entities#1785...   <NA>   \n",
       "1166  local://security.permissions.net/entities#4582...   <NA>   \n",
       "1167  local://security.permissions.net/entities#4582...   <NA>   \n",
       "1168  local://security.permissions.net/entities#4413...   <NA>   \n",
       "\n",
       "     sell_sets_permission  \n",
       "0                    <NA>  \n",
       "1                    <NA>  \n",
       "2                    <NA>  \n",
       "3                    <NA>  \n",
       "4                    <NA>  \n",
       "...                   ...  \n",
       "1164                 <NA>  \n",
       "1165                 <NA>  \n",
       "1166                 <NA>  \n",
       "1167                 <NA>  \n",
       "1168                 <NA>  \n",
       "\n",
       "[1169 rows x 3 columns]"
      ]
     },
     "execution_count": 171,
     "metadata": {},
     "output_type": "execute_result"
    }
   ],
   "source": [
    "# Find all the records that a specific user may have access to. This query is simpler to read and more performant\n",
    "\n",
    "USER = \"Mary\"\n",
    "\n",
    "query = f\"\"\"\n",
    "prefix data: <local://security.permissions.net/entities#>\n",
    "prefix : <local://security.permissions.net/vocab#>\n",
    "\n",
    "select distinct ?record ?is_set ?sell_sets_permission where {{\n",
    "    {{\n",
    "    data:{USER} a :SalesRep; :hasAccess ?country, ?item ; :canSellSets ?sell_sets_permission .\n",
    "    ?country a :Country ; :hasRecord ?record .\n",
    "    ?item a :Item ; :hasRecord ?record ; :isSet ?is_set .\n",
    "    }} union {{\n",
    "    data:{USER} a :Manager; :hasAccess ?item .\n",
    "    ?item a :Item ; :hasRecord ?record .\n",
    "    }}\n",
    "    minus {{\n",
    "        data:{USER} :hasAccess ?item ; :canSellSets false .\n",
    "        ?item :isSet true .\n",
    "    }}\n",
    "}}\n",
    "\"\"\"\n",
    "\n",
    "# Execute the query\n",
    "res = corese.sparqlSelect(g, query, return_dataframe=True)\n",
    "res"
   ]
  },
  {
   "cell_type": "code",
   "execution_count": null,
   "metadata": {},
   "outputs": [],
   "source": []
  }
 ],
 "metadata": {
  "kernelspec": {
   "display_name": "Python 3 (ipykernel)",
   "language": "python",
   "name": "python3"
  },
  "language_info": {
   "codemirror_mode": {
    "name": "ipython",
    "version": 3
   },
   "file_extension": ".py",
   "mimetype": "text/x-python",
   "name": "python",
   "nbconvert_exporter": "python",
   "pygments_lexer": "ipython3",
   "version": "3.10.12"
  }
 },
 "nbformat": 4,
 "nbformat_minor": 2
}
