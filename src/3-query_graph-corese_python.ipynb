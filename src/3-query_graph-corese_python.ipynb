{
 "cells": [
  {
   "cell_type": "code",
   "execution_count": 116,
   "metadata": {},
   "outputs": [
    {
     "name": "stderr",
     "output_type": "stream",
     "text": [
      "2025-04-17 23:36:12,935 - INFO - Py4J: Loading CORESE...\n",
      "2025-04-17 23:36:13,967 - INFO - Py4J: CORESE is loaded\n"
     ]
    },
    {
     "data": {
      "text/plain": [
       "'/mnt/c/repos/rdf_permissions_example'"
      ]
     },
     "execution_count": 116,
     "metadata": {},
     "output_type": "execute_result"
    }
   ],
   "source": [
    "from pycorese.api import CoreseAPI\n",
    "\n",
    "python_to_java_bridge = 'py4j'\n",
    "corese = CoreseAPI(java_bridge=python_to_java_bridge)\n",
    "_ = corese.loadCorese()\n",
    "\n",
    "\n",
    "import os\n",
    "\n",
    "if 'src' in os.getcwd():\n",
    "    os.chdir('..')\n",
    "\n",
    "os.getcwd()"
   ]
  },
  {
   "cell_type": "code",
   "execution_count": 117,
   "metadata": {},
   "outputs": [],
   "source": [
    "g = corese.loadRDF(\"data/server/graph_data.rdf\")"
   ]
  },
  {
   "cell_type": "code",
   "execution_count": 118,
   "metadata": {},
   "outputs": [
    {
     "data": {
      "application/vnd.microsoft.datawrangler.viewer.v0+json": {
       "columns": [
        {
         "name": "index",
         "rawType": "int64",
         "type": "integer"
        },
        {
         "name": "s",
         "rawType": "string",
         "type": "string"
        },
        {
         "name": "p",
         "rawType": "string",
         "type": "string"
        },
        {
         "name": "o",
         "rawType": "string",
         "type": "string"
        }
       ],
       "conversionMethod": "pd.DataFrame",
       "ref": "2450043d-7b22-482d-af3b-76ad1adc854f",
       "rows": [
        [
         "0",
         "_:b0",
         "http://www.w3.org/1999/02/22-rdf-syntax-ns#first",
         "local://security.permissions.net/vocab#managesDepartment"
        ],
        [
         "1",
         "_:b1",
         "http://www.w3.org/1999/02/22-rdf-syntax-ns#first",
         "local://security.permissions.net/vocab#managedBy"
        ],
        [
         "2",
         "_:b0",
         "http://www.w3.org/1999/02/22-rdf-syntax-ns#rest",
         "http://www.w3.org/1999/02/22-rdf-syntax-ns#nil"
        ],
        [
         "3",
         "_:b1",
         "http://www.w3.org/1999/02/22-rdf-syntax-ns#rest",
         "_:b0"
        ],
        [
         "4",
         "local://security.permissions.net/entities#1787583#France",
         "http://www.w3.org/1999/02/22-rdf-syntax-ns#type",
         "local://security.permissions.net/vocab#Record"
        ]
       ],
       "shape": {
        "columns": 3,
        "rows": 5
       }
      },
      "text/html": [
       "<div>\n",
       "<style scoped>\n",
       "    .dataframe tbody tr th:only-of-type {\n",
       "        vertical-align: middle;\n",
       "    }\n",
       "\n",
       "    .dataframe tbody tr th {\n",
       "        vertical-align: top;\n",
       "    }\n",
       "\n",
       "    .dataframe thead th {\n",
       "        text-align: right;\n",
       "    }\n",
       "</style>\n",
       "<table border=\"1\" class=\"dataframe\">\n",
       "  <thead>\n",
       "    <tr style=\"text-align: right;\">\n",
       "      <th></th>\n",
       "      <th>s</th>\n",
       "      <th>p</th>\n",
       "      <th>o</th>\n",
       "    </tr>\n",
       "  </thead>\n",
       "  <tbody>\n",
       "    <tr>\n",
       "      <th>0</th>\n",
       "      <td>_:b0</td>\n",
       "      <td>http://www.w3.org/1999/02/22-rdf-syntax-ns#first</td>\n",
       "      <td>local://security.permissions.net/vocab#manages...</td>\n",
       "    </tr>\n",
       "    <tr>\n",
       "      <th>1</th>\n",
       "      <td>_:b1</td>\n",
       "      <td>http://www.w3.org/1999/02/22-rdf-syntax-ns#first</td>\n",
       "      <td>local://security.permissions.net/vocab#managedBy</td>\n",
       "    </tr>\n",
       "    <tr>\n",
       "      <th>2</th>\n",
       "      <td>_:b0</td>\n",
       "      <td>http://www.w3.org/1999/02/22-rdf-syntax-ns#rest</td>\n",
       "      <td>http://www.w3.org/1999/02/22-rdf-syntax-ns#nil</td>\n",
       "    </tr>\n",
       "    <tr>\n",
       "      <th>3</th>\n",
       "      <td>_:b1</td>\n",
       "      <td>http://www.w3.org/1999/02/22-rdf-syntax-ns#rest</td>\n",
       "      <td>_:b0</td>\n",
       "    </tr>\n",
       "    <tr>\n",
       "      <th>4</th>\n",
       "      <td>local://security.permissions.net/entities#1787...</td>\n",
       "      <td>http://www.w3.org/1999/02/22-rdf-syntax-ns#type</td>\n",
       "      <td>local://security.permissions.net/vocab#Record</td>\n",
       "    </tr>\n",
       "  </tbody>\n",
       "</table>\n",
       "</div>"
      ],
      "text/plain": [
       "                                                   s  \\\n",
       "0                                               _:b0   \n",
       "1                                               _:b1   \n",
       "2                                               _:b0   \n",
       "3                                               _:b1   \n",
       "4  local://security.permissions.net/entities#1787...   \n",
       "\n",
       "                                                  p  \\\n",
       "0  http://www.w3.org/1999/02/22-rdf-syntax-ns#first   \n",
       "1  http://www.w3.org/1999/02/22-rdf-syntax-ns#first   \n",
       "2   http://www.w3.org/1999/02/22-rdf-syntax-ns#rest   \n",
       "3   http://www.w3.org/1999/02/22-rdf-syntax-ns#rest   \n",
       "4   http://www.w3.org/1999/02/22-rdf-syntax-ns#type   \n",
       "\n",
       "                                                   o  \n",
       "0  local://security.permissions.net/vocab#manages...  \n",
       "1   local://security.permissions.net/vocab#managedBy  \n",
       "2     http://www.w3.org/1999/02/22-rdf-syntax-ns#nil  \n",
       "3                                               _:b0  \n",
       "4      local://security.permissions.net/vocab#Record  "
      ]
     },
     "execution_count": 118,
     "metadata": {},
     "output_type": "execute_result"
    }
   ],
   "source": [
    "# Simple first 5 triples from the whole graph\n",
    "res = corese.sparqlSelect(g, \"SELECT * WHERE { ?s ?p ?o } LIMIT 5\", return_dataframe=True)\n",
    "res"
   ]
  },
  {
   "cell_type": "code",
   "execution_count": 119,
   "metadata": {},
   "outputs": [
    {
     "data": {
      "application/vnd.microsoft.datawrangler.viewer.v0+json": {
       "columns": [
        {
         "name": "index",
         "rawType": "int64",
         "type": "integer"
        },
        {
         "name": "s",
         "rawType": "string",
         "type": "string"
        },
        {
         "name": "p",
         "rawType": "string",
         "type": "string"
        },
        {
         "name": "o",
         "rawType": "string",
         "type": "string"
        }
       ],
       "conversionMethod": "pd.DataFrame",
       "ref": "ad687cd0-55c6-45ae-b5da-b7cdbfd4a893",
       "rows": [
        [
         "0",
         "local://security.permissions.net/entities#Jackson",
         "local://security.permissions.net/vocab#managesDepartment",
         "local://security.permissions.net/entities#APPAREL"
        ],
        [
         "1",
         "local://security.permissions.net/entities#John",
         "local://security.permissions.net/vocab#managesDepartment",
         "local://security.permissions.net/entities#HOBBY"
        ],
        [
         "2",
         "local://security.permissions.net/entities#John",
         "local://security.permissions.net/vocab#managesDepartment",
         "local://security.permissions.net/entities#OFFICE"
        ],
        [
         "3",
         "local://security.permissions.net/entities#Steve",
         "local://security.permissions.net/vocab#managesDepartment",
         "local://security.permissions.net/entities#KITCHEN"
        ],
        [
         "4",
         "local://security.permissions.net/entities#Samantha",
         "local://security.permissions.net/vocab#managesDepartment",
         "local://security.permissions.net/entities#HOME%20AND%20GARDEN"
        ],
        [
         "5",
         "local://security.permissions.net/entities#Mary",
         "local://security.permissions.net/vocab#managesDepartment",
         "local://security.permissions.net/entities#CHRISTMAS"
        ],
        [
         "6",
         "local://security.permissions.net/entities#Mary",
         "local://security.permissions.net/vocab#managesDepartment",
         "local://security.permissions.net/entities#BIRTHDAY"
        ],
        [
         "7",
         "local://security.permissions.net/entities#Anya",
         "local://security.permissions.net/vocab#managesDepartment",
         "local://security.permissions.net/entities#STORAGE"
        ]
       ],
       "shape": {
        "columns": 3,
        "rows": 8
       }
      },
      "text/html": [
       "<div>\n",
       "<style scoped>\n",
       "    .dataframe tbody tr th:only-of-type {\n",
       "        vertical-align: middle;\n",
       "    }\n",
       "\n",
       "    .dataframe tbody tr th {\n",
       "        vertical-align: top;\n",
       "    }\n",
       "\n",
       "    .dataframe thead th {\n",
       "        text-align: right;\n",
       "    }\n",
       "</style>\n",
       "<table border=\"1\" class=\"dataframe\">\n",
       "  <thead>\n",
       "    <tr style=\"text-align: right;\">\n",
       "      <th></th>\n",
       "      <th>s</th>\n",
       "      <th>p</th>\n",
       "      <th>o</th>\n",
       "    </tr>\n",
       "  </thead>\n",
       "  <tbody>\n",
       "    <tr>\n",
       "      <th>0</th>\n",
       "      <td>local://security.permissions.net/entities#Jackson</td>\n",
       "      <td>local://security.permissions.net/vocab#manages...</td>\n",
       "      <td>local://security.permissions.net/entities#APPAREL</td>\n",
       "    </tr>\n",
       "    <tr>\n",
       "      <th>1</th>\n",
       "      <td>local://security.permissions.net/entities#John</td>\n",
       "      <td>local://security.permissions.net/vocab#manages...</td>\n",
       "      <td>local://security.permissions.net/entities#HOBBY</td>\n",
       "    </tr>\n",
       "    <tr>\n",
       "      <th>2</th>\n",
       "      <td>local://security.permissions.net/entities#John</td>\n",
       "      <td>local://security.permissions.net/vocab#manages...</td>\n",
       "      <td>local://security.permissions.net/entities#OFFICE</td>\n",
       "    </tr>\n",
       "    <tr>\n",
       "      <th>3</th>\n",
       "      <td>local://security.permissions.net/entities#Steve</td>\n",
       "      <td>local://security.permissions.net/vocab#manages...</td>\n",
       "      <td>local://security.permissions.net/entities#KITCHEN</td>\n",
       "    </tr>\n",
       "    <tr>\n",
       "      <th>4</th>\n",
       "      <td>local://security.permissions.net/entities#Sama...</td>\n",
       "      <td>local://security.permissions.net/vocab#manages...</td>\n",
       "      <td>local://security.permissions.net/entities#HOME...</td>\n",
       "    </tr>\n",
       "    <tr>\n",
       "      <th>5</th>\n",
       "      <td>local://security.permissions.net/entities#Mary</td>\n",
       "      <td>local://security.permissions.net/vocab#manages...</td>\n",
       "      <td>local://security.permissions.net/entities#CHRI...</td>\n",
       "    </tr>\n",
       "    <tr>\n",
       "      <th>6</th>\n",
       "      <td>local://security.permissions.net/entities#Mary</td>\n",
       "      <td>local://security.permissions.net/vocab#manages...</td>\n",
       "      <td>local://security.permissions.net/entities#BIRT...</td>\n",
       "    </tr>\n",
       "    <tr>\n",
       "      <th>7</th>\n",
       "      <td>local://security.permissions.net/entities#Anya</td>\n",
       "      <td>local://security.permissions.net/vocab#manages...</td>\n",
       "      <td>local://security.permissions.net/entities#STORAGE</td>\n",
       "    </tr>\n",
       "  </tbody>\n",
       "</table>\n",
       "</div>"
      ],
      "text/plain": [
       "                                                   s  \\\n",
       "0  local://security.permissions.net/entities#Jackson   \n",
       "1     local://security.permissions.net/entities#John   \n",
       "2     local://security.permissions.net/entities#John   \n",
       "3    local://security.permissions.net/entities#Steve   \n",
       "4  local://security.permissions.net/entities#Sama...   \n",
       "5     local://security.permissions.net/entities#Mary   \n",
       "6     local://security.permissions.net/entities#Mary   \n",
       "7     local://security.permissions.net/entities#Anya   \n",
       "\n",
       "                                                   p  \\\n",
       "0  local://security.permissions.net/vocab#manages...   \n",
       "1  local://security.permissions.net/vocab#manages...   \n",
       "2  local://security.permissions.net/vocab#manages...   \n",
       "3  local://security.permissions.net/vocab#manages...   \n",
       "4  local://security.permissions.net/vocab#manages...   \n",
       "5  local://security.permissions.net/vocab#manages...   \n",
       "6  local://security.permissions.net/vocab#manages...   \n",
       "7  local://security.permissions.net/vocab#manages...   \n",
       "\n",
       "                                                   o  \n",
       "0  local://security.permissions.net/entities#APPAREL  \n",
       "1    local://security.permissions.net/entities#HOBBY  \n",
       "2   local://security.permissions.net/entities#OFFICE  \n",
       "3  local://security.permissions.net/entities#KITCHEN  \n",
       "4  local://security.permissions.net/entities#HOME...  \n",
       "5  local://security.permissions.net/entities#CHRI...  \n",
       "6  local://security.permissions.net/entities#BIRT...  \n",
       "7  local://security.permissions.net/entities#STORAGE  "
      ]
     },
     "execution_count": 119,
     "metadata": {},
     "output_type": "execute_result"
    }
   ],
   "source": [
    "# Since we haven't run ontological reasoning yet, the \"manages\" relationships are not inferred\n",
    "query = \"\"\"\n",
    "PREFIX : <local://security.permissions.net/vocab#>\n",
    "\n",
    "SELECT ?s ?p ?o\n",
    "WHERE {\n",
    "  ?s ?p ?o .\n",
    "  FILTER(?p = :manages || ?p = :managesDepartment) .\n",
    "}\n",
    "\n",
    "\"\"\"\n",
    "\n",
    "# Execute the query\n",
    "res = corese.sparqlSelect(g, query, return_dataframe=True)\n",
    "res"
   ]
  },
  {
   "cell_type": "code",
   "execution_count": 120,
   "metadata": {},
   "outputs": [
    {
     "data": {
      "text/plain": [
       "JavaObject id=o18"
      ]
     },
     "execution_count": 120,
     "metadata": {},
     "output_type": "execute_result"
    }
   ],
   "source": [
    "# Run the rules engine\n",
    "corese.resetRuleEngine(g)\n",
    "corese.loadRuleEngine(g, profile='owlrl')\n",
    "corese.loadRuleEngine(g, profile='owlrl_lite')\n",
    "corese.loadRuleEngine(g, profile='owlrl_ext')\n",
    "corese.loadRuleEngine(g, profile='rdfs')"
   ]
  },
  {
   "cell_type": "code",
   "execution_count": 121,
   "metadata": {},
   "outputs": [
    {
     "data": {
      "application/vnd.microsoft.datawrangler.viewer.v0+json": {
       "columns": [
        {
         "name": "index",
         "rawType": "int64",
         "type": "integer"
        },
        {
         "name": "s",
         "rawType": "string",
         "type": "string"
        },
        {
         "name": "p",
         "rawType": "string",
         "type": "string"
        },
        {
         "name": "o",
         "rawType": "string",
         "type": "string"
        }
       ],
       "conversionMethod": "pd.DataFrame",
       "ref": "3f258b32-4e5b-42b0-8153-bd4767627833",
       "rows": [
        [
         "0",
         "local://security.permissions.net/entities#Jackson",
         "local://security.permissions.net/vocab#manages",
         "local://security.permissions.net/entities#SalesRep_28"
        ],
        [
         "1",
         "local://security.permissions.net/entities#Jackson",
         "local://security.permissions.net/vocab#manages",
         "local://security.permissions.net/entities#APPAREL"
        ],
        [
         "2",
         "local://security.permissions.net/entities#Jackson",
         "local://security.permissions.net/vocab#manages",
         "local://security.permissions.net/entities#SalesRep_43"
        ],
        [
         "3",
         "local://security.permissions.net/entities#Jackson",
         "local://security.permissions.net/vocab#manages",
         "local://security.permissions.net/entities#SalesRep_23"
        ],
        [
         "4",
         "local://security.permissions.net/entities#Jackson",
         "local://security.permissions.net/vocab#manages",
         "local://security.permissions.net/entities#SalesRep_18"
        ],
        [
         "5",
         "local://security.permissions.net/entities#Jackson",
         "local://security.permissions.net/vocab#manages",
         "local://security.permissions.net/entities#SalesRep_5"
        ],
        [
         "6",
         "local://security.permissions.net/entities#Jackson",
         "local://security.permissions.net/vocab#manages",
         "local://security.permissions.net/entities#SalesRep_17"
        ],
        [
         "7",
         "local://security.permissions.net/entities#Jackson",
         "local://security.permissions.net/vocab#manages",
         "local://security.permissions.net/entities#SalesRep_46"
        ],
        [
         "8",
         "local://security.permissions.net/entities#Jackson",
         "local://security.permissions.net/vocab#manages",
         "local://security.permissions.net/entities#SalesRep_14"
        ],
        [
         "9",
         "local://security.permissions.net/entities#John",
         "local://security.permissions.net/vocab#manages",
         "local://security.permissions.net/entities#HOBBY"
        ],
        [
         "10",
         "local://security.permissions.net/entities#John",
         "local://security.permissions.net/vocab#manages",
         "local://security.permissions.net/entities#OFFICE"
        ],
        [
         "11",
         "local://security.permissions.net/entities#John",
         "local://security.permissions.net/vocab#manages",
         "local://security.permissions.net/entities#SalesRep_38"
        ],
        [
         "12",
         "local://security.permissions.net/entities#John",
         "local://security.permissions.net/vocab#manages",
         "local://security.permissions.net/entities#SalesRep_22"
        ],
        [
         "13",
         "local://security.permissions.net/entities#John",
         "local://security.permissions.net/vocab#manages",
         "local://security.permissions.net/entities#SalesRep_9"
        ],
        [
         "14",
         "local://security.permissions.net/entities#John",
         "local://security.permissions.net/vocab#manages",
         "local://security.permissions.net/entities#SalesRep_31"
        ],
        [
         "15",
         "local://security.permissions.net/entities#John",
         "local://security.permissions.net/vocab#manages",
         "local://security.permissions.net/entities#SalesRep_27"
        ],
        [
         "16",
         "local://security.permissions.net/entities#John",
         "local://security.permissions.net/vocab#manages",
         "local://security.permissions.net/entities#SalesRep_33"
        ],
        [
         "17",
         "local://security.permissions.net/entities#John",
         "local://security.permissions.net/vocab#manages",
         "local://security.permissions.net/entities#SalesRep_42"
        ],
        [
         "18",
         "local://security.permissions.net/entities#John",
         "local://security.permissions.net/vocab#manages",
         "local://security.permissions.net/entities#SalesRep_37"
        ],
        [
         "19",
         "local://security.permissions.net/entities#Steve",
         "local://security.permissions.net/vocab#manages",
         "local://security.permissions.net/entities#KITCHEN"
        ],
        [
         "20",
         "local://security.permissions.net/entities#Steve",
         "local://security.permissions.net/vocab#manages",
         "local://security.permissions.net/entities#SalesRep_21"
        ],
        [
         "21",
         "local://security.permissions.net/entities#Steve",
         "local://security.permissions.net/vocab#manages",
         "local://security.permissions.net/entities#SalesRep_7"
        ],
        [
         "22",
         "local://security.permissions.net/entities#Steve",
         "local://security.permissions.net/vocab#manages",
         "local://security.permissions.net/entities#SalesRep_2"
        ],
        [
         "23",
         "local://security.permissions.net/entities#Steve",
         "local://security.permissions.net/vocab#manages",
         "local://security.permissions.net/entities#SalesRep_6"
        ],
        [
         "24",
         "local://security.permissions.net/entities#Steve",
         "local://security.permissions.net/vocab#manages",
         "local://security.permissions.net/entities#SalesRep_15"
        ],
        [
         "25",
         "local://security.permissions.net/entities#Steve",
         "local://security.permissions.net/vocab#manages",
         "local://security.permissions.net/entities#SalesRep_35"
        ],
        [
         "26",
         "local://security.permissions.net/entities#Steve",
         "local://security.permissions.net/vocab#manages",
         "local://security.permissions.net/entities#SalesRep_30"
        ],
        [
         "27",
         "local://security.permissions.net/entities#Samantha",
         "local://security.permissions.net/vocab#manages",
         "local://security.permissions.net/entities#HOME%20AND%20GARDEN"
        ],
        [
         "28",
         "local://security.permissions.net/entities#Samantha",
         "local://security.permissions.net/vocab#manages",
         "local://security.permissions.net/entities#SalesRep_11"
        ],
        [
         "29",
         "local://security.permissions.net/entities#Samantha",
         "local://security.permissions.net/vocab#manages",
         "local://security.permissions.net/entities#SalesRep_8"
        ],
        [
         "30",
         "local://security.permissions.net/entities#Samantha",
         "local://security.permissions.net/vocab#manages",
         "local://security.permissions.net/entities#SalesRep_47"
        ],
        [
         "31",
         "local://security.permissions.net/entities#Samantha",
         "local://security.permissions.net/vocab#manages",
         "local://security.permissions.net/entities#SalesRep_0"
        ],
        [
         "32",
         "local://security.permissions.net/entities#Samantha",
         "local://security.permissions.net/vocab#manages",
         "local://security.permissions.net/entities#SalesRep_3"
        ],
        [
         "33",
         "local://security.permissions.net/entities#Samantha",
         "local://security.permissions.net/vocab#manages",
         "local://security.permissions.net/entities#SalesRep_41"
        ],
        [
         "34",
         "local://security.permissions.net/entities#Mary",
         "local://security.permissions.net/vocab#manages",
         "local://security.permissions.net/entities#CHRISTMAS"
        ],
        [
         "35",
         "local://security.permissions.net/entities#Mary",
         "local://security.permissions.net/vocab#manages",
         "local://security.permissions.net/entities#BIRTHDAY"
        ],
        [
         "36",
         "local://security.permissions.net/entities#Mary",
         "local://security.permissions.net/vocab#manages",
         "local://security.permissions.net/entities#SalesRep_16"
        ],
        [
         "37",
         "local://security.permissions.net/entities#Mary",
         "local://security.permissions.net/vocab#manages",
         "local://security.permissions.net/entities#SalesRep_24"
        ],
        [
         "38",
         "local://security.permissions.net/entities#Mary",
         "local://security.permissions.net/vocab#manages",
         "local://security.permissions.net/entities#SalesRep_39"
        ],
        [
         "39",
         "local://security.permissions.net/entities#Mary",
         "local://security.permissions.net/vocab#manages",
         "local://security.permissions.net/entities#SalesRep_19"
        ],
        [
         "40",
         "local://security.permissions.net/entities#Mary",
         "local://security.permissions.net/vocab#manages",
         "local://security.permissions.net/entities#SalesRep_29"
        ],
        [
         "41",
         "local://security.permissions.net/entities#Mary",
         "local://security.permissions.net/vocab#manages",
         "local://security.permissions.net/entities#SalesRep_36"
        ],
        [
         "42",
         "local://security.permissions.net/entities#Mary",
         "local://security.permissions.net/vocab#manages",
         "local://security.permissions.net/entities#SalesRep_45"
        ],
        [
         "43",
         "local://security.permissions.net/entities#Mary",
         "local://security.permissions.net/vocab#manages",
         "local://security.permissions.net/entities#SalesRep_12"
        ],
        [
         "44",
         "local://security.permissions.net/entities#Mary",
         "local://security.permissions.net/vocab#manages",
         "local://security.permissions.net/entities#SalesRep_1"
        ],
        [
         "45",
         "local://security.permissions.net/entities#Mary",
         "local://security.permissions.net/vocab#manages",
         "local://security.permissions.net/entities#SalesRep_40"
        ],
        [
         "46",
         "local://security.permissions.net/entities#Mary",
         "local://security.permissions.net/vocab#manages",
         "local://security.permissions.net/entities#SalesRep_44"
        ],
        [
         "47",
         "local://security.permissions.net/entities#Mary",
         "local://security.permissions.net/vocab#manages",
         "local://security.permissions.net/entities#SalesRep_10"
        ],
        [
         "48",
         "local://security.permissions.net/entities#Mary",
         "local://security.permissions.net/vocab#manages",
         "local://security.permissions.net/entities#SalesRep_4"
        ],
        [
         "49",
         "local://security.permissions.net/entities#Mary",
         "local://security.permissions.net/vocab#manages",
         "local://security.permissions.net/entities#SalesRep_13"
        ]
       ],
       "shape": {
        "columns": 3,
        "rows": 66
       }
      },
      "text/html": [
       "<div>\n",
       "<style scoped>\n",
       "    .dataframe tbody tr th:only-of-type {\n",
       "        vertical-align: middle;\n",
       "    }\n",
       "\n",
       "    .dataframe tbody tr th {\n",
       "        vertical-align: top;\n",
       "    }\n",
       "\n",
       "    .dataframe thead th {\n",
       "        text-align: right;\n",
       "    }\n",
       "</style>\n",
       "<table border=\"1\" class=\"dataframe\">\n",
       "  <thead>\n",
       "    <tr style=\"text-align: right;\">\n",
       "      <th></th>\n",
       "      <th>s</th>\n",
       "      <th>p</th>\n",
       "      <th>o</th>\n",
       "    </tr>\n",
       "  </thead>\n",
       "  <tbody>\n",
       "    <tr>\n",
       "      <th>0</th>\n",
       "      <td>local://security.permissions.net/entities#Jackson</td>\n",
       "      <td>local://security.permissions.net/vocab#manages</td>\n",
       "      <td>local://security.permissions.net/entities#Sale...</td>\n",
       "    </tr>\n",
       "    <tr>\n",
       "      <th>1</th>\n",
       "      <td>local://security.permissions.net/entities#Jackson</td>\n",
       "      <td>local://security.permissions.net/vocab#manages</td>\n",
       "      <td>local://security.permissions.net/entities#APPAREL</td>\n",
       "    </tr>\n",
       "    <tr>\n",
       "      <th>2</th>\n",
       "      <td>local://security.permissions.net/entities#Jackson</td>\n",
       "      <td>local://security.permissions.net/vocab#manages</td>\n",
       "      <td>local://security.permissions.net/entities#Sale...</td>\n",
       "    </tr>\n",
       "    <tr>\n",
       "      <th>3</th>\n",
       "      <td>local://security.permissions.net/entities#Jackson</td>\n",
       "      <td>local://security.permissions.net/vocab#manages</td>\n",
       "      <td>local://security.permissions.net/entities#Sale...</td>\n",
       "    </tr>\n",
       "    <tr>\n",
       "      <th>4</th>\n",
       "      <td>local://security.permissions.net/entities#Jackson</td>\n",
       "      <td>local://security.permissions.net/vocab#manages</td>\n",
       "      <td>local://security.permissions.net/entities#Sale...</td>\n",
       "    </tr>\n",
       "    <tr>\n",
       "      <th>...</th>\n",
       "      <td>...</td>\n",
       "      <td>...</td>\n",
       "      <td>...</td>\n",
       "    </tr>\n",
       "    <tr>\n",
       "      <th>61</th>\n",
       "      <td>local://security.permissions.net/entities#Steve</td>\n",
       "      <td>local://security.permissions.net/vocab#manages...</td>\n",
       "      <td>local://security.permissions.net/entities#KITCHEN</td>\n",
       "    </tr>\n",
       "    <tr>\n",
       "      <th>62</th>\n",
       "      <td>local://security.permissions.net/entities#Sama...</td>\n",
       "      <td>local://security.permissions.net/vocab#manages...</td>\n",
       "      <td>local://security.permissions.net/entities#HOME...</td>\n",
       "    </tr>\n",
       "    <tr>\n",
       "      <th>63</th>\n",
       "      <td>local://security.permissions.net/entities#Mary</td>\n",
       "      <td>local://security.permissions.net/vocab#manages...</td>\n",
       "      <td>local://security.permissions.net/entities#CHRI...</td>\n",
       "    </tr>\n",
       "    <tr>\n",
       "      <th>64</th>\n",
       "      <td>local://security.permissions.net/entities#Mary</td>\n",
       "      <td>local://security.permissions.net/vocab#manages...</td>\n",
       "      <td>local://security.permissions.net/entities#BIRT...</td>\n",
       "    </tr>\n",
       "    <tr>\n",
       "      <th>65</th>\n",
       "      <td>local://security.permissions.net/entities#Anya</td>\n",
       "      <td>local://security.permissions.net/vocab#manages...</td>\n",
       "      <td>local://security.permissions.net/entities#STORAGE</td>\n",
       "    </tr>\n",
       "  </tbody>\n",
       "</table>\n",
       "<p>66 rows × 3 columns</p>\n",
       "</div>"
      ],
      "text/plain": [
       "                                                    s  \\\n",
       "0   local://security.permissions.net/entities#Jackson   \n",
       "1   local://security.permissions.net/entities#Jackson   \n",
       "2   local://security.permissions.net/entities#Jackson   \n",
       "3   local://security.permissions.net/entities#Jackson   \n",
       "4   local://security.permissions.net/entities#Jackson   \n",
       "..                                                ...   \n",
       "61    local://security.permissions.net/entities#Steve   \n",
       "62  local://security.permissions.net/entities#Sama...   \n",
       "63     local://security.permissions.net/entities#Mary   \n",
       "64     local://security.permissions.net/entities#Mary   \n",
       "65     local://security.permissions.net/entities#Anya   \n",
       "\n",
       "                                                    p  \\\n",
       "0      local://security.permissions.net/vocab#manages   \n",
       "1      local://security.permissions.net/vocab#manages   \n",
       "2      local://security.permissions.net/vocab#manages   \n",
       "3      local://security.permissions.net/vocab#manages   \n",
       "4      local://security.permissions.net/vocab#manages   \n",
       "..                                                ...   \n",
       "61  local://security.permissions.net/vocab#manages...   \n",
       "62  local://security.permissions.net/vocab#manages...   \n",
       "63  local://security.permissions.net/vocab#manages...   \n",
       "64  local://security.permissions.net/vocab#manages...   \n",
       "65  local://security.permissions.net/vocab#manages...   \n",
       "\n",
       "                                                    o  \n",
       "0   local://security.permissions.net/entities#Sale...  \n",
       "1   local://security.permissions.net/entities#APPAREL  \n",
       "2   local://security.permissions.net/entities#Sale...  \n",
       "3   local://security.permissions.net/entities#Sale...  \n",
       "4   local://security.permissions.net/entities#Sale...  \n",
       "..                                                ...  \n",
       "61  local://security.permissions.net/entities#KITCHEN  \n",
       "62  local://security.permissions.net/entities#HOME...  \n",
       "63  local://security.permissions.net/entities#CHRI...  \n",
       "64  local://security.permissions.net/entities#BIRT...  \n",
       "65  local://security.permissions.net/entities#STORAGE  \n",
       "\n",
       "[66 rows x 3 columns]"
      ]
     },
     "execution_count": 121,
     "metadata": {},
     "output_type": "execute_result"
    }
   ],
   "source": [
    "# Now that we have added our inferences, we can see the results of the manages relationships which have been inferred from both managesDepartment and mangedBy\n",
    "query = \"\"\"\n",
    "PREFIX : <local://security.permissions.net/vocab#>\n",
    "\n",
    "SELECT ?s ?p ?o\n",
    "WHERE {\n",
    "  ?s ?p ?o .\n",
    "  FILTER(?p = :manages || ?p = :managesDepartment) .\n",
    "}\n",
    "\n",
    "\"\"\"\n",
    "\n",
    "# Execute the query\n",
    "res = corese.sparqlSelect(g, query, return_dataframe=True)\n",
    "res"
   ]
  },
  {
   "cell_type": "code",
   "execution_count": 122,
   "metadata": {},
   "outputs": [
    {
     "data": {
      "application/vnd.microsoft.datawrangler.viewer.v0+json": {
       "columns": [
        {
         "name": "index",
         "rawType": "int64",
         "type": "integer"
        },
        {
         "name": "record",
         "rawType": "string",
         "type": "string"
        }
       ],
       "conversionMethod": "pd.DataFrame",
       "ref": "240c9db1-d8d9-46a1-be6d-a774da52ec28",
       "rows": [
        [
         "0",
         "local://security.permissions.net/entities#456645#Spain"
        ],
        [
         "1",
         "local://security.permissions.net/entities#456645#Portugal"
        ],
        [
         "2",
         "local://security.permissions.net/entities#456645#Norway"
        ],
        [
         "3",
         "local://security.permissions.net/entities#456645#Cyprus"
        ],
        [
         "4",
         "local://security.permissions.net/entities#456645#United%20Kingdom"
        ],
        [
         "5",
         "local://security.permissions.net/entities#1663011#United%20Kingdom"
        ],
        [
         "6",
         "local://security.permissions.net/entities#1663011#Norway"
        ],
        [
         "7",
         "local://security.permissions.net/entities#1663011#Germany"
        ],
        [
         "8",
         "local://security.permissions.net/entities#1663011#France"
        ],
        [
         "9",
         "local://security.permissions.net/entities#1663011#Denmark"
        ],
        [
         "10",
         "local://security.permissions.net/entities#1663011#Switzerland"
        ],
        [
         "11",
         "local://security.permissions.net/entities#1663011#Belgium"
        ],
        [
         "12",
         "local://security.permissions.net/entities#1528947#United%20Kingdom"
        ],
        [
         "13",
         "local://security.permissions.net/entities#1528947#Norway"
        ],
        [
         "14",
         "local://security.permissions.net/entities#1528947#Germany"
        ],
        [
         "15",
         "local://security.permissions.net/entities#1528947#Italy"
        ],
        [
         "16",
         "local://security.permissions.net/entities#1528947#EIRE"
        ],
        [
         "17",
         "local://security.permissions.net/entities#1528947#Spain"
        ],
        [
         "18",
         "local://security.permissions.net/entities#1528947#Cyprus"
        ],
        [
         "19",
         "local://security.permissions.net/entities#1528947#Malta"
        ],
        [
         "20",
         "local://security.permissions.net/entities#1528947#European%20Community"
        ],
        [
         "21",
         "local://security.permissions.net/entities#488880#United%20Kingdom"
        ],
        [
         "22",
         "local://security.permissions.net/entities#488880#Germany"
        ],
        [
         "23",
         "local://security.permissions.net/entities#488880#EIRE"
        ],
        [
         "24",
         "local://security.permissions.net/entities#488880#Switzerland"
        ],
        [
         "25",
         "local://security.permissions.net/entities#488880#Spain"
        ],
        [
         "26",
         "local://security.permissions.net/entities#488880#France"
        ],
        [
         "27",
         "local://security.permissions.net/entities#488880#Channel%20Islands"
        ],
        [
         "28",
         "local://security.permissions.net/entities#488880#Denmark"
        ],
        [
         "29",
         "local://security.permissions.net/entities#488880#Netherlands"
        ],
        [
         "30",
         "local://security.permissions.net/entities#1514730#United%20Kingdom"
        ],
        [
         "31",
         "local://security.permissions.net/entities#485289#United%20Kingdom"
        ],
        [
         "32",
         "local://security.permissions.net/entities#485289#Portugal"
        ],
        [
         "33",
         "local://security.permissions.net/entities#485289#EIRE"
        ],
        [
         "34",
         "local://security.permissions.net/entities#485289#Switzerland"
        ],
        [
         "35",
         "local://security.permissions.net/entities#485289#Finland"
        ],
        [
         "36",
         "local://security.permissions.net/entities#485289#France"
        ],
        [
         "37",
         "local://security.permissions.net/entities#465549#United%20Kingdom"
        ],
        [
         "38",
         "local://security.permissions.net/entities#465549#Norway"
        ],
        [
         "39",
         "local://security.permissions.net/entities#465549#Germany"
        ],
        [
         "40",
         "local://security.permissions.net/entities#465549#EIRE"
        ],
        [
         "41",
         "local://security.permissions.net/entities#465549#Greece"
        ],
        [
         "42",
         "local://security.permissions.net/entities#465549#Poland"
        ],
        [
         "43",
         "local://security.permissions.net/entities#465549#Belgium"
        ],
        [
         "44",
         "local://security.permissions.net/entities#465549#Denmark"
        ],
        [
         "45",
         "local://security.permissions.net/entities#465549#Channel%20Islands"
        ],
        [
         "46",
         "local://security.permissions.net/entities#477267#United%20Kingdom"
        ],
        [
         "47",
         "local://security.permissions.net/entities#477267#Norway"
        ],
        [
         "48",
         "local://security.permissions.net/entities#477267#Germany"
        ],
        [
         "49",
         "local://security.permissions.net/entities#477267#Portugal"
        ]
       ],
       "shape": {
        "columns": 1,
        "rows": 2110
       }
      },
      "text/html": [
       "<div>\n",
       "<style scoped>\n",
       "    .dataframe tbody tr th:only-of-type {\n",
       "        vertical-align: middle;\n",
       "    }\n",
       "\n",
       "    .dataframe tbody tr th {\n",
       "        vertical-align: top;\n",
       "    }\n",
       "\n",
       "    .dataframe thead th {\n",
       "        text-align: right;\n",
       "    }\n",
       "</style>\n",
       "<table border=\"1\" class=\"dataframe\">\n",
       "  <thead>\n",
       "    <tr style=\"text-align: right;\">\n",
       "      <th></th>\n",
       "      <th>record</th>\n",
       "    </tr>\n",
       "  </thead>\n",
       "  <tbody>\n",
       "    <tr>\n",
       "      <th>0</th>\n",
       "      <td>local://security.permissions.net/entities#4566...</td>\n",
       "    </tr>\n",
       "    <tr>\n",
       "      <th>1</th>\n",
       "      <td>local://security.permissions.net/entities#4566...</td>\n",
       "    </tr>\n",
       "    <tr>\n",
       "      <th>2</th>\n",
       "      <td>local://security.permissions.net/entities#4566...</td>\n",
       "    </tr>\n",
       "    <tr>\n",
       "      <th>3</th>\n",
       "      <td>local://security.permissions.net/entities#4566...</td>\n",
       "    </tr>\n",
       "    <tr>\n",
       "      <th>4</th>\n",
       "      <td>local://security.permissions.net/entities#4566...</td>\n",
       "    </tr>\n",
       "    <tr>\n",
       "      <th>...</th>\n",
       "      <td>...</td>\n",
       "    </tr>\n",
       "    <tr>\n",
       "      <th>2105</th>\n",
       "      <td>local://security.permissions.net/entities#4916...</td>\n",
       "    </tr>\n",
       "    <tr>\n",
       "      <th>2106</th>\n",
       "      <td>local://security.permissions.net/entities#4554...</td>\n",
       "    </tr>\n",
       "    <tr>\n",
       "      <th>2107</th>\n",
       "      <td>local://security.permissions.net/entities#4554...</td>\n",
       "    </tr>\n",
       "    <tr>\n",
       "      <th>2108</th>\n",
       "      <td>local://security.permissions.net/entities#1782...</td>\n",
       "    </tr>\n",
       "    <tr>\n",
       "      <th>2109</th>\n",
       "      <td>local://security.permissions.net/entities#4487...</td>\n",
       "    </tr>\n",
       "  </tbody>\n",
       "</table>\n",
       "<p>2110 rows × 1 columns</p>\n",
       "</div>"
      ],
      "text/plain": [
       "                                                 record\n",
       "0     local://security.permissions.net/entities#4566...\n",
       "1     local://security.permissions.net/entities#4566...\n",
       "2     local://security.permissions.net/entities#4566...\n",
       "3     local://security.permissions.net/entities#4566...\n",
       "4     local://security.permissions.net/entities#4566...\n",
       "...                                                 ...\n",
       "2105  local://security.permissions.net/entities#4916...\n",
       "2106  local://security.permissions.net/entities#4554...\n",
       "2107  local://security.permissions.net/entities#4554...\n",
       "2108  local://security.permissions.net/entities#1782...\n",
       "2109  local://security.permissions.net/entities#4487...\n",
       "\n",
       "[2110 rows x 1 columns]"
      ]
     },
     "execution_count": 122,
     "metadata": {},
     "output_type": "execute_result"
    }
   ],
   "source": [
    "# Find all the records that a specific user may have access to.\n",
    "\n",
    "USER = \"SalesRep_0\"\n",
    "\n",
    "query = f\"\"\"\n",
    "prefix data: <local://security.permissions.net/entities#>\n",
    "prefix : <local://security.permissions.net/vocab#>\n",
    "\n",
    "select distinct ?record where {{\n",
    "data:{USER} :hasAccess ?item . \n",
    "?item a :Item .\n",
    "?item :hasRecord ?record .\n",
    "?record a :Record .\n",
    "optional {{\n",
    "    data:{USER} :hasAccess ?country .\n",
    "    ?country a :Country ; :hasRecord ?record .\n",
    "}}\n",
    "optional {{\n",
    "    data:{USER} a :Manager .\n",
    "    bind(:Manager as ?mgr) .\n",
    "}}\n",
    "filter(bound(?country) || bound(?mgr)) .\n",
    "}}\n",
    "\"\"\"\n",
    "\n",
    "# Execute the query\n",
    "res = corese.sparqlSelect(g, query, return_dataframe=True)\n",
    "res"
   ]
  },
  {
   "cell_type": "code",
   "execution_count": 123,
   "metadata": {},
   "outputs": [
    {
     "data": {
      "application/vnd.microsoft.datawrangler.viewer.v0+json": {
       "columns": [
        {
         "name": "index",
         "rawType": "int64",
         "type": "integer"
        },
        {
         "name": "record",
         "rawType": "string",
         "type": "string"
        }
       ],
       "conversionMethod": "pd.DataFrame",
       "ref": "bc346fbb-16bb-4233-989c-eea2411688b0",
       "rows": [
        [
         "0",
         "local://security.permissions.net/entities#456645#United%20Kingdom"
        ],
        [
         "1",
         "local://security.permissions.net/entities#1787667#United%20Kingdom"
        ],
        [
         "2",
         "local://security.permissions.net/entities#1779960#United%20Kingdom"
        ],
        [
         "3",
         "local://security.permissions.net/entities#455994#United%20Kingdom"
        ],
        [
         "4",
         "local://security.permissions.net/entities#466767#United%20Kingdom"
        ],
        [
         "5",
         "local://security.permissions.net/entities#465465#United%20Kingdom"
        ],
        [
         "6",
         "local://security.permissions.net/entities#472941#United%20Kingdom"
        ],
        [
         "7",
         "local://security.permissions.net/entities#1785420#United%20Kingdom"
        ],
        [
         "8",
         "local://security.permissions.net/entities#1787625#United%20Kingdom"
        ],
        [
         "9",
         "local://security.permissions.net/entities#474726#United%20Kingdom"
        ],
        [
         "10",
         "local://security.permissions.net/entities#1788528#United%20Kingdom"
        ],
        [
         "11",
         "local://security.permissions.net/entities#465570#United%20Kingdom"
        ],
        [
         "12",
         "local://security.permissions.net/entities#1788654#United%20Kingdom"
        ],
        [
         "13",
         "local://security.permissions.net/entities#495180#United%20Kingdom"
        ],
        [
         "14",
         "local://security.permissions.net/entities#481488#United%20Kingdom"
        ],
        [
         "15",
         "local://security.permissions.net/entities#482895#United%20Kingdom"
        ],
        [
         "16",
         "local://security.permissions.net/entities#495075#United%20Kingdom"
        ],
        [
         "17",
         "local://security.permissions.net/entities#482937#United%20Kingdom"
        ],
        [
         "18",
         "local://security.permissions.net/entities#471996#United%20Kingdom"
        ],
        [
         "19",
         "local://security.permissions.net/entities#479304#United%20Kingdom"
        ],
        [
         "20",
         "local://security.permissions.net/entities#1789452#United%20Kingdom"
        ],
        [
         "21",
         "local://security.permissions.net/entities#457233#United%20Kingdom"
        ],
        [
         "22",
         "local://security.permissions.net/entities#786996#United%20Kingdom"
        ],
        [
         "23",
         "local://security.permissions.net/entities#491715#United%20Kingdom"
        ],
        [
         "24",
         "local://security.permissions.net/entities#479262#United%20Kingdom"
        ],
        [
         "25",
         "local://security.permissions.net/entities#493962#United%20Kingdom"
        ],
        [
         "26",
         "local://security.permissions.net/entities#477267#United%20Kingdom"
        ],
        [
         "27",
         "local://security.permissions.net/entities#445746#United%20Kingdom"
        ],
        [
         "28",
         "local://security.permissions.net/entities#467250#United%20Kingdom"
        ],
        [
         "29",
         "local://security.permissions.net/entities#472017#United%20Kingdom"
        ],
        [
         "30",
         "local://security.permissions.net/entities#448791#United%20Kingdom"
        ],
        [
         "31",
         "local://security.permissions.net/entities#437220#United%20Kingdom"
        ],
        [
         "32",
         "local://security.permissions.net/entities#466704#United%20Kingdom"
        ],
        [
         "33",
         "local://security.permissions.net/entities#437472#United%20Kingdom"
        ],
        [
         "34",
         "local://security.permissions.net/entities#447531#United%20Kingdom"
        ],
        [
         "35",
         "local://security.permissions.net/entities#489300#United%20Kingdom"
        ],
        [
         "36",
         "local://security.permissions.net/entities#464037#United%20Kingdom"
        ],
        [
         "37",
         "local://security.permissions.net/entities#455616#United%20Kingdom"
        ],
        [
         "38",
         "local://security.permissions.net/entities#1527561#United%20Kingdom"
        ],
        [
         "39",
         "local://security.permissions.net/entities#494193#United%20Kingdom"
        ],
        [
         "40",
         "local://security.permissions.net/entities#452004#United%20Kingdom"
        ],
        [
         "41",
         "local://security.permissions.net/entities#1786113#United%20Kingdom"
        ],
        [
         "42",
         "local://security.permissions.net/entities#1662024#United%20Kingdom"
        ],
        [
         "43",
         "local://security.permissions.net/entities#438207#United%20Kingdom"
        ],
        [
         "44",
         "local://security.permissions.net/entities#454020#United%20Kingdom"
        ],
        [
         "45",
         "local://security.permissions.net/entities#1734243#United%20Kingdom"
        ],
        [
         "46",
         "local://security.permissions.net/entities#472836#United%20Kingdom"
        ],
        [
         "47",
         "local://security.permissions.net/entities#1662360#United%20Kingdom"
        ],
        [
         "48",
         "local://security.permissions.net/entities#491463#United%20Kingdom"
        ],
        [
         "49",
         "local://security.permissions.net/entities#1011885#United%20Kingdom"
        ]
       ],
       "shape": {
        "columns": 1,
        "rows": 2110
       }
      },
      "text/html": [
       "<div>\n",
       "<style scoped>\n",
       "    .dataframe tbody tr th:only-of-type {\n",
       "        vertical-align: middle;\n",
       "    }\n",
       "\n",
       "    .dataframe tbody tr th {\n",
       "        vertical-align: top;\n",
       "    }\n",
       "\n",
       "    .dataframe thead th {\n",
       "        text-align: right;\n",
       "    }\n",
       "</style>\n",
       "<table border=\"1\" class=\"dataframe\">\n",
       "  <thead>\n",
       "    <tr style=\"text-align: right;\">\n",
       "      <th></th>\n",
       "      <th>record</th>\n",
       "    </tr>\n",
       "  </thead>\n",
       "  <tbody>\n",
       "    <tr>\n",
       "      <th>0</th>\n",
       "      <td>local://security.permissions.net/entities#4566...</td>\n",
       "    </tr>\n",
       "    <tr>\n",
       "      <th>1</th>\n",
       "      <td>local://security.permissions.net/entities#1787...</td>\n",
       "    </tr>\n",
       "    <tr>\n",
       "      <th>2</th>\n",
       "      <td>local://security.permissions.net/entities#1779...</td>\n",
       "    </tr>\n",
       "    <tr>\n",
       "      <th>3</th>\n",
       "      <td>local://security.permissions.net/entities#4559...</td>\n",
       "    </tr>\n",
       "    <tr>\n",
       "      <th>4</th>\n",
       "      <td>local://security.permissions.net/entities#4667...</td>\n",
       "    </tr>\n",
       "    <tr>\n",
       "      <th>...</th>\n",
       "      <td>...</td>\n",
       "    </tr>\n",
       "    <tr>\n",
       "      <th>2105</th>\n",
       "      <td>local://security.permissions.net/entities#4823...</td>\n",
       "    </tr>\n",
       "    <tr>\n",
       "      <th>2106</th>\n",
       "      <td>local://security.permissions.net/entities#4671...</td>\n",
       "    </tr>\n",
       "    <tr>\n",
       "      <th>2107</th>\n",
       "      <td>local://security.permissions.net/entities#4672...</td>\n",
       "    </tr>\n",
       "    <tr>\n",
       "      <th>2108</th>\n",
       "      <td>local://security.permissions.net/entities#4463...</td>\n",
       "    </tr>\n",
       "    <tr>\n",
       "      <th>2109</th>\n",
       "      <td>local://security.permissions.net/entities#4488...</td>\n",
       "    </tr>\n",
       "  </tbody>\n",
       "</table>\n",
       "<p>2110 rows × 1 columns</p>\n",
       "</div>"
      ],
      "text/plain": [
       "                                                 record\n",
       "0     local://security.permissions.net/entities#4566...\n",
       "1     local://security.permissions.net/entities#1787...\n",
       "2     local://security.permissions.net/entities#1779...\n",
       "3     local://security.permissions.net/entities#4559...\n",
       "4     local://security.permissions.net/entities#4667...\n",
       "...                                                 ...\n",
       "2105  local://security.permissions.net/entities#4823...\n",
       "2106  local://security.permissions.net/entities#4671...\n",
       "2107  local://security.permissions.net/entities#4672...\n",
       "2108  local://security.permissions.net/entities#4463...\n",
       "2109  local://security.permissions.net/entities#4488...\n",
       "\n",
       "[2110 rows x 1 columns]"
      ]
     },
     "execution_count": 123,
     "metadata": {},
     "output_type": "execute_result"
    }
   ],
   "source": [
    "# Find all the records that a specific user may have access to.\n",
    "\n",
    "USER = \"SalesRep_0\"\n",
    "\n",
    "query = f\"\"\"\n",
    "prefix data: <local://security.permissions.net/entities#>\n",
    "prefix : <local://security.permissions.net/vocab#>\n",
    "\n",
    "select distinct ?record where {{\n",
    "    {{\n",
    "    data:{USER} a :SalesRep; :hasAccess ?country, ?item .\n",
    "    ?country a :Country ; :hasRecord ?record .\n",
    "    ?item a :Item ; :hasRecord ?record .\n",
    "    }} union {{\n",
    "    data:{USER} a :Manager; :hasAccess ?item .\n",
    "    ?item a :Item ; :hasRecord ?record .\n",
    "    }}\n",
    "}}\n",
    "\"\"\"\n",
    "\n",
    "# Execute the query\n",
    "res = corese.sparqlSelect(g, query, return_dataframe=True)\n",
    "res"
   ]
  },
  {
   "cell_type": "code",
   "execution_count": 124,
   "metadata": {},
   "outputs": [
    {
     "data": {
      "application/vnd.microsoft.datawrangler.viewer.v0+json": {
       "columns": [
        {
         "name": "index",
         "rawType": "int64",
         "type": "integer"
        },
        {
         "name": "record",
         "rawType": "string",
         "type": "string"
        }
       ],
       "conversionMethod": "pd.DataFrame",
       "ref": "6c5e1bd1-f023-48f0-b619-7dfb12832f68",
       "rows": [
        [
         "0",
         "local://security.permissions.net/entities#465402#United%20Kingdom"
        ],
        [
         "1",
         "local://security.permissions.net/entities#474558#United%20Kingdom"
        ],
        [
         "2",
         "local://security.permissions.net/entities#474558#Spain"
        ],
        [
         "3",
         "local://security.permissions.net/entities#474558#Finland"
        ],
        [
         "4",
         "local://security.permissions.net/entities#477393#United%20Kingdom"
        ],
        [
         "5",
         "local://security.permissions.net/entities#477393#Germany"
        ],
        [
         "6",
         "local://security.permissions.net/entities#477393#Portugal"
        ],
        [
         "7",
         "local://security.permissions.net/entities#477393#EIRE"
        ],
        [
         "8",
         "local://security.permissions.net/entities#477393#Spain"
        ],
        [
         "9",
         "local://security.permissions.net/entities#477393#Unspecified"
        ],
        [
         "10",
         "local://security.permissions.net/entities#477393#Austria"
        ],
        [
         "11",
         "local://security.permissions.net/entities#477393#France"
        ],
        [
         "12",
         "local://security.permissions.net/entities#474033#United%20Kingdom"
        ],
        [
         "13",
         "local://security.permissions.net/entities#474033#Germany"
        ],
        [
         "14",
         "local://security.permissions.net/entities#474033#Portugal"
        ],
        [
         "15",
         "local://security.permissions.net/entities#474033#EIRE"
        ],
        [
         "16",
         "local://security.permissions.net/entities#474033#Spain"
        ],
        [
         "17",
         "local://security.permissions.net/entities#474033#Belgium"
        ],
        [
         "18",
         "local://security.permissions.net/entities#474033#France"
        ],
        [
         "19",
         "local://security.permissions.net/entities#490413#United%20Kingdom"
        ],
        [
         "20",
         "local://security.permissions.net/entities#490413#Germany"
        ],
        [
         "21",
         "local://security.permissions.net/entities#490413#Portugal"
        ],
        [
         "22",
         "local://security.permissions.net/entities#490413#Italy"
        ],
        [
         "23",
         "local://security.permissions.net/entities#490413#EIRE"
        ],
        [
         "24",
         "local://security.permissions.net/entities#490413#Spain"
        ],
        [
         "25",
         "local://security.permissions.net/entities#490413#Australia"
        ],
        [
         "26",
         "local://security.permissions.net/entities#490413#Belgium"
        ],
        [
         "27",
         "local://security.permissions.net/entities#490413#France"
        ],
        [
         "28",
         "local://security.permissions.net/entities#490413#Austria"
        ],
        [
         "29",
         "local://security.permissions.net/entities#490413#USA"
        ],
        [
         "30",
         "local://security.permissions.net/entities#462777#United%20Kingdom"
        ],
        [
         "31",
         "local://security.permissions.net/entities#462777#Germany"
        ],
        [
         "32",
         "local://security.permissions.net/entities#462777#United%20Arab%20Emirates"
        ],
        [
         "33",
         "local://security.permissions.net/entities#462777#EIRE"
        ],
        [
         "34",
         "local://security.permissions.net/entities#462777#Switzerland"
        ],
        [
         "35",
         "local://security.permissions.net/entities#462777#Spain"
        ],
        [
         "36",
         "local://security.permissions.net/entities#462777#Australia"
        ],
        [
         "37",
         "local://security.permissions.net/entities#462777#Finland"
        ],
        [
         "38",
         "local://security.permissions.net/entities#462777#Netherlands"
        ],
        [
         "39",
         "local://security.permissions.net/entities#462777#France"
        ],
        [
         "40",
         "local://security.permissions.net/entities#462777#Greece"
        ],
        [
         "41",
         "local://security.permissions.net/entities#462777#Belgium"
        ],
        [
         "42",
         "local://security.permissions.net/entities#488628#United%20Kingdom"
        ],
        [
         "43",
         "local://security.permissions.net/entities#488628#Germany"
        ],
        [
         "44",
         "local://security.permissions.net/entities#488628#EIRE"
        ],
        [
         "45",
         "local://security.permissions.net/entities#488628#Switzerland"
        ],
        [
         "46",
         "local://security.permissions.net/entities#488628#Unspecified"
        ],
        [
         "47",
         "local://security.permissions.net/entities#488628#Australia"
        ],
        [
         "48",
         "local://security.permissions.net/entities#488628#Netherlands"
        ],
        [
         "49",
         "local://security.permissions.net/entities#488628#France"
        ]
       ],
       "shape": {
        "columns": 1,
        "rows": 1169
       }
      },
      "text/html": [
       "<div>\n",
       "<style scoped>\n",
       "    .dataframe tbody tr th:only-of-type {\n",
       "        vertical-align: middle;\n",
       "    }\n",
       "\n",
       "    .dataframe tbody tr th {\n",
       "        vertical-align: top;\n",
       "    }\n",
       "\n",
       "    .dataframe thead th {\n",
       "        text-align: right;\n",
       "    }\n",
       "</style>\n",
       "<table border=\"1\" class=\"dataframe\">\n",
       "  <thead>\n",
       "    <tr style=\"text-align: right;\">\n",
       "      <th></th>\n",
       "      <th>record</th>\n",
       "    </tr>\n",
       "  </thead>\n",
       "  <tbody>\n",
       "    <tr>\n",
       "      <th>0</th>\n",
       "      <td>local://security.permissions.net/entities#4654...</td>\n",
       "    </tr>\n",
       "    <tr>\n",
       "      <th>1</th>\n",
       "      <td>local://security.permissions.net/entities#4745...</td>\n",
       "    </tr>\n",
       "    <tr>\n",
       "      <th>2</th>\n",
       "      <td>local://security.permissions.net/entities#4745...</td>\n",
       "    </tr>\n",
       "    <tr>\n",
       "      <th>3</th>\n",
       "      <td>local://security.permissions.net/entities#4745...</td>\n",
       "    </tr>\n",
       "    <tr>\n",
       "      <th>4</th>\n",
       "      <td>local://security.permissions.net/entities#4773...</td>\n",
       "    </tr>\n",
       "    <tr>\n",
       "      <th>...</th>\n",
       "      <td>...</td>\n",
       "    </tr>\n",
       "    <tr>\n",
       "      <th>1164</th>\n",
       "      <td>local://security.permissions.net/entities#4580...</td>\n",
       "    </tr>\n",
       "    <tr>\n",
       "      <th>1165</th>\n",
       "      <td>local://security.permissions.net/entities#7475...</td>\n",
       "    </tr>\n",
       "    <tr>\n",
       "      <th>1166</th>\n",
       "      <td>local://security.permissions.net/entities#4413...</td>\n",
       "    </tr>\n",
       "    <tr>\n",
       "      <th>1167</th>\n",
       "      <td>local://security.permissions.net/entities#7524...</td>\n",
       "    </tr>\n",
       "    <tr>\n",
       "      <th>1168</th>\n",
       "      <td>local://security.permissions.net/entities#4384...</td>\n",
       "    </tr>\n",
       "  </tbody>\n",
       "</table>\n",
       "<p>1169 rows × 1 columns</p>\n",
       "</div>"
      ],
      "text/plain": [
       "                                                 record\n",
       "0     local://security.permissions.net/entities#4654...\n",
       "1     local://security.permissions.net/entities#4745...\n",
       "2     local://security.permissions.net/entities#4745...\n",
       "3     local://security.permissions.net/entities#4745...\n",
       "4     local://security.permissions.net/entities#4773...\n",
       "...                                                 ...\n",
       "1164  local://security.permissions.net/entities#4580...\n",
       "1165  local://security.permissions.net/entities#7475...\n",
       "1166  local://security.permissions.net/entities#4413...\n",
       "1167  local://security.permissions.net/entities#7524...\n",
       "1168  local://security.permissions.net/entities#4384...\n",
       "\n",
       "[1169 rows x 1 columns]"
      ]
     },
     "execution_count": 124,
     "metadata": {},
     "output_type": "execute_result"
    }
   ],
   "source": [
    "# Show that through inference, managers are also users and their records can be queries\n",
    "\n",
    "\n",
    "USER = \"Mary\"\n",
    "\n",
    "query = f\"\"\"\n",
    "prefix data: <local://security.permissions.net/entities#>\n",
    "prefix : <local://security.permissions.net/vocab#>\n",
    "\n",
    "select distinct ?record where {{\n",
    "data:{USER} :hasAccess ?item . \n",
    "?item a :Item .\n",
    "?item :hasRecord ?record .\n",
    "?record a :Record .\n",
    "optional {{\n",
    "    data:{USER} :hasAccess ?country .\n",
    "    ?country a :Country ; :hasRecord ?record .\n",
    "}}\n",
    "optional {{\n",
    "    data:{USER} a :Manager .\n",
    "    bind(:Manager as ?mgr) .\n",
    "}}\n",
    "filter(bound(?country) || bound(?mgr)) .\n",
    "}}\n",
    "\"\"\"\n",
    "\n",
    "# Execute the query\n",
    "res1 = corese.sparqlSelect(g, query, return_dataframe=True)\n",
    "res1"
   ]
  },
  {
   "cell_type": "code",
   "execution_count": 125,
   "metadata": {},
   "outputs": [
    {
     "data": {
      "application/vnd.microsoft.datawrangler.viewer.v0+json": {
       "columns": [
        {
         "name": "index",
         "rawType": "int64",
         "type": "integer"
        },
        {
         "name": "record",
         "rawType": "string",
         "type": "string"
        }
       ],
       "conversionMethod": "pd.DataFrame",
       "ref": "89280555-e30e-480a-b503-91216e4fe86d",
       "rows": [
        [
         "0",
         "local://security.permissions.net/entities#465402#United%20Kingdom"
        ],
        [
         "1",
         "local://security.permissions.net/entities#474558#United%20Kingdom"
        ],
        [
         "2",
         "local://security.permissions.net/entities#474558#Spain"
        ],
        [
         "3",
         "local://security.permissions.net/entities#474558#Finland"
        ],
        [
         "4",
         "local://security.permissions.net/entities#477393#United%20Kingdom"
        ],
        [
         "5",
         "local://security.permissions.net/entities#477393#Germany"
        ],
        [
         "6",
         "local://security.permissions.net/entities#477393#Portugal"
        ],
        [
         "7",
         "local://security.permissions.net/entities#477393#EIRE"
        ],
        [
         "8",
         "local://security.permissions.net/entities#477393#Spain"
        ],
        [
         "9",
         "local://security.permissions.net/entities#477393#Unspecified"
        ],
        [
         "10",
         "local://security.permissions.net/entities#477393#Austria"
        ],
        [
         "11",
         "local://security.permissions.net/entities#477393#France"
        ],
        [
         "12",
         "local://security.permissions.net/entities#474033#United%20Kingdom"
        ],
        [
         "13",
         "local://security.permissions.net/entities#474033#Germany"
        ],
        [
         "14",
         "local://security.permissions.net/entities#474033#Portugal"
        ],
        [
         "15",
         "local://security.permissions.net/entities#474033#EIRE"
        ],
        [
         "16",
         "local://security.permissions.net/entities#474033#Spain"
        ],
        [
         "17",
         "local://security.permissions.net/entities#474033#Belgium"
        ],
        [
         "18",
         "local://security.permissions.net/entities#474033#France"
        ],
        [
         "19",
         "local://security.permissions.net/entities#490413#United%20Kingdom"
        ],
        [
         "20",
         "local://security.permissions.net/entities#490413#Germany"
        ],
        [
         "21",
         "local://security.permissions.net/entities#490413#Portugal"
        ],
        [
         "22",
         "local://security.permissions.net/entities#490413#Italy"
        ],
        [
         "23",
         "local://security.permissions.net/entities#490413#EIRE"
        ],
        [
         "24",
         "local://security.permissions.net/entities#490413#Spain"
        ],
        [
         "25",
         "local://security.permissions.net/entities#490413#Australia"
        ],
        [
         "26",
         "local://security.permissions.net/entities#490413#Belgium"
        ],
        [
         "27",
         "local://security.permissions.net/entities#490413#France"
        ],
        [
         "28",
         "local://security.permissions.net/entities#490413#Austria"
        ],
        [
         "29",
         "local://security.permissions.net/entities#490413#USA"
        ],
        [
         "30",
         "local://security.permissions.net/entities#462777#United%20Kingdom"
        ],
        [
         "31",
         "local://security.permissions.net/entities#462777#Germany"
        ],
        [
         "32",
         "local://security.permissions.net/entities#462777#United%20Arab%20Emirates"
        ],
        [
         "33",
         "local://security.permissions.net/entities#462777#EIRE"
        ],
        [
         "34",
         "local://security.permissions.net/entities#462777#Switzerland"
        ],
        [
         "35",
         "local://security.permissions.net/entities#462777#Spain"
        ],
        [
         "36",
         "local://security.permissions.net/entities#462777#Australia"
        ],
        [
         "37",
         "local://security.permissions.net/entities#462777#Finland"
        ],
        [
         "38",
         "local://security.permissions.net/entities#462777#Netherlands"
        ],
        [
         "39",
         "local://security.permissions.net/entities#462777#France"
        ],
        [
         "40",
         "local://security.permissions.net/entities#462777#Greece"
        ],
        [
         "41",
         "local://security.permissions.net/entities#462777#Belgium"
        ],
        [
         "42",
         "local://security.permissions.net/entities#488628#United%20Kingdom"
        ],
        [
         "43",
         "local://security.permissions.net/entities#488628#Germany"
        ],
        [
         "44",
         "local://security.permissions.net/entities#488628#EIRE"
        ],
        [
         "45",
         "local://security.permissions.net/entities#488628#Switzerland"
        ],
        [
         "46",
         "local://security.permissions.net/entities#488628#Unspecified"
        ],
        [
         "47",
         "local://security.permissions.net/entities#488628#Australia"
        ],
        [
         "48",
         "local://security.permissions.net/entities#488628#Netherlands"
        ],
        [
         "49",
         "local://security.permissions.net/entities#488628#France"
        ]
       ],
       "shape": {
        "columns": 1,
        "rows": 1169
       }
      },
      "text/html": [
       "<div>\n",
       "<style scoped>\n",
       "    .dataframe tbody tr th:only-of-type {\n",
       "        vertical-align: middle;\n",
       "    }\n",
       "\n",
       "    .dataframe tbody tr th {\n",
       "        vertical-align: top;\n",
       "    }\n",
       "\n",
       "    .dataframe thead th {\n",
       "        text-align: right;\n",
       "    }\n",
       "</style>\n",
       "<table border=\"1\" class=\"dataframe\">\n",
       "  <thead>\n",
       "    <tr style=\"text-align: right;\">\n",
       "      <th></th>\n",
       "      <th>record</th>\n",
       "    </tr>\n",
       "  </thead>\n",
       "  <tbody>\n",
       "    <tr>\n",
       "      <th>0</th>\n",
       "      <td>local://security.permissions.net/entities#4654...</td>\n",
       "    </tr>\n",
       "    <tr>\n",
       "      <th>1</th>\n",
       "      <td>local://security.permissions.net/entities#4745...</td>\n",
       "    </tr>\n",
       "    <tr>\n",
       "      <th>2</th>\n",
       "      <td>local://security.permissions.net/entities#4745...</td>\n",
       "    </tr>\n",
       "    <tr>\n",
       "      <th>3</th>\n",
       "      <td>local://security.permissions.net/entities#4745...</td>\n",
       "    </tr>\n",
       "    <tr>\n",
       "      <th>4</th>\n",
       "      <td>local://security.permissions.net/entities#4773...</td>\n",
       "    </tr>\n",
       "    <tr>\n",
       "      <th>...</th>\n",
       "      <td>...</td>\n",
       "    </tr>\n",
       "    <tr>\n",
       "      <th>1164</th>\n",
       "      <td>local://security.permissions.net/entities#4580...</td>\n",
       "    </tr>\n",
       "    <tr>\n",
       "      <th>1165</th>\n",
       "      <td>local://security.permissions.net/entities#7475...</td>\n",
       "    </tr>\n",
       "    <tr>\n",
       "      <th>1166</th>\n",
       "      <td>local://security.permissions.net/entities#4413...</td>\n",
       "    </tr>\n",
       "    <tr>\n",
       "      <th>1167</th>\n",
       "      <td>local://security.permissions.net/entities#7524...</td>\n",
       "    </tr>\n",
       "    <tr>\n",
       "      <th>1168</th>\n",
       "      <td>local://security.permissions.net/entities#4384...</td>\n",
       "    </tr>\n",
       "  </tbody>\n",
       "</table>\n",
       "<p>1169 rows × 1 columns</p>\n",
       "</div>"
      ],
      "text/plain": [
       "                                                 record\n",
       "0     local://security.permissions.net/entities#4654...\n",
       "1     local://security.permissions.net/entities#4745...\n",
       "2     local://security.permissions.net/entities#4745...\n",
       "3     local://security.permissions.net/entities#4745...\n",
       "4     local://security.permissions.net/entities#4773...\n",
       "...                                                 ...\n",
       "1164  local://security.permissions.net/entities#4580...\n",
       "1165  local://security.permissions.net/entities#7475...\n",
       "1166  local://security.permissions.net/entities#4413...\n",
       "1167  local://security.permissions.net/entities#7524...\n",
       "1168  local://security.permissions.net/entities#4384...\n",
       "\n",
       "[1169 rows x 1 columns]"
      ]
     },
     "execution_count": 125,
     "metadata": {},
     "output_type": "execute_result"
    }
   ],
   "source": [
    "# Find all the records that a specific user may have access to.\n",
    "\n",
    "USER = \"Mary\"\n",
    "\n",
    "query = f\"\"\"\n",
    "prefix data: <local://security.permissions.net/entities#>\n",
    "prefix : <local://security.permissions.net/vocab#>\n",
    "\n",
    "select distinct ?record where {{\n",
    "    {{\n",
    "    data:{USER} a :SalesRep; :hasAccess ?country, ?item .\n",
    "    ?country a :Country ; :hasRecord ?record .\n",
    "    ?item a :Item ; :hasRecord ?record .\n",
    "    }} union {{\n",
    "    data:{USER} a :Manager; :hasAccess ?item .\n",
    "    ?item a :Item ; :hasRecord ?record .\n",
    "    }}\n",
    "}}\n",
    "\"\"\"\n",
    "\n",
    "# Execute the query\n",
    "res2 = corese.sparqlSelect(g, query, return_dataframe=True)\n",
    "res2"
   ]
  },
  {
   "cell_type": "code",
   "execution_count": null,
   "metadata": {},
   "outputs": [],
   "source": []
  },
  {
   "cell_type": "code",
   "execution_count": null,
   "metadata": {},
   "outputs": [],
   "source": []
  }
 ],
 "metadata": {
  "kernelspec": {
   "display_name": "Python 3 (ipykernel)",
   "language": "python",
   "name": "python3"
  },
  "language_info": {
   "codemirror_mode": {
    "name": "ipython",
    "version": 3
   },
   "file_extension": ".py",
   "mimetype": "text/x-python",
   "name": "python",
   "nbconvert_exporter": "python",
   "pygments_lexer": "ipython3",
   "version": "3.10.12"
  }
 },
 "nbformat": 4,
 "nbformat_minor": 2
}
