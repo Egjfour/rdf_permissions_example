{
 "cells": [
  {
   "cell_type": "code",
   "execution_count": 14,
   "metadata": {},
   "outputs": [],
   "source": [
    "import pandas as pd\n",
    "import morph_kgc as mgc\n",
    "import owlready2\n",
    "from io import BytesIO"
   ]
  },
  {
   "cell_type": "markdown",
   "metadata": {},
   "source": [
    "# Base Graph Load"
   ]
  },
  {
   "cell_type": "code",
   "execution_count": 15,
   "metadata": {},
   "outputs": [],
   "source": [
    "config = \"\"\"\n",
    "[manager_mapping]\n",
    "mappings = ../vocab/manager_mapping_metadata.ttl\n",
    "\n",
    "[items_mapping]\n",
    "mappings = ../vocab/items_mapping_metadata.ttl\n",
    "\n",
    "[rep_mapping]\n",
    "mappings = ../vocab/sales_rep_metadata.ttl\n",
    "\"\"\""
   ]
  },
  {
   "cell_type": "code",
   "execution_count": 16,
   "metadata": {},
   "outputs": [
    {
     "name": "stderr",
     "output_type": "stream",
     "text": [
      "INFO | 2025-04-11 22:40:16,996 | Parallelization is not supported for win32 when running as a library. If you need to speed up your data integration pipeline, please run through the command line.\n",
      "INFO | 2025-04-11 22:40:17,769 | 16 mapping rules retrieved.\n",
      "INFO | 2025-04-11 22:40:17,776 | Mapping partition with 16 groups generated.\n",
      "INFO | 2025-04-11 22:40:17,777 | Maximum number of rules within mapping group: 1.\n",
      "INFO | 2025-04-11 22:40:17,777 | Mappings processed in 0.780 seconds.\n",
      "INFO | 2025-04-11 22:40:18,030 | Number of triples generated in total: 59952.\n"
     ]
    }
   ],
   "source": [
    "g = mgc.materialize(config)"
   ]
  },
  {
   "cell_type": "code",
   "execution_count": 17,
   "metadata": {},
   "outputs": [
    {
     "name": "stdout",
     "output_type": "stream",
     "text": [
      "local://security.permissions.net/entities#787689#United%20Kingdom local://security.permissions.net/entities#787689 local://security.permissions.net/entities#United%20Kingdom\n",
      "local://security.permissions.net/entities#464079#France local://security.permissions.net/entities#464079 local://security.permissions.net/entities#France\n",
      "local://security.permissions.net/entities#477330#Channel%20Islands local://security.permissions.net/entities#477330 local://security.permissions.net/entities#Channel%20Islands\n",
      "local://security.permissions.net/entities#481005#United%20Kingdom local://security.permissions.net/entities#481005 local://security.permissions.net/entities#United%20Kingdom\n",
      "local://security.permissions.net/entities#1734180#Finland local://security.permissions.net/entities#1734180 local://security.permissions.net/entities#Finland\n"
     ]
    }
   ],
   "source": [
    "# Validate the graph loaded (no inferences as we haven't run a rules engine)\n",
    "query = \"\"\"\n",
    "prefix xsd: <http://www.w3.org/2001/XMLSchema#>\n",
    "prefix : <local://security.permissions.net/vocab#>\n",
    "prefix data: <local://security.permissions.net/entities#>\n",
    "\n",
    "SELECT * WHERE {\n",
    "    ?x a :Record ;\n",
    "        :item ?item ;\n",
    "        :country ?country ;\n",
    "}\n",
    "LIMIT 5\n",
    "      \"\"\"\n",
    "\n",
    "query_result = g.query(query)\n",
    "\n",
    "for row in query_result:\n",
    "    print(row['x'], row['item'], row['country'])"
   ]
  },
  {
   "cell_type": "code",
   "execution_count": 18,
   "metadata": {},
   "outputs": [
    {
     "data": {
      "text/plain": [
       "<Graph identifier=Ncbcf1d66161e457cb5b306cb8238f464 (<class 'rdflib.graph.Graph'>)>"
      ]
     },
     "execution_count": 18,
     "metadata": {},
     "output_type": "execute_result"
    }
   ],
   "source": [
    "g.parse(\"../vocab/permissions_ontology.ttl\", format=\"turtle\")"
   ]
  },
  {
   "cell_type": "code",
   "execution_count": 23,
   "metadata": {},
   "outputs": [],
   "source": [
    "# Serialize the RDFLib graph to RDF/XML format\n",
    "rdf_xml_data = g.serialize(format='xml', destination='../vocab/graph_data.rdf')"
   ]
  },
  {
   "cell_type": "code",
   "execution_count": 25,
   "metadata": {},
   "outputs": [
    {
     "name": "stderr",
     "output_type": "stream",
     "text": [
      "* Owlready2 * Running HermiT...\n",
      "    java -Xmx2000M -cp c:\\repos\\rdf_permissions_example\\.venv\\Lib\\site-packages\\owlready2\\hermit;c:\\repos\\rdf_permissions_example\\.venv\\Lib\\site-packages\\owlready2\\hermit\\HermiT.jar org.semanticweb.HermiT.cli.CommandLine -c -O -D -I file:///C:/Users/egjfo/AppData/Local/Temp/tmpua45ynpj\n",
      "* Owlready2 * HermiT took 2.388061285018921 seconds\n",
      "* Owlready * (NB: only changes on entities loaded in Python are shown, other changes are done but not listed)\n"
     ]
    }
   ],
   "source": [
    "# Load the serialized data into owlready2\n",
    "onto = owlready2.get_ontology('../vocab/graph_data.rdf').load()\n",
    "\n",
    "# Perform reasoning\n",
    "owlready2.sync_reasoner()"
   ]
  },
  {
   "cell_type": "code",
   "execution_count": 27,
   "metadata": {},
   "outputs": [],
   "source": [
    "# Save the ontology with inferred knowledge to an RDF file\n",
    "onto.save(file=\"../vocab/permissions_inferred.rdf\", format=\"rdfxml\")"
   ]
  },
  {
   "cell_type": "code",
   "execution_count": null,
   "metadata": {},
   "outputs": [],
   "source": []
  }
 ],
 "metadata": {
  "kernelspec": {
   "display_name": ".venv",
   "language": "python",
   "name": "python3"
  },
  "language_info": {
   "codemirror_mode": {
    "name": "ipython",
    "version": 3
   },
   "file_extension": ".py",
   "mimetype": "text/x-python",
   "name": "python",
   "nbconvert_exporter": "python",
   "pygments_lexer": "ipython3",
   "version": "3.11.9"
  }
 },
 "nbformat": 4,
 "nbformat_minor": 2
}
