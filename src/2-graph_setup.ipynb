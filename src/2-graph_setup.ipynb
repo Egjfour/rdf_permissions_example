{
 "cells": [
  {
   "cell_type": "code",
   "execution_count": null,
   "metadata": {},
   "outputs": [
    {
     "ename": "",
     "evalue": "",
     "output_type": "error",
     "traceback": [
      "\u001b[1;31mThe kernel failed to start as the Python Environment '.venv (Python 3.11.9)' is no longer available. Consider selecting another kernel or refreshing the list of Python Environments."
     ]
    }
   ],
   "source": [
    "import pandas as pd\n",
    "import morph_kgc as mgc"
   ]
  },
  {
   "cell_type": "markdown",
   "metadata": {},
   "source": [
    "# Base Graph Load"
   ]
  },
  {
   "cell_type": "code",
   "execution_count": 9,
   "metadata": {},
   "outputs": [],
   "source": [
    "config = \"\"\"\n",
    "[manager_mapping]\n",
    "mappings = ../vocab/manager_mapping_metadata.ttl\n",
    "\n",
    "[items_mapping]\n",
    "mappings = ../vocab/items_mapping_metadata.ttl\n",
    "\n",
    "[rep_mapping]\n",
    "mappings = ../vocab/sales_rep_metadata.ttl\n",
    "\"\"\""
   ]
  },
  {
   "cell_type": "code",
   "execution_count": 10,
   "metadata": {},
   "outputs": [
    {
     "name": "stderr",
     "output_type": "stream",
     "text": [
      "INFO | 2025-04-13 09:41:14,828 | Parallelization is not supported for win32 when running as a library. If you need to speed up your data integration pipeline, please run through the command line.\n",
      "INFO | 2025-04-13 09:41:15,664 | 14 mapping rules retrieved.\n",
      "INFO | 2025-04-13 09:41:15,672 | Mapping partition with 14 groups generated.\n",
      "INFO | 2025-04-13 09:41:15,673 | Maximum number of rules within mapping group: 1.\n",
      "INFO | 2025-04-13 09:41:15,673 | Mappings processed in 0.842 seconds.\n",
      "INFO | 2025-04-13 09:41:15,857 | Number of triples generated in total: 36358.\n"
     ]
    }
   ],
   "source": [
    "g = mgc.materialize(config)"
   ]
  },
  {
   "cell_type": "code",
   "execution_count": 11,
   "metadata": {},
   "outputs": [
    {
     "name": "stdout",
     "output_type": "stream",
     "text": [
      "local://security.permissions.net/entities#485604#EIRE local://security.permissions.net/entities#485604 local://security.permissions.net/entities#EIRE\n",
      "local://security.permissions.net/entities#486360#Germany local://security.permissions.net/entities#486360 local://security.permissions.net/entities#Germany\n",
      "local://security.permissions.net/entities#486969#Netherlands local://security.permissions.net/entities#486969 local://security.permissions.net/entities#Netherlands\n",
      "local://security.permissions.net/entities#461496#EIRE local://security.permissions.net/entities#461496 local://security.permissions.net/entities#EIRE\n",
      "local://security.permissions.net/entities#1732122#Unspecified local://security.permissions.net/entities#1732122 local://security.permissions.net/entities#Unspecified\n"
     ]
    }
   ],
   "source": [
    "# Validate the graph loaded (no inferences as we haven't run a rules engine)\n",
    "query = \"\"\"\n",
    "prefix xsd: <http://www.w3.org/2001/XMLSchema#>\n",
    "prefix : <local://security.permissions.net/vocab#>\n",
    "prefix data: <local://security.permissions.net/entities#>\n",
    "\n",
    "SELECT * WHERE {\n",
    "    ?x a :Record ;\n",
    "        :item ?item ;\n",
    "        :country ?country ;\n",
    "}\n",
    "LIMIT 5\n",
    "      \"\"\"\n",
    "\n",
    "query_result = g.query(query)\n",
    "\n",
    "for row in query_result:\n",
    "    print(row['x'], row['item'], row['country'])"
   ]
  },
  {
   "cell_type": "code",
   "execution_count": 13,
   "metadata": {},
   "outputs": [],
   "source": [
    "# Add the ontology\n",
    "g.parse('../vocab/permissions_ontology.ttl', format='turtle')\n",
    "\n",
    "# Serialize the RDFLib graph to RDF/XML format\n",
    "rdf_xml_data = g.serialize(format='xml', destination='../data/graph_data.rdf')"
   ]
  },
  {
   "cell_type": "code",
   "execution_count": null,
   "metadata": {},
   "outputs": [],
   "source": []
  }
 ],
 "metadata": {
  "kernelspec": {
   "display_name": ".venv",
   "language": "python",
   "name": "python3"
  },
  "language_info": {
   "codemirror_mode": {
    "name": "ipython",
    "version": 3
   },
   "file_extension": ".py",
   "mimetype": "text/x-python",
   "name": "python",
   "nbconvert_exporter": "python",
   "pygments_lexer": "ipython3",
   "version": "3.11.9"
  }
 },
 "nbformat": 4,
 "nbformat_minor": 2
}
